{
 "cells": [
  {
   "cell_type": "code",
   "execution_count": 1,
   "id": "a04521fe",
   "metadata": {},
   "outputs": [],
   "source": [
    "#Importing Necessary Libraries\n",
    "\n",
    "import numpy as np\n",
    "import qutip as qt\n",
    "from qutip import tensor\n",
    "from scipy.linalg import expm"
   ]
  },
  {
   "cell_type": "markdown",
   "id": "40a601b7",
   "metadata": {},
   "source": [
    "## Unitary of the Beam Splitter\n",
    "\n",
    "### $U=\\exp(i\\theta(\\hat{b}^{\\dagger}\\hat{a}+\\hat{b}\\hat{a}^{\\dagger}))$\n",
    "\n",
    "$\\theta \\rightarrow \\text{Parameter of Beam splitter}\\newline$\n",
    "$\\hat{b}^{\\dagger},\\hat{b} \\rightarrow \\text{Bosonic Creation and Annihilation Operator}\\newline$\n",
    "$a$ & $b$  represents 2 modes"
   ]
  },
  {
   "cell_type": "code",
   "execution_count": 2,
   "id": "fd144ca0",
   "metadata": {},
   "outputs": [],
   "source": [
    "theta=np.complex(0,np.pi/4) #50-50 Beam splitter\n",
    "\n",
    "#truncated bosonic operators\n",
    "\n",
    "bdag_theory=adag_theory=qt.create(3)\n",
    "a_theory=b_theory=qt.destroy(3)  \n",
    "\n",
    "#spin raising and lowering operator\n",
    "sig_p=qt.destroy(2)\n",
    "sig_m=qt.create(2)\n",
    "\n",
    "#Pauli operators\n",
    "I=qt.identity(2)\n",
    "sig_z=qt.sigmaz()\n",
    "sig_x=qt.sigmax()\n",
    "sig_y=qt.sigmay()\n",
    "\n",
    "#Qubit states\n",
    "ket_0=qt.fock(2,0)\n",
    "ket_1=qt.fock(2,1)"
   ]
  },
  {
   "cell_type": "markdown",
   "id": "7504afa8",
   "metadata": {},
   "source": [
    "## HOM Effect Theory"
   ]
  },
  {
   "cell_type": "markdown",
   "id": "362c772c",
   "metadata": {},
   "source": [
    "##### $B=\\hat{b}^{\\dagger}\\hat{a}+\\hat{b}\\hat{a}^{\\dagger}$"
   ]
  },
  {
   "cell_type": "code",
   "execution_count": 3,
   "id": "5f5dc781",
   "metadata": {},
   "outputs": [
    {
     "data": {
      "text/latex": [
       "Quantum object: dims = [[3, 3], [3, 3]], shape = (9, 9), type = oper, isherm = True\\begin{equation*}\\left(\\begin{array}{*{11}c}0.0 & 0.0 & 0.0 & 0.0 & 0.0 & 0.0 & 0.0 & 0.0 & 0.0\\\\0.0 & 0.0 & 0.0 & 1.0 & 0.0 & 0.0 & 0.0 & 0.0 & 0.0\\\\0.0 & 0.0 & 0.0 & 0.0 & 1.414 & 0.0 & 0.0 & 0.0 & 0.0\\\\0.0 & 1.0 & 0.0 & 0.0 & 0.0 & 0.0 & 0.0 & 0.0 & 0.0\\\\0.0 & 0.0 & 1.414 & 0.0 & 0.0 & 0.0 & 1.414 & 0.0 & 0.0\\\\0.0 & 0.0 & 0.0 & 0.0 & 0.0 & 0.0 & 0.0 & 2.0 & 0.0\\\\0.0 & 0.0 & 0.0 & 0.0 & 1.414 & 0.0 & 0.0 & 0.0 & 0.0\\\\0.0 & 0.0 & 0.0 & 0.0 & 0.0 & 2.0 & 0.0 & 0.0 & 0.0\\\\0.0 & 0.0 & 0.0 & 0.0 & 0.0 & 0.0 & 0.0 & 0.0 & 0.0\\\\\\end{array}\\right)\\end{equation*}"
      ],
      "text/plain": [
       "Quantum object: dims = [[3, 3], [3, 3]], shape = (9, 9), type = oper, isherm = True\n",
       "Qobj data =\n",
       "[[0.         0.         0.         0.         0.         0.\n",
       "  0.         0.         0.        ]\n",
       " [0.         0.         0.         1.         0.         0.\n",
       "  0.         0.         0.        ]\n",
       " [0.         0.         0.         0.         1.41421356 0.\n",
       "  0.         0.         0.        ]\n",
       " [0.         1.         0.         0.         0.         0.\n",
       "  0.         0.         0.        ]\n",
       " [0.         0.         1.41421356 0.         0.         0.\n",
       "  1.41421356 0.         0.        ]\n",
       " [0.         0.         0.         0.         0.         0.\n",
       "  0.         2.         0.        ]\n",
       " [0.         0.         0.         0.         1.41421356 0.\n",
       "  0.         0.         0.        ]\n",
       " [0.         0.         0.         0.         0.         2.\n",
       "  0.         0.         0.        ]\n",
       " [0.         0.         0.         0.         0.         0.\n",
       "  0.         0.         0.        ]]"
      ]
     },
     "execution_count": 3,
     "metadata": {},
     "output_type": "execute_result"
    }
   ],
   "source": [
    "B_theory=tensor(bdag_theory,a_theory)+tensor(b_theory,adag_theory) \n",
    "B_theory"
   ]
  },
  {
   "cell_type": "code",
   "execution_count": 4,
   "id": "025b5342",
   "metadata": {},
   "outputs": [
    {
     "data": {
      "text/plain": [
       "False"
      ]
     },
     "execution_count": 4,
     "metadata": {},
     "output_type": "execute_result"
    }
   ],
   "source": [
    "Bdag_theory=B_theory.dag()\n",
    "#Checking whether B is Unitary\n",
    "B_theory*Bdag_theory == qt.identity(np.shape(B_theory)[0])"
   ]
  },
  {
   "cell_type": "markdown",
   "id": "e87bf5dc",
   "metadata": {},
   "source": [
    "Unitary of Beam splitter, $U=\\exp(i\\theta B)$\n",
    "\n",
    "If B is unitary, then $\\exp(i\\theta B) = \\cos(\\theta)\\mathcal{I}-i\\sin(\\theta)B$.\n",
    "\n",
    "Since B is not Unitary, we need to perform series expansion."
   ]
  },
  {
   "cell_type": "code",
   "execution_count": 5,
   "id": "a470e0c4",
   "metadata": {},
   "outputs": [
    {
     "data": {
      "text/latex": [
       "Quantum object: dims = [[3, 3], [3, 3]], shape = (9, 9), type = oper, isherm = False\\begin{equation*}\\left(\\begin{array}{*{11}c}1.0 & 0.0 & 0.0 & 0.0 & 0.0 & 0.0 & 0.0 & 0.0 & 0.0\\\\0.0 & 0.707 & 0.0 & 0.707j & 0.0 & 0.0 & 0.0 & 0.0 & 0.0\\\\0.0 & 0.0 & 0.500 & 0.0 & 0.707j & 0.0 & -0.500 & 0.0 & 0.0\\\\0.0 & 0.707j & 0.0 & 0.707 & 0.0 & 0.0 & 0.0 & 0.0 & 0.0\\\\0.0 & 0.0 & 0.707j & 0.0 & 0.0 & 0.0 & 0.707j & 0.0 & 0.0\\\\0.0 & 0.0 & 0.0 & 0.0 & 0.0 & 0.0 & 0.0 & 1.0j & 0.0\\\\0.0 & 0.0 & -0.500 & 0.0 & 0.707j & 0.0 & 0.500 & 0.0 & 0.0\\\\0.0 & 0.0 & 0.0 & 0.0 & 0.0 & 1.0j & 0.0 & 0.0 & 0.0\\\\0.0 & 0.0 & 0.0 & 0.0 & 0.0 & 0.0 & 0.0 & 0.0 & 1.0\\\\\\end{array}\\right)\\end{equation*}"
      ],
      "text/plain": [
       "Quantum object: dims = [[3, 3], [3, 3]], shape = (9, 9), type = oper, isherm = False\n",
       "Qobj data =\n",
       "[[ 1.        +0.j          0.        +0.j          0.        +0.j\n",
       "   0.        +0.j          0.        +0.j          0.        +0.j\n",
       "   0.        +0.j          0.        +0.j          0.        +0.j        ]\n",
       " [ 0.        +0.j          0.70710678+0.j          0.        +0.j\n",
       "   0.        +0.70710678j  0.        +0.j          0.        +0.j\n",
       "   0.        +0.j          0.        +0.j          0.        +0.j        ]\n",
       " [ 0.        +0.j          0.        +0.j          0.5       +0.j\n",
       "   0.        +0.j          0.        +0.70710678j  0.        +0.j\n",
       "  -0.5       +0.j          0.        +0.j          0.        +0.j        ]\n",
       " [ 0.        +0.j          0.        +0.70710678j  0.        +0.j\n",
       "   0.70710678+0.j          0.        +0.j          0.        +0.j\n",
       "   0.        +0.j          0.        +0.j          0.        +0.j        ]\n",
       " [ 0.        +0.j          0.        +0.j          0.        +0.70710678j\n",
       "   0.        +0.j          0.        +0.j          0.        +0.j\n",
       "   0.        +0.70710678j  0.        +0.j          0.        +0.j        ]\n",
       " [ 0.        +0.j          0.        +0.j          0.        +0.j\n",
       "   0.        +0.j          0.        +0.j          0.        +0.j\n",
       "   0.        +0.j          0.        +1.j          0.        +0.j        ]\n",
       " [ 0.        +0.j          0.        +0.j         -0.5       +0.j\n",
       "   0.        +0.j          0.        +0.70710678j  0.        +0.j\n",
       "   0.5       +0.j          0.        +0.j          0.        +0.j        ]\n",
       " [ 0.        +0.j          0.        +0.j          0.        +0.j\n",
       "   0.        +0.j          0.        +0.j          0.        +1.j\n",
       "   0.        +0.j          0.        +0.j          0.        +0.j        ]\n",
       " [ 0.        +0.j          0.        +0.j          0.        +0.j\n",
       "   0.        +0.j          0.        +0.j          0.        +0.j\n",
       "   0.        +0.j          0.        +0.j          1.        +0.j        ]]"
      ]
     },
     "execution_count": 5,
     "metadata": {},
     "output_type": "execute_result"
    }
   ],
   "source": [
    "B_theory=theta*B_theory\n",
    "U_theory=B_theory.expm()\n",
    "U_theory"
   ]
  },
  {
   "cell_type": "markdown",
   "id": "d144d3a1",
   "metadata": {},
   "source": [
    "In theory, vector form of fock states are given $$|0> =\\begin{bmatrix}1\\\\0\\\\0\\end{bmatrix}$$\\\n",
    "$$|1> =\\begin{bmatrix}0\\\\1\\\\0\\end{bmatrix}$$\\\n",
    "$$|2> =\\begin{bmatrix}0\\\\0\\\\1\\end{bmatrix}$$"
   ]
  },
  {
   "cell_type": "code",
   "execution_count": 6,
   "id": "4bbf7c87",
   "metadata": {},
   "outputs": [
    {
     "data": {
      "text/latex": [
       "Quantum object: dims = [[3, 3], [1, 1]], shape = (9, 1), type = ket\\begin{equation*}\\left(\\begin{array}{*{11}c}0.0\\\\0.0\\\\0.707j\\\\0.0\\\\0.0\\\\0.0\\\\0.707j\\\\0.0\\\\0.0\\\\\\end{array}\\right)\\end{equation*}"
      ],
      "text/plain": [
       "Quantum object: dims = [[3, 3], [1, 1]], shape = (9, 1), type = ket\n",
       "Qobj data =\n",
       "[[0.+0.j        ]\n",
       " [0.+0.j        ]\n",
       " [0.+0.70710678j]\n",
       " [0.+0.j        ]\n",
       " [0.+0.j        ]\n",
       " [0.+0.j        ]\n",
       " [0.+0.70710678j]\n",
       " [0.+0.j        ]\n",
       " [0.+0.j        ]]"
      ]
     },
     "execution_count": 6,
     "metadata": {},
     "output_type": "execute_result"
    }
   ],
   "source": [
    "ket1=qt.fock(3,1)\n",
    "inp_theory=tensor(ket1,ket1) # input state |1>|1>\n",
    "out_theory=U_theory*inp_theory\n",
    "out_theory"
   ]
  },
  {
   "cell_type": "markdown",
   "id": "fd25d86f",
   "metadata": {},
   "source": [
    "## HOM Effect with Spin operator"
   ]
  },
  {
   "cell_type": "markdown",
   "id": "75ec76f4",
   "metadata": {},
   "source": [
    "### Mapping of bosonic operators\n",
    "\n",
    "$\\hat{b}^{\\dagger}=\\sigma_{+}^{0}\\sigma_{-}^{1}+\\sqrt{2}\\sigma_{+}^{1}\\sigma_{-}^{2}$\\\n",
    "\\\n",
    "$\\hat{b}=\\sigma_{-}^{0}\\sigma_{+}^{1}+\\sqrt{2}\\sigma_{-}^{1}\\sigma_{+}^{2}$"
   ]
  },
  {
   "cell_type": "code",
   "execution_count": 7,
   "id": "2a87965f",
   "metadata": {},
   "outputs": [
    {
     "data": {
      "text/latex": [
       "Quantum object: dims = [[2, 2, 2, 2, 2, 2], [2, 2, 2, 2, 2, 2]], shape = (64, 64), type = oper, isherm = False\\begin{equation*}\\left(\\begin{array}{*{11}c}1.0 & 0.0 & 0.0 & 0.0 & 0.0 & \\cdots & 0.0 & 0.0 & 0.0 & 0.0 & 0.0\\\\0.0 & 1.0 & 0.0 & 0.0 & 0.0 & \\cdots & 0.0 & 0.0 & 0.0 & 0.0 & 0.0\\\\0.0 & 0.0 & 1.0 & 0.0 & 0.0 & \\cdots & 0.0 & 0.0 & 0.0 & 0.0 & 0.0\\\\0.0 & 0.0 & 0.0 & 1.0 & 0.0 & \\cdots & 0.0 & 0.0 & 0.0 & 0.0 & 0.0\\\\0.0 & 0.0 & 0.0 & 0.0 & 1.0 & \\cdots & 0.0 & 0.0 & 0.0 & 0.0 & 0.0\\\\\\vdots & \\vdots & \\vdots & \\vdots & \\vdots & \\ddots & \\vdots & \\vdots & \\vdots & \\vdots & \\vdots\\\\0.0 & 0.0 & 0.0 & 0.0 & 0.0 & \\cdots & 1.0 & 0.0 & 0.0 & 0.0 & 0.0\\\\0.0 & 0.0 & 0.0 & 0.0 & 0.0 & \\cdots & 0.0 & 1.0 & 0.0 & 0.0 & 0.0\\\\0.0 & 0.0 & 0.0 & 0.0 & 0.0 & \\cdots & 0.0 & 0.0 & 1.0 & 0.0 & 0.0\\\\0.0 & 0.0 & 0.0 & 0.0 & 0.0 & \\cdots & 0.0 & 0.0 & 0.0 & 1.0 & 0.0\\\\0.0 & 0.0 & 0.0 & 0.0 & 0.0 & \\cdots & 0.0 & 0.0 & 0.0 & 0.0 & 1.0\\\\\\end{array}\\right)\\end{equation*}"
      ],
      "text/plain": [
       "Quantum object: dims = [[2, 2, 2, 2, 2, 2], [2, 2, 2, 2, 2, 2]], shape = (64, 64), type = oper, isherm = False\n",
       "Qobj data =\n",
       "[[1.+0.j 0.+0.j 0.+0.j ... 0.+0.j 0.+0.j 0.+0.j]\n",
       " [0.+0.j 1.+0.j 0.+0.j ... 0.+0.j 0.+0.j 0.+0.j]\n",
       " [0.+0.j 0.+0.j 1.+0.j ... 0.+0.j 0.+0.j 0.+0.j]\n",
       " ...\n",
       " [0.+0.j 0.+0.j 0.+0.j ... 1.+0.j 0.+0.j 0.+0.j]\n",
       " [0.+0.j 0.+0.j 0.+0.j ... 0.+0.j 1.+0.j 0.+0.j]\n",
       " [0.+0.j 0.+0.j 0.+0.j ... 0.+0.j 0.+0.j 1.+0.j]]"
      ]
     },
     "execution_count": 7,
     "metadata": {},
     "output_type": "execute_result"
    }
   ],
   "source": [
    "#formulating b and b dagger in terms of spin operators\n",
    "bdag=adag=tensor(sig_p,sig_m,I)+np.sqrt(2)*tensor(I,sig_p,sig_m)\n",
    "b=a=tensor(sig_m,sig_p,I)+np.sqrt(2)*tensor(I,sig_m,sig_p)\n",
    "\n",
    "#calculating B operator\n",
    "B=theta*(tensor(bdag,a)+tensor(b,adag))\n",
    "\n",
    "#Unitary of Beam Splitter\n",
    "U=B.expm()\n",
    "U "
   ]
  },
  {
   "cell_type": "markdown",
   "id": "8a39b9be",
   "metadata": {},
   "source": [
    "We use unary encoding to encode the fock states to qubit \n",
    "\n",
    "$|0> = |100>$\\\n",
    "$|1> = |010>$\\\n",
    "$|2> = |001>$\n"
   ]
  },
  {
   "cell_type": "code",
   "execution_count": 8,
   "id": "8ed0425c",
   "metadata": {},
   "outputs": [
    {
     "data": {
      "text/plain": [
       "array([[0.        ],\n",
       "       [0.        ],\n",
       "       [0.        ],\n",
       "       [0.        ],\n",
       "       [0.        ],\n",
       "       [0.        ],\n",
       "       [0.        ],\n",
       "       [0.        ],\n",
       "       [0.        ],\n",
       "       [0.        ],\n",
       "       [0.        ],\n",
       "       [0.        ],\n",
       "       [0.70710678],\n",
       "       [0.        ],\n",
       "       [0.        ],\n",
       "       [0.        ],\n",
       "       [0.        ],\n",
       "       [0.        ],\n",
       "       [0.        ],\n",
       "       [0.        ],\n",
       "       [0.        ],\n",
       "       [0.        ],\n",
       "       [0.        ],\n",
       "       [0.        ],\n",
       "       [0.        ],\n",
       "       [0.        ],\n",
       "       [0.        ],\n",
       "       [0.        ],\n",
       "       [0.        ],\n",
       "       [0.        ],\n",
       "       [0.        ],\n",
       "       [0.        ],\n",
       "       [0.        ],\n",
       "       [0.70710678],\n",
       "       [0.        ],\n",
       "       [0.        ],\n",
       "       [0.        ],\n",
       "       [0.        ],\n",
       "       [0.        ],\n",
       "       [0.        ],\n",
       "       [0.        ],\n",
       "       [0.        ],\n",
       "       [0.        ],\n",
       "       [0.        ],\n",
       "       [0.        ],\n",
       "       [0.        ],\n",
       "       [0.        ],\n",
       "       [0.        ],\n",
       "       [0.        ],\n",
       "       [0.        ],\n",
       "       [0.        ],\n",
       "       [0.        ],\n",
       "       [0.        ],\n",
       "       [0.        ],\n",
       "       [0.        ],\n",
       "       [0.        ],\n",
       "       [0.        ],\n",
       "       [0.        ],\n",
       "       [0.        ],\n",
       "       [0.        ],\n",
       "       [0.        ],\n",
       "       [0.        ],\n",
       "       [0.        ],\n",
       "       [0.        ]])"
      ]
     },
     "execution_count": 8,
     "metadata": {},
     "output_type": "execute_result"
    }
   ],
   "source": [
    "input_state=tensor(ket_0,ket_1,ket_0,ket_0,ket_1,ket_0) #|1>|1>\n",
    "#input_state\n",
    "output_state=U*input_state\n",
    "\n",
    "np.abs(np.array(output_state))"
   ]
  },
  {
   "cell_type": "code",
   "execution_count": 9,
   "id": "4f2bcf4e",
   "metadata": {},
   "outputs": [
    {
     "data": {
      "text/plain": [
       "array([[0.        ],\n",
       "       [0.        ],\n",
       "       [0.        ],\n",
       "       [0.        ],\n",
       "       [0.        ],\n",
       "       [0.        ],\n",
       "       [0.        ],\n",
       "       [0.        ],\n",
       "       [0.        ],\n",
       "       [0.        ],\n",
       "       [0.        ],\n",
       "       [0.        ],\n",
       "       [0.70710678],\n",
       "       [0.        ],\n",
       "       [0.        ],\n",
       "       [0.        ],\n",
       "       [0.        ],\n",
       "       [0.        ],\n",
       "       [0.        ],\n",
       "       [0.        ],\n",
       "       [0.        ],\n",
       "       [0.        ],\n",
       "       [0.        ],\n",
       "       [0.        ],\n",
       "       [0.        ],\n",
       "       [0.        ],\n",
       "       [0.        ],\n",
       "       [0.        ],\n",
       "       [0.        ],\n",
       "       [0.        ],\n",
       "       [0.        ],\n",
       "       [0.        ],\n",
       "       [0.        ],\n",
       "       [0.70710678],\n",
       "       [0.        ],\n",
       "       [0.        ],\n",
       "       [0.        ],\n",
       "       [0.        ],\n",
       "       [0.        ],\n",
       "       [0.        ],\n",
       "       [0.        ],\n",
       "       [0.        ],\n",
       "       [0.        ],\n",
       "       [0.        ],\n",
       "       [0.        ],\n",
       "       [0.        ],\n",
       "       [0.        ],\n",
       "       [0.        ],\n",
       "       [0.        ],\n",
       "       [0.        ],\n",
       "       [0.        ],\n",
       "       [0.        ],\n",
       "       [0.        ],\n",
       "       [0.        ],\n",
       "       [0.        ],\n",
       "       [0.        ],\n",
       "       [0.        ],\n",
       "       [0.        ],\n",
       "       [0.        ],\n",
       "       [0.        ],\n",
       "       [0.        ],\n",
       "       [0.        ],\n",
       "       [0.        ],\n",
       "       [0.        ]])"
      ]
     },
     "execution_count": 9,
     "metadata": {},
     "output_type": "execute_result"
    }
   ],
   "source": [
    "#expected outcome\n",
    "expect_out=(1/np.sqrt(2))*(tensor(ket_0,ket_0,ket_1,ket_1,ket_0,ket_0)+tensor(ket_1,ket_0,ket_0,ket_0,ket_0,ket_1))\n",
    "np.abs(np.array(expect_out))"
   ]
  },
  {
   "cell_type": "markdown",
   "id": "5391a7fe",
   "metadata": {},
   "source": [
    "HOM effect can be observed numerically."
   ]
  },
  {
   "cell_type": "markdown",
   "id": "876e3b86",
   "metadata": {},
   "source": [
    "### Numerical simulation of \n",
    "$\\exp(i\\theta([\\sigma_{+}^{0}\\sigma_{-}^{1}\\sigma_{-}^{3}\\sigma_{+}^{4}+\\sigma_{-}^{0}\\sigma_{+}^{1}\\sigma_{+}^{3}\\sigma_{-}^{4}] + \\sqrt{2}[\\sigma_{+}^{0}\\sigma_{-}^{1}\\sigma_{-}^{4}\\sigma_{+}^{5}+\\sigma_{-}^{0}\\sigma_{+}^{1}\\sigma_{+}^{4}\\sigma_{-}^{5}]+\\sqrt{2}[\\sigma_{+}^{1}\\sigma_{-}^{2}\\sigma_{-}^{3}\\sigma_{+}^{4}+\\sigma_{-}^{1}\\sigma_{+}^{2}\\sigma_{+}^{3}\\sigma_{-}^{4}]+2[\\sigma_{+}^{1}\\sigma_{-}^{2}\\sigma_{-}^{4}\\sigma_{+}^{5}+\\sigma_{-}^{1}\\sigma_{+}^{2}\\sigma_{+}^{4}\\sigma_{-}^{5}]\n",
    "             ))$"
   ]
  },
  {
   "cell_type": "code",
   "execution_count": 10,
   "id": "0bb2aa0d",
   "metadata": {},
   "outputs": [],
   "source": [
    "# operators corresponding to the 4 operators in the exponent\n",
    "\n",
    "Op0145=tensor(sig_p,sig_m,I,I,sig_m,sig_p)+tensor(sig_m,sig_p,I,I,sig_p,sig_m)\n",
    "Op0134=tensor(sig_p,sig_m,I,sig_m,sig_p,I)+tensor(sig_m,sig_p,I,sig_p,sig_m,I)\n",
    "Op1234=tensor(I,sig_p,sig_m,sig_m,sig_p,I)+tensor(I,sig_m,sig_p,sig_p,sig_m,I)\n",
    "Op1245=tensor(I,sig_p,sig_m,I,sig_m,sig_p)+tensor(I,sig_m,sig_p,I,sig_p,sig_m)"
   ]
  },
  {
   "cell_type": "code",
   "execution_count": 11,
   "id": "3903c68f",
   "metadata": {},
   "outputs": [
    {
     "data": {
      "text/plain": [
       "array([[0.        ],\n",
       "       [0.        ],\n",
       "       [0.        ],\n",
       "       [0.        ],\n",
       "       [0.        ],\n",
       "       [0.        ],\n",
       "       [0.        ],\n",
       "       [0.        ],\n",
       "       [0.        ],\n",
       "       [0.        ],\n",
       "       [0.        ],\n",
       "       [0.        ],\n",
       "       [0.70710678],\n",
       "       [0.        ],\n",
       "       [0.        ],\n",
       "       [0.        ],\n",
       "       [0.        ],\n",
       "       [0.        ],\n",
       "       [0.        ],\n",
       "       [0.        ],\n",
       "       [0.        ],\n",
       "       [0.        ],\n",
       "       [0.        ],\n",
       "       [0.        ],\n",
       "       [0.        ],\n",
       "       [0.        ],\n",
       "       [0.        ],\n",
       "       [0.        ],\n",
       "       [0.        ],\n",
       "       [0.        ],\n",
       "       [0.        ],\n",
       "       [0.        ],\n",
       "       [0.        ],\n",
       "       [0.70710678],\n",
       "       [0.        ],\n",
       "       [0.        ],\n",
       "       [0.        ],\n",
       "       [0.        ],\n",
       "       [0.        ],\n",
       "       [0.        ],\n",
       "       [0.        ],\n",
       "       [0.        ],\n",
       "       [0.        ],\n",
       "       [0.        ],\n",
       "       [0.        ],\n",
       "       [0.        ],\n",
       "       [0.        ],\n",
       "       [0.        ],\n",
       "       [0.        ],\n",
       "       [0.        ],\n",
       "       [0.        ],\n",
       "       [0.        ],\n",
       "       [0.        ],\n",
       "       [0.        ],\n",
       "       [0.        ],\n",
       "       [0.        ],\n",
       "       [0.        ],\n",
       "       [0.        ],\n",
       "       [0.        ],\n",
       "       [0.        ],\n",
       "       [0.        ],\n",
       "       [0.        ],\n",
       "       [0.        ],\n",
       "       [0.        ]])"
      ]
     },
     "execution_count": 11,
     "metadata": {},
     "output_type": "execute_result"
    }
   ],
   "source": [
    "#checking HOM effect numerically\n",
    "\n",
    "U=(theta*(Op0134+np.sqrt(2)*Op0145+np.sqrt(2)*Op1234+2*Op1245)).expm()\n",
    "input_state=tensor(ket_0,ket_1,ket_0,ket_0,ket_1,ket_0)\n",
    "\n",
    "output_state=U*input_state\n",
    "np.abs(np.array(output_state)) #shows HOM effect"
   ]
  },
  {
   "cell_type": "markdown",
   "id": "59a95c97",
   "metadata": {},
   "source": [
    "## Commutation of the terms in the exponent"
   ]
  },
  {
   "cell_type": "markdown",
   "id": "a0db63e1",
   "metadata": {},
   "source": [
    "### Commutation relations of 0134 term"
   ]
  },
  {
   "cell_type": "code",
   "execution_count": 12,
   "id": "8d324d1d",
   "metadata": {},
   "outputs": [
    {
     "data": {
      "text/plain": [
       "False"
      ]
     },
     "execution_count": 12,
     "metadata": {},
     "output_type": "execute_result"
    }
   ],
   "source": [
    "commutator_1=Op0134*Op0145-Op0145*Op0134\n",
    "np.any(np.array(commutator_1)) #satisfies commutation i.e, 'com' will be a zero matrix."
   ]
  },
  {
   "cell_type": "code",
   "execution_count": 13,
   "id": "8c98d8bf",
   "metadata": {},
   "outputs": [
    {
     "data": {
      "text/plain": [
       "False"
      ]
     },
     "execution_count": 13,
     "metadata": {},
     "output_type": "execute_result"
    }
   ],
   "source": [
    "commutator_2=Op0134*Op1234-Op1234*Op0134\n",
    "np.any(np.array(commutator_2))"
   ]
  },
  {
   "cell_type": "code",
   "execution_count": 14,
   "id": "6e2ce49d",
   "metadata": {},
   "outputs": [
    {
     "data": {
      "text/plain": [
       "True"
      ]
     },
     "execution_count": 14,
     "metadata": {},
     "output_type": "execute_result"
    }
   ],
   "source": [
    "commutator_3=Op0134*Op1245-Op1245*Op0134\n",
    "np.any(np.array(commutator_3))"
   ]
  },
  {
   "cell_type": "markdown",
   "id": "0bdb2f98",
   "metadata": {},
   "source": [
    "i.e, $\\textbf{commutator_3}$ will not be a zero matrix, hence terms 0134 and 1245 doesnot commute"
   ]
  },
  {
   "cell_type": "markdown",
   "id": "eae2ccf6",
   "metadata": {},
   "source": [
    "### Commutation relations of 0145 term"
   ]
  },
  {
   "cell_type": "code",
   "execution_count": 15,
   "id": "002bb031",
   "metadata": {},
   "outputs": [
    {
     "data": {
      "text/plain": [
       "True"
      ]
     },
     "execution_count": 15,
     "metadata": {},
     "output_type": "execute_result"
    }
   ],
   "source": [
    "commutator_4=Op0145*Op1234-Op1234*Op0145\n",
    "np.any(np.array(commutator_4))"
   ]
  },
  {
   "cell_type": "markdown",
   "id": "51a10555",
   "metadata": {},
   "source": [
    "i.e, $\\textbf{commutator_4}$ will not be a zero matrix, hence terms 1234 and 1245 doesnot commute"
   ]
  },
  {
   "cell_type": "code",
   "execution_count": 16,
   "id": "df8c2fdf",
   "metadata": {},
   "outputs": [
    {
     "data": {
      "text/plain": [
       "False"
      ]
     },
     "execution_count": 16,
     "metadata": {},
     "output_type": "execute_result"
    }
   ],
   "source": [
    "commutator_5=Op0145*Op1245-Op1245*Op0145\n",
    "np.any(np.array(commutator_5))"
   ]
  },
  {
   "cell_type": "markdown",
   "id": "c302040b",
   "metadata": {},
   "source": [
    "### Commutation relations of 1234 term"
   ]
  },
  {
   "cell_type": "code",
   "execution_count": 17,
   "id": "91799a77",
   "metadata": {},
   "outputs": [
    {
     "data": {
      "text/plain": [
       "False"
      ]
     },
     "execution_count": 17,
     "metadata": {},
     "output_type": "execute_result"
    }
   ],
   "source": [
    "commutator_6=Op1234*Op1245-Op1245*Op1234\n",
    "np.any(np.array(commutator_6))"
   ]
  },
  {
   "cell_type": "markdown",
   "id": "9b0b7496",
   "metadata": {},
   "source": [
    "###  ``Thus while constructing quantum circuit we have to perform trotterization``"
   ]
  },
  {
   "cell_type": "code",
   "execution_count": 18,
   "id": "6a84222a",
   "metadata": {},
   "outputs": [
    {
     "data": {
      "text/plain": [
       "False"
      ]
     },
     "execution_count": 18,
     "metadata": {},
     "output_type": "execute_result"
    }
   ],
   "source": [
    "### Combining non-commuting operators\n",
    "\n",
    "#U0134+U1245\n",
    "oper_com_1=tensor(sig_p,sig_m,I,sig_m,sig_p,I)+tensor(sig_m,sig_p,I,sig_p,sig_m,I)+2*(tensor(I,sig_p,sig_m,I,sig_m,sig_p)+tensor(I,sig_m,sig_p,I,sig_p,sig_m))\n",
    "\n",
    "#U0145+U1234\n",
    "oper_com_2=np.sqrt(2)*(tensor(sig_p,sig_m,I,I,sig_m,sig_p)+tensor(sig_m,sig_p,I,I,sig_p,sig_m)+tensor(I,sig_p,sig_m,sig_m,sig_p,I)+tensor(I,sig_m,sig_p,sig_p,sig_m,I))\n",
    "\n",
    "#Checking commutation relations\n",
    "commutator=oper_com_1*oper_com_2-oper_com_2*oper_com_1\n",
    "np.any(np.array(commutator))"
   ]
  },
  {
   "cell_type": "code",
   "execution_count": 19,
   "id": "f0f970c9",
   "metadata": {},
   "outputs": [],
   "source": [
    "#corresponding unitaries\n",
    "\n",
    "U_com_1=(theta*oper_com_1).expm()\n",
    "U_com_2=(theta*oper_com_2).expm()\n",
    "\n",
    "U_com=U_com_1*U_com_2"
   ]
  },
  {
   "cell_type": "code",
   "execution_count": 20,
   "id": "41546360",
   "metadata": {},
   "outputs": [
    {
     "data": {
      "text/plain": [
       "array([[0.+0.j        ],\n",
       "       [0.+0.j        ],\n",
       "       [0.+0.j        ],\n",
       "       [0.+0.j        ],\n",
       "       [0.+0.j        ],\n",
       "       [0.+0.j        ],\n",
       "       [0.+0.j        ],\n",
       "       [0.+0.j        ],\n",
       "       [0.+0.j        ],\n",
       "       [0.+0.j        ],\n",
       "       [0.+0.j        ],\n",
       "       [0.+0.j        ],\n",
       "       [0.+0.70710678j],\n",
       "       [0.+0.j        ],\n",
       "       [0.+0.j        ],\n",
       "       [0.+0.j        ],\n",
       "       [0.+0.j        ],\n",
       "       [0.+0.j        ],\n",
       "       [0.+0.j        ],\n",
       "       [0.+0.j        ],\n",
       "       [0.+0.j        ],\n",
       "       [0.+0.j        ],\n",
       "       [0.+0.j        ],\n",
       "       [0.+0.j        ],\n",
       "       [0.+0.j        ],\n",
       "       [0.+0.j        ],\n",
       "       [0.+0.j        ],\n",
       "       [0.+0.j        ],\n",
       "       [0.+0.j        ],\n",
       "       [0.+0.j        ],\n",
       "       [0.+0.j        ],\n",
       "       [0.+0.j        ],\n",
       "       [0.+0.j        ],\n",
       "       [0.+0.70710678j],\n",
       "       [0.+0.j        ],\n",
       "       [0.+0.j        ],\n",
       "       [0.+0.j        ],\n",
       "       [0.+0.j        ],\n",
       "       [0.+0.j        ],\n",
       "       [0.+0.j        ],\n",
       "       [0.+0.j        ],\n",
       "       [0.+0.j        ],\n",
       "       [0.+0.j        ],\n",
       "       [0.+0.j        ],\n",
       "       [0.+0.j        ],\n",
       "       [0.+0.j        ],\n",
       "       [0.+0.j        ],\n",
       "       [0.+0.j        ],\n",
       "       [0.+0.j        ],\n",
       "       [0.+0.j        ],\n",
       "       [0.+0.j        ],\n",
       "       [0.+0.j        ],\n",
       "       [0.+0.j        ],\n",
       "       [0.+0.j        ],\n",
       "       [0.+0.j        ],\n",
       "       [0.+0.j        ],\n",
       "       [0.+0.j        ],\n",
       "       [0.+0.j        ],\n",
       "       [0.+0.j        ],\n",
       "       [0.+0.j        ],\n",
       "       [0.+0.j        ],\n",
       "       [0.+0.j        ],\n",
       "       [0.+0.j        ],\n",
       "       [0.+0.j        ]])"
      ]
     },
     "execution_count": 20,
     "metadata": {},
     "output_type": "execute_result"
    }
   ],
   "source": [
    "input_state=tensor(ket_0,ket_1,ket_0,ket_0,ket_1,ket_0)\n",
    "\n",
    "output_state=U_com*input_state\n",
    "np.array(output_state) #Shows HOM effect"
   ]
  },
  {
   "cell_type": "raw",
   "id": "54ac4aea",
   "metadata": {},
   "source": []
  },
  {
   "cell_type": "markdown",
   "id": "fd6d26ed",
   "metadata": {},
   "source": [
    "### Note 1: Even without trotterization circuit works for single photon experiments"
   ]
  },
  {
   "cell_type": "code",
   "execution_count": 21,
   "id": "5e8e8aaf",
   "metadata": {},
   "outputs": [],
   "source": [
    "# Unitary corresponding each term of the exponential\n",
    "# Here we donot assume the non commutavity\n",
    "\n",
    "U0134=(theta*Op0134).expm()\n",
    "U0145=(np.sqrt(2)*theta*Op0145).expm()\n",
    "U1234=(np.sqrt(2)*theta*Op1234).expm()\n",
    "U1245=(2*theta*Op1245).expm()"
   ]
  },
  {
   "cell_type": "code",
   "execution_count": 22,
   "id": "00379e9c",
   "metadata": {
    "scrolled": true
   },
   "outputs": [
    {
     "data": {
      "text/plain": [
       "array([[0.        +0.j        ],\n",
       "       [0.        +0.j        ],\n",
       "       [0.        +0.j        ],\n",
       "       [0.        +0.j        ],\n",
       "       [0.        +0.j        ],\n",
       "       [0.        +0.j        ],\n",
       "       [0.        +0.j        ],\n",
       "       [0.        +0.j        ],\n",
       "       [0.        +0.j        ],\n",
       "       [0.        +0.j        ],\n",
       "       [0.        +0.j        ],\n",
       "       [0.        +0.j        ],\n",
       "       [0.        +0.j        ],\n",
       "       [0.        +0.j        ],\n",
       "       [0.        +0.j        ],\n",
       "       [0.        +0.j        ],\n",
       "       [0.        +0.j        ],\n",
       "       [0.        +0.j        ],\n",
       "       [0.        +0.j        ],\n",
       "       [0.        +0.j        ],\n",
       "       [0.70710678+0.j        ],\n",
       "       [0.        +0.j        ],\n",
       "       [0.        +0.j        ],\n",
       "       [0.        +0.j        ],\n",
       "       [0.        +0.j        ],\n",
       "       [0.        +0.j        ],\n",
       "       [0.        +0.j        ],\n",
       "       [0.        +0.j        ],\n",
       "       [0.        +0.j        ],\n",
       "       [0.        +0.j        ],\n",
       "       [0.        +0.j        ],\n",
       "       [0.        +0.j        ],\n",
       "       [0.        +0.j        ],\n",
       "       [0.        +0.j        ],\n",
       "       [0.        +0.70710678j],\n",
       "       [0.        +0.j        ],\n",
       "       [0.        +0.j        ],\n",
       "       [0.        +0.j        ],\n",
       "       [0.        +0.j        ],\n",
       "       [0.        +0.j        ],\n",
       "       [0.        +0.j        ],\n",
       "       [0.        +0.j        ],\n",
       "       [0.        +0.j        ],\n",
       "       [0.        +0.j        ],\n",
       "       [0.        +0.j        ],\n",
       "       [0.        +0.j        ],\n",
       "       [0.        +0.j        ],\n",
       "       [0.        +0.j        ],\n",
       "       [0.        +0.j        ],\n",
       "       [0.        +0.j        ],\n",
       "       [0.        +0.j        ],\n",
       "       [0.        +0.j        ],\n",
       "       [0.        +0.j        ],\n",
       "       [0.        +0.j        ],\n",
       "       [0.        +0.j        ],\n",
       "       [0.        +0.j        ],\n",
       "       [0.        +0.j        ],\n",
       "       [0.        +0.j        ],\n",
       "       [0.        +0.j        ],\n",
       "       [0.        +0.j        ],\n",
       "       [0.        +0.j        ],\n",
       "       [0.        +0.j        ],\n",
       "       [0.        +0.j        ],\n",
       "       [0.        +0.j        ]])"
      ]
     },
     "execution_count": 22,
     "metadata": {},
     "output_type": "execute_result"
    }
   ],
   "source": [
    "U=U0134*U0145*U1234*U1245 # unitary of beam splitter if we neglect non commutavity\n",
    "\n",
    "#|1>|0>\n",
    "input_state=tensor(ket_0,ket_1,ket_0,ket_1,ket_0,ket_0)\n",
    "\n",
    "output_state=U*input_state\n",
    "np.array(output_state)"
   ]
  },
  {
   "cell_type": "markdown",
   "id": "c6673aa4",
   "metadata": {},
   "source": [
    "### Result corresponds to $\\frac{1}{\\sqrt{2}}(|1>|0>+|0>|1>)$"
   ]
  },
  {
   "cell_type": "markdown",
   "id": "632ad842",
   "metadata": {},
   "source": [
    "Similar results can be got for |0>|1> also."
   ]
  },
  {
   "cell_type": "raw",
   "id": "a028eeb1",
   "metadata": {},
   "source": []
  },
  {
   "cell_type": "code",
   "execution_count": null,
   "id": "0d902fdc",
   "metadata": {},
   "outputs": [],
   "source": []
  }
 ],
 "metadata": {
  "kernelspec": {
   "display_name": "Python 3 (ipykernel)",
   "language": "python",
   "name": "python3"
  },
  "language_info": {
   "codemirror_mode": {
    "name": "ipython",
    "version": 3
   },
   "file_extension": ".py",
   "mimetype": "text/x-python",
   "name": "python",
   "nbconvert_exporter": "python",
   "pygments_lexer": "ipython3",
   "version": "3.7.7"
  }
 },
 "nbformat": 4,
 "nbformat_minor": 5
}
