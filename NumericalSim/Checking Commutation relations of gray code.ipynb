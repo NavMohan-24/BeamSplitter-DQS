{
 "cells": [
  {
   "cell_type": "code",
   "execution_count": 1,
   "id": "5839e2d7-cdcf-4baf-988a-9ef6b44a9fb6",
   "metadata": {},
   "outputs": [],
   "source": [
    "import qutip as qt\n",
    "import numpy as np\n",
    "from qutip import tensor\n",
    "from scipy.linalg import expm"
   ]
  },
  {
   "cell_type": "code",
   "execution_count": 2,
   "id": "dbf04f1d-437d-4d04-a1f4-8815f886ac16",
   "metadata": {
    "tags": []
   },
   "outputs": [],
   "source": [
    "theta=complex(0,np.pi/4) #50-50 Beam splitter\n",
    "\n",
    "#truncated bosonic operators\n",
    "\n",
    "bdag_theory=adag_theory=qt.create(3)\n",
    "a_theory=b_theory=qt.destroy(3)  \n",
    "\n",
    "#spin raising and lowering operator\n",
    "sig_p=qt.destroy(2)\n",
    "sig_m=qt.create(2)\n",
    "\n",
    "#Pauli operators\n",
    "I=qt.identity(2)\n",
    "sig_z=qt.sigmaz()\n",
    "sig_x=qt.sigmax()\n",
    "sig_y=qt.sigmay()\n",
    "\n",
    "#Qubit states\n",
    "ket_0=qt.fock(2,0)\n",
    "ket_1=qt.fock(2,1)\n",
    "\n",
    "#projection operator\n",
    "P0=(I+sig_z)/2\n",
    "P1=(I-sig_z)/2"
   ]
  },
  {
   "cell_type": "code",
   "execution_count": 3,
   "id": "a9b741c8-3852-417f-bede-4b08907f2b84",
   "metadata": {
    "tags": []
   },
   "outputs": [],
   "source": [
    "op1=tensor(P0,sig_m,P0,sig_p)+tensor(P0,sig_p,P0,sig_m)\n",
    "op2=np.sqrt(2)*(tensor(P0,sig_m,sig_p,P1)+tensor(P0,sig_p,sig_m,P1))\n",
    "op3=np.sqrt(3)*(tensor(P0,sig_m,P1,sig_m)+tensor(P0,sig_p,P1,sig_p))\n",
    "op4=np.sqrt(2)*(tensor(sig_m,P1,P0,sig_p)+tensor(sig_p,P1,P0,sig_m))\n",
    "op5=2*(tensor(sig_m,P1,sig_p,P1)+tensor(sig_p,P1,sig_m,P1))\n",
    "op6=np.sqrt(6)*(tensor(sig_m,P1,P1,sig_m)+tensor(sig_p,P1,P1,sig_p))\n",
    "op7=np.sqrt(3)*(tensor(P1,sig_p,P0,sig_p)+tensor(P1,sig_m,P0,sig_m))\n",
    "op8=np.sqrt(6)*(tensor(P1,sig_p,sig_p,P1)+tensor(P1,sig_m,sig_m,P1))\n",
    "op9=3*(tensor(P1,sig_p,P1,sig_m)+tensor(P1,sig_m,P1,sig_p))"
   ]
  },
  {
   "cell_type": "code",
   "execution_count": 7,
   "id": "473fc62d",
   "metadata": {},
   "outputs": [
    {
     "data": {
      "text/latex": [
       "Quantum object: dims = [[3, 3], [3, 3]], shape = (9, 9), type = oper, isherm = False\\begin{equation*}\\left(\\begin{array}{*{11}c}1.0 & 0.0 & 0.0 & 0.0 & 0.0 & 0.0 & 0.0 & 0.0 & 0.0\\\\0.0 & 0.707 & 0.0 & 0.707j & 0.0 & 0.0 & 0.0 & 0.0 & 0.0\\\\0.0 & 0.0 & 0.500 & 0.0 & 0.707j & 0.0 & -0.500 & 0.0 & 0.0\\\\0.0 & 0.707j & 0.0 & 0.707 & 0.0 & 0.0 & 0.0 & 0.0 & 0.0\\\\0.0 & 0.0 & 0.707j & 0.0 & 0.0 & 0.0 & 0.707j & 0.0 & 0.0\\\\0.0 & 0.0 & 0.0 & 0.0 & 0.0 & 0.0 & 0.0 & 1.0j & 0.0\\\\0.0 & 0.0 & -0.500 & 0.0 & 0.707j & 0.0 & 0.500 & 0.0 & 0.0\\\\0.0 & 0.0 & 0.0 & 0.0 & 0.0 & 1.0j & 0.0 & 0.0 & 0.0\\\\0.0 & 0.0 & 0.0 & 0.0 & 0.0 & 0.0 & 0.0 & 0.0 & 1.0\\\\\\end{array}\\right)\\end{equation*}"
      ],
      "text/plain": [
       "Quantum object: dims = [[3, 3], [3, 3]], shape = (9, 9), type = oper, isherm = False\n",
       "Qobj data =\n",
       "[[ 1.        +0.j          0.        +0.j          0.        +0.j\n",
       "   0.        +0.j          0.        +0.j          0.        +0.j\n",
       "   0.        +0.j          0.        +0.j          0.        +0.j        ]\n",
       " [ 0.        +0.j          0.70710678+0.j          0.        +0.j\n",
       "   0.        +0.70710678j  0.        +0.j          0.        +0.j\n",
       "   0.        +0.j          0.        +0.j          0.        +0.j        ]\n",
       " [ 0.        +0.j          0.        +0.j          0.5       +0.j\n",
       "   0.        +0.j          0.        +0.70710678j  0.        +0.j\n",
       "  -0.5       +0.j          0.        +0.j          0.        +0.j        ]\n",
       " [ 0.        +0.j          0.        +0.70710678j  0.        +0.j\n",
       "   0.70710678+0.j          0.        +0.j          0.        +0.j\n",
       "   0.        +0.j          0.        +0.j          0.        +0.j        ]\n",
       " [ 0.        +0.j          0.        +0.j          0.        +0.70710678j\n",
       "   0.        +0.j          0.        +0.j          0.        +0.j\n",
       "   0.        +0.70710678j  0.        +0.j          0.        +0.j        ]\n",
       " [ 0.        +0.j          0.        +0.j          0.        +0.j\n",
       "   0.        +0.j          0.        +0.j          0.        +0.j\n",
       "   0.        +0.j          0.        +1.j          0.        +0.j        ]\n",
       " [ 0.        +0.j          0.        +0.j         -0.5       +0.j\n",
       "   0.        +0.j          0.        +0.70710678j  0.        +0.j\n",
       "   0.5       +0.j          0.        +0.j          0.        +0.j        ]\n",
       " [ 0.        +0.j          0.        +0.j          0.        +0.j\n",
       "   0.        +0.j          0.        +0.j          0.        +1.j\n",
       "   0.        +0.j          0.        +0.j          0.        +0.j        ]\n",
       " [ 0.        +0.j          0.        +0.j          0.        +0.j\n",
       "   0.        +0.j          0.        +0.j          0.        +0.j\n",
       "   0.        +0.j          0.        +0.j          1.        +0.j        ]]"
      ]
     },
     "execution_count": 7,
     "metadata": {},
     "output_type": "execute_result"
    }
   ],
   "source": [
    "op=tensor(bdag_theory,a_theory)+tensor(b_theory,adag_theory)\n",
    "U=(theta*op).expm()\n",
    "U"
   ]
  },
  {
   "cell_type": "code",
   "execution_count": 4,
   "id": "6206f3f0-a22c-4fc8-ad16-54ef44c1caac",
   "metadata": {},
   "outputs": [
    {
     "data": {
      "text/plain": [
       "array([[ 0.        +0.j        ],\n",
       "       [ 0.        +0.j        ],\n",
       "       [ 0.        -0.35355339j],\n",
       "       [ 0.        +0.j        ],\n",
       "       [ 0.        +0.j        ],\n",
       "       [ 0.        +0.j        ],\n",
       "       [ 0.        +0.j        ],\n",
       "       [-0.61237244+0.j        ],\n",
       "       [ 0.35355339+0.j        ],\n",
       "       [ 0.        +0.j        ],\n",
       "       [ 0.        +0.j        ],\n",
       "       [ 0.        +0.j        ],\n",
       "       [ 0.        +0.j        ],\n",
       "       [ 0.        +0.61237244j],\n",
       "       [ 0.        +0.j        ],\n",
       "       [ 0.        +0.j        ]])"
      ]
     },
     "execution_count": 4,
     "metadata": {},
     "output_type": "execute_result"
    }
   ],
   "source": [
    "op=op1+op2+op3+op4+op5+op6+op7+op8+op9\n",
    "U=(theta*op).expm()\n",
    "\n",
    "inp_state=tensor(ket_1,ket_0,ket_0,ket_0)\n",
    "np.array(U*inp_state)"
   ]
  },
  {
   "cell_type": "code",
   "execution_count": 6,
   "id": "2a984ea2",
   "metadata": {},
   "outputs": [
    {
     "data": {
      "text/latex": [
       "Quantum object: dims = [[2, 2, 2, 2], [2, 2, 2, 2]], shape = (16, 16), type = oper, isherm = False\\begin{equation*}\\left(\\begin{array}{*{11}c}1.000 & 0.0 & 0.0 & 0.0 & 0.0 & \\cdots & 0.0 & 0.0 & 0.0 & 0.0 & 0.0\\\\0.0 & 0.707 & 0.0 & 0.0 & 0.707j & \\cdots & 0.0 & 0.0 & 0.0 & 0.0 & 0.0\\\\0.0 & 0.0 & 0.354 & 0.0 & 0.0 & \\cdots & 0.0 & 0.0 & -0.612 & 0.0 & 0.0\\\\0.0 & 0.0 & 0.0 & 0.500 & 0.0 & \\cdots & 0.0 & -0.500 & 0.0 & 0.0 & 0.0\\\\0.0 & 0.707j & 0.0 & 0.0 & 0.707 & \\cdots & 0.0 & 0.0 & 0.0 & 0.0 & 0.0\\\\\\vdots & \\vdots & \\vdots & \\vdots & \\vdots & \\ddots & \\vdots & \\vdots & \\vdots & \\vdots & \\vdots\\\\0.0 & 0.0 & 0.0 & 0.0 & 0.0 & \\cdots & -0.707 & 0.0 & 0.0 & 0.707j & 0.0\\\\0.0 & 0.0 & 0.0 & -0.500 & 0.0 & \\cdots & 0.0 & 0.500 & 0.0 & 0.0 & 0.0\\\\0.0 & 0.0 & -0.612 & 0.0 & 0.0 & \\cdots & 0.0 & 0.0 & -0.354 & 0.0 & 0.0\\\\0.0 & 0.0 & 0.0 & 0.0 & 0.0 & \\cdots & 0.707j & 0.0 & 0.0 & -0.707 & 0.0\\\\0.0 & 0.0 & 0.0 & 0.0 & 0.0 & \\cdots & 0.0 & 0.0 & 0.0 & 0.0 & -0.913\\\\\\end{array}\\right)\\end{equation*}"
      ],
      "text/plain": [
       "Quantum object: dims = [[2, 2, 2, 2], [2, 2, 2, 2]], shape = (16, 16), type = oper, isherm = False\n",
       "Qobj data =\n",
       "[[ 1.        +0.j          0.        +0.j          0.        +0.j\n",
       "   0.        +0.j          0.        +0.j          0.        +0.j\n",
       "   0.        +0.j          0.        +0.j          0.        +0.j\n",
       "   0.        +0.j          0.        +0.j          0.        +0.j\n",
       "   0.        +0.j          0.        +0.j          0.        +0.j\n",
       "   0.        +0.j        ]\n",
       " [ 0.        +0.j          0.70710678+0.j          0.        +0.j\n",
       "   0.        +0.j          0.        +0.70710678j  0.        +0.j\n",
       "   0.        +0.j          0.        +0.j          0.        +0.j\n",
       "   0.        +0.j          0.        +0.j          0.        +0.j\n",
       "   0.        +0.j          0.        +0.j          0.        +0.j\n",
       "   0.        +0.j        ]\n",
       " [ 0.        +0.j          0.        +0.j          0.35355339+0.j\n",
       "   0.        +0.j          0.        +0.j          0.        +0.j\n",
       "   0.        +0.j          0.        +0.61237244j  0.        -0.35355339j\n",
       "   0.        +0.j          0.        +0.j          0.        +0.j\n",
       "   0.        +0.j         -0.61237244+0.j          0.        +0.j\n",
       "   0.        +0.j        ]\n",
       " [ 0.        +0.j          0.        +0.j          0.        +0.j\n",
       "   0.5       +0.j          0.        +0.j          0.        +0.70710678j\n",
       "   0.        +0.j          0.        +0.j          0.        +0.j\n",
       "   0.        +0.j          0.        +0.j          0.        +0.j\n",
       "  -0.5       +0.j          0.        +0.j          0.        +0.j\n",
       "   0.        +0.j        ]\n",
       " [ 0.        +0.j          0.        +0.70710678j  0.        +0.j\n",
       "   0.        +0.j          0.70710678+0.j          0.        +0.j\n",
       "   0.        +0.j          0.        +0.j          0.        +0.j\n",
       "   0.        +0.j          0.        +0.j          0.        +0.j\n",
       "   0.        +0.j          0.        +0.j          0.        +0.j\n",
       "   0.        +0.j        ]\n",
       " [ 0.        +0.j          0.        +0.j          0.        +0.j\n",
       "   0.        +0.70710678j  0.        +0.j          0.        +0.j\n",
       "   0.        +0.j          0.        +0.j          0.        +0.j\n",
       "   0.        +0.j          0.        +0.j          0.        +0.j\n",
       "   0.        +0.70710678j  0.        +0.j          0.        +0.j\n",
       "   0.        +0.j        ]\n",
       " [ 0.        +0.j          0.        +0.j          0.        +0.j\n",
       "   0.        +0.j          0.        +0.j          0.        +0.j\n",
       "   0.0436379 +0.j          0.        +0.j          0.        +0.j\n",
       "  -0.9563621 +0.j          0.        +0.j          0.        +0.j\n",
       "   0.        +0.j          0.        +0.j          0.        +0.j\n",
       "   0.        +0.28890703j]\n",
       " [ 0.        +0.j          0.        +0.j          0.        +0.61237244j\n",
       "   0.        +0.j          0.        +0.j          0.        +0.j\n",
       "   0.        +0.j         -0.35355339+0.j         -0.61237244+0.j\n",
       "   0.        +0.j          0.        +0.j          0.        +0.j\n",
       "   0.        +0.j          0.        +0.35355339j  0.        +0.j\n",
       "   0.        +0.j        ]\n",
       " [ 0.        +0.j          0.        +0.j          0.        -0.35355339j\n",
       "   0.        +0.j          0.        +0.j          0.        +0.j\n",
       "   0.        +0.j         -0.61237244+0.j          0.35355339+0.j\n",
       "   0.        +0.j          0.        +0.j          0.        +0.j\n",
       "   0.        +0.j          0.        +0.61237244j  0.        +0.j\n",
       "   0.        +0.j        ]\n",
       " [ 0.        +0.j          0.        +0.j          0.        +0.j\n",
       "   0.        +0.j          0.        +0.j          0.        +0.j\n",
       "  -0.9563621 +0.j          0.        +0.j          0.        +0.j\n",
       "   0.0436379 +0.j          0.        +0.j          0.        +0.j\n",
       "   0.        +0.j          0.        +0.j          0.        +0.j\n",
       "   0.        +0.28890703j]\n",
       " [ 0.        +0.j          0.        +0.j          0.        +0.j\n",
       "   0.        +0.j          0.        +0.j          0.        +0.j\n",
       "   0.        +0.j          0.        +0.j          0.        +0.j\n",
       "   0.        +0.j          1.        +0.j          0.        +0.j\n",
       "   0.        +0.j          0.        +0.j          0.        +0.j\n",
       "   0.        +0.j        ]\n",
       " [ 0.        +0.j          0.        +0.j          0.        +0.j\n",
       "   0.        +0.j          0.        +0.j          0.        +0.j\n",
       "   0.        +0.j          0.        +0.j          0.        +0.j\n",
       "   0.        +0.j          0.        +0.j         -0.70710678+0.j\n",
       "   0.        +0.j          0.        +0.j          0.        +0.70710678j\n",
       "   0.        +0.j        ]\n",
       " [ 0.        +0.j          0.        +0.j          0.        +0.j\n",
       "  -0.5       +0.j          0.        +0.j          0.        +0.70710678j\n",
       "   0.        +0.j          0.        +0.j          0.        +0.j\n",
       "   0.        +0.j          0.        +0.j          0.        +0.j\n",
       "   0.5       +0.j          0.        +0.j          0.        +0.j\n",
       "   0.        +0.j        ]\n",
       " [ 0.        +0.j          0.        +0.j         -0.61237244+0.j\n",
       "   0.        +0.j          0.        +0.j          0.        +0.j\n",
       "   0.        +0.j          0.        +0.35355339j  0.        +0.61237244j\n",
       "   0.        +0.j          0.        +0.j          0.        +0.j\n",
       "   0.        +0.j         -0.35355339+0.j          0.        +0.j\n",
       "   0.        +0.j        ]\n",
       " [ 0.        +0.j          0.        +0.j          0.        +0.j\n",
       "   0.        +0.j          0.        +0.j          0.        +0.j\n",
       "   0.        +0.j          0.        +0.j          0.        +0.j\n",
       "   0.        +0.j          0.        +0.j          0.        +0.70710678j\n",
       "   0.        +0.j          0.        +0.j         -0.70710678+0.j\n",
       "   0.        +0.j        ]\n",
       " [ 0.        +0.j          0.        +0.j          0.        +0.j\n",
       "   0.        +0.j          0.        +0.j          0.        +0.j\n",
       "   0.        +0.28890703j  0.        +0.j          0.        +0.j\n",
       "   0.        +0.28890703j  0.        +0.j          0.        +0.j\n",
       "   0.        +0.j          0.        +0.j          0.        +0.j\n",
       "  -0.9127242 +0.j        ]]"
      ]
     },
     "execution_count": 6,
     "metadata": {},
     "output_type": "execute_result"
    }
   ],
   "source": [
    "U"
   ]
  },
  {
   "cell_type": "code",
   "execution_count": 5,
   "id": "b226790a-c4fe-462c-affb-fe6c9ed7e460",
   "metadata": {},
   "outputs": [
    {
     "data": {
      "text/latex": [
       "Quantum object: dims = [[2, 2, 2, 2], [1, 1, 1, 1]], shape = (16, 1), type = ket\\begin{equation*}\\left(\\begin{array}{*{11}c}0.0\\\\0.0\\\\0.0\\\\0.0\\\\0.0\\\\\\vdots\\\\0.0\\\\0.0\\\\0.0\\\\0.0\\\\0.0\\\\\\end{array}\\right)\\end{equation*}"
      ],
      "text/plain": [
       "Quantum object: dims = [[2, 2, 2, 2], [1, 1, 1, 1]], shape = (16, 1), type = ket\n",
       "Qobj data =\n",
       "[[0.]\n",
       " [0.]\n",
       " [0.]\n",
       " [0.]\n",
       " [0.]\n",
       " [0.]\n",
       " [0.]\n",
       " [0.]\n",
       " [1.]\n",
       " [0.]\n",
       " [0.]\n",
       " [0.]\n",
       " [0.]\n",
       " [0.]\n",
       " [0.]\n",
       " [0.]]"
      ]
     },
     "execution_count": 5,
     "metadata": {},
     "output_type": "execute_result"
    }
   ],
   "source": [
    "inp_state"
   ]
  },
  {
   "cell_type": "code",
   "execution_count": 6,
   "id": "d859cd36-72cd-4c7e-888f-252dfe09d3c5",
   "metadata": {},
   "outputs": [
    {
     "data": {
      "text/plain": [
       "array([[0.+0.j],\n",
       "       [0.+0.j],\n",
       "       [0.+0.j],\n",
       "       [0.+0.j],\n",
       "       [0.+0.j],\n",
       "       [0.+0.j],\n",
       "       [0.+0.j],\n",
       "       [0.+0.j],\n",
       "       [1.+0.j],\n",
       "       [0.+0.j],\n",
       "       [0.+0.j],\n",
       "       [0.+0.j],\n",
       "       [0.+0.j],\n",
       "       [0.+0.j],\n",
       "       [0.+0.j],\n",
       "       [0.+0.j]])"
      ]
     },
     "execution_count": 6,
     "metadata": {},
     "output_type": "execute_result"
    }
   ],
   "source": [
    "np.array(tensor(ket_1,ket_0,ket_0,ket_0)) #30 ==> 0.35 "
   ]
  },
  {
   "cell_type": "code",
   "execution_count": 7,
   "id": "8a8363c9-4243-4993-a9ce-54499c3eed54",
   "metadata": {},
   "outputs": [
    {
     "data": {
      "text/plain": [
       "array([[0.+0.j],\n",
       "       [0.+0.j],\n",
       "       [1.+0.j],\n",
       "       [0.+0.j],\n",
       "       [0.+0.j],\n",
       "       [0.+0.j],\n",
       "       [0.+0.j],\n",
       "       [0.+0.j],\n",
       "       [0.+0.j],\n",
       "       [0.+0.j],\n",
       "       [0.+0.j],\n",
       "       [0.+0.j],\n",
       "       [0.+0.j],\n",
       "       [0.+0.j],\n",
       "       [0.+0.j],\n",
       "       [0.+0.j]])"
      ]
     },
     "execution_count": 7,
     "metadata": {},
     "output_type": "execute_result"
    }
   ],
   "source": [
    "np.array(tensor(ket_0,ket_0,ket_1,ket_0)) #03 ==> 0.35"
   ]
  },
  {
   "cell_type": "code",
   "execution_count": 8,
   "id": "2421e6d8-8b0e-4a31-8400-1cdd20ca3407",
   "metadata": {},
   "outputs": [
    {
     "data": {
      "text/plain": [
       "array([[0.+0.j],\n",
       "       [0.+0.j],\n",
       "       [0.+0.j],\n",
       "       [0.+0.j],\n",
       "       [0.+0.j],\n",
       "       [0.+0.j],\n",
       "       [0.+0.j],\n",
       "       [0.+0.j],\n",
       "       [0.+0.j],\n",
       "       [0.+0.j],\n",
       "       [0.+0.j],\n",
       "       [0.+0.j],\n",
       "       [0.+0.j],\n",
       "       [1.+0.j],\n",
       "       [0.+0.j],\n",
       "       [0.+0.j]])"
      ]
     },
     "execution_count": 8,
     "metadata": {},
     "output_type": "execute_result"
    }
   ],
   "source": [
    "np.array(tensor(ket_1,ket_1,ket_0,ket_1)) #21 ==>0.612"
   ]
  },
  {
   "cell_type": "code",
   "execution_count": 9,
   "id": "a465253e-ede9-4c22-94c3-b11f2d79c96f",
   "metadata": {},
   "outputs": [
    {
     "data": {
      "text/plain": [
       "array([[0.+0.j],\n",
       "       [0.+0.j],\n",
       "       [0.+0.j],\n",
       "       [0.+0.j],\n",
       "       [0.+0.j],\n",
       "       [0.+0.j],\n",
       "       [0.+0.j],\n",
       "       [1.+0.j],\n",
       "       [0.+0.j],\n",
       "       [0.+0.j],\n",
       "       [0.+0.j],\n",
       "       [0.+0.j],\n",
       "       [0.+0.j],\n",
       "       [0.+0.j],\n",
       "       [0.+0.j],\n",
       "       [0.+0.j]])"
      ]
     },
     "execution_count": 9,
     "metadata": {},
     "output_type": "execute_result"
    }
   ],
   "source": [
    "np.array(tensor(ket_0,ket_1,ket_1,ket_1)) #12 ==>0.612"
   ]
  },
  {
   "cell_type": "code",
   "execution_count": 10,
   "id": "59026bff-d129-4741-bce5-d4339f451604",
   "metadata": {},
   "outputs": [],
   "source": [
    "#coherent state\n",
    "\n",
    "alpha=0.9\n",
    "c=np.exp(-1*(alpha**2)/2)\n",
    "c_state=c*(tensor(ket_0,ket_0,ket_0,ket_0)+alpha*tensor(ket_0,ket_1,ket_0,ket_0)+(alpha**2/np.sqrt(2))*tensor(ket_1,ket_1,ket_0,ket_0)+(alpha**3/np.sqrt(6))*tensor(ket_1,ket_0,ket_0,ket_0))"
   ]
  },
  {
   "cell_type": "code",
   "execution_count": 11,
   "id": "e27f3d3c-25f3-44fd-b8ac-01d427162ba5",
   "metadata": {},
   "outputs": [
    {
     "data": {
      "text/plain": [
       "array([[0.66697681+0.j],\n",
       "       [0.        +0.j],\n",
       "       [0.        +0.j],\n",
       "       [0.        +0.j],\n",
       "       [0.60027913+0.j],\n",
       "       [0.        +0.j],\n",
       "       [0.        +0.j],\n",
       "       [0.        +0.j],\n",
       "       [0.19850097+0.j],\n",
       "       [0.        +0.j],\n",
       "       [0.        +0.j],\n",
       "       [0.        +0.j],\n",
       "       [0.3820153 +0.j],\n",
       "       [0.        +0.j],\n",
       "       [0.        +0.j],\n",
       "       [0.        +0.j]])"
      ]
     },
     "execution_count": 11,
     "metadata": {},
     "output_type": "execute_result"
    }
   ],
   "source": [
    "np.array(c_state)"
   ]
  },
  {
   "cell_type": "code",
   "execution_count": 12,
   "id": "7236f2b7-d730-46b1-a13a-3774e70bd304",
   "metadata": {},
   "outputs": [
    {
     "data": {
      "text/plain": [
       "array([[ 0.66697681+0.j        ],\n",
       "       [ 0.        +0.42446144j],\n",
       "       [ 0.        -0.07018069j],\n",
       "       [-0.19100765+0.j        ],\n",
       "       [ 0.42446144+0.j        ],\n",
       "       [ 0.        +0.27012561j],\n",
       "       [ 0.        +0.j        ],\n",
       "       [-0.12155652+0.j        ],\n",
       "       [ 0.07018069+0.j        ],\n",
       "       [ 0.        +0.j        ],\n",
       "       [ 0.        +0.j        ],\n",
       "       [ 0.        +0.j        ],\n",
       "       [ 0.19100765+0.j        ],\n",
       "       [ 0.        +0.12155652j],\n",
       "       [ 0.        +0.j        ],\n",
       "       [ 0.        +0.j        ]])"
      ]
     },
     "execution_count": 12,
     "metadata": {},
     "output_type": "execute_result"
    }
   ],
   "source": [
    "np.array(U*c_state)"
   ]
  },
  {
   "cell_type": "raw",
   "id": "5404a8b1",
   "metadata": {},
   "source": [
    "0.424  ==> 10,01\n",
    "0.070  ==> 30,03\n",
    "0.191  ==> 20,02\n",
    "0.121  ==> 21,12"
   ]
  },
  {
   "cell_type": "code",
   "execution_count": 13,
   "id": "181517b0-9101-43e5-a683-536839b7f3d1",
   "metadata": {},
   "outputs": [
    {
     "data": {
      "text/plain": [
       "array([[0.+0.j],\n",
       "       [0.+0.j],\n",
       "       [0.+0.j],\n",
       "       [0.+0.j],\n",
       "       [0.+0.j],\n",
       "       [0.+0.j],\n",
       "       [0.+0.j],\n",
       "       [0.+0.j],\n",
       "       [0.+0.j],\n",
       "       [0.+0.j],\n",
       "       [0.+0.j],\n",
       "       [0.+0.j],\n",
       "       [0.+0.j],\n",
       "       [1.+0.j],\n",
       "       [0.+0.j],\n",
       "       [0.+0.j]])"
      ]
     },
     "execution_count": 13,
     "metadata": {},
     "output_type": "execute_result"
    }
   ],
   "source": [
    "np.array(tensor(ket_1,ket_1,ket_0,ket_1))"
   ]
  },
  {
   "cell_type": "markdown",
   "id": "743f20ce-14e8-45c4-b743-f25ec06badf1",
   "metadata": {},
   "source": [
    "## Checking the decomposition in terms of gate"
   ]
  },
  {
   "cell_type": "code",
   "execution_count": 14,
   "id": "4b33bff4-a24e-4319-9562-c6314e44f5a2",
   "metadata": {},
   "outputs": [
    {
     "data": {
      "text/plain": [
       "True"
      ]
     },
     "execution_count": 14,
     "metadata": {},
     "output_type": "execute_result"
    }
   ],
   "source": [
    "oper1=(1/8)*(tensor(I,sig_x,I,sig_x)+tensor(I,sig_y,I,sig_y)+tensor(sig_z,sig_x,sig_z,sig_x)+tensor(sig_z,sig_y,sig_z,sig_y)\n",
    "       +tensor(I,sig_x,sig_z,sig_x)+tensor(I,sig_y,sig_z,sig_y)+tensor(sig_z,sig_x,I,sig_x)+tensor(sig_z,sig_y,I,sig_y))\n",
    "oper1==op1"
   ]
  },
  {
   "cell_type": "code",
   "execution_count": 15,
   "id": "6d6dc108-7c38-4d67-82ce-2487d66b4d2f",
   "metadata": {},
   "outputs": [
    {
     "data": {
      "text/plain": [
       "True"
      ]
     },
     "execution_count": 15,
     "metadata": {},
     "output_type": "execute_result"
    }
   ],
   "source": [
    "c1=np.sqrt(2)/8\n",
    "oper2=c1*(tensor(I,sig_x,sig_x,I)+tensor(sig_z,sig_y,sig_y,I)-tensor(I,sig_x,sig_x,sig_z)-tensor(sig_z,sig_y,sig_y,sig_z)+tensor(I,sig_y,sig_y,I)+tensor(sig_z,sig_x,sig_x,I)-tensor(I,sig_y,sig_y,sig_z)-tensor(sig_z,sig_x,sig_x,sig_z))\n",
    "oper2==op2"
   ]
  },
  {
   "cell_type": "code",
   "execution_count": 16,
   "id": "2dfd3056-8d60-4081-8e51-d8c59a90fc16",
   "metadata": {},
   "outputs": [
    {
     "data": {
      "text/plain": [
       "True"
      ]
     },
     "execution_count": 16,
     "metadata": {},
     "output_type": "execute_result"
    }
   ],
   "source": [
    "c2=np.sqrt(3)/8\n",
    "oper3=c2*(tensor(I,sig_x,I,sig_x)-tensor(I,sig_y,I,sig_y)-tensor(sig_z,sig_x,sig_z,sig_x)+tensor(sig_z,sig_y,sig_z,sig_y)-tensor(I,sig_x,sig_z,sig_x)+tensor(I,sig_y,sig_z,sig_y)+tensor(sig_z,sig_x,I,sig_x)-tensor(sig_z,sig_y,I,sig_y))\n",
    "oper3==op3\n",
    "    "
   ]
  },
  {
   "cell_type": "code",
   "execution_count": 17,
   "id": "488362ad-34b1-47d1-86e3-dd64829f05c5",
   "metadata": {},
   "outputs": [
    {
     "data": {
      "text/plain": [
       "True"
      ]
     },
     "execution_count": 17,
     "metadata": {},
     "output_type": "execute_result"
    }
   ],
   "source": [
    "c3=np.sqrt(2)/8\n",
    "oper4=c3*(tensor(sig_x,I,I,sig_x)+tensor(sig_y,I,I,sig_y)+tensor(sig_x,I,sig_z,sig_x)+tensor(sig_y,I,sig_z,sig_y)-tensor(sig_x,sig_z,I,sig_x)-tensor(sig_y,sig_z,I,sig_y)-tensor(sig_x,sig_z,sig_z,sig_x)-tensor(sig_y,sig_z,sig_z,sig_y))\n",
    "\n",
    "oper4==op4"
   ]
  },
  {
   "cell_type": "code",
   "execution_count": 18,
   "id": "e3d63934-88c2-4080-aa1c-b3a6d6437229",
   "metadata": {},
   "outputs": [
    {
     "data": {
      "text/plain": [
       "True"
      ]
     },
     "execution_count": 18,
     "metadata": {},
     "output_type": "execute_result"
    }
   ],
   "source": [
    "c4=1/4\n",
    "oper5=c4*(tensor(sig_x,I,sig_x,I)+tensor(sig_y,I,sig_y,I)-tensor(sig_x,I,sig_x,sig_z)-tensor(sig_y,I,sig_y,sig_z)-tensor(sig_x,sig_z,sig_x,I)-tensor(sig_y,sig_z,sig_y,I)+tensor(sig_x,sig_z,sig_x,sig_z)+tensor(sig_y,sig_z,sig_y,sig_z))\n",
    "\n",
    "oper5==op5"
   ]
  },
  {
   "cell_type": "code",
   "execution_count": 19,
   "id": "bd7c04b7-d694-41f3-8c85-f556058de1ae",
   "metadata": {},
   "outputs": [
    {
     "data": {
      "text/plain": [
       "True"
      ]
     },
     "execution_count": 19,
     "metadata": {},
     "output_type": "execute_result"
    }
   ],
   "source": [
    "c5=np.sqrt(6)/8\n",
    "\n",
    "oper6=c5*(tensor(sig_x,I,I,sig_x)-tensor(sig_y,I,I,sig_y)-tensor(sig_x,sig_z,I,sig_x)+tensor(sig_y,sig_z,I,sig_y)-tensor(sig_x,I,sig_z,sig_x)+tensor(sig_y,I,sig_z,sig_y)+tensor(sig_x,sig_z,sig_z,sig_x)-tensor(sig_y,sig_z,sig_z,sig_y))\n",
    "\n",
    "oper6==op6"
   ]
  },
  {
   "cell_type": "code",
   "execution_count": 20,
   "id": "6295af97-d45c-4d21-88de-6d1ef203e132",
   "metadata": {},
   "outputs": [
    {
     "data": {
      "text/plain": [
       "True"
      ]
     },
     "execution_count": 20,
     "metadata": {},
     "output_type": "execute_result"
    }
   ],
   "source": [
    "c6=np.sqrt(3)/8\n",
    "\n",
    "oper7=c6*(tensor(I,sig_x,I,sig_x)-tensor(I,sig_y,I,sig_y)+tensor(I,sig_x,sig_z,sig_x)-tensor(I,sig_y,sig_z,sig_y)-tensor(sig_z,sig_x,I,sig_x)+tensor(sig_z,sig_y,I,sig_y)-tensor(sig_z,sig_x,sig_z,sig_x)+tensor(sig_z,sig_y,sig_z,sig_y))\n",
    "\n",
    "oper7==op7"
   ]
  },
  {
   "cell_type": "code",
   "execution_count": 21,
   "id": "0d5e356a-0b86-4b48-985a-5387526e925f",
   "metadata": {},
   "outputs": [
    {
     "data": {
      "text/plain": [
       "True"
      ]
     },
     "execution_count": 21,
     "metadata": {},
     "output_type": "execute_result"
    }
   ],
   "source": [
    "c7=np.sqrt(6)/8\n",
    "\n",
    "oper8=c7*(tensor(I,sig_x,sig_x,I)-tensor(I,sig_y,sig_y,I)-tensor(I,sig_x,sig_x,sig_z)+tensor(I,sig_y,sig_y,sig_z)-tensor(sig_z,sig_x,sig_x,I)+tensor(sig_z,sig_y,sig_y,I)+tensor(sig_z,sig_x,sig_x,sig_z)-tensor(sig_z,sig_y,sig_y,sig_z))\n",
    "\n",
    "oper8==op8"
   ]
  },
  {
   "cell_type": "code",
   "execution_count": 22,
   "id": "58a20c90-87c4-4e5e-831d-498a5e9ac2bc",
   "metadata": {},
   "outputs": [
    {
     "data": {
      "text/plain": [
       "True"
      ]
     },
     "execution_count": 22,
     "metadata": {},
     "output_type": "execute_result"
    }
   ],
   "source": [
    "c8=3/8\n",
    "\n",
    "oper9=c8*(tensor(I,sig_x,I,sig_x)+tensor(I,sig_y,I,sig_y)-tensor(I,sig_x,sig_z,sig_x)-tensor(I,sig_y,sig_z,sig_y)-tensor(sig_z,sig_x,I,sig_x)-tensor(sig_z,sig_y,I,sig_y)+tensor(sig_z,sig_x,sig_z,sig_x)+tensor(sig_z,sig_y,sig_z,sig_y))\n",
    "\n",
    "oper9==op9"
   ]
  },
  {
   "cell_type": "code",
   "execution_count": 23,
   "id": "4df9ad3b-7df8-4edf-853b-38f742c24ad2",
   "metadata": {},
   "outputs": [
    {
     "data": {
      "text/plain": [
       "True"
      ]
     },
     "execution_count": 23,
     "metadata": {},
     "output_type": "execute_result"
    }
   ],
   "source": [
    "c0=(2+np.sqrt(3))/4\n",
    "c1=(2-np.sqrt(3))/4\n",
    "c2=-1/4\n",
    "oper1937=(c0*(tensor(I,sig_x,I,sig_x)+tensor(sig_z,sig_y,sig_z,sig_y))+c1*(tensor(I,sig_y,I,sig_y)+tensor(sig_z,sig_x,sig_z,sig_x))\n",
    "          +c2*(tensor(I,sig_x,sig_z,sig_x)+tensor(I,sig_y,sig_z,sig_y)+tensor(sig_z,sig_x,I,sig_x)+tensor(sig_z,sig_y,I,sig_y)))\n",
    "\n",
    "\n",
    "oper1937==(oper1+oper9+oper3+oper7)"
   ]
  },
  {
   "cell_type": "code",
   "execution_count": 24,
   "id": "a6fb3ff7-9a01-4c7f-bc41-8e131dc6720a",
   "metadata": {},
   "outputs": [
    {
     "data": {
      "text/plain": [
       "True"
      ]
     },
     "execution_count": 24,
     "metadata": {},
     "output_type": "execute_result"
    }
   ],
   "source": [
    "c1= (np.sqrt(2)+np.sqrt(6))/8\n",
    "c2= (np.sqrt(2)-np.sqrt(6))/8\n",
    "\n",
    "oper28=(c1*(tensor(I,sig_x,sig_x,I)+tensor(sig_z,sig_y,sig_y,I)-tensor(I,sig_x,sig_x,sig_z)-tensor(sig_z,sig_y,sig_y,sig_z))\n",
    "            +c2*(tensor(I,sig_y,sig_y,I)+tensor(sig_z,sig_x,sig_x,I)-tensor(I,sig_y,sig_y,sig_z)-tensor(sig_z,sig_x,sig_x,sig_z)))\n",
    "\n",
    "oper28==(oper2+oper8)"
   ]
  },
  {
   "cell_type": "code",
   "execution_count": 25,
   "id": "da35ce68-b7c7-416f-834b-2c349b127b52",
   "metadata": {},
   "outputs": [
    {
     "data": {
      "text/plain": [
       "True"
      ]
     },
     "execution_count": 25,
     "metadata": {},
     "output_type": "execute_result"
    }
   ],
   "source": [
    "oper46=(c1*(tensor(sig_x,I,I,sig_x)+tensor(sig_y,I,sig_z,sig_y)-tensor(sig_x,sig_z,I,sig_x)-tensor(sig_y,sig_z,sig_z,sig_y))\n",
    "            +c2*(tensor(sig_y,I,I,sig_y)+tensor(sig_x,I,sig_z,sig_x)-tensor(sig_y,sig_z,I,sig_y)-tensor(sig_x,sig_z,sig_z,sig_x)))\n",
    "\n",
    "oper46==(oper4+oper6)"
   ]
  },
  {
   "cell_type": "code",
   "execution_count": 26,
   "id": "65c42782-966e-4235-9337-43ee4b1a0248",
   "metadata": {},
   "outputs": [
    {
     "data": {
      "text/plain": [
       "array([[0.        +0.j        ],\n",
       "       [0.        +0.70710678j],\n",
       "       [0.        +0.j        ],\n",
       "       [0.        +0.j        ],\n",
       "       [0.70710678+0.j        ],\n",
       "       [0.        +0.j        ],\n",
       "       [0.        +0.j        ],\n",
       "       [0.        +0.j        ],\n",
       "       [0.        +0.j        ],\n",
       "       [0.        +0.j        ],\n",
       "       [0.        +0.j        ],\n",
       "       [0.        +0.j        ],\n",
       "       [0.        +0.j        ],\n",
       "       [0.        +0.j        ],\n",
       "       [0.        +0.j        ],\n",
       "       [0.        +0.j        ]])"
      ]
     },
     "execution_count": 26,
     "metadata": {},
     "output_type": "execute_result"
    }
   ],
   "source": [
    "#op=oper1937+oper28+oper46+oper5\n",
    "op=oper1937\n",
    "U=(theta*op).expm()\n",
    "\n",
    "inp_state=tensor(ket_0,ket_1,ket_0,ket_0)\n",
    "np.array(U*inp_state)"
   ]
  },
  {
   "cell_type": "code",
   "execution_count": 27,
   "id": "b01d5d50",
   "metadata": {},
   "outputs": [
    {
     "data": {
      "text/latex": [
       "Quantum object: dims = [[2, 2, 2, 2], [1, 1, 1, 1]], shape = (16, 1), type = ket\\begin{equation*}\\left(\\begin{array}{*{11}c}0.0\\\\0.707\\\\0.0\\\\0.0\\\\0.707\\\\\\vdots\\\\0.0\\\\0.0\\\\0.0\\\\0.0\\\\0.0\\\\\\end{array}\\right)\\end{equation*}"
      ],
      "text/plain": [
       "Quantum object: dims = [[2, 2, 2, 2], [1, 1, 1, 1]], shape = (16, 1), type = ket\n",
       "Qobj data =\n",
       "[[0.        ]\n",
       " [0.70710678]\n",
       " [0.        ]\n",
       " [0.        ]\n",
       " [0.70710678]\n",
       " [0.        ]\n",
       " [0.        ]\n",
       " [0.        ]\n",
       " [0.        ]\n",
       " [0.        ]\n",
       " [0.        ]\n",
       " [0.        ]\n",
       " [0.        ]\n",
       " [0.        ]\n",
       " [0.        ]\n",
       " [0.        ]]"
      ]
     },
     "execution_count": 27,
     "metadata": {},
     "output_type": "execute_result"
    }
   ],
   "source": [
    "(1/np.sqrt(2))*(tensor(ket_0,ket_1,ket_0,ket_0)+tensor(ket_0,ket_0,ket_0,ket_1))"
   ]
  },
  {
   "cell_type": "markdown",
   "id": "a8d435c3-14ea-47d8-b8ec-678d1f25f3be",
   "metadata": {},
   "source": [
    "## Numerical Simulation of Quantum Circuit"
   ]
  },
  {
   "cell_type": "code",
   "execution_count": 28,
   "id": "63fdae68-589b-4051-a872-b51a5ad580b2",
   "metadata": {},
   "outputs": [],
   "source": [
    "from qutip.qip.circuit import QubitCircuit, Gate"
   ]
  },
  {
   "cell_type": "code",
   "execution_count": 29,
   "id": "5736cd9f-6699-4aeb-a2b4-a2c316a11f6d",
   "metadata": {},
   "outputs": [],
   "source": [
    "def staircase_circ2(a,b,e,qc):\n",
    "    \n",
    "    arr=np.array([a,b])\n",
    "    \n",
    "    qc.add_gate('CNOT',targets=arr[0],controls=arr[1])\n",
    "    \n",
    "    qc.add_gate('RZ',targets=arr[-1],arg_value=e)\n",
    "    \n",
    "    qc.add_gate('CNOT',targets=arr[0],controls=arr[1])\n",
    "    \n",
    "    return(qc)\n",
    "\n",
    "def stepwise_circ3(a,b,c,e,qc):\n",
    "    \n",
    "    arr=np.sort([a,b,c])\n",
    "    \n",
    "    qc.add_gate('CNOT',targets=arr[0],controls=arr[1])\n",
    "    qc.add_gate('CNOT',targets=arr[1],controls=arr[2])\n",
    "    \n",
    "    qc.add_gate('RZ',targets=arr[-1],arg_value=e)\n",
    "    \n",
    "    qc.add_gate('CNOT',targets=arr[0],controls=arr[1])\n",
    "    qc.add_gate('CNOT',targets=arr[1],controls=arr[2])\n",
    "\n",
    "    return(qc)\n",
    "    "
   ]
  },
  {
   "cell_type": "markdown",
   "id": "85d29373-b21e-4f8e-9118-bf32e33a23c0",
   "metadata": {},
   "source": [
    "## $U_{1937}$"
   ]
  },
  {
   "cell_type": "code",
   "execution_count": 30,
   "id": "1f171ddd-5860-4f61-a3a4-cb231e0e1a72",
   "metadata": {},
   "outputs": [],
   "source": [
    "p1=np.pi*(2+np.sqrt(3))/8\n",
    "p2=np.pi*(2-np.sqrt(3))/8\n",
    "p3=np.pi/8\n",
    "p4=np.pi*(2+np.sqrt(6))/16\n",
    "p5=np.pi*(2-np.sqrt(6))/16\n"
   ]
  },
  {
   "cell_type": "code",
   "execution_count": 31,
   "id": "f14e5237-df93-48fe-a376-9d93df790650",
   "metadata": {
    "tags": []
   },
   "outputs": [],
   "source": [
    "qc1=QubitCircuit(4)\n",
    "\n",
    "qc1.add_gate('SNOT',targets=1)\n",
    "qc1.add_gate('SNOT',targets=3)\n",
    "\n",
    "qc1.add_gate('CNOT',targets=3,controls=1)\n",
    "    \n",
    "qc1.add_gate('RZ',targets=3,arg_value=-1*p1)\n",
    "\n",
    "qc1.add_gate('CNOT',targets=3,controls=1)\n",
    "qc1.add_gate('SNOT',targets=1)\n",
    "qc1.add_gate('SNOT',targets=3)\n",
    "\n",
    "#qc1.png"
   ]
  },
  {
   "cell_type": "code",
   "execution_count": 32,
   "id": "d368194a-bf99-4629-8ff6-165596a90124",
   "metadata": {},
   "outputs": [
    {
     "data": {
      "text/latex": [
       "Quantum object: dims = [[2, 2, 2, 2], [2, 2, 2, 2]], shape = (16, 16), type = oper, isherm = False\\begin{equation*}\\left(\\begin{array}{*{11}c}0.743 & 0.0 & 0.0 & 0.0 & 0.0 & \\cdots & 0.0 & 0.0 & 0.0 & 0.0 & 0.0\\\\0.0 & 0.743 & 0.0 & 0.0 & 0.669j & \\cdots & 0.0 & 0.0 & 0.0 & 0.0 & 0.0\\\\0.0 & 0.0 & 0.743 & 0.0 & 0.0 & \\cdots & 0.0 & 0.0 & 0.0 & 0.0 & 0.0\\\\0.0 & 0.0 & 0.0 & 0.743 & 0.0 & \\cdots & 0.0 & 0.0 & 0.0 & 0.0 & 0.0\\\\0.0 & 0.669j & 0.0 & 0.0 & 0.743 & \\cdots & 0.0 & 0.0 & 0.0 & 0.0 & 0.0\\\\\\vdots & \\vdots & \\vdots & \\vdots & \\vdots & \\ddots & \\vdots & \\vdots & \\vdots & \\vdots & \\vdots\\\\0.0 & 0.0 & 0.0 & 0.0 & 0.0 & \\cdots & 0.743 & 0.0 & 0.0 & 0.669j & 0.0\\\\0.0 & 0.0 & 0.0 & 0.0 & 0.0 & \\cdots & 0.0 & 0.743 & 0.0 & 0.0 & 0.0\\\\0.0 & 0.0 & 0.0 & 0.0 & 0.0 & \\cdots & 0.0 & 0.0 & 0.743 & 0.0 & 0.0\\\\0.0 & 0.0 & 0.0 & 0.0 & 0.0 & \\cdots & 0.669j & 0.0 & 0.0 & 0.743 & 0.0\\\\0.0 & 0.0 & 0.0 & 0.0 & 0.0 & \\cdots & 0.0 & 0.0 & 0.0 & 0.0 & 0.743\\\\\\end{array}\\right)\\end{equation*}"
      ],
      "text/plain": [
       "Quantum object: dims = [[2, 2, 2, 2], [2, 2, 2, 2]], shape = (16, 16), type = oper, isherm = False\n",
       "Qobj data =\n",
       "[[0.7433133+0.j         0.       +0.j         0.       +0.j\n",
       "  0.       +0.j         0.       +0.j         0.       +0.66894344j\n",
       "  0.       +0.j         0.       +0.j         0.       +0.j\n",
       "  0.       +0.j         0.       +0.j         0.       +0.j\n",
       "  0.       +0.j         0.       +0.j         0.       +0.j\n",
       "  0.       +0.j        ]\n",
       " [0.       +0.j         0.7433133+0.j         0.       +0.j\n",
       "  0.       +0.j         0.       +0.66894344j 0.       +0.j\n",
       "  0.       +0.j         0.       +0.j         0.       +0.j\n",
       "  0.       +0.j         0.       +0.j         0.       +0.j\n",
       "  0.       +0.j         0.       +0.j         0.       +0.j\n",
       "  0.       +0.j        ]\n",
       " [0.       +0.j         0.       +0.j         0.7433133+0.j\n",
       "  0.       +0.j         0.       +0.j         0.       +0.j\n",
       "  0.       +0.j         0.       +0.66894344j 0.       +0.j\n",
       "  0.       +0.j         0.       +0.j         0.       +0.j\n",
       "  0.       +0.j         0.       +0.j         0.       +0.j\n",
       "  0.       +0.j        ]\n",
       " [0.       +0.j         0.       +0.j         0.       +0.j\n",
       "  0.7433133+0.j         0.       +0.j         0.       +0.j\n",
       "  0.       +0.66894344j 0.       +0.j         0.       +0.j\n",
       "  0.       +0.j         0.       +0.j         0.       +0.j\n",
       "  0.       +0.j         0.       +0.j         0.       +0.j\n",
       "  0.       +0.j        ]\n",
       " [0.       +0.j         0.       +0.66894344j 0.       +0.j\n",
       "  0.       +0.j         0.7433133+0.j         0.       +0.j\n",
       "  0.       +0.j         0.       +0.j         0.       +0.j\n",
       "  0.       +0.j         0.       +0.j         0.       +0.j\n",
       "  0.       +0.j         0.       +0.j         0.       +0.j\n",
       "  0.       +0.j        ]\n",
       " [0.       +0.66894344j 0.       +0.j         0.       +0.j\n",
       "  0.       +0.j         0.       +0.j         0.7433133+0.j\n",
       "  0.       +0.j         0.       +0.j         0.       +0.j\n",
       "  0.       +0.j         0.       +0.j         0.       +0.j\n",
       "  0.       +0.j         0.       +0.j         0.       +0.j\n",
       "  0.       +0.j        ]\n",
       " [0.       +0.j         0.       +0.j         0.       +0.j\n",
       "  0.       +0.66894344j 0.       +0.j         0.       +0.j\n",
       "  0.7433133+0.j         0.       +0.j         0.       +0.j\n",
       "  0.       +0.j         0.       +0.j         0.       +0.j\n",
       "  0.       +0.j         0.       +0.j         0.       +0.j\n",
       "  0.       +0.j        ]\n",
       " [0.       +0.j         0.       +0.j         0.       +0.66894344j\n",
       "  0.       +0.j         0.       +0.j         0.       +0.j\n",
       "  0.       +0.j         0.7433133+0.j         0.       +0.j\n",
       "  0.       +0.j         0.       +0.j         0.       +0.j\n",
       "  0.       +0.j         0.       +0.j         0.       +0.j\n",
       "  0.       +0.j        ]\n",
       " [0.       +0.j         0.       +0.j         0.       +0.j\n",
       "  0.       +0.j         0.       +0.j         0.       +0.j\n",
       "  0.       +0.j         0.       +0.j         0.7433133+0.j\n",
       "  0.       +0.j         0.       +0.j         0.       +0.j\n",
       "  0.       +0.j         0.       +0.66894344j 0.       +0.j\n",
       "  0.       +0.j        ]\n",
       " [0.       +0.j         0.       +0.j         0.       +0.j\n",
       "  0.       +0.j         0.       +0.j         0.       +0.j\n",
       "  0.       +0.j         0.       +0.j         0.       +0.j\n",
       "  0.7433133+0.j         0.       +0.j         0.       +0.j\n",
       "  0.       +0.66894344j 0.       +0.j         0.       +0.j\n",
       "  0.       +0.j        ]\n",
       " [0.       +0.j         0.       +0.j         0.       +0.j\n",
       "  0.       +0.j         0.       +0.j         0.       +0.j\n",
       "  0.       +0.j         0.       +0.j         0.       +0.j\n",
       "  0.       +0.j         0.7433133+0.j         0.       +0.j\n",
       "  0.       +0.j         0.       +0.j         0.       +0.j\n",
       "  0.       +0.66894344j]\n",
       " [0.       +0.j         0.       +0.j         0.       +0.j\n",
       "  0.       +0.j         0.       +0.j         0.       +0.j\n",
       "  0.       +0.j         0.       +0.j         0.       +0.j\n",
       "  0.       +0.j         0.       +0.j         0.7433133+0.j\n",
       "  0.       +0.j         0.       +0.j         0.       +0.66894344j\n",
       "  0.       +0.j        ]\n",
       " [0.       +0.j         0.       +0.j         0.       +0.j\n",
       "  0.       +0.j         0.       +0.j         0.       +0.j\n",
       "  0.       +0.j         0.       +0.j         0.       +0.j\n",
       "  0.       +0.66894344j 0.       +0.j         0.       +0.j\n",
       "  0.7433133+0.j         0.       +0.j         0.       +0.j\n",
       "  0.       +0.j        ]\n",
       " [0.       +0.j         0.       +0.j         0.       +0.j\n",
       "  0.       +0.j         0.       +0.j         0.       +0.j\n",
       "  0.       +0.j         0.       +0.j         0.       +0.66894344j\n",
       "  0.       +0.j         0.       +0.j         0.       +0.j\n",
       "  0.       +0.j         0.7433133+0.j         0.       +0.j\n",
       "  0.       +0.j        ]\n",
       " [0.       +0.j         0.       +0.j         0.       +0.j\n",
       "  0.       +0.j         0.       +0.j         0.       +0.j\n",
       "  0.       +0.j         0.       +0.j         0.       +0.j\n",
       "  0.       +0.j         0.       +0.j         0.       +0.66894344j\n",
       "  0.       +0.j         0.       +0.j         0.7433133+0.j\n",
       "  0.       +0.j        ]\n",
       " [0.       +0.j         0.       +0.j         0.       +0.j\n",
       "  0.       +0.j         0.       +0.j         0.       +0.j\n",
       "  0.       +0.j         0.       +0.j         0.       +0.j\n",
       "  0.       +0.j         0.       +0.66894344j 0.       +0.j\n",
       "  0.       +0.j         0.       +0.j         0.       +0.j\n",
       "  0.7433133+0.j        ]]"
      ]
     },
     "execution_count": 32,
     "metadata": {},
     "output_type": "execute_result"
    }
   ],
   "source": [
    "U1=qc1.propagators()\n",
    "dim=np.shape(U1[0])[0]\n",
    "Usim1=U1[0]\n",
    "i=1\n",
    "while i<(len(U1)):\n",
    "    Usim1=Usim1*U1[i]\n",
    "    i=i+1\n",
    "\n",
    "Usim1"
   ]
  },
  {
   "cell_type": "code",
   "execution_count": 33,
   "id": "60642358-edce-4bfd-ad82-fecc7a4d40c6",
   "metadata": {},
   "outputs": [],
   "source": [
    "oper1=(theta*c0*tensor(I,sig_x,I,sig_x)).expm()"
   ]
  },
  {
   "cell_type": "code",
   "execution_count": 34,
   "id": "7e9bb6c2",
   "metadata": {},
   "outputs": [
    {
     "data": {
      "text/plain": [
       "True"
      ]
     },
     "execution_count": 34,
     "metadata": {},
     "output_type": "execute_result"
    }
   ],
   "source": [
    "oper1==Usim1"
   ]
  },
  {
   "cell_type": "code",
   "execution_count": 35,
   "id": "812dd26c-0dfc-438c-949b-78bed041e234",
   "metadata": {},
   "outputs": [],
   "source": [
    "qc1=QubitCircuit(4)\n",
    "\n",
    "qc1.add_gate('RX',targets=1,arg_value=np.pi/2)\n",
    "qc1.add_gate('RX',targets=3,arg_value=np.pi/2)\n",
    "staircase_circ2(1,3,p2,qc1)\n",
    "qc1.add_gate('RX',targets=1,arg_value=-1*np.pi/2)\n",
    "qc1.add_gate('RX',targets=3,arg_value=-1*np.pi/2)\n"
   ]
  },
  {
   "cell_type": "code",
   "execution_count": 36,
   "id": "74e2d263-b91d-49be-840d-59d898ed26a3",
   "metadata": {},
   "outputs": [
    {
     "data": {
      "text/latex": [
       "Quantum object: dims = [[2, 2, 2, 2], [2, 2, 2, 2]], shape = (16, 16), type = oper, isherm = False\\begin{equation*}\\left(\\begin{array}{*{11}c}0.999 & 0.053 & 0.0 & 0.0 & 0.0 & \\cdots & 0.0 & 0.0 & 0.0 & 0.0 & 0.0\\\\-0.053 & 0.999 & 0.0 & 0.0 & 0.0 & \\cdots & 0.0 & 0.0 & 0.0 & 0.0 & 0.0\\\\0.0 & 0.0 & 0.999 & 0.053 & 0.0 & \\cdots & 0.0 & 0.0 & 0.0 & 0.0 & 0.0\\\\0.0 & 0.0 & -0.053 & 0.999 & 0.0 & \\cdots & 0.0 & 0.0 & 0.0 & 0.0 & 0.0\\\\0.0 & 0.0 & 0.0 & 0.0 & 0.999 & \\cdots & 0.0 & 0.0 & 0.0 & 0.0 & 0.0\\\\\\vdots & \\vdots & \\vdots & \\vdots & \\vdots & \\ddots & \\vdots & \\vdots & \\vdots & \\vdots & \\vdots\\\\0.0 & 0.0 & 0.0 & 0.0 & 0.0 & \\cdots & 0.999 & 0.0 & 0.0 & 0.0 & 0.0\\\\0.0 & 0.0 & 0.0 & 0.0 & 0.0 & \\cdots & 0.0 & 0.999 & 0.053 & 0.0 & 0.0\\\\0.0 & 0.0 & 0.0 & 0.0 & 0.0 & \\cdots & 0.0 & -0.053 & 0.999 & 0.0 & 0.0\\\\0.0 & 0.0 & 0.0 & 0.0 & 0.0 & \\cdots & 0.0 & 0.0 & 0.0 & 0.999 & 0.053\\\\0.0 & 0.0 & 0.0 & 0.0 & 0.0 & \\cdots & 0.0 & 0.0 & 0.0 & -0.053 & 0.999\\\\\\end{array}\\right)\\end{equation*}"
      ],
      "text/plain": [
       "Quantum object: dims = [[2, 2, 2, 2], [2, 2, 2, 2]], shape = (16, 16), type = oper, isherm = False\n",
       "Qobj data =\n",
       "[[ 0.99861632  0.05258743  0.          0.          0.          0.\n",
       "   0.          0.          0.          0.          0.          0.\n",
       "   0.          0.          0.          0.        ]\n",
       " [-0.05258743  0.99861632  0.          0.          0.          0.\n",
       "   0.          0.          0.          0.          0.          0.\n",
       "   0.          0.          0.          0.        ]\n",
       " [ 0.          0.          0.99861632  0.05258743  0.          0.\n",
       "   0.          0.          0.          0.          0.          0.\n",
       "   0.          0.          0.          0.        ]\n",
       " [ 0.          0.         -0.05258743  0.99861632  0.          0.\n",
       "   0.          0.          0.          0.          0.          0.\n",
       "   0.          0.          0.          0.        ]\n",
       " [ 0.          0.          0.          0.          0.99861632  0.05258743\n",
       "   0.          0.          0.          0.          0.          0.\n",
       "   0.          0.          0.          0.        ]\n",
       " [ 0.          0.          0.          0.         -0.05258743  0.99861632\n",
       "   0.          0.          0.          0.          0.          0.\n",
       "   0.          0.          0.          0.        ]\n",
       " [ 0.          0.          0.          0.          0.          0.\n",
       "   0.99861632  0.05258743  0.          0.          0.          0.\n",
       "   0.          0.          0.          0.        ]\n",
       " [ 0.          0.          0.          0.          0.          0.\n",
       "  -0.05258743  0.99861632  0.          0.          0.          0.\n",
       "   0.          0.          0.          0.        ]\n",
       " [ 0.          0.          0.          0.          0.          0.\n",
       "   0.          0.          0.99861632  0.05258743  0.          0.\n",
       "   0.          0.          0.          0.        ]\n",
       " [ 0.          0.          0.          0.          0.          0.\n",
       "   0.          0.         -0.05258743  0.99861632  0.          0.\n",
       "   0.          0.          0.          0.        ]\n",
       " [ 0.          0.          0.          0.          0.          0.\n",
       "   0.          0.          0.          0.          0.99861632  0.05258743\n",
       "   0.          0.          0.          0.        ]\n",
       " [ 0.          0.          0.          0.          0.          0.\n",
       "   0.          0.          0.          0.         -0.05258743  0.99861632\n",
       "   0.          0.          0.          0.        ]\n",
       " [ 0.          0.          0.          0.          0.          0.\n",
       "   0.          0.          0.          0.          0.          0.\n",
       "   0.99861632  0.05258743  0.          0.        ]\n",
       " [ 0.          0.          0.          0.          0.          0.\n",
       "   0.          0.          0.          0.          0.          0.\n",
       "  -0.05258743  0.99861632  0.          0.        ]\n",
       " [ 0.          0.          0.          0.          0.          0.\n",
       "   0.          0.          0.          0.          0.          0.\n",
       "   0.          0.          0.99861632  0.05258743]\n",
       " [ 0.          0.          0.          0.          0.          0.\n",
       "   0.          0.          0.          0.          0.          0.\n",
       "   0.          0.         -0.05258743  0.99861632]]"
      ]
     },
     "execution_count": 36,
     "metadata": {},
     "output_type": "execute_result"
    }
   ],
   "source": [
    "U1=qc1.propagators()\n",
    "dim=np.shape(U1[0])[0]\n",
    "Usim1=U1[0]\n",
    "i=1\n",
    "while i<(len(U1)):\n",
    "    Usim1=Usim1*U1[i]\n",
    "    i=i+1\n",
    "    \n",
    "Usim1"
   ]
  },
  {
   "cell_type": "code",
   "execution_count": 37,
   "id": "b94fe7fe-6535-4b4e-b988-ca66a9354174",
   "metadata": {},
   "outputs": [
    {
     "data": {
      "text/latex": [
       "Quantum object: dims = [[2, 2, 2, 2], [2, 2, 2, 2]], shape = (16, 16), type = oper, isherm = False\\begin{equation*}\\left(\\begin{array}{*{11}c}0.929 & 0.0 & 0.0 & 0.0 & 0.0 & \\cdots & 0.0 & 0.0 & 0.0 & 0.0 & 0.0\\\\0.0 & 0.929 & 0.0 & 0.0 & 0.370j & \\cdots & 0.0 & 0.0 & 0.0 & 0.0 & 0.0\\\\0.0 & 0.0 & 0.929 & 0.0 & 0.0 & \\cdots & 0.0 & 0.0 & 0.0 & 0.0 & 0.0\\\\0.0 & 0.0 & 0.0 & 0.929 & 0.0 & \\cdots & 0.0 & 0.0 & 0.0 & 0.0 & 0.0\\\\0.0 & 0.370j & 0.0 & 0.0 & 0.929 & \\cdots & 0.0 & 0.0 & 0.0 & 0.0 & 0.0\\\\\\vdots & \\vdots & \\vdots & \\vdots & \\vdots & \\ddots & \\vdots & \\vdots & \\vdots & \\vdots & \\vdots\\\\0.0 & 0.0 & 0.0 & 0.0 & 0.0 & \\cdots & 0.929 & 0.0 & 0.0 & 0.370j & 0.0\\\\0.0 & 0.0 & 0.0 & 0.0 & 0.0 & \\cdots & 0.0 & 0.929 & 0.0 & 0.0 & 0.0\\\\0.0 & 0.0 & 0.0 & 0.0 & 0.0 & \\cdots & 0.0 & 0.0 & 0.929 & 0.0 & 0.0\\\\0.0 & 0.0 & 0.0 & 0.0 & 0.0 & \\cdots & 0.370j & 0.0 & 0.0 & 0.929 & 0.0\\\\0.0 & 0.0 & 0.0 & 0.0 & 0.0 & \\cdots & 0.0 & 0.0 & 0.0 & 0.0 & 0.929\\\\\\end{array}\\right)\\end{equation*}"
      ],
      "text/plain": [
       "Quantum object: dims = [[2, 2, 2, 2], [2, 2, 2, 2]], shape = (16, 16), type = oper, isherm = False\n",
       "Qobj data =\n",
       "[[0.92891732+0.j         0.        +0.j         0.        +0.j\n",
       "  0.        +0.j         0.        +0.j         0.        -0.37028721j\n",
       "  0.        +0.j         0.        +0.j         0.        +0.j\n",
       "  0.        +0.j         0.        +0.j         0.        +0.j\n",
       "  0.        +0.j         0.        +0.j         0.        +0.j\n",
       "  0.        +0.j        ]\n",
       " [0.        +0.j         0.92891732+0.j         0.        +0.j\n",
       "  0.        +0.j         0.        +0.37028721j 0.        +0.j\n",
       "  0.        +0.j         0.        +0.j         0.        +0.j\n",
       "  0.        +0.j         0.        +0.j         0.        +0.j\n",
       "  0.        +0.j         0.        +0.j         0.        +0.j\n",
       "  0.        +0.j        ]\n",
       " [0.        +0.j         0.        +0.j         0.92891732+0.j\n",
       "  0.        +0.j         0.        +0.j         0.        +0.j\n",
       "  0.        +0.j         0.        -0.37028721j 0.        +0.j\n",
       "  0.        +0.j         0.        +0.j         0.        +0.j\n",
       "  0.        +0.j         0.        +0.j         0.        +0.j\n",
       "  0.        +0.j        ]\n",
       " [0.        +0.j         0.        +0.j         0.        +0.j\n",
       "  0.92891732+0.j         0.        +0.j         0.        +0.j\n",
       "  0.        +0.37028721j 0.        +0.j         0.        +0.j\n",
       "  0.        +0.j         0.        +0.j         0.        +0.j\n",
       "  0.        +0.j         0.        +0.j         0.        +0.j\n",
       "  0.        +0.j        ]\n",
       " [0.        +0.j         0.        +0.37028721j 0.        +0.j\n",
       "  0.        +0.j         0.92891732+0.j         0.        +0.j\n",
       "  0.        +0.j         0.        +0.j         0.        +0.j\n",
       "  0.        +0.j         0.        +0.j         0.        +0.j\n",
       "  0.        +0.j         0.        +0.j         0.        +0.j\n",
       "  0.        +0.j        ]\n",
       " [0.        -0.37028721j 0.        +0.j         0.        +0.j\n",
       "  0.        +0.j         0.        +0.j         0.92891732+0.j\n",
       "  0.        +0.j         0.        +0.j         0.        +0.j\n",
       "  0.        +0.j         0.        +0.j         0.        +0.j\n",
       "  0.        +0.j         0.        +0.j         0.        +0.j\n",
       "  0.        +0.j        ]\n",
       " [0.        +0.j         0.        +0.j         0.        +0.j\n",
       "  0.        +0.37028721j 0.        +0.j         0.        +0.j\n",
       "  0.92891732+0.j         0.        +0.j         0.        +0.j\n",
       "  0.        +0.j         0.        +0.j         0.        +0.j\n",
       "  0.        +0.j         0.        +0.j         0.        +0.j\n",
       "  0.        +0.j        ]\n",
       " [0.        +0.j         0.        +0.j         0.        -0.37028721j\n",
       "  0.        +0.j         0.        +0.j         0.        +0.j\n",
       "  0.        +0.j         0.92891732+0.j         0.        +0.j\n",
       "  0.        +0.j         0.        +0.j         0.        +0.j\n",
       "  0.        +0.j         0.        +0.j         0.        +0.j\n",
       "  0.        +0.j        ]\n",
       " [0.        +0.j         0.        +0.j         0.        +0.j\n",
       "  0.        +0.j         0.        +0.j         0.        +0.j\n",
       "  0.        +0.j         0.        +0.j         0.92891732+0.j\n",
       "  0.        +0.j         0.        +0.j         0.        +0.j\n",
       "  0.        +0.j         0.        -0.37028721j 0.        +0.j\n",
       "  0.        +0.j        ]\n",
       " [0.        +0.j         0.        +0.j         0.        +0.j\n",
       "  0.        +0.j         0.        +0.j         0.        +0.j\n",
       "  0.        +0.j         0.        +0.j         0.        +0.j\n",
       "  0.92891732+0.j         0.        +0.j         0.        +0.j\n",
       "  0.        +0.37028721j 0.        +0.j         0.        +0.j\n",
       "  0.        +0.j        ]\n",
       " [0.        +0.j         0.        +0.j         0.        +0.j\n",
       "  0.        +0.j         0.        +0.j         0.        +0.j\n",
       "  0.        +0.j         0.        +0.j         0.        +0.j\n",
       "  0.        +0.j         0.92891732+0.j         0.        +0.j\n",
       "  0.        +0.j         0.        +0.j         0.        +0.j\n",
       "  0.        -0.37028721j]\n",
       " [0.        +0.j         0.        +0.j         0.        +0.j\n",
       "  0.        +0.j         0.        +0.j         0.        +0.j\n",
       "  0.        +0.j         0.        +0.j         0.        +0.j\n",
       "  0.        +0.j         0.        +0.j         0.92891732+0.j\n",
       "  0.        +0.j         0.        +0.j         0.        +0.37028721j\n",
       "  0.        +0.j        ]\n",
       " [0.        +0.j         0.        +0.j         0.        +0.j\n",
       "  0.        +0.j         0.        +0.j         0.        +0.j\n",
       "  0.        +0.j         0.        +0.j         0.        +0.j\n",
       "  0.        +0.37028721j 0.        +0.j         0.        +0.j\n",
       "  0.92891732+0.j         0.        +0.j         0.        +0.j\n",
       "  0.        +0.j        ]\n",
       " [0.        +0.j         0.        +0.j         0.        +0.j\n",
       "  0.        +0.j         0.        +0.j         0.        +0.j\n",
       "  0.        +0.j         0.        +0.j         0.        -0.37028721j\n",
       "  0.        +0.j         0.        +0.j         0.        +0.j\n",
       "  0.        +0.j         0.92891732+0.j         0.        +0.j\n",
       "  0.        +0.j        ]\n",
       " [0.        +0.j         0.        +0.j         0.        +0.j\n",
       "  0.        +0.j         0.        +0.j         0.        +0.j\n",
       "  0.        +0.j         0.        +0.j         0.        +0.j\n",
       "  0.        +0.j         0.        +0.j         0.        +0.37028721j\n",
       "  0.        +0.j         0.        +0.j         0.92891732+0.j\n",
       "  0.        +0.j        ]\n",
       " [0.        +0.j         0.        +0.j         0.        +0.j\n",
       "  0.        +0.j         0.        +0.j         0.        +0.j\n",
       "  0.        +0.j         0.        +0.j         0.        +0.j\n",
       "  0.        +0.j         0.        -0.37028721j 0.        +0.j\n",
       "  0.        +0.j         0.        +0.j         0.        +0.j\n",
       "  0.92891732+0.j        ]]"
      ]
     },
     "execution_count": 37,
     "metadata": {},
     "output_type": "execute_result"
    }
   ],
   "source": [
    "(theta*c1*(tensor(I,sig_y,I,sig_y))).expm()"
   ]
  },
  {
   "cell_type": "code",
   "execution_count": null,
   "id": "208f9ab8-783e-4144-82be-1bee3d9efa60",
   "metadata": {},
   "outputs": [],
   "source": []
  },
  {
   "cell_type": "markdown",
   "id": "6204c8bc-4184-498b-b1ab-e4e2880b1c23",
   "metadata": {
    "tags": []
   },
   "source": [
    "## Checking the Commutation Relations"
   ]
  },
  {
   "cell_type": "code",
   "execution_count": 38,
   "id": "71a75702-190a-49a6-b4ca-b2430962d568",
   "metadata": {},
   "outputs": [
    {
     "data": {
      "text/plain": [
       "False"
      ]
     },
     "execution_count": 38,
     "metadata": {},
     "output_type": "execute_result"
    }
   ],
   "source": [
    "com1=oper1937*oper28-oper28*oper1937\n",
    "np.any(np.array(com1))"
   ]
  },
  {
   "cell_type": "code",
   "execution_count": 39,
   "id": "dfbd8fec-6c17-4865-8af3-b517c8b7394f",
   "metadata": {},
   "outputs": [
    {
     "data": {
      "text/plain": [
       "False"
      ]
     },
     "execution_count": 39,
     "metadata": {},
     "output_type": "execute_result"
    }
   ],
   "source": [
    "com2=oper1937*oper46-oper46*oper1937\n",
    "np.any(np.array(com2))"
   ]
  },
  {
   "cell_type": "code",
   "execution_count": 40,
   "id": "b222f10e-0dcf-4936-b784-a4a39080e1ed",
   "metadata": {},
   "outputs": [
    {
     "data": {
      "text/plain": [
       "True"
      ]
     },
     "execution_count": 40,
     "metadata": {},
     "output_type": "execute_result"
    }
   ],
   "source": [
    "com3=oper1937*oper5-oper5*oper1937\n",
    "np.any(np.array(com3))"
   ]
  },
  {
   "cell_type": "markdown",
   "id": "527a75b5-4424-49f9-a531-ca3786681664",
   "metadata": {},
   "source": [
    "oper1937 and oper5 donot commute"
   ]
  },
  {
   "cell_type": "code",
   "execution_count": 41,
   "id": "56f1514f-2cb8-48b3-bd09-c6bce0adeb95",
   "metadata": {},
   "outputs": [
    {
     "data": {
      "text/plain": [
       "True"
      ]
     },
     "execution_count": 41,
     "metadata": {},
     "output_type": "execute_result"
    }
   ],
   "source": [
    "com4=oper28*oper46-oper46*oper28\n",
    "\n",
    "np.any(np.array(com4))"
   ]
  },
  {
   "cell_type": "markdown",
   "id": "5d3bbcec-fd54-45b1-b790-bf706ae4e02e",
   "metadata": {},
   "source": [
    "oper46 and oper28 donot commute"
   ]
  },
  {
   "cell_type": "code",
   "execution_count": 42,
   "id": "9792184e-922f-4d7d-baa8-fe06b43969ea",
   "metadata": {},
   "outputs": [
    {
     "data": {
      "text/plain": [
       "False"
      ]
     },
     "execution_count": 42,
     "metadata": {},
     "output_type": "execute_result"
    }
   ],
   "source": [
    "com5=oper28*oper5-oper5*oper28\n",
    "\n",
    "np.any(np.array(com5))"
   ]
  },
  {
   "cell_type": "code",
   "execution_count": 43,
   "id": "c8064937-a2ad-4f23-8b2a-b6f1992df844",
   "metadata": {},
   "outputs": [
    {
     "data": {
      "text/plain": [
       "False"
      ]
     },
     "execution_count": 43,
     "metadata": {},
     "output_type": "execute_result"
    }
   ],
   "source": [
    "com6=oper46*oper5-oper5*oper46\n",
    "\n",
    "np.any(np.array(com6))"
   ]
  },
  {
   "cell_type": "markdown",
   "id": "c341e0e4-e8a6-4166-9d05-963c37a6b769",
   "metadata": {
    "tags": []
   },
   "source": [
    "## Decomposition without regarding Commutation"
   ]
  },
  {
   "cell_type": "code",
   "execution_count": 44,
   "id": "e924ed0f-586b-47ef-88ea-0dc4de4dd3b6",
   "metadata": {},
   "outputs": [
    {
     "data": {
      "text/plain": [
       "array([[0.        +0.j        ],\n",
       "       [0.        +0.70710678j],\n",
       "       [0.        +0.j        ],\n",
       "       [0.        +0.j        ],\n",
       "       [3.70710678+0.j        ],\n",
       "       [0.        +0.j        ],\n",
       "       [0.        +0.j        ],\n",
       "       [0.        +0.j        ],\n",
       "       [0.        +0.j        ],\n",
       "       [0.        +0.j        ],\n",
       "       [0.        +0.j        ],\n",
       "       [0.        +0.j        ],\n",
       "       [0.        +0.j        ],\n",
       "       [0.        +0.j        ],\n",
       "       [0.        +0.j        ],\n",
       "       [0.        +0.j        ]])"
      ]
     },
     "execution_count": 44,
     "metadata": {},
     "output_type": "execute_result"
    }
   ],
   "source": [
    "U = (theta*oper1937).expm()+(theta*oper28).expm()+(theta*oper46).expm()+ (theta*oper5).expm()\n",
    "np.array(U*inp_state) \n",
    "# Can witness the presence of 11 state"
   ]
  },
  {
   "cell_type": "markdown",
   "id": "541f0cf6-f1e9-4be2-a0d5-28cb0027d227",
   "metadata": {
    "tags": []
   },
   "source": [
    "## Decomposition regarding Commutation"
   ]
  },
  {
   "cell_type": "code",
   "execution_count": 45,
   "id": "4addedcb-b488-445d-b8cc-ed76dbec3fe1",
   "metadata": {},
   "outputs": [
    {
     "data": {
      "text/plain": [
       "array([[0.+0.j        ],\n",
       "       [0.+0.j        ],\n",
       "       [0.+0.j        ],\n",
       "       [0.+0.70710678j],\n",
       "       [0.+0.j        ],\n",
       "       [0.+0.j        ],\n",
       "       [0.+0.j        ],\n",
       "       [0.+0.j        ],\n",
       "       [0.+0.j        ],\n",
       "       [0.+0.j        ],\n",
       "       [0.+0.j        ],\n",
       "       [0.+0.j        ],\n",
       "       [0.+0.70710678j],\n",
       "       [0.+0.j        ],\n",
       "       [0.+0.j        ],\n",
       "       [0.+0.j        ]])"
      ]
     },
     "execution_count": 45,
     "metadata": {},
     "output_type": "execute_result"
    }
   ],
   "source": [
    "U = (theta*(oper1937+oper5)).expm()*(theta*(oper28+oper46)).expm()\n",
    "\n",
    "inp_state=tensor(ket_0,ket_1,ket_0,ket_1)\n",
    "np.array(U*inp_state) "
   ]
  },
  {
   "cell_type": "raw",
   "id": "e0c71e2a-6908-43ae-98b3-46bf4add9823",
   "metadata": {},
   "source": [
    "#20 case\n",
    "\n",
    "U = (theta*(oper1937+oper5)).expm()*(theta*(oper28+oper46)).expm()\n",
    "inp_state=tensor(ket_0,ket_0,ket_1,ket_1)\n",
    "a=U*inp_state\n",
    "b=np.linalg.norm(np.array(U*inp_state))\n",
    "out=a/b\n",
    "np.array(a)"
   ]
  },
  {
   "cell_type": "code",
   "execution_count": 46,
   "id": "44eeda48-e09b-499a-aa29-e925dc2bee34",
   "metadata": {},
   "outputs": [
    {
     "data": {
      "text/plain": [
       "False"
      ]
     },
     "execution_count": 46,
     "metadata": {},
     "output_type": "execute_result"
    }
   ],
   "source": [
    "op_A=oper1937+oper5\n",
    "op_B=oper28+oper46\n",
    "com=op_A*op_B-op_A*op_B\n",
    "np.any(np.array(com))"
   ]
  },
  {
   "cell_type": "markdown",
   "id": "960f3e72-d1b0-48f5-a5b9-c57c37e73844",
   "metadata": {},
   "source": [
    "`Conclusion`\n",
    "\n",
    "Trotterization of the circuit is required."
   ]
  },
  {
   "cell_type": "raw",
   "id": "b369d789-6b46-4cb9-933b-0adcc9b12880",
   "metadata": {},
   "source": [
    "op=oper1937+oper28+oper46+oper5\n",
    "U=(theta*op).expm()"
   ]
  },
  {
   "cell_type": "code",
   "execution_count": 47,
   "id": "e31344ab-164b-4cbc-8f32-06bbb2f35367",
   "metadata": {},
   "outputs": [
    {
     "data": {
      "text/plain": [
       "array([[1.+0.j],\n",
       "       [0.+0.j],\n",
       "       [0.+0.j],\n",
       "       [0.+0.j],\n",
       "       [0.+0.j],\n",
       "       [0.+0.j],\n",
       "       [0.+0.j],\n",
       "       [0.+0.j],\n",
       "       [0.+0.j],\n",
       "       [0.+0.j],\n",
       "       [0.+0.j],\n",
       "       [0.+0.j],\n",
       "       [0.+0.j],\n",
       "       [0.+0.j],\n",
       "       [0.+0.j],\n",
       "       [0.+0.j]])"
      ]
     },
     "execution_count": 47,
     "metadata": {},
     "output_type": "execute_result"
    }
   ],
   "source": [
    "# 00 input\n",
    "\n",
    "inp_state=tensor(ket_0,ket_0,ket_0,ket_0)\n",
    "a=U*inp_state\n",
    "b=np.linalg.norm(np.array(U*inp_state))\n",
    "out=a/b\n",
    "np.array(out)"
   ]
  },
  {
   "cell_type": "code",
   "execution_count": 48,
   "id": "d6c766ec-8501-4760-af63-5741d10d8a0d",
   "metadata": {},
   "outputs": [
    {
     "data": {
      "text/plain": [
       "array([[ 0. +0.j        ],\n",
       "       [ 0. +0.j        ],\n",
       "       [ 0. +0.j        ],\n",
       "       [ 0.5+0.j        ],\n",
       "       [ 0. +0.j        ],\n",
       "       [ 0. +0.70710678j],\n",
       "       [ 0. +0.j        ],\n",
       "       [ 0. +0.j        ],\n",
       "       [ 0. +0.j        ],\n",
       "       [ 0. +0.j        ],\n",
       "       [ 0. +0.j        ],\n",
       "       [ 0. +0.j        ],\n",
       "       [-0.5+0.j        ],\n",
       "       [ 0. +0.j        ],\n",
       "       [ 0. +0.j        ],\n",
       "       [ 0. +0.j        ]])"
      ]
     },
     "execution_count": 48,
     "metadata": {},
     "output_type": "execute_result"
    }
   ],
   "source": [
    "## 02 input\n",
    "\n",
    "inp_state=tensor(ket_0,ket_0,ket_1,ket_1)\n",
    "a=U*inp_state\n",
    "b=np.linalg.norm(np.array(U*inp_state))\n",
    "out=a/b\n",
    "np.array(a)"
   ]
  },
  {
   "cell_type": "code",
   "execution_count": 49,
   "id": "8c20e1ff-2692-4b64-b245-7bec4690e1e0",
   "metadata": {},
   "outputs": [
    {
     "data": {
      "text/plain": [
       "array([[ 0.        +0.j        ],\n",
       "       [ 0.        +0.j        ],\n",
       "       [ 0.35355339+0.j        ],\n",
       "       [ 0.        +0.j        ],\n",
       "       [ 0.        +0.j        ],\n",
       "       [ 0.        +0.j        ],\n",
       "       [ 0.        +0.j        ],\n",
       "       [ 0.        +0.61237244j],\n",
       "       [ 0.        -0.35355339j],\n",
       "       [ 0.        +0.j        ],\n",
       "       [ 0.        +0.j        ],\n",
       "       [ 0.        +0.j        ],\n",
       "       [ 0.        +0.j        ],\n",
       "       [-0.61237244+0.j        ],\n",
       "       [ 0.        +0.j        ],\n",
       "       [ 0.        +0.j        ]])"
      ]
     },
     "execution_count": 49,
     "metadata": {},
     "output_type": "execute_result"
    }
   ],
   "source": [
    "## 03 input\n",
    "\n",
    "inp_state=tensor(ket_0,ket_0,ket_1,ket_0)\n",
    "a=U*inp_state\n",
    "b=np.linalg.norm(np.array(U*inp_state))\n",
    "out=a/b\n",
    "np.array(a)"
   ]
  },
  {
   "cell_type": "code",
   "execution_count": null,
   "id": "6036fc98-0ce7-4b9e-afb0-935c28cb11c3",
   "metadata": {},
   "outputs": [],
   "source": []
  },
  {
   "cell_type": "markdown",
   "id": "e8d6d93d-c0f4-41ec-a086-fedd774b712d",
   "metadata": {},
   "source": [
    "oper1=(1/8)*(tensor(I,sig_x,I,sig_x)+tensor(I,sig_y,I,sig_y)+tensor(sig_z,sig_x,sig_z,sig_x)+tensor(sig_z,sig_y,sig_z,sig_y)\n",
    "       +tensor(I,sig_x,sig_z,sig_x)+tensor(I,sig_y,sig_z,sig_y)+tensor(sig_z,sig_x,I,sig_x)+tensor(sig_z,sig_y,I,sig_y))"
   ]
  },
  {
   "cell_type": "markdown",
   "id": "443afb02-abb8-4770-a5fd-2dfed3bc27c4",
   "metadata": {},
   "source": [
    "a=tensor(sig_z,sig_x,sig_z,sig_x)\n",
    "b=tensor(sig_z,sig_y,sig_z,sig_y)\n",
    "np.any(np.array(a*b-b*a))"
   ]
  },
  {
   "cell_type": "code",
   "execution_count": 50,
   "id": "5728a653-bb1f-4230-857b-cabde02e690c",
   "metadata": {},
   "outputs": [
    {
     "data": {
      "text/plain": [
       "array([[0.+0.j],\n",
       "       [0.+0.j],\n",
       "       [0.+0.j],\n",
       "       [0.+0.j],\n",
       "       [0.+0.j],\n",
       "       [0.+0.j],\n",
       "       [0.+0.j],\n",
       "       [0.+0.j],\n",
       "       [0.+0.j],\n",
       "       [0.+0.j],\n",
       "       [1.+0.j],\n",
       "       [0.+0.j],\n",
       "       [0.+0.j],\n",
       "       [0.+0.j],\n",
       "       [0.+0.j],\n",
       "       [0.+0.j]])"
      ]
     },
     "execution_count": 50,
     "metadata": {},
     "output_type": "execute_result"
    }
   ],
   "source": [
    "np.array(tensor(ket_1,ket_0,ket_1,ket_0))"
   ]
  },
  {
   "cell_type": "code",
   "execution_count": 51,
   "id": "5d246b81-11a4-4b10-b43d-00948bae616f",
   "metadata": {},
   "outputs": [
    {
     "data": {
      "text/latex": [
       "Quantum object: dims = [[2, 2], [2, 2]], shape = (4, 4), type = oper, isherm = True\\begin{equation*}\\left(\\begin{array}{*{11}c}0.0 & 0.0 & 0.0 & 0.0\\\\0.0 & 0.0 & 0.0 & 0.0\\\\0.0 & 0.0 & 0.0 & 0.0\\\\0.0 & 0.0 & 0.0 & 0.0\\\\\\end{array}\\right)\\end{equation*}"
      ],
      "text/plain": [
       "Quantum object: dims = [[2, 2], [2, 2]], shape = (4, 4), type = oper, isherm = True\n",
       "Qobj data =\n",
       "[[0. 0. 0. 0.]\n",
       " [0. 0. 0. 0.]\n",
       " [0. 0. 0. 0.]\n",
       " [0. 0. 0. 0.]]"
      ]
     },
     "execution_count": 51,
     "metadata": {},
     "output_type": "execute_result"
    }
   ],
   "source": [
    "op1=tensor(sig_x,sig_x)\n",
    "op2=tensor(sig_y,sig_y)\n",
    "op1*op2-op2*op1"
   ]
  },
  {
   "cell_type": "code",
   "execution_count": null,
   "id": "a7c43cec",
   "metadata": {},
   "outputs": [],
   "source": []
  }
 ],
 "metadata": {
  "kernelspec": {
   "display_name": "qiskit",
   "language": "python",
   "name": "python3"
  },
  "language_info": {
   "codemirror_mode": {
    "name": "ipython",
    "version": 3
   },
   "file_extension": ".py",
   "mimetype": "text/x-python",
   "name": "python",
   "nbconvert_exporter": "python",
   "pygments_lexer": "ipython3",
   "version": "3.9.13"
  },
  "vscode": {
   "interpreter": {
    "hash": "7f81f8c28344312158fb5de90b78b8926cef01099076b7e8be82b87d737bc98e"
   }
  }
 },
 "nbformat": 4,
 "nbformat_minor": 5
}
