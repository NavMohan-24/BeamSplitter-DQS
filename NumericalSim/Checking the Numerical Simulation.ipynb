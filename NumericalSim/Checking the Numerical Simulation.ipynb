{
 "cells": [
  {
   "cell_type": "code",
   "execution_count": 1,
   "id": "61ce1852",
   "metadata": {},
   "outputs": [
    {
     "name": "stderr",
     "output_type": "stream",
     "text": [
      "C:\\Users\\navan\\AppData\\Local\\Temp\\ipykernel_7260\\2491212247.py:6: DeprecationWarning: `np.complex` is a deprecated alias for the builtin `complex`. To silence this warning, use `complex` by itself. Doing this will not modify any behavior and is safe. If you specifically wanted the numpy scalar type, use `np.complex128` here.\n",
      "Deprecated in NumPy 1.20; for more details and guidance: https://numpy.org/devdocs/release/1.20.0-notes.html#deprecations\n",
      "  theta=np.complex(0,np.pi/4)\n"
     ]
    }
   ],
   "source": [
    "import numpy as np\n",
    "import qutip as qt\n",
    "from qutip import tensor\n",
    "from qiskit.visualization import*\n",
    "from scipy.linalg import expm\n",
    "theta=np.complex(0,np.pi/4)"
   ]
  },
  {
   "cell_type": "code",
   "execution_count": 2,
   "id": "3c57ab12",
   "metadata": {},
   "outputs": [],
   "source": [
    "sig_p=qt.destroy(2)\n",
    "sig_m=qt.create(2)\n",
    "I=qt.identity(2)\n",
    "sig_z=qt.sigmaz()\n",
    "\n",
    "ket_0=qt.fock(2,0)\n",
    "ket_1=qt.fock(2,1)"
   ]
  },
  {
   "cell_type": "code",
   "execution_count": 3,
   "id": "80e324cd",
   "metadata": {},
   "outputs": [],
   "source": [
    "bdag_th=adag_th=qt.create(2)\n",
    "a_th=b_th=qt.destroy(2)    #theoretical\n",
    "\n",
    "bdag=adag=tensor(sig_p,sig_m,I)+np.sqrt(2)*tensor(I,sig_p,sig_m)\n",
    "b=a=tensor(sig_m,sig_p,sig_z)+np.sqrt(2)*tensor(I,sig_m,sig_p)  #DQS"
   ]
  },
  {
   "cell_type": "code",
   "execution_count": 4,
   "id": "2e12a931",
   "metadata": {},
   "outputs": [
    {
     "data": {
      "text/latex": [
       "Quantum object: dims = [[3], [3]], shape = (3, 3), type = oper, isherm = False\\begin{equation*}\\left(\\begin{array}{*{11}c}0.0 & 0.0 & 0.0\\\\1.0 & 0.0 & 0.0\\\\0.0 & 1.414 & 0.0\\\\\\end{array}\\right)\\end{equation*}"
      ],
      "text/plain": [
       "Quantum object: dims = [[3], [3]], shape = (3, 3), type = oper, isherm = False\n",
       "Qobj data =\n",
       "[[0.         0.         0.        ]\n",
       " [1.         0.         0.        ]\n",
       " [0.         1.41421356 0.        ]]"
      ]
     },
     "execution_count": 4,
     "metadata": {},
     "output_type": "execute_result"
    }
   ],
   "source": [
    "bdag_th"
   ]
  },
  {
   "cell_type": "code",
   "execution_count": 5,
   "id": "8d8c3d10",
   "metadata": {},
   "outputs": [
    {
     "data": {
      "text/latex": [
       "Quantum object: dims = [[2, 2, 2], [2, 2, 2]], shape = (8, 8), type = oper, isherm = False\\begin{equation*}\\left(\\begin{array}{*{11}c}0.0 & 0.0 & 0.0 & 0.0 & 0.0 & 0.0 & 0.0 & 0.0\\\\0.0 & 0.0 & 1.414 & 0.0 & 0.0 & 0.0 & 0.0 & 0.0\\\\0.0 & 0.0 & 0.0 & 0.0 & 1.0 & 0.0 & 0.0 & 0.0\\\\0.0 & 0.0 & 0.0 & 0.0 & 0.0 & 1.0 & 0.0 & 0.0\\\\0.0 & 0.0 & 0.0 & 0.0 & 0.0 & 0.0 & 0.0 & 0.0\\\\0.0 & 0.0 & 0.0 & 0.0 & 0.0 & 0.0 & 1.414 & 0.0\\\\0.0 & 0.0 & 0.0 & 0.0 & 0.0 & 0.0 & 0.0 & 0.0\\\\0.0 & 0.0 & 0.0 & 0.0 & 0.0 & 0.0 & 0.0 & 0.0\\\\\\end{array}\\right)\\end{equation*}"
      ],
      "text/plain": [
       "Quantum object: dims = [[2, 2, 2], [2, 2, 2]], shape = (8, 8), type = oper, isherm = False\n",
       "Qobj data =\n",
       "[[0.         0.         0.         0.         0.         0.\n",
       "  0.         0.        ]\n",
       " [0.         0.         1.41421356 0.         0.         0.\n",
       "  0.         0.        ]\n",
       " [0.         0.         0.         0.         1.         0.\n",
       "  0.         0.        ]\n",
       " [0.         0.         0.         0.         0.         1.\n",
       "  0.         0.        ]\n",
       " [0.         0.         0.         0.         0.         0.\n",
       "  0.         0.        ]\n",
       " [0.         0.         0.         0.         0.         0.\n",
       "  1.41421356 0.        ]\n",
       " [0.         0.         0.         0.         0.         0.\n",
       "  0.         0.        ]\n",
       " [0.         0.         0.         0.         0.         0.\n",
       "  0.         0.        ]]"
      ]
     },
     "execution_count": 5,
     "metadata": {},
     "output_type": "execute_result"
    }
   ],
   "source": [
    "bdag"
   ]
  },
  {
   "cell_type": "markdown",
   "id": "c5e549a8",
   "metadata": {},
   "source": [
    "## |010> $\\rightarrow$ |001>"
   ]
  },
  {
   "cell_type": "code",
   "execution_count": 6,
   "id": "fdc97532",
   "metadata": {},
   "outputs": [
    {
     "data": {
      "text/latex": [
       "Quantum object: dims = [[2, 2, 2], [1, 1, 1]], shape = (8, 1), type = ket\\begin{equation*}\\left(\\begin{array}{*{11}c}0.0\\\\1.414\\\\0.0\\\\0.0\\\\0.0\\\\0.0\\\\0.0\\\\0.0\\\\\\end{array}\\right)\\end{equation*}"
      ],
      "text/plain": [
       "Quantum object: dims = [[2, 2, 2], [1, 1, 1]], shape = (8, 1), type = ket\n",
       "Qobj data =\n",
       "[[0.        ]\n",
       " [1.41421356]\n",
       " [0.        ]\n",
       " [0.        ]\n",
       " [0.        ]\n",
       " [0.        ]\n",
       " [0.        ]\n",
       " [0.        ]]"
      ]
     },
     "execution_count": 6,
     "metadata": {},
     "output_type": "execute_result"
    }
   ],
   "source": [
    "bdag*tensor(ket_0,ket_1,ket_0) #|1>\n",
    "#tensor(ket_0,ket_0,ket_1) #|2>"
   ]
  },
  {
   "cell_type": "markdown",
   "id": "4ffe7168",
   "metadata": {},
   "source": [
    "## |100> $\\rightarrow$ |010>"
   ]
  },
  {
   "cell_type": "code",
   "execution_count": 7,
   "id": "c6f721cd",
   "metadata": {},
   "outputs": [
    {
     "data": {
      "text/latex": [
       "Quantum object: dims = [[2, 2, 2], [1, 1, 1]], shape = (8, 1), type = ket\\begin{equation*}\\left(\\begin{array}{*{11}c}0.0\\\\0.0\\\\1.0\\\\0.0\\\\0.0\\\\0.0\\\\0.0\\\\0.0\\\\\\end{array}\\right)\\end{equation*}"
      ],
      "text/plain": [
       "Quantum object: dims = [[2, 2, 2], [1, 1, 1]], shape = (8, 1), type = ket\n",
       "Qobj data =\n",
       "[[0.]\n",
       " [0.]\n",
       " [1.]\n",
       " [0.]\n",
       " [0.]\n",
       " [0.]\n",
       " [0.]\n",
       " [0.]]"
      ]
     },
     "execution_count": 7,
     "metadata": {},
     "output_type": "execute_result"
    }
   ],
   "source": [
    "bdag*tensor(ket_1,ket_0,ket_0) #|0>\n",
    "#tensor(ket_0,ket_1,ket_0) #|1>"
   ]
  },
  {
   "cell_type": "markdown",
   "id": "ac8ad245",
   "metadata": {},
   "source": [
    "Now there are other states for which the the bosonic operators work in similar manner."
   ]
  },
  {
   "cell_type": "markdown",
   "id": "445390ab",
   "metadata": {},
   "source": [
    "## |110> $\\rightarrow$ |101>"
   ]
  },
  {
   "cell_type": "code",
   "execution_count": 8,
   "id": "ffd25e3c",
   "metadata": {},
   "outputs": [
    {
     "data": {
      "text/latex": [
       "Quantum object: dims = [[2, 2, 2], [1, 1, 1]], shape = (8, 1), type = ket\\begin{equation*}\\left(\\begin{array}{*{11}c}0.0\\\\0.0\\\\0.0\\\\0.0\\\\0.0\\\\1.414\\\\0.0\\\\0.0\\\\\\end{array}\\right)\\end{equation*}"
      ],
      "text/plain": [
       "Quantum object: dims = [[2, 2, 2], [1, 1, 1]], shape = (8, 1), type = ket\n",
       "Qobj data =\n",
       "[[0.        ]\n",
       " [0.        ]\n",
       " [0.        ]\n",
       " [0.        ]\n",
       " [0.        ]\n",
       " [1.41421356]\n",
       " [0.        ]\n",
       " [0.        ]]"
      ]
     },
     "execution_count": 8,
     "metadata": {},
     "output_type": "execute_result"
    }
   ],
   "source": [
    "bdag*tensor(ket_1,ket_1,ket_0)"
   ]
  },
  {
   "cell_type": "markdown",
   "id": "3065b904",
   "metadata": {},
   "source": [
    "### |101> $\\rightarrow$ |011>"
   ]
  },
  {
   "cell_type": "code",
   "execution_count": 9,
   "id": "9c7e0f4d",
   "metadata": {},
   "outputs": [
    {
     "data": {
      "text/latex": [
       "Quantum object: dims = [[2, 2, 2], [1, 1, 1]], shape = (8, 1), type = ket\\begin{equation*}\\left(\\begin{array}{*{11}c}0.0\\\\0.0\\\\0.0\\\\1.0\\\\0.0\\\\0.0\\\\0.0\\\\0.0\\\\\\end{array}\\right)\\end{equation*}"
      ],
      "text/plain": [
       "Quantum object: dims = [[2, 2, 2], [1, 1, 1]], shape = (8, 1), type = ket\n",
       "Qobj data =\n",
       "[[0.]\n",
       " [0.]\n",
       " [0.]\n",
       " [1.]\n",
       " [0.]\n",
       " [0.]\n",
       " [0.]\n",
       " [0.]]"
      ]
     },
     "execution_count": 9,
     "metadata": {},
     "output_type": "execute_result"
    }
   ],
   "source": [
    "bdag*tensor(ket_1,ket_0,ket_1)"
   ]
  },
  {
   "cell_type": "markdown",
   "id": "4b61c8de",
   "metadata": {},
   "source": [
    "# Removing reduntant elements in b and $b^{\\dagger}$"
   ]
  },
  {
   "cell_type": "code",
   "execution_count": 10,
   "id": "2ea41f8e",
   "metadata": {},
   "outputs": [
    {
     "name": "stdout",
     "output_type": "stream",
     "text": [
      "bdagger=\n"
     ]
    },
    {
     "data": {
      "text/latex": [
       "$$\n",
       "\n",
       "\\begin{bmatrix}\n",
       "0 & 0 & 0 & 0 & 0 & 0 & 0 & 0  \\\\\n",
       " 0 & 0 & 1.41421 & 0 & 0 & 0 & 0 & 0  \\\\\n",
       " 0 & 0 & 0 & 0 & 1 & 0 & 0 & 0  \\\\\n",
       " 0 & 0 & 0 & 0 & 0 & 0 & 0 & 0  \\\\\n",
       " 0 & 0 & 0 & 0 & 0 & 0 & 0 & 0  \\\\\n",
       " 0 & 0 & 0 & 0 & 0 & 0 & 0 & 0  \\\\\n",
       " 0 & 0 & 0 & 0 & 0 & 0 & 0 & 0  \\\\\n",
       " 0 & 0 & 0 & 0 & 0 & 0 & 0 & 0  \\\\\n",
       " \\end{bmatrix}\n",
       "$$"
      ],
      "text/plain": [
       "<IPython.core.display.Latex object>"
      ]
     },
     "execution_count": 10,
     "metadata": {},
     "output_type": "execute_result"
    }
   ],
   "source": [
    "bdag=np.array(bdag)\n",
    "bdag[3,5]=0\n",
    "bdag[5,6]=0\n",
    "\n",
    "b=np.array(b)\n",
    "b[5,3]=0\n",
    "b[6,5]=0\n",
    "\n",
    "adag=bdag \n",
    "a=b\n",
    "\n",
    "\n",
    "print('bdagger=')\n",
    "\n",
    "array_to_latex(bdag)"
   ]
  },
  {
   "cell_type": "code",
   "execution_count": 11,
   "id": "a5eba071",
   "metadata": {},
   "outputs": [
    {
     "name": "stdout",
     "output_type": "stream",
     "text": [
      "b=\n"
     ]
    },
    {
     "data": {
      "text/latex": [
       "$$\n",
       "\n",
       "\\begin{bmatrix}\n",
       "0 & 0 & 0 & 0 & 0 & 0 & 0 & 0  \\\\\n",
       " 0 & 0 & 0 & 0 & 0 & 0 & 0 & 0  \\\\\n",
       " 0 & 1.41421 & 0 & 0 & 0 & 0 & 0 & 0  \\\\\n",
       " 0 & 0 & 0 & 0 & 0 & 0 & 0 & 0  \\\\\n",
       " 0 & 0 & 1 & 0 & 0 & 0 & 0 & 0  \\\\\n",
       " 0 & 0 & 0 & 0 & 0 & 0 & 0 & 0  \\\\\n",
       " 0 & 0 & 0 & 0 & 0 & 0 & 0 & 0  \\\\\n",
       " 0 & 0 & 0 & 0 & 0 & 0 & 0 & 0  \\\\\n",
       " \\end{bmatrix}\n",
       "$$"
      ],
      "text/plain": [
       "<IPython.core.display.Latex object>"
      ]
     },
     "execution_count": 11,
     "metadata": {},
     "output_type": "execute_result"
    }
   ],
   "source": [
    "print('b=')\n",
    "\n",
    "array_to_latex(b)"
   ]
  },
  {
   "cell_type": "code",
   "execution_count": 12,
   "id": "96139935",
   "metadata": {},
   "outputs": [
    {
     "data": {
      "text/plain": [
       "array([[1.+0.j, 0.+0.j, 0.+0.j, ..., 0.+0.j, 0.+0.j, 0.+0.j],\n",
       "       [0.+0.j, 1.+0.j, 0.+0.j, ..., 0.+0.j, 0.+0.j, 0.+0.j],\n",
       "       [0.+0.j, 0.+0.j, 1.+0.j, ..., 0.+0.j, 0.+0.j, 0.+0.j],\n",
       "       ...,\n",
       "       [0.+0.j, 0.+0.j, 0.+0.j, ..., 1.+0.j, 0.+0.j, 0.+0.j],\n",
       "       [0.+0.j, 0.+0.j, 0.+0.j, ..., 0.+0.j, 1.+0.j, 0.+0.j],\n",
       "       [0.+0.j, 0.+0.j, 0.+0.j, ..., 0.+0.j, 0.+0.j, 1.+0.j]])"
      ]
     },
     "execution_count": 12,
     "metadata": {},
     "output_type": "execute_result"
    }
   ],
   "source": [
    "# rewriting b^dag a + b a^dag\n",
    "B=theta*(np.kron(bdag,a)+np.kron(b,adag))\n",
    "\n",
    "U=expm(B) # unitary of beam splitter\n",
    "U"
   ]
  },
  {
   "cell_type": "code",
   "execution_count": 13,
   "id": "4a7060ad",
   "metadata": {},
   "outputs": [
    {
     "name": "stderr",
     "output_type": "stream",
     "text": [
      "/home/nav/anaconda3/lib/python3.7/site-packages/ipykernel_launcher.py:3: ComplexWarning: Casting complex values to real discards the imaginary part\n",
      "  This is separate from the ipykernel package so we can avoid doing imports until\n"
     ]
    }
   ],
   "source": [
    "import pandas as pd\n",
    "Umat=np.matrix(U)\n",
    "df = pd.DataFrame(data=Umat.astype(float))\n",
    "df.to_csv('Unitary_matrix_2.csv', sep=' ', header=False, float_format='%.4f', index=False)"
   ]
  },
  {
   "cell_type": "code",
   "execution_count": 14,
   "id": "ab4f3991",
   "metadata": {},
   "outputs": [
    {
     "data": {
      "text/plain": [
       "array([[0.+0.j],\n",
       "       [0.+0.j],\n",
       "       [0.+0.j],\n",
       "       [0.+0.j],\n",
       "       [0.+0.j],\n",
       "       [0.+0.j],\n",
       "       [0.+0.j],\n",
       "       [0.+0.j],\n",
       "       [0.+0.j],\n",
       "       [0.+0.j],\n",
       "       [0.+0.j],\n",
       "       [0.+0.j],\n",
       "       [0.+0.j],\n",
       "       [0.+0.j],\n",
       "       [0.+0.j],\n",
       "       [0.+0.j],\n",
       "       [0.+0.j],\n",
       "       [0.+0.j],\n",
       "       [1.+0.j],\n",
       "       [0.+0.j],\n",
       "       [0.+0.j],\n",
       "       [0.+0.j],\n",
       "       [0.+0.j],\n",
       "       [0.+0.j],\n",
       "       [0.+0.j],\n",
       "       [0.+0.j],\n",
       "       [0.+0.j],\n",
       "       [0.+0.j],\n",
       "       [0.+0.j],\n",
       "       [0.+0.j],\n",
       "       [0.+0.j],\n",
       "       [0.+0.j],\n",
       "       [0.+0.j],\n",
       "       [0.+0.j],\n",
       "       [0.+0.j],\n",
       "       [0.+0.j],\n",
       "       [0.+0.j],\n",
       "       [0.+0.j],\n",
       "       [0.+0.j],\n",
       "       [0.+0.j],\n",
       "       [0.+0.j],\n",
       "       [0.+0.j],\n",
       "       [0.+0.j],\n",
       "       [0.+0.j],\n",
       "       [0.+0.j],\n",
       "       [0.+0.j],\n",
       "       [0.+0.j],\n",
       "       [0.+0.j],\n",
       "       [0.+0.j],\n",
       "       [0.+0.j],\n",
       "       [0.+0.j],\n",
       "       [0.+0.j],\n",
       "       [0.+0.j],\n",
       "       [0.+0.j],\n",
       "       [0.+0.j],\n",
       "       [0.+0.j],\n",
       "       [0.+0.j],\n",
       "       [0.+0.j],\n",
       "       [0.+0.j],\n",
       "       [0.+0.j],\n",
       "       [0.+0.j],\n",
       "       [0.+0.j],\n",
       "       [0.+0.j],\n",
       "       [0.+0.j]])"
      ]
     },
     "execution_count": 14,
     "metadata": {},
     "output_type": "execute_result"
    }
   ],
   "source": [
    "ket_0=qt.fock(2,0)\n",
    "ket_1=qt.fock(2,1)\n",
    "\n",
    "inp=np.array(tensor(ket_0,ket_1,ket_0,ket_0,ket_1,ket_0))\n",
    "\n",
    "inp"
   ]
  },
  {
   "cell_type": "code",
   "execution_count": 15,
   "id": "4c8db27a",
   "metadata": {},
   "outputs": [
    {
     "data": {
      "text/plain": [
       "array([[0.+0.j        ],\n",
       "       [0.+0.j        ],\n",
       "       [0.+0.j        ],\n",
       "       [0.+0.j        ],\n",
       "       [0.+0.j        ],\n",
       "       [0.+0.j        ],\n",
       "       [0.+0.j        ],\n",
       "       [0.+0.j        ],\n",
       "       [0.+0.j        ],\n",
       "       [0.+0.j        ],\n",
       "       [0.+0.j        ],\n",
       "       [0.+0.j        ],\n",
       "       [0.+0.70710678j],\n",
       "       [0.+0.j        ],\n",
       "       [0.+0.j        ],\n",
       "       [0.+0.j        ],\n",
       "       [0.+0.j        ],\n",
       "       [0.+0.j        ],\n",
       "       [0.+0.j        ],\n",
       "       [0.+0.j        ],\n",
       "       [0.+0.j        ],\n",
       "       [0.+0.j        ],\n",
       "       [0.+0.j        ],\n",
       "       [0.+0.j        ],\n",
       "       [0.+0.j        ],\n",
       "       [0.+0.j        ],\n",
       "       [0.+0.j        ],\n",
       "       [0.+0.j        ],\n",
       "       [0.+0.j        ],\n",
       "       [0.+0.j        ],\n",
       "       [0.+0.j        ],\n",
       "       [0.+0.j        ],\n",
       "       [0.+0.j        ],\n",
       "       [0.+0.70710678j],\n",
       "       [0.+0.j        ],\n",
       "       [0.+0.j        ],\n",
       "       [0.+0.j        ],\n",
       "       [0.+0.j        ],\n",
       "       [0.+0.j        ],\n",
       "       [0.+0.j        ],\n",
       "       [0.+0.j        ],\n",
       "       [0.+0.j        ],\n",
       "       [0.+0.j        ],\n",
       "       [0.+0.j        ],\n",
       "       [0.+0.j        ],\n",
       "       [0.+0.j        ],\n",
       "       [0.+0.j        ],\n",
       "       [0.+0.j        ],\n",
       "       [0.+0.j        ],\n",
       "       [0.+0.j        ],\n",
       "       [0.+0.j        ],\n",
       "       [0.+0.j        ],\n",
       "       [0.+0.j        ],\n",
       "       [0.+0.j        ],\n",
       "       [0.+0.j        ],\n",
       "       [0.+0.j        ],\n",
       "       [0.+0.j        ],\n",
       "       [0.+0.j        ],\n",
       "       [0.+0.j        ],\n",
       "       [0.+0.j        ],\n",
       "       [0.+0.j        ],\n",
       "       [0.+0.j        ],\n",
       "       [0.+0.j        ],\n",
       "       [0.+0.j        ]])"
      ]
     },
     "execution_count": 15,
     "metadata": {},
     "output_type": "execute_result"
    }
   ],
   "source": [
    "out=np.matmul(U,inp)\n",
    "#norm_out=out.unit()\n",
    "out"
   ]
  },
  {
   "cell_type": "markdown",
   "id": "87714ef5",
   "metadata": {},
   "source": [
    "## Modification of mapping needed"
   ]
  },
  {
   "cell_type": "markdown",
   "id": "c041cee1",
   "metadata": {},
   "source": [
    "Creation operator"
   ]
  },
  {
   "cell_type": "markdown",
   "id": "a7e4b6e2",
   "metadata": {},
   "source": [
    "$b^{\\dagger} = \\frac{1}{2}(\\sigma_{+}^{0} \\otimes \\sigma_{-}^{1} \\otimes I)+ \\frac{\\sqrt2}{2}(I\\otimes \\sigma_{+}^{1}\\otimes \\sigma_{-}^{2})+\\frac{1}{2}(\\sigma_{+}^{0} \\otimes \\sigma_{-}^{1} \\otimes \\sigma_{z}^{2})+ \\frac{\\sqrt2}{2}(\\sigma_{z}^{1} \\otimes \\sigma_{+}^{1}\\otimes \\sigma_{-}^{2})$\n",
    "\n",
    "or\n",
    "\n",
    "$b^{\\dagger} = \\frac{1}{2}(\\sigma_{+}^{0} \\otimes \\sigma_{-}^{1} \\otimes I^{(2)}+\\sigma_{+}^{0} \\otimes \\sigma_{-}^{1} \\otimes \\sigma_{z}^{2})+ \\frac{1}{\\sqrt2}(I^{(0)}\\otimes \\sigma_{+}^{1}\\otimes \\sigma_{-}^{2}+\\sigma_{z}^{0} \\otimes \\sigma_{+}^{1}\\otimes \\sigma_{-}^{2})$"
   ]
  },
  {
   "cell_type": "markdown",
   "id": "3a345ac1",
   "metadata": {},
   "source": [
    "Annihilation Operator"
   ]
  },
  {
   "cell_type": "markdown",
   "id": "29974187",
   "metadata": {},
   "source": [
    "$b = \\frac{1}{2}(\\sigma_{-}^{0} \\otimes \\sigma_{+}^{1} \\otimes I^{(2)}+\\sigma_{-}^{0} \\otimes \\sigma_{+}^{1} \\otimes \\sigma_{z}^{2})+ \\frac{1}{\\sqrt2}(I^{(0)}\\otimes \\sigma_{-}^{1}\\otimes \\sigma_{+}^{2}+\\sigma_{z}^{0} \\otimes \\sigma_{-}^{1}\\otimes \\sigma_{+}^{2})$"
   ]
  },
  {
   "cell_type": "code",
   "execution_count": 16,
   "id": "f1ed2f38",
   "metadata": {},
   "outputs": [],
   "source": [
    "b=a=(1/2)*(tensor(sig_m,sig_p,I)+tensor(sig_m,sig_p,sig_z))+(1/np.sqrt(2))*(tensor(I,sig_m,sig_p)+tensor(sig_z,sig_m,sig_p))"
   ]
  },
  {
   "cell_type": "code",
   "execution_count": 17,
   "id": "03bce861",
   "metadata": {},
   "outputs": [
    {
     "data": {
      "text/latex": [
       "Quantum object: dims = [[2, 2, 2], [2, 2, 2]], shape = (8, 8), type = oper, isherm = False\\begin{equation*}\\left(\\begin{array}{*{11}c}0.0 & 0.0 & 0.0 & 0.0 & 0.0 & 0.0 & 0.0 & 0.0\\\\0.0 & 0.0 & 0.0 & 0.0 & 0.0 & 0.0 & 0.0 & 0.0\\\\0.0 & 1.414 & 0.0 & 0.0 & 0.0 & 0.0 & 0.0 & 0.0\\\\0.0 & 0.0 & 0.0 & 0.0 & 0.0 & 0.0 & 0.0 & 0.0\\\\0.0 & 0.0 & 1.0 & 0.0 & 0.0 & 0.0 & 0.0 & 0.0\\\\0.0 & 0.0 & 0.0 & 0.0 & 0.0 & 0.0 & 0.0 & 0.0\\\\0.0 & 0.0 & 0.0 & 0.0 & 0.0 & 0.0 & 0.0 & 0.0\\\\0.0 & 0.0 & 0.0 & 0.0 & 0.0 & 0.0 & 0.0 & 0.0\\\\\\end{array}\\right)\\end{equation*}"
      ],
      "text/plain": [
       "Quantum object: dims = [[2, 2, 2], [2, 2, 2]], shape = (8, 8), type = oper, isherm = False\n",
       "Qobj data =\n",
       "[[0.         0.         0.         0.         0.         0.\n",
       "  0.         0.        ]\n",
       " [0.         0.         0.         0.         0.         0.\n",
       "  0.         0.        ]\n",
       " [0.         1.41421356 0.         0.         0.         0.\n",
       "  0.         0.        ]\n",
       " [0.         0.         0.         0.         0.         0.\n",
       "  0.         0.        ]\n",
       " [0.         0.         1.         0.         0.         0.\n",
       "  0.         0.        ]\n",
       " [0.         0.         0.         0.         0.         0.\n",
       "  0.         0.        ]\n",
       " [0.         0.         0.         0.         0.         0.\n",
       "  0.         0.        ]\n",
       " [0.         0.         0.         0.         0.         0.\n",
       "  0.         0.        ]]"
      ]
     },
     "execution_count": 17,
     "metadata": {},
     "output_type": "execute_result"
    }
   ],
   "source": [
    "b"
   ]
  },
  {
   "cell_type": "code",
   "execution_count": 18,
   "id": "b7f054df",
   "metadata": {},
   "outputs": [],
   "source": [
    "bdag=adag=(1/2)*(tensor(sig_p,sig_m,I)+tensor(sig_p,sig_m,sig_z))+(1/np.sqrt(2))*(tensor(I,sig_p,sig_m)+tensor(sig_z,sig_p,sig_m))"
   ]
  },
  {
   "cell_type": "code",
   "execution_count": 19,
   "id": "16f1e6e1",
   "metadata": {},
   "outputs": [
    {
     "data": {
      "text/latex": [
       "Quantum object: dims = [[2, 2, 2], [2, 2, 2]], shape = (8, 8), type = oper, isherm = False\\begin{equation*}\\left(\\begin{array}{*{11}c}0.0 & 0.0 & 0.0 & 0.0 & 0.0 & 0.0 & 0.0 & 0.0\\\\0.0 & 0.0 & 1.414 & 0.0 & 0.0 & 0.0 & 0.0 & 0.0\\\\0.0 & 0.0 & 0.0 & 0.0 & 1.0 & 0.0 & 0.0 & 0.0\\\\0.0 & 0.0 & 0.0 & 0.0 & 0.0 & 0.0 & 0.0 & 0.0\\\\0.0 & 0.0 & 0.0 & 0.0 & 0.0 & 0.0 & 0.0 & 0.0\\\\0.0 & 0.0 & 0.0 & 0.0 & 0.0 & 0.0 & 0.0 & 0.0\\\\0.0 & 0.0 & 0.0 & 0.0 & 0.0 & 0.0 & 0.0 & 0.0\\\\0.0 & 0.0 & 0.0 & 0.0 & 0.0 & 0.0 & 0.0 & 0.0\\\\\\end{array}\\right)\\end{equation*}"
      ],
      "text/plain": [
       "Quantum object: dims = [[2, 2, 2], [2, 2, 2]], shape = (8, 8), type = oper, isherm = False\n",
       "Qobj data =\n",
       "[[0.         0.         0.         0.         0.         0.\n",
       "  0.         0.        ]\n",
       " [0.         0.         1.41421356 0.         0.         0.\n",
       "  0.         0.        ]\n",
       " [0.         0.         0.         0.         1.         0.\n",
       "  0.         0.        ]\n",
       " [0.         0.         0.         0.         0.         0.\n",
       "  0.         0.        ]\n",
       " [0.         0.         0.         0.         0.         0.\n",
       "  0.         0.        ]\n",
       " [0.         0.         0.         0.         0.         0.\n",
       "  0.         0.        ]\n",
       " [0.         0.         0.         0.         0.         0.\n",
       "  0.         0.        ]\n",
       " [0.         0.         0.         0.         0.         0.\n",
       "  0.         0.        ]]"
      ]
     },
     "execution_count": 19,
     "metadata": {},
     "output_type": "execute_result"
    }
   ],
   "source": [
    "bdag"
   ]
  },
  {
   "cell_type": "code",
   "execution_count": 20,
   "id": "1b41aa58",
   "metadata": {},
   "outputs": [
    {
     "data": {
      "text/plain": [
       "array([[1.+0.j, 0.+0.j, 0.+0.j, ..., 0.+0.j, 0.+0.j, 0.+0.j],\n",
       "       [0.+0.j, 1.+0.j, 0.+0.j, ..., 0.+0.j, 0.+0.j, 0.+0.j],\n",
       "       [0.+0.j, 0.+0.j, 1.+0.j, ..., 0.+0.j, 0.+0.j, 0.+0.j],\n",
       "       ...,\n",
       "       [0.+0.j, 0.+0.j, 0.+0.j, ..., 1.+0.j, 0.+0.j, 0.+0.j],\n",
       "       [0.+0.j, 0.+0.j, 0.+0.j, ..., 0.+0.j, 1.+0.j, 0.+0.j],\n",
       "       [0.+0.j, 0.+0.j, 0.+0.j, ..., 0.+0.j, 0.+0.j, 1.+0.j]])"
      ]
     },
     "execution_count": 20,
     "metadata": {},
     "output_type": "execute_result"
    }
   ],
   "source": [
    "B=theta*(np.kron(bdag,a)+np.kron(b,adag))\n",
    "\n",
    "U=expm(B)\n",
    "U"
   ]
  },
  {
   "cell_type": "code",
   "execution_count": 21,
   "id": "4d4c8bce",
   "metadata": {},
   "outputs": [
    {
     "data": {
      "text/plain": [
       "array([[0.+0.j],\n",
       "       [0.+0.j],\n",
       "       [0.+0.j],\n",
       "       [0.+0.j],\n",
       "       [0.+0.j],\n",
       "       [0.+0.j],\n",
       "       [0.+0.j],\n",
       "       [0.+0.j],\n",
       "       [0.+0.j],\n",
       "       [0.+0.j],\n",
       "       [0.+0.j],\n",
       "       [0.+0.j],\n",
       "       [0.+0.j],\n",
       "       [0.+0.j],\n",
       "       [0.+0.j],\n",
       "       [0.+0.j],\n",
       "       [0.+0.j],\n",
       "       [0.+0.j],\n",
       "       [1.+0.j],\n",
       "       [0.+0.j],\n",
       "       [0.+0.j],\n",
       "       [0.+0.j],\n",
       "       [0.+0.j],\n",
       "       [0.+0.j],\n",
       "       [0.+0.j],\n",
       "       [0.+0.j],\n",
       "       [0.+0.j],\n",
       "       [0.+0.j],\n",
       "       [0.+0.j],\n",
       "       [0.+0.j],\n",
       "       [0.+0.j],\n",
       "       [0.+0.j],\n",
       "       [0.+0.j],\n",
       "       [0.+0.j],\n",
       "       [0.+0.j],\n",
       "       [0.+0.j],\n",
       "       [0.+0.j],\n",
       "       [0.+0.j],\n",
       "       [0.+0.j],\n",
       "       [0.+0.j],\n",
       "       [0.+0.j],\n",
       "       [0.+0.j],\n",
       "       [0.+0.j],\n",
       "       [0.+0.j],\n",
       "       [0.+0.j],\n",
       "       [0.+0.j],\n",
       "       [0.+0.j],\n",
       "       [0.+0.j],\n",
       "       [0.+0.j],\n",
       "       [0.+0.j],\n",
       "       [0.+0.j],\n",
       "       [0.+0.j],\n",
       "       [0.+0.j],\n",
       "       [0.+0.j],\n",
       "       [0.+0.j],\n",
       "       [0.+0.j],\n",
       "       [0.+0.j],\n",
       "       [0.+0.j],\n",
       "       [0.+0.j],\n",
       "       [0.+0.j],\n",
       "       [0.+0.j],\n",
       "       [0.+0.j],\n",
       "       [0.+0.j],\n",
       "       [0.+0.j]])"
      ]
     },
     "execution_count": 21,
     "metadata": {},
     "output_type": "execute_result"
    }
   ],
   "source": [
    "ket_0=qt.fock(2,0)\n",
    "ket_1=qt.fock(2,1)\n",
    "\n",
    "inp=np.array(tensor(ket_0,ket_1,ket_0,ket_0,ket_1,ket_0))\n",
    "\n",
    "inp"
   ]
  },
  {
   "cell_type": "code",
   "execution_count": 22,
   "id": "d01c4faa",
   "metadata": {},
   "outputs": [
    {
     "data": {
      "text/plain": [
       "array([[0.+0.j        ],\n",
       "       [0.+0.j        ],\n",
       "       [0.+0.j        ],\n",
       "       [0.+0.j        ],\n",
       "       [0.+0.j        ],\n",
       "       [0.+0.j        ],\n",
       "       [0.+0.j        ],\n",
       "       [0.+0.j        ],\n",
       "       [0.+0.j        ],\n",
       "       [0.+0.j        ],\n",
       "       [0.+0.j        ],\n",
       "       [0.+0.j        ],\n",
       "       [0.+0.70710678j],\n",
       "       [0.+0.j        ],\n",
       "       [0.+0.j        ],\n",
       "       [0.+0.j        ],\n",
       "       [0.+0.j        ],\n",
       "       [0.+0.j        ],\n",
       "       [0.+0.j        ],\n",
       "       [0.+0.j        ],\n",
       "       [0.+0.j        ],\n",
       "       [0.+0.j        ],\n",
       "       [0.+0.j        ],\n",
       "       [0.+0.j        ],\n",
       "       [0.+0.j        ],\n",
       "       [0.+0.j        ],\n",
       "       [0.+0.j        ],\n",
       "       [0.+0.j        ],\n",
       "       [0.+0.j        ],\n",
       "       [0.+0.j        ],\n",
       "       [0.+0.j        ],\n",
       "       [0.+0.j        ],\n",
       "       [0.+0.j        ],\n",
       "       [0.+0.70710678j],\n",
       "       [0.+0.j        ],\n",
       "       [0.+0.j        ],\n",
       "       [0.+0.j        ],\n",
       "       [0.+0.j        ],\n",
       "       [0.+0.j        ],\n",
       "       [0.+0.j        ],\n",
       "       [0.+0.j        ],\n",
       "       [0.+0.j        ],\n",
       "       [0.+0.j        ],\n",
       "       [0.+0.j        ],\n",
       "       [0.+0.j        ],\n",
       "       [0.+0.j        ],\n",
       "       [0.+0.j        ],\n",
       "       [0.+0.j        ],\n",
       "       [0.+0.j        ],\n",
       "       [0.+0.j        ],\n",
       "       [0.+0.j        ],\n",
       "       [0.+0.j        ],\n",
       "       [0.+0.j        ],\n",
       "       [0.+0.j        ],\n",
       "       [0.+0.j        ],\n",
       "       [0.+0.j        ],\n",
       "       [0.+0.j        ],\n",
       "       [0.+0.j        ],\n",
       "       [0.+0.j        ],\n",
       "       [0.+0.j        ],\n",
       "       [0.+0.j        ],\n",
       "       [0.+0.j        ],\n",
       "       [0.+0.j        ],\n",
       "       [0.+0.j        ]])"
      ]
     },
     "execution_count": 22,
     "metadata": {},
     "output_type": "execute_result"
    }
   ],
   "source": [
    "out=np.matmul(U,inp)\n",
    "#norm_out=out.unit()\n",
    "out"
   ]
  },
  {
   "cell_type": "markdown",
   "id": "703f3ee5",
   "metadata": {},
   "source": [
    "## Working of the CNOT staircase circuit"
   ]
  },
  {
   "cell_type": "code",
   "execution_count": 23,
   "id": "6bf68259",
   "metadata": {},
   "outputs": [],
   "source": [
    "sig_x=qt.sigmax()\n",
    "sig_y=qt.sigmay()"
   ]
  },
  {
   "cell_type": "markdown",
   "id": "00012111",
   "metadata": {},
   "source": [
    "## $\\exp(-i\\theta\\sigma_{x}\\sigma_{z})$"
   ]
  },
  {
   "cell_type": "code",
   "execution_count": 24,
   "id": "1cb7a626",
   "metadata": {},
   "outputs": [],
   "source": [
    "oper=-1*theta*tensor(sig_x,sig_z)\n",
    "U=oper.expm()"
   ]
  },
  {
   "cell_type": "markdown",
   "id": "249dbd5a",
   "metadata": {},
   "source": [
    "theta = $i\\frac{\\pi}{4}$"
   ]
  },
  {
   "cell_type": "code",
   "execution_count": 25,
   "id": "66e0f15a",
   "metadata": {},
   "outputs": [
    {
     "data": {
      "text/latex": [
       "Quantum object: dims = [[2, 2], [2, 2]], shape = (4, 4), type = oper, isherm = False\\begin{equation*}\\left(\\begin{array}{*{11}c}0.707 & 0.0 & -0.707j & 0.0\\\\0.0 & 0.707 & 0.0 & 0.707j\\\\-0.707j & 0.0 & 0.707 & 0.0\\\\0.0 & 0.707j & 0.0 & 0.707\\\\\\end{array}\\right)\\end{equation*}"
      ],
      "text/plain": [
       "Quantum object: dims = [[2, 2], [2, 2]], shape = (4, 4), type = oper, isherm = False\n",
       "Qobj data =\n",
       "[[0.70710678+0.j         0.        +0.j         0.        -0.70710678j\n",
       "  0.        +0.j        ]\n",
       " [0.        +0.j         0.70710678+0.j         0.        +0.j\n",
       "  0.        +0.70710678j]\n",
       " [0.        -0.70710678j 0.        +0.j         0.70710678+0.j\n",
       "  0.        +0.j        ]\n",
       " [0.        +0.j         0.        +0.70710678j 0.        +0.j\n",
       "  0.70710678+0.j        ]]"
      ]
     },
     "execution_count": 25,
     "metadata": {},
     "output_type": "execute_result"
    }
   ],
   "source": [
    "U #theoretical result"
   ]
  },
  {
   "cell_type": "code",
   "execution_count": 26,
   "id": "a93e99dd",
   "metadata": {},
   "outputs": [
    {
     "data": {
      "image/png": "[encoded data removed]",
      "text/plain": [
       "<IPython.core.display.Image object>"
      ]
     },
     "execution_count": 26,
     "metadata": {},
     "output_type": "execute_result"
    }
   ],
   "source": [
    "from qutip.qip.circuit import QubitCircuit, Gate\n",
    "\n",
    "\n",
    "qc = QubitCircuit(2)\n",
    "qc.add_gate(\"SNOT\",targets=0)\n",
    "qc.add_gate(\"CNOT\",controls=0,targets=1)\n",
    "\n",
    "qc.add_gate(\"RZ\",targets=1,arg_value=np.pi/2) # arg_value=2*theta\n",
    "qc.add_gate(\"CNOT\",controls=0,targets=1)\n",
    "qc.add_gate(\"SNOT\",targets=0)\n",
    "qc.png"
   ]
  },
  {
   "cell_type": "code",
   "execution_count": 27,
   "id": "1aa672d8",
   "metadata": {},
   "outputs": [
    {
     "name": "stdout",
     "output_type": "stream",
     "text": [
      "[Quantum object: dims = [[2, 2], [2, 2]], shape = (4, 4), type = oper, isherm = True\n",
      "Qobj data =\n",
      "[[ 0.70710678  0.          0.70710678  0.        ]\n",
      " [ 0.          0.70710678  0.          0.70710678]\n",
      " [ 0.70710678  0.         -0.70710678  0.        ]\n",
      " [ 0.          0.70710678  0.         -0.70710678]], Quantum object: dims = [[2, 2], [2, 2]], shape = (4, 4), type = oper, isherm = True\n",
      "Qobj data =\n",
      "[[1. 0. 0. 0.]\n",
      " [0. 1. 0. 0.]\n",
      " [0. 0. 0. 1.]\n",
      " [0. 0. 1. 0.]], Quantum object: dims = [[2, 2], [2, 2]], shape = (4, 4), type = oper, isherm = False\n",
      "Qobj data =\n",
      "[[0.70710678-0.70710678j 0.        +0.j         0.        +0.j\n",
      "  0.        +0.j        ]\n",
      " [0.        +0.j         0.70710678+0.70710678j 0.        +0.j\n",
      "  0.        +0.j        ]\n",
      " [0.        +0.j         0.        +0.j         0.70710678-0.70710678j\n",
      "  0.        +0.j        ]\n",
      " [0.        +0.j         0.        +0.j         0.        +0.j\n",
      "  0.70710678+0.70710678j]], Quantum object: dims = [[2, 2], [2, 2]], shape = (4, 4), type = oper, isherm = True\n",
      "Qobj data =\n",
      "[[1. 0. 0. 0.]\n",
      " [0. 1. 0. 0.]\n",
      " [0. 0. 0. 1.]\n",
      " [0. 0. 1. 0.]], Quantum object: dims = [[2, 2], [2, 2]], shape = (4, 4), type = oper, isherm = True\n",
      "Qobj data =\n",
      "[[ 0.70710678  0.          0.70710678  0.        ]\n",
      " [ 0.          0.70710678  0.          0.70710678]\n",
      " [ 0.70710678  0.         -0.70710678  0.        ]\n",
      " [ 0.          0.70710678  0.         -0.70710678]]]\n"
     ]
    }
   ],
   "source": [
    "U_list = qc.propagators()\n",
    "print(U_list)"
   ]
  },
  {
   "cell_type": "code",
   "execution_count": 28,
   "id": "f8877683",
   "metadata": {},
   "outputs": [
    {
     "data": {
      "text/latex": [
       "Quantum object: dims = [[2, 2], [2, 2]], shape = (4, 4), type = oper, isherm = False\\begin{equation*}\\left(\\begin{array}{*{11}c}0.707 & 0.0 & -0.707j & 0.0\\\\0.0 & 0.707 & 0.0 & 0.707j\\\\-0.707j & 0.0 & 0.707 & 0.0\\\\0.0 & 0.707j & 0.0 & 0.707\\\\\\end{array}\\right)\\end{equation*}"
      ],
      "text/plain": [
       "Quantum object: dims = [[2, 2], [2, 2]], shape = (4, 4), type = oper, isherm = False\n",
       "Qobj data =\n",
       "[[0.70710678+0.j         0.        +0.j         0.        -0.70710678j\n",
       "  0.        +0.j        ]\n",
       " [0.        +0.j         0.70710678+0.j         0.        +0.j\n",
       "  0.        +0.70710678j]\n",
       " [0.        -0.70710678j 0.        +0.j         0.70710678+0.j\n",
       "  0.        +0.j        ]\n",
       " [0.        +0.j         0.        +0.70710678j 0.        +0.j\n",
       "  0.70710678+0.j        ]]"
      ]
     },
     "execution_count": 28,
     "metadata": {},
     "output_type": "execute_result"
    }
   ],
   "source": [
    "U_list[0]*U_list[1]*U_list[2]*U_list[3]*U_list[4]"
   ]
  },
  {
   "cell_type": "markdown",
   "id": "bcebb359",
   "metadata": {},
   "source": [
    "## $\\exp(-i\\theta\\sigma_{y}\\sigma_{z}\\sigma_{x})$"
   ]
  },
  {
   "cell_type": "code",
   "execution_count": 29,
   "id": "69d823a1",
   "metadata": {},
   "outputs": [],
   "source": [
    "oper=-1*theta*tensor(sig_y,sig_z,sig_x)\n",
    "U=oper.expm()"
   ]
  },
  {
   "cell_type": "code",
   "execution_count": 30,
   "id": "85af0e39",
   "metadata": {},
   "outputs": [
    {
     "data": {
      "text/latex": [
       "Quantum object: dims = [[2, 2, 2], [2, 2, 2]], shape = (8, 8), type = oper, isherm = False\\begin{equation*}\\left(\\begin{array}{*{11}c}0.707 & 0.0 & 0.0 & 0.0 & 0.0 & -0.707 & 0.0 & 0.0\\\\0.0 & 0.707 & 0.0 & 0.0 & -0.707 & 0.0 & 0.0 & 0.0\\\\0.0 & 0.0 & 0.707 & 0.0 & 0.0 & 0.0 & 0.0 & 0.707\\\\0.0 & 0.0 & 0.0 & 0.707 & 0.0 & 0.0 & 0.707 & 0.0\\\\0.0 & 0.707 & 0.0 & 0.0 & 0.707 & 0.0 & 0.0 & 0.0\\\\0.707 & 0.0 & 0.0 & 0.0 & 0.0 & 0.707 & 0.0 & 0.0\\\\0.0 & 0.0 & 0.0 & -0.707 & 0.0 & 0.0 & 0.707 & 0.0\\\\0.0 & 0.0 & -0.707 & 0.0 & 0.0 & 0.0 & 0.0 & 0.707\\\\\\end{array}\\right)\\end{equation*}"
      ],
      "text/plain": [
       "Quantum object: dims = [[2, 2, 2], [2, 2, 2]], shape = (8, 8), type = oper, isherm = False\n",
       "Qobj data =\n",
       "[[ 0.70710678  0.          0.          0.          0.         -0.70710678\n",
       "   0.          0.        ]\n",
       " [ 0.          0.70710678  0.          0.         -0.70710678  0.\n",
       "   0.          0.        ]\n",
       " [ 0.          0.          0.70710678  0.          0.          0.\n",
       "   0.          0.70710678]\n",
       " [ 0.          0.          0.          0.70710678  0.          0.\n",
       "   0.70710678  0.        ]\n",
       " [ 0.          0.70710678  0.          0.          0.70710678  0.\n",
       "   0.          0.        ]\n",
       " [ 0.70710678  0.          0.          0.          0.          0.70710678\n",
       "   0.          0.        ]\n",
       " [ 0.          0.          0.         -0.70710678  0.          0.\n",
       "   0.70710678  0.        ]\n",
       " [ 0.          0.         -0.70710678  0.          0.          0.\n",
       "   0.          0.70710678]]"
      ]
     },
     "execution_count": 30,
     "metadata": {},
     "output_type": "execute_result"
    }
   ],
   "source": [
    "U"
   ]
  },
  {
   "cell_type": "code",
   "execution_count": 31,
   "id": "3ecf0ae5",
   "metadata": {
    "scrolled": true
   },
   "outputs": [
    {
     "data": {
      "image/png": "[encoded data removed]",
      "text/plain": [
       "<IPython.core.display.Image object>"
      ]
     },
     "execution_count": 31,
     "metadata": {},
     "output_type": "execute_result"
    }
   ],
   "source": [
    "from qutip.qip.circuit import QubitCircuit, Gate\n",
    "\n",
    "\n",
    "qc = QubitCircuit(3)\n",
    "qc.add_gate(\"RX\",targets=0,arg_value=np.pi/2)\n",
    "qc.add_gate(\"SNOT\",targets=2)\n",
    "\n",
    "qc.add_gate(\"CNOT\",controls=0,targets=1)\n",
    "qc.add_gate(\"CNOT\",controls=1,targets=2)\n",
    "\n",
    "qc.add_gate(\"RZ\",targets=2,arg_value=-1*np.pi/2) # arg_value=2*theta\n",
    "\n",
    "qc.add_gate(\"CNOT\",controls=1,targets=2)\n",
    "qc.add_gate(\"CNOT\",controls=0,targets=1)\n",
    "\n",
    "qc.add_gate(\"SNOT\",targets=2)\n",
    "qc.add_gate(\"RX\",targets=0,arg_value=-1*np.pi/2)\n",
    "\n",
    "#qc.add_gate(\"SNOT\",targets=2)\n",
    "qc.png"
   ]
  },
  {
   "cell_type": "code",
   "execution_count": 32,
   "id": "54d423ab",
   "metadata": {},
   "outputs": [],
   "source": [
    "U_list = qc.propagators()\n",
    "#print(U_list)"
   ]
  },
  {
   "cell_type": "code",
   "execution_count": 33,
   "id": "9d7495b6",
   "metadata": {},
   "outputs": [
    {
     "data": {
      "text/latex": [
       "Quantum object: dims = [[2, 2, 2], [2, 2, 2]], shape = (8, 8), type = oper, isherm = False\\begin{equation*}\\left(\\begin{array}{*{11}c}0.707 & 0.0 & 0.0 & 0.0 & 0.0 & -0.707 & 0.0 & 0.0\\\\0.0 & 0.707 & 0.0 & 0.0 & -0.707 & 0.0 & 0.0 & 0.0\\\\0.0 & 0.0 & 0.707 & 0.0 & 0.0 & 0.0 & 0.0 & 0.707\\\\0.0 & 0.0 & 0.0 & 0.707 & 0.0 & 0.0 & 0.707 & 0.0\\\\0.0 & 0.707 & 0.0 & 0.0 & 0.707 & 0.0 & 0.0 & 0.0\\\\0.707 & 0.0 & 0.0 & 0.0 & 0.0 & 0.707 & 0.0 & 0.0\\\\0.0 & 0.0 & 0.0 & -0.707 & 0.0 & 0.0 & 0.707 & 0.0\\\\0.0 & 0.0 & -0.707 & 0.0 & 0.0 & 0.0 & 0.0 & 0.707\\\\\\end{array}\\right)\\end{equation*}"
      ],
      "text/plain": [
       "Quantum object: dims = [[2, 2, 2], [2, 2, 2]], shape = (8, 8), type = oper, isherm = False\n",
       "Qobj data =\n",
       "[[ 0.70710678  0.          0.          0.          0.         -0.70710678\n",
       "   0.          0.        ]\n",
       " [ 0.          0.70710678  0.          0.         -0.70710678  0.\n",
       "   0.          0.        ]\n",
       " [ 0.          0.          0.70710678  0.          0.          0.\n",
       "   0.          0.70710678]\n",
       " [ 0.          0.          0.          0.70710678  0.          0.\n",
       "   0.70710678  0.        ]\n",
       " [ 0.          0.70710678  0.          0.          0.70710678  0.\n",
       "   0.          0.        ]\n",
       " [ 0.70710678  0.          0.          0.          0.          0.70710678\n",
       "   0.          0.        ]\n",
       " [ 0.          0.          0.         -0.70710678  0.          0.\n",
       "   0.70710678  0.        ]\n",
       " [ 0.          0.         -0.70710678  0.          0.          0.\n",
       "   0.          0.70710678]]"
      ]
     },
     "execution_count": 33,
     "metadata": {},
     "output_type": "execute_result"
    }
   ],
   "source": [
    "Usim=U_list[0]*U_list[1]*U_list[2]*U_list[3]*U_list[4]*U_list[5]*U_list[6]*U_list[7]*U_list[8]\n",
    "Usim"
   ]
  },
  {
   "cell_type": "code",
   "execution_count": 34,
   "id": "62df7f62",
   "metadata": {},
   "outputs": [
    {
     "data": {
      "text/latex": [
       "Quantum object: dims = [[2, 2, 2], [2, 2, 2]], shape = (8, 8), type = oper, isherm = False\\begin{equation*}\\left(\\begin{array}{*{11}c}0.707 & 0.0 & 0.0 & 0.0 & 0.0 & -0.707 & 0.0 & 0.0\\\\0.0 & 0.707 & 0.0 & 0.0 & -0.707 & 0.0 & 0.0 & 0.0\\\\0.0 & 0.0 & 0.707 & 0.0 & 0.0 & 0.0 & 0.0 & 0.707\\\\0.0 & 0.0 & 0.0 & 0.707 & 0.0 & 0.0 & 0.707 & 0.0\\\\0.0 & 0.707 & 0.0 & 0.0 & 0.707 & 0.0 & 0.0 & 0.0\\\\0.707 & 0.0 & 0.0 & 0.0 & 0.0 & 0.707 & 0.0 & 0.0\\\\0.0 & 0.0 & 0.0 & -0.707 & 0.0 & 0.0 & 0.707 & 0.0\\\\0.0 & 0.0 & -0.707 & 0.0 & 0.0 & 0.0 & 0.0 & 0.707\\\\\\end{array}\\right)\\end{equation*}"
      ],
      "text/plain": [
       "Quantum object: dims = [[2, 2, 2], [2, 2, 2]], shape = (8, 8), type = oper, isherm = False\n",
       "Qobj data =\n",
       "[[ 0.70710678  0.          0.          0.          0.         -0.70710678\n",
       "   0.          0.        ]\n",
       " [ 0.          0.70710678  0.          0.         -0.70710678  0.\n",
       "   0.          0.        ]\n",
       " [ 0.          0.          0.70710678  0.          0.          0.\n",
       "   0.          0.70710678]\n",
       " [ 0.          0.          0.          0.70710678  0.          0.\n",
       "   0.70710678  0.        ]\n",
       " [ 0.          0.70710678  0.          0.          0.70710678  0.\n",
       "   0.          0.        ]\n",
       " [ 0.70710678  0.          0.          0.          0.          0.70710678\n",
       "   0.          0.        ]\n",
       " [ 0.          0.          0.         -0.70710678  0.          0.\n",
       "   0.70710678  0.        ]\n",
       " [ 0.          0.         -0.70710678  0.          0.          0.\n",
       "   0.          0.70710678]]"
      ]
     },
     "execution_count": 34,
     "metadata": {},
     "output_type": "execute_result"
    }
   ],
   "source": [
    "U"
   ]
  },
  {
   "cell_type": "code",
   "execution_count": 35,
   "id": "1cf167e0",
   "metadata": {},
   "outputs": [
    {
     "data": {
      "text/plain": [
       "True"
      ]
     },
     "execution_count": 35,
     "metadata": {},
     "output_type": "execute_result"
    }
   ],
   "source": [
    "Usim==U"
   ]
  },
  {
   "cell_type": "markdown",
   "id": "dcffb711",
   "metadata": {},
   "source": [
    "## $\\exp(i\\theta \\sigma_{x}^{0}\\sigma_{x}^{1}\\sigma_{y}^{3}\\sigma_{y}^{4}\\sigma_{z}^{5})$"
   ]
  },
  {
   "cell_type": "code",
   "execution_count": 36,
   "id": "adf8dc08",
   "metadata": {},
   "outputs": [],
   "source": [
    "oper=theta*tensor(sig_x,sig_x,I,sig_y,sig_y,sig_z)\n",
    "U=oper.expm()"
   ]
  },
  {
   "cell_type": "code",
   "execution_count": 37,
   "id": "959b354c",
   "metadata": {},
   "outputs": [
    {
     "data": {
      "text/latex": [
       "Quantum object: dims = [[2, 2, 2, 2, 2, 2], [2, 2, 2, 2, 2, 2]], shape = (64, 64), type = oper, isherm = False\\begin{equation*}\\left(\\begin{array}{*{11}c}0.707 & 0.0 & 0.0 & 0.0 & 0.0 & \\cdots & 0.0 & 0.0 & 0.0 & 0.0 & 0.0\\\\0.0 & 0.707 & 0.0 & 0.0 & 0.0 & \\cdots & 0.0 & 0.0 & 0.0 & 0.0 & 0.0\\\\0.0 & 0.0 & 0.707 & 0.0 & 0.0 & \\cdots & 0.0 & 0.0 & 0.0 & 0.0 & 0.0\\\\0.0 & 0.0 & 0.0 & 0.707 & 0.0 & \\cdots & 0.0 & 0.0 & 0.0 & 0.0 & 0.0\\\\0.0 & 0.0 & 0.0 & 0.0 & 0.707 & \\cdots & 0.0 & 0.0 & 0.0 & 0.0 & 0.0\\\\\\vdots & \\vdots & \\vdots & \\vdots & \\vdots & \\ddots & \\vdots & \\vdots & \\vdots & \\vdots & \\vdots\\\\0.0 & 0.0 & 0.0 & 0.0 & 0.0 & \\cdots & 0.707 & 0.0 & 0.0 & 0.0 & 0.0\\\\0.0 & 0.0 & 0.0 & 0.0 & 0.0 & \\cdots & 0.0 & 0.707 & 0.0 & 0.0 & 0.0\\\\0.0 & 0.0 & 0.0 & 0.0 & 0.0 & \\cdots & 0.0 & 0.0 & 0.707 & 0.0 & 0.0\\\\0.0 & 0.0 & 0.0 & 0.0 & 0.0 & \\cdots & 0.0 & 0.0 & 0.0 & 0.707 & 0.0\\\\0.0 & 0.0 & 0.0 & 0.0 & 0.0 & \\cdots & 0.0 & 0.0 & 0.0 & 0.0 & 0.707\\\\\\end{array}\\right)\\end{equation*}"
      ],
      "text/plain": [
       "Quantum object: dims = [[2, 2, 2, 2, 2, 2], [2, 2, 2, 2, 2, 2]], shape = (64, 64), type = oper, isherm = False\n",
       "Qobj data =\n",
       "[[0.70710678+0.j 0.        +0.j 0.        +0.j ... 0.        +0.j\n",
       "  0.        +0.j 0.        +0.j]\n",
       " [0.        +0.j 0.70710678+0.j 0.        +0.j ... 0.        +0.j\n",
       "  0.        +0.j 0.        +0.j]\n",
       " [0.        +0.j 0.        +0.j 0.70710678+0.j ... 0.        +0.j\n",
       "  0.        +0.j 0.        +0.j]\n",
       " ...\n",
       " [0.        +0.j 0.        +0.j 0.        +0.j ... 0.70710678+0.j\n",
       "  0.        +0.j 0.        +0.j]\n",
       " [0.        +0.j 0.        +0.j 0.        +0.j ... 0.        +0.j\n",
       "  0.70710678+0.j 0.        +0.j]\n",
       " [0.        +0.j 0.        +0.j 0.        +0.j ... 0.        +0.j\n",
       "  0.        +0.j 0.70710678+0.j]]"
      ]
     },
     "execution_count": 37,
     "metadata": {},
     "output_type": "execute_result"
    }
   ],
   "source": [
    "U"
   ]
  },
  {
   "cell_type": "code",
   "execution_count": 38,
   "id": "c1920b42",
   "metadata": {},
   "outputs": [
    {
     "data": {
      "image/png": "[encoded data removed]",
      "text/plain": [
       "<IPython.core.display.Image object>"
      ]
     },
     "execution_count": 38,
     "metadata": {},
     "output_type": "execute_result"
    }
   ],
   "source": [
    "qc=QubitCircuit(6)\n",
    "\n",
    "qc.add_gate(\"SNOT\",targets=0)\n",
    "qc.add_gate(\"SNOT\",targets=1)\n",
    "qc.add_gate(\"RX\",targets=3,arg_value=np.pi/2)\n",
    "qc.add_gate(\"RX\",targets=4,arg_value=np.pi/2)\n",
    "\n",
    "qc.add_gate(\"CNOT\",controls=0,targets=1)\n",
    "qc.add_gate(\"CNOT\",controls=1,targets=3)\n",
    "#qc.add_gate(\"CNOT\",controls=2,targets=3)\n",
    "qc.add_gate(\"CNOT\",controls=3,targets=4)\n",
    "qc.add_gate(\"CNOT\",controls=4,targets=5)\n",
    "\n",
    "qc.add_gate(\"RZ\",targets=5,arg_value=-1*np.pi/2) # arg_value=2*theta\n",
    "\n",
    "qc.add_gate(\"CNOT\",controls=4,targets=5)\n",
    "qc.add_gate(\"CNOT\",controls=3,targets=4)\n",
    "#qc.add_gate(\"CNOT\",controls=2,targets=3)\n",
    "qc.add_gate(\"CNOT\",controls=1,targets=3)\n",
    "qc.add_gate(\"CNOT\",controls=0,targets=1)\n",
    "\n",
    "qc.add_gate(\"RX\",targets=4,arg_value=-1*np.pi/2)\n",
    "qc.add_gate(\"RX\",targets=3,arg_value=-1*np.pi/2)\n",
    "qc.add_gate(\"SNOT\",targets=1)\n",
    "qc.add_gate(\"SNOT\",targets=0)\n",
    "qc.png"
   ]
  },
  {
   "cell_type": "code",
   "execution_count": 39,
   "id": "d5b2e388",
   "metadata": {},
   "outputs": [
    {
     "data": {
      "text/plain": [
       "17"
      ]
     },
     "execution_count": 39,
     "metadata": {},
     "output_type": "execute_result"
    }
   ],
   "source": [
    "U_list = qc.propagators()\n",
    "#print(U_list)\n",
    "len(U_list)"
   ]
  },
  {
   "cell_type": "code",
   "execution_count": 40,
   "id": "b5ae17fc",
   "metadata": {},
   "outputs": [
    {
     "data": {
      "text/latex": [
       "Quantum object: dims = [[2, 2, 2, 2, 2, 2], [2, 2, 2, 2, 2, 2]], shape = (64, 64), type = oper, isherm = False\\begin{equation*}\\left(\\begin{array}{*{11}c}0.707 & 0.0 & 0.0 & 0.0 & 0.0 & \\cdots & 0.0 & 0.0 & 0.0 & 0.0 & 0.0\\\\0.0 & 0.707 & 0.0 & 0.0 & 0.0 & \\cdots & 0.0 & 0.0 & 0.0 & 0.0 & 0.0\\\\0.0 & 0.0 & 0.707 & 0.0 & 0.0 & \\cdots & 0.0 & 0.0 & 0.0 & 0.0 & 0.0\\\\0.0 & 0.0 & 0.0 & 0.707 & 0.0 & \\cdots & 0.0 & 0.0 & 0.0 & 0.0 & 0.0\\\\0.0 & 0.0 & 0.0 & 0.0 & 0.707 & \\cdots & 0.0 & 0.0 & 0.0 & 0.0 & 0.0\\\\\\vdots & \\vdots & \\vdots & \\vdots & \\vdots & \\ddots & \\vdots & \\vdots & \\vdots & \\vdots & \\vdots\\\\0.0 & 0.0 & 0.0 & 0.0 & 0.0 & \\cdots & 0.707 & 0.0 & 0.0 & 0.0 & 0.0\\\\0.0 & 0.0 & 0.0 & 0.0 & 0.0 & \\cdots & 0.0 & 0.707 & 0.0 & 0.0 & 0.0\\\\0.0 & 0.0 & 0.0 & 0.0 & 0.0 & \\cdots & 0.0 & 0.0 & 0.707 & 0.0 & 0.0\\\\0.0 & 0.0 & 0.0 & 0.0 & 0.0 & \\cdots & 0.0 & 0.0 & 0.0 & 0.707 & 0.0\\\\0.0 & 0.0 & 0.0 & 0.0 & 0.0 & \\cdots & 0.0 & 0.0 & 0.0 & 0.0 & 0.707\\\\\\end{array}\\right)\\end{equation*}"
      ],
      "text/plain": [
       "Quantum object: dims = [[2, 2, 2, 2, 2, 2], [2, 2, 2, 2, 2, 2]], shape = (64, 64), type = oper, isherm = False\n",
       "Qobj data =\n",
       "[[0.70710678+0.j 0.        +0.j 0.        +0.j ... 0.        +0.j\n",
       "  0.        +0.j 0.        +0.j]\n",
       " [0.        +0.j 0.70710678+0.j 0.        +0.j ... 0.        +0.j\n",
       "  0.        +0.j 0.        +0.j]\n",
       " [0.        +0.j 0.        +0.j 0.70710678+0.j ... 0.        +0.j\n",
       "  0.        +0.j 0.        +0.j]\n",
       " ...\n",
       " [0.        +0.j 0.        +0.j 0.        +0.j ... 0.70710678+0.j\n",
       "  0.        +0.j 0.        +0.j]\n",
       " [0.        +0.j 0.        +0.j 0.        +0.j ... 0.        +0.j\n",
       "  0.70710678+0.j 0.        +0.j]\n",
       " [0.        +0.j 0.        +0.j 0.        +0.j ... 0.        +0.j\n",
       "  0.        +0.j 0.70710678+0.j]]"
      ]
     },
     "execution_count": 40,
     "metadata": {},
     "output_type": "execute_result"
    }
   ],
   "source": [
    "Usim=U_list[0]*U_list[1]*U_list[2]*U_list[3]*U_list[4]*U_list[5]*U_list[6]*U_list[7]*U_list[8]*U_list[9]*U_list[10]*U_list[11]*U_list[12]*U_list[13]*U_list[14]*U_list[15]*U_list[16]\n",
    "Usim"
   ]
  },
  {
   "cell_type": "code",
   "execution_count": 41,
   "id": "1c234b82",
   "metadata": {},
   "outputs": [
    {
     "data": {
      "text/plain": [
       "True"
      ]
     },
     "execution_count": 41,
     "metadata": {},
     "output_type": "execute_result"
    }
   ],
   "source": [
    "U==Usim"
   ]
  },
  {
   "cell_type": "markdown",
   "id": "01ec98f1",
   "metadata": {},
   "source": [
    "## $\\exp(i\\theta \\sigma_{x}^{0}\\sigma_{x}^{1}\\sigma_{z}^{2}\\sigma_{y}^{3}\\sigma_{y}^{4})$"
   ]
  },
  {
   "cell_type": "code",
   "execution_count": 42,
   "id": "eae9e957",
   "metadata": {},
   "outputs": [],
   "source": [
    "oper=theta*tensor(sig_x,sig_x,sig_z,sig_y,sig_y,I)\n",
    "U=oper.expm()"
   ]
  },
  {
   "cell_type": "code",
   "execution_count": 43,
   "id": "6cb9363d",
   "metadata": {},
   "outputs": [
    {
     "data": {
      "text/latex": [
       "Quantum object: dims = [[2, 2, 2, 2, 2, 2], [2, 2, 2, 2, 2, 2]], shape = (64, 64), type = oper, isherm = False\\begin{equation*}\\left(\\begin{array}{*{11}c}0.707 & 0.0 & 0.0 & 0.0 & 0.0 & \\cdots & 0.0 & 0.0 & 0.0 & 0.0 & 0.0\\\\0.0 & 0.707 & 0.0 & 0.0 & 0.0 & \\cdots & 0.0 & 0.0 & 0.0 & 0.0 & 0.0\\\\0.0 & 0.0 & 0.707 & 0.0 & 0.0 & \\cdots & 0.0 & 0.0 & 0.0 & 0.0 & 0.0\\\\0.0 & 0.0 & 0.0 & 0.707 & 0.0 & \\cdots & 0.0 & 0.0 & 0.0 & 0.0 & 0.0\\\\0.0 & 0.0 & 0.0 & 0.0 & 0.707 & \\cdots & 0.0 & 0.0 & 0.0 & 0.0 & 0.0\\\\\\vdots & \\vdots & \\vdots & \\vdots & \\vdots & \\ddots & \\vdots & \\vdots & \\vdots & \\vdots & \\vdots\\\\0.0 & 0.0 & 0.0 & 0.0 & 0.0 & \\cdots & 0.707 & 0.0 & 0.0 & 0.0 & 0.0\\\\0.0 & 0.0 & 0.0 & 0.0 & 0.0 & \\cdots & 0.0 & 0.707 & 0.0 & 0.0 & 0.0\\\\0.0 & 0.0 & 0.0 & 0.0 & 0.0 & \\cdots & 0.0 & 0.0 & 0.707 & 0.0 & 0.0\\\\0.0 & 0.0 & 0.0 & 0.0 & 0.0 & \\cdots & 0.0 & 0.0 & 0.0 & 0.707 & 0.0\\\\0.0 & 0.0 & 0.0 & 0.0 & 0.0 & \\cdots & 0.0 & 0.0 & 0.0 & 0.0 & 0.707\\\\\\end{array}\\right)\\end{equation*}"
      ],
      "text/plain": [
       "Quantum object: dims = [[2, 2, 2, 2, 2, 2], [2, 2, 2, 2, 2, 2]], shape = (64, 64), type = oper, isherm = False\n",
       "Qobj data =\n",
       "[[0.70710678+0.j 0.        +0.j 0.        +0.j ... 0.        +0.j\n",
       "  0.        +0.j 0.        +0.j]\n",
       " [0.        +0.j 0.70710678+0.j 0.        +0.j ... 0.        +0.j\n",
       "  0.        +0.j 0.        +0.j]\n",
       " [0.        +0.j 0.        +0.j 0.70710678+0.j ... 0.        +0.j\n",
       "  0.        +0.j 0.        +0.j]\n",
       " ...\n",
       " [0.        +0.j 0.        +0.j 0.        +0.j ... 0.70710678+0.j\n",
       "  0.        +0.j 0.        +0.j]\n",
       " [0.        +0.j 0.        +0.j 0.        +0.j ... 0.        +0.j\n",
       "  0.70710678+0.j 0.        +0.j]\n",
       " [0.        +0.j 0.        +0.j 0.        +0.j ... 0.        +0.j\n",
       "  0.        +0.j 0.70710678+0.j]]"
      ]
     },
     "execution_count": 43,
     "metadata": {},
     "output_type": "execute_result"
    }
   ],
   "source": [
    "U"
   ]
  },
  {
   "cell_type": "code",
   "execution_count": 44,
   "id": "e249cbb1",
   "metadata": {},
   "outputs": [
    {
     "data": {
      "image/png": "[encoded data removed]",
      "text/plain": [
       "<IPython.core.display.Image object>"
      ]
     },
     "execution_count": 44,
     "metadata": {},
     "output_type": "execute_result"
    }
   ],
   "source": [
    "qc=QubitCircuit(6)\n",
    "\n",
    "qc.add_gate(\"SNOT\",targets=0)\n",
    "qc.add_gate(\"SNOT\",targets=1)\n",
    "qc.add_gate(\"RX\",targets=3,arg_value=np.pi/2)\n",
    "qc.add_gate(\"RX\",targets=4,arg_value=np.pi/2)\n",
    "\n",
    "qc.add_gate(\"CNOT\",controls=0,targets=1)\n",
    "qc.add_gate(\"CNOT\",controls=1,targets=2)\n",
    "qc.add_gate(\"CNOT\",controls=2,targets=3)\n",
    "qc.add_gate(\"CNOT\",controls=3,targets=4)\n",
    "#qc.add_gate(\"CNOT\",controls=4,targets=5)\n",
    "\n",
    "qc.add_gate(\"RZ\",targets=4,arg_value=-1*np.pi/2) # arg_value=2*theta\n",
    "\n",
    "#qc.add_gate(\"CNOT\",controls=4,targets=5)\n",
    "qc.add_gate(\"CNOT\",controls=3,targets=4)\n",
    "qc.add_gate(\"CNOT\",controls=2,targets=3)\n",
    "qc.add_gate(\"CNOT\",controls=1,targets=2)\n",
    "qc.add_gate(\"CNOT\",controls=0,targets=1)\n",
    "\n",
    "qc.add_gate(\"RX\",targets=4,arg_value=-1*np.pi/2)\n",
    "qc.add_gate(\"RX\",targets=3,arg_value=-1*np.pi/2)\n",
    "qc.add_gate(\"SNOT\",targets=1)\n",
    "qc.add_gate(\"SNOT\",targets=0)\n",
    "qc.png"
   ]
  },
  {
   "cell_type": "code",
   "execution_count": 45,
   "id": "2572b89b",
   "metadata": {},
   "outputs": [
    {
     "data": {
      "text/plain": [
       "17"
      ]
     },
     "execution_count": 45,
     "metadata": {},
     "output_type": "execute_result"
    }
   ],
   "source": [
    "U_list = qc.propagators()\n",
    "#print(U_list)\n",
    "len(U_list)"
   ]
  },
  {
   "cell_type": "code",
   "execution_count": 46,
   "id": "c1e90355",
   "metadata": {},
   "outputs": [
    {
     "data": {
      "text/latex": [
       "Quantum object: dims = [[2, 2, 2, 2, 2, 2], [2, 2, 2, 2, 2, 2]], shape = (64, 64), type = oper, isherm = False\\begin{equation*}\\left(\\begin{array}{*{11}c}0.707 & 0.0 & 0.0 & 0.0 & 0.0 & \\cdots & 0.0 & 0.0 & 0.0 & 0.0 & 0.0\\\\0.0 & 0.707 & 0.0 & 0.0 & 0.0 & \\cdots & 0.0 & 0.0 & 0.0 & 0.0 & 0.0\\\\0.0 & 0.0 & 0.707 & 0.0 & 0.0 & \\cdots & 0.0 & 0.0 & 0.0 & 0.0 & 0.0\\\\0.0 & 0.0 & 0.0 & 0.707 & 0.0 & \\cdots & 0.0 & 0.0 & 0.0 & 0.0 & 0.0\\\\0.0 & 0.0 & 0.0 & 0.0 & 0.707 & \\cdots & 0.0 & 0.0 & 0.0 & 0.0 & 0.0\\\\\\vdots & \\vdots & \\vdots & \\vdots & \\vdots & \\ddots & \\vdots & \\vdots & \\vdots & \\vdots & \\vdots\\\\0.0 & 0.0 & 0.0 & 0.0 & 0.0 & \\cdots & 0.707 & 0.0 & 0.0 & 0.0 & 0.0\\\\0.0 & 0.0 & 0.0 & 0.0 & 0.0 & \\cdots & 0.0 & 0.707 & 0.0 & 0.0 & 0.0\\\\0.0 & 0.0 & 0.0 & 0.0 & 0.0 & \\cdots & 0.0 & 0.0 & 0.707 & 0.0 & 0.0\\\\0.0 & 0.0 & 0.0 & 0.0 & 0.0 & \\cdots & 0.0 & 0.0 & 0.0 & 0.707 & 0.0\\\\0.0 & 0.0 & 0.0 & 0.0 & 0.0 & \\cdots & 0.0 & 0.0 & 0.0 & 0.0 & 0.707\\\\\\end{array}\\right)\\end{equation*}"
      ],
      "text/plain": [
       "Quantum object: dims = [[2, 2, 2, 2, 2, 2], [2, 2, 2, 2, 2, 2]], shape = (64, 64), type = oper, isherm = False\n",
       "Qobj data =\n",
       "[[0.70710678+0.j 0.        +0.j 0.        +0.j ... 0.        +0.j\n",
       "  0.        +0.j 0.        +0.j]\n",
       " [0.        +0.j 0.70710678+0.j 0.        +0.j ... 0.        +0.j\n",
       "  0.        +0.j 0.        +0.j]\n",
       " [0.        +0.j 0.        +0.j 0.70710678+0.j ... 0.        +0.j\n",
       "  0.        +0.j 0.        +0.j]\n",
       " ...\n",
       " [0.        +0.j 0.        +0.j 0.        +0.j ... 0.70710678+0.j\n",
       "  0.        +0.j 0.        +0.j]\n",
       " [0.        +0.j 0.        +0.j 0.        +0.j ... 0.        +0.j\n",
       "  0.70710678+0.j 0.        +0.j]\n",
       " [0.        +0.j 0.        +0.j 0.        +0.j ... 0.        +0.j\n",
       "  0.        +0.j 0.70710678+0.j]]"
      ]
     },
     "execution_count": 46,
     "metadata": {},
     "output_type": "execute_result"
    }
   ],
   "source": [
    "Usim=U_list[0]*U_list[1]*U_list[2]*U_list[3]*U_list[4]*U_list[5]*U_list[6]*U_list[7]*U_list[8]*U_list[9]*U_list[10]*U_list[11]*U_list[12]*U_list[13]*U_list[14]*U_list[15]*U_list[16]\n",
    "Usim"
   ]
  },
  {
   "cell_type": "code",
   "execution_count": 47,
   "id": "e789c66e",
   "metadata": {},
   "outputs": [
    {
     "data": {
      "text/plain": [
       "True"
      ]
     },
     "execution_count": 47,
     "metadata": {},
     "output_type": "execute_result"
    }
   ],
   "source": [
    "U==Usim"
   ]
  },
  {
   "cell_type": "markdown",
   "id": "3a28b57d",
   "metadata": {},
   "source": [
    "## $\\exp(i\\theta \\sigma_{x}^{0}\\sigma_{x}^{1}\\sigma_{z}^{2}\\sigma_{y}^{3}\\sigma_{y}^{4}\\sigma_{z}^{5})$"
   ]
  },
  {
   "cell_type": "code",
   "execution_count": 98,
   "id": "170a5777",
   "metadata": {},
   "outputs": [],
   "source": [
    "oper=theta*tensor(sig_x,sig_x,sig_z,sig_y,sig_y,sig_z)\n",
    "U=oper.expm()"
   ]
  },
  {
   "cell_type": "code",
   "execution_count": 99,
   "id": "c686f62f",
   "metadata": {},
   "outputs": [
    {
     "data": {
      "text/latex": [
       "Quantum object: dims = [[2, 2, 2, 2, 2, 2], [2, 2, 2, 2, 2, 2]], shape = (64, 64), type = oper, isherm = False\\begin{equation*}\\left(\\begin{array}{*{11}c}0.707 & 0.0 & 0.0 & 0.0 & 0.0 & \\cdots & 0.0 & 0.0 & 0.0 & 0.0 & 0.0\\\\0.0 & 0.707 & 0.0 & 0.0 & 0.0 & \\cdots & 0.0 & 0.0 & 0.0 & 0.0 & 0.0\\\\0.0 & 0.0 & 0.707 & 0.0 & 0.0 & \\cdots & 0.0 & 0.0 & 0.0 & 0.0 & 0.0\\\\0.0 & 0.0 & 0.0 & 0.707 & 0.0 & \\cdots & 0.0 & 0.0 & 0.0 & 0.0 & 0.0\\\\0.0 & 0.0 & 0.0 & 0.0 & 0.707 & \\cdots & 0.0 & 0.0 & 0.0 & 0.0 & 0.0\\\\\\vdots & \\vdots & \\vdots & \\vdots & \\vdots & \\ddots & \\vdots & \\vdots & \\vdots & \\vdots & \\vdots\\\\0.0 & 0.0 & 0.0 & 0.0 & 0.0 & \\cdots & 0.707 & 0.0 & 0.0 & 0.0 & 0.0\\\\0.0 & 0.0 & 0.0 & 0.0 & 0.0 & \\cdots & 0.0 & 0.707 & 0.0 & 0.0 & 0.0\\\\0.0 & 0.0 & 0.0 & 0.0 & 0.0 & \\cdots & 0.0 & 0.0 & 0.707 & 0.0 & 0.0\\\\0.0 & 0.0 & 0.0 & 0.0 & 0.0 & \\cdots & 0.0 & 0.0 & 0.0 & 0.707 & 0.0\\\\0.0 & 0.0 & 0.0 & 0.0 & 0.0 & \\cdots & 0.0 & 0.0 & 0.0 & 0.0 & 0.707\\\\\\end{array}\\right)\\end{equation*}"
      ],
      "text/plain": [
       "Quantum object: dims = [[2, 2, 2, 2, 2, 2], [2, 2, 2, 2, 2, 2]], shape = (64, 64), type = oper, isherm = False\n",
       "Qobj data =\n",
       "[[0.70710678+0.j 0.        +0.j 0.        +0.j ... 0.        +0.j\n",
       "  0.        +0.j 0.        +0.j]\n",
       " [0.        +0.j 0.70710678+0.j 0.        +0.j ... 0.        +0.j\n",
       "  0.        +0.j 0.        +0.j]\n",
       " [0.        +0.j 0.        +0.j 0.70710678+0.j ... 0.        +0.j\n",
       "  0.        +0.j 0.        +0.j]\n",
       " ...\n",
       " [0.        +0.j 0.        +0.j 0.        +0.j ... 0.70710678+0.j\n",
       "  0.        +0.j 0.        +0.j]\n",
       " [0.        +0.j 0.        +0.j 0.        +0.j ... 0.        +0.j\n",
       "  0.70710678+0.j 0.        +0.j]\n",
       " [0.        +0.j 0.        +0.j 0.        +0.j ... 0.        +0.j\n",
       "  0.        +0.j 0.70710678+0.j]]"
      ]
     },
     "execution_count": 99,
     "metadata": {},
     "output_type": "execute_result"
    }
   ],
   "source": [
    "U"
   ]
  },
  {
   "cell_type": "code",
   "execution_count": 100,
   "id": "5682b2ec",
   "metadata": {},
   "outputs": [
    {
     "data": {
      "image/png": "[encoded data removed]",
      "text/plain": [
       "<IPython.core.display.Image object>"
      ]
     },
     "execution_count": 100,
     "metadata": {},
     "output_type": "execute_result"
    }
   ],
   "source": [
    "qc=QubitCircuit(6)\n",
    "\n",
    "qc.add_gate(\"SNOT\",targets=0)\n",
    "qc.add_gate(\"SNOT\",targets=1)\n",
    "qc.add_gate(\"RX\",targets=3,arg_value=np.pi/2)\n",
    "qc.add_gate(\"RX\",targets=4,arg_value=np.pi/2)\n",
    "\n",
    "qc.add_gate(\"CNOT\",controls=0,targets=1)\n",
    "qc.add_gate(\"CNOT\",controls=1,targets=2)\n",
    "qc.add_gate(\"CNOT\",controls=2,targets=3)\n",
    "qc.add_gate(\"CNOT\",controls=3,targets=4)\n",
    "qc.add_gate(\"CNOT\",controls=4,targets=5)\n",
    "\n",
    "qc.add_gate(\"RZ\",targets=5,arg_value=-1*np.pi/2) # arg_value=2*theta\n",
    "\n",
    "qc.add_gate(\"CNOT\",controls=4,targets=5)\n",
    "qc.add_gate(\"CNOT\",controls=3,targets=4)\n",
    "qc.add_gate(\"CNOT\",controls=2,targets=3)\n",
    "qc.add_gate(\"CNOT\",controls=1,targets=2)\n",
    "qc.add_gate(\"CNOT\",controls=0,targets=1)\n",
    "\n",
    "qc.add_gate(\"RX\",targets=4,arg_value=-1*np.pi/2)\n",
    "qc.add_gate(\"RX\",targets=3,arg_value=-1*np.pi/2)\n",
    "qc.add_gate(\"SNOT\",targets=1)\n",
    "qc.add_gate(\"SNOT\",targets=0)\n",
    "qc.png"
   ]
  },
  {
   "cell_type": "code",
   "execution_count": 101,
   "id": "dbb7dc58",
   "metadata": {
    "scrolled": true
   },
   "outputs": [
    {
     "data": {
      "text/plain": [
       "19"
      ]
     },
     "execution_count": 101,
     "metadata": {},
     "output_type": "execute_result"
    }
   ],
   "source": [
    "U_list = qc.propagators()\n",
    "#print(U_list)\n",
    "len(U_list)"
   ]
  },
  {
   "cell_type": "code",
   "execution_count": 102,
   "id": "f7f499b8",
   "metadata": {},
   "outputs": [
    {
     "data": {
      "text/plain": [
       "array([[0.70710678+0.j, 0.        +0.j, 0.        +0.j, ...,\n",
       "        0.        +0.j, 0.        +0.j, 0.        +0.j],\n",
       "       [0.        +0.j, 0.70710678+0.j, 0.        +0.j, ...,\n",
       "        0.        +0.j, 0.        +0.j, 0.        +0.j],\n",
       "       [0.        +0.j, 0.        +0.j, 0.70710678+0.j, ...,\n",
       "        0.        +0.j, 0.        +0.j, 0.        +0.j],\n",
       "       ...,\n",
       "       [0.        +0.j, 0.        +0.j, 0.        +0.j, ...,\n",
       "        0.70710678+0.j, 0.        +0.j, 0.        +0.j],\n",
       "       [0.        +0.j, 0.        +0.j, 0.        +0.j, ...,\n",
       "        0.        +0.j, 0.70710678+0.j, 0.        +0.j],\n",
       "       [0.        +0.j, 0.        +0.j, 0.        +0.j, ...,\n",
       "        0.        +0.j, 0.        +0.j, 0.70710678+0.j]])"
      ]
     },
     "execution_count": 102,
     "metadata": {},
     "output_type": "execute_result"
    }
   ],
   "source": [
    "dim=np.shape(U_list[0])[0]\n",
    "Usim=np.eye(dim)\n",
    "i=0\n",
    "while i<(len(U_list)):\n",
    "    Usim=Usim*U_list[i]\n",
    "    #print(i)\n",
    "    i=i+1\n",
    "    \n",
    "Usim"
   ]
  },
  {
   "cell_type": "raw",
   "id": "1e61743e",
   "metadata": {},
   "source": [
    "Usim=U_list[0]*U_list[1]*U_list[2]*U_list[3]*U_list[4]*U_list[5]*U_list[6]*U_list[7]*U_list[8]*U_list[9]*U_list[10]*U_list[11]*U_list[12]*U_list[13]*U_list[14]*U_list[15]*U_list[16]*U_list[17]*U_list[18]\n",
    "Usim"
   ]
  },
  {
   "cell_type": "code",
   "execution_count": 103,
   "id": "cea2e5a2",
   "metadata": {
    "scrolled": true
   },
   "outputs": [
    {
     "data": {
      "text/plain": [
       "False"
      ]
     },
     "execution_count": 103,
     "metadata": {},
     "output_type": "execute_result"
    }
   ],
   "source": [
    "Usim==U"
   ]
  },
  {
   "cell_type": "markdown",
   "id": "8e490057",
   "metadata": {},
   "source": [
    "## $U_{0134}$ Term"
   ]
  },
  {
   "cell_type": "code",
   "execution_count": 54,
   "id": "e044e195",
   "metadata": {},
   "outputs": [],
   "source": [
    "c=1/4\n",
    "oper=c*(tensor(sig_p,sig_m,I,sig_m,sig_p,I)+tensor(sig_m,sig_p,I,sig_p,sig_m,I))"
   ]
  },
  {
   "cell_type": "code",
   "execution_count": 55,
   "id": "7dfccb07",
   "metadata": {},
   "outputs": [],
   "source": [
    "c2=1/32\n",
    "oper2=c2*(tensor(sig_x,sig_x,I,sig_x,sig_x,I)+tensor(sig_x,sig_x,I,sig_y,sig_y,I)+tensor(sig_x,sig_y,I,sig_x,sig_y,I)-tensor(sig_x,sig_y,I,sig_y,sig_x,I)-tensor(sig_y,sig_x,I,sig_x,sig_y,I)+tensor(sig_y,sig_x,I,sig_y,sig_x,I)+tensor(sig_y,sig_y,I,sig_x,sig_x,I)+tensor(sig_y,sig_y,I,sig_y,sig_y,I))"
   ]
  },
  {
   "cell_type": "code",
   "execution_count": 56,
   "id": "d44a4134",
   "metadata": {},
   "outputs": [
    {
     "data": {
      "text/plain": [
       "True"
      ]
     },
     "execution_count": 56,
     "metadata": {},
     "output_type": "execute_result"
    }
   ],
   "source": [
    "oper==oper2"
   ]
  },
  {
   "cell_type": "markdown",
   "id": "505f7a07",
   "metadata": {},
   "source": [
    "## $2^{nd} term$"
   ]
  },
  {
   "cell_type": "code",
   "execution_count": 57,
   "id": "8a1e524b",
   "metadata": {},
   "outputs": [],
   "source": [
    "c=1/4\n",
    "oper=c*(tensor(sig_p,sig_m,I,sig_m,sig_p,sig_z)+tensor(sig_m,sig_p,I,sig_p,sig_m,sig_z))"
   ]
  },
  {
   "cell_type": "code",
   "execution_count": 58,
   "id": "ac19b0a1",
   "metadata": {},
   "outputs": [
    {
     "data": {
      "text/latex": [
       "Quantum object: dims = [[2, 2, 2, 2, 2, 2], [2, 2, 2, 2, 2, 2]], shape = (64, 64), type = oper, isherm = True\\begin{equation*}\\left(\\begin{array}{*{11}c}0.0 & 0.0 & 0.0 & 0.0 & 0.0 & \\cdots & 0.0 & 0.0 & 0.0 & 0.0 & 0.0\\\\0.0 & 0.0 & 0.0 & 0.0 & 0.0 & \\cdots & 0.0 & 0.0 & 0.0 & 0.0 & 0.0\\\\0.0 & 0.0 & 0.0 & 0.0 & 0.0 & \\cdots & 0.0 & 0.0 & 0.0 & 0.0 & 0.0\\\\0.0 & 0.0 & 0.0 & 0.0 & 0.0 & \\cdots & 0.0 & 0.0 & 0.0 & 0.0 & 0.0\\\\0.0 & 0.0 & 0.0 & 0.0 & 0.0 & \\cdots & 0.0 & 0.0 & 0.0 & 0.0 & 0.0\\\\\\vdots & \\vdots & \\vdots & \\vdots & \\vdots & \\ddots & \\vdots & \\vdots & \\vdots & \\vdots & \\vdots\\\\0.0 & 0.0 & 0.0 & 0.0 & 0.0 & \\cdots & 0.0 & 0.0 & 0.0 & 0.0 & 0.0\\\\0.0 & 0.0 & 0.0 & 0.0 & 0.0 & \\cdots & 0.0 & 0.0 & 0.0 & 0.0 & 0.0\\\\0.0 & 0.0 & 0.0 & 0.0 & 0.0 & \\cdots & 0.0 & 0.0 & 0.0 & 0.0 & 0.0\\\\0.0 & 0.0 & 0.0 & 0.0 & 0.0 & \\cdots & 0.0 & 0.0 & 0.0 & 0.0 & 0.0\\\\0.0 & 0.0 & 0.0 & 0.0 & 0.0 & \\cdots & 0.0 & 0.0 & 0.0 & 0.0 & 0.0\\\\\\end{array}\\right)\\end{equation*}"
      ],
      "text/plain": [
       "Quantum object: dims = [[2, 2, 2, 2, 2, 2], [2, 2, 2, 2, 2, 2]], shape = (64, 64), type = oper, isherm = True\n",
       "Qobj data =\n",
       "[[0. 0. 0. ... 0. 0. 0.]\n",
       " [0. 0. 0. ... 0. 0. 0.]\n",
       " [0. 0. 0. ... 0. 0. 0.]\n",
       " ...\n",
       " [0. 0. 0. ... 0. 0. 0.]\n",
       " [0. 0. 0. ... 0. 0. 0.]\n",
       " [0. 0. 0. ... 0. 0. 0.]]"
      ]
     },
     "execution_count": 58,
     "metadata": {},
     "output_type": "execute_result"
    }
   ],
   "source": [
    "oper"
   ]
  },
  {
   "cell_type": "code",
   "execution_count": 59,
   "id": "38e2f1c8",
   "metadata": {},
   "outputs": [],
   "source": [
    "import pandas as pd\n",
    "Umat=np.matrix(oper)\n",
    "df = pd.DataFrame(data=Umat.astype(complex))\n",
    "df.to_csv('Unitary_matrix_Second Term.csv', sep=' ', header=False, float_format='%.4f', index=False)"
   ]
  },
  {
   "cell_type": "code",
   "execution_count": 60,
   "id": "f36c9c1e",
   "metadata": {},
   "outputs": [],
   "source": [
    "c2=1/32\n",
    "oper2=c2*(tensor(sig_x,sig_x,I,sig_x,sig_x,sig_z)+tensor(sig_x,sig_x,I,sig_y,sig_y,sig_z)+tensor(sig_x,sig_y,I,sig_x,sig_y,sig_z)-tensor(sig_x,sig_y,I,sig_y,sig_x,sig_z)-tensor(sig_y,sig_x,I,sig_x,sig_y,sig_z)+tensor(sig_y,sig_x,I,sig_y,sig_x,sig_z)+tensor(sig_y,sig_y,I,sig_x,sig_x,sig_z)+tensor(sig_y,sig_y,I,sig_y,sig_y,sig_z))"
   ]
  },
  {
   "cell_type": "code",
   "execution_count": 61,
   "id": "2101dc03",
   "metadata": {},
   "outputs": [
    {
     "data": {
      "text/latex": [
       "Quantum object: dims = [[2, 2, 2, 2, 2, 2], [2, 2, 2, 2, 2, 2]], shape = (64, 64), type = oper, isherm = True\\begin{equation*}\\left(\\begin{array}{*{11}c}0.0 & 0.0 & 0.0 & 0.0 & 0.0 & \\cdots & 0.0 & 0.0 & 0.0 & 0.0 & 0.0\\\\0.0 & 0.0 & 0.0 & 0.0 & 0.0 & \\cdots & 0.0 & 0.0 & 0.0 & 0.0 & 0.0\\\\0.0 & 0.0 & 0.0 & 0.0 & 0.0 & \\cdots & 0.0 & 0.0 & 0.0 & 0.0 & 0.0\\\\0.0 & 0.0 & 0.0 & 0.0 & 0.0 & \\cdots & 0.0 & 0.0 & 0.0 & 0.0 & 0.0\\\\0.0 & 0.0 & 0.0 & 0.0 & 0.0 & \\cdots & 0.0 & 0.0 & 0.0 & 0.0 & 0.0\\\\\\vdots & \\vdots & \\vdots & \\vdots & \\vdots & \\ddots & \\vdots & \\vdots & \\vdots & \\vdots & \\vdots\\\\0.0 & 0.0 & 0.0 & 0.0 & 0.0 & \\cdots & 0.0 & 0.0 & 0.0 & 0.0 & 0.0\\\\0.0 & 0.0 & 0.0 & 0.0 & 0.0 & \\cdots & 0.0 & 0.0 & 0.0 & 0.0 & 0.0\\\\0.0 & 0.0 & 0.0 & 0.0 & 0.0 & \\cdots & 0.0 & 0.0 & 0.0 & 0.0 & 0.0\\\\0.0 & 0.0 & 0.0 & 0.0 & 0.0 & \\cdots & 0.0 & 0.0 & 0.0 & 0.0 & 0.0\\\\0.0 & 0.0 & 0.0 & 0.0 & 0.0 & \\cdots & 0.0 & 0.0 & 0.0 & 0.0 & 0.0\\\\\\end{array}\\right)\\end{equation*}"
      ],
      "text/plain": [
       "Quantum object: dims = [[2, 2, 2, 2, 2, 2], [2, 2, 2, 2, 2, 2]], shape = (64, 64), type = oper, isherm = True\n",
       "Qobj data =\n",
       "[[0. 0. 0. ... 0. 0. 0.]\n",
       " [0. 0. 0. ... 0. 0. 0.]\n",
       " [0. 0. 0. ... 0. 0. 0.]\n",
       " ...\n",
       " [0. 0. 0. ... 0. 0. 0.]\n",
       " [0. 0. 0. ... 0. 0. 0.]\n",
       " [0. 0. 0. ... 0. 0. 0.]]"
      ]
     },
     "execution_count": 61,
     "metadata": {},
     "output_type": "execute_result"
    }
   ],
   "source": [
    "oper2"
   ]
  },
  {
   "cell_type": "code",
   "execution_count": 62,
   "id": "b868a255",
   "metadata": {},
   "outputs": [
    {
     "data": {
      "text/plain": [
       "True"
      ]
     },
     "execution_count": 62,
     "metadata": {},
     "output_type": "execute_result"
    }
   ],
   "source": [
    "oper==oper2 "
   ]
  },
  {
   "cell_type": "code",
   "execution_count": 63,
   "id": "93cd7f51",
   "metadata": {},
   "outputs": [],
   "source": [
    "import pandas as pd\n",
    "Umat=np.matrix(oper2)\n",
    "df = pd.DataFrame(data=Umat.astype(complex))\n",
    "df.to_csv('Unitary_matrix_oper2.csv', sep=' ', header=False, float_format='%.4f', index=False)"
   ]
  },
  {
   "cell_type": "markdown",
   "id": "ed800074",
   "metadata": {},
   "source": [
    "## $3^{rd} term$"
   ]
  },
  {
   "cell_type": "code",
   "execution_count": 64,
   "id": "5ec89e9c",
   "metadata": {},
   "outputs": [],
   "source": [
    "c=1/4\n",
    "oper=c*(tensor(sig_p,sig_m,sig_z,sig_m,sig_p,I)+tensor(sig_m,sig_p,sig_z,sig_p,sig_m,I))"
   ]
  },
  {
   "cell_type": "code",
   "execution_count": 65,
   "id": "5fb3ee44",
   "metadata": {},
   "outputs": [
    {
     "data": {
      "text/latex": [
       "Quantum object: dims = [[2, 2, 2, 2, 2, 2], [2, 2, 2, 2, 2, 2]], shape = (64, 64), type = oper, isherm = True\\begin{equation*}\\left(\\begin{array}{*{11}c}0.0 & 0.0 & 0.0 & 0.0 & 0.0 & \\cdots & 0.0 & 0.0 & 0.0 & 0.0 & 0.0\\\\0.0 & 0.0 & 0.0 & 0.0 & 0.0 & \\cdots & 0.0 & 0.0 & 0.0 & 0.0 & 0.0\\\\0.0 & 0.0 & 0.0 & 0.0 & 0.0 & \\cdots & 0.0 & 0.0 & 0.0 & 0.0 & 0.0\\\\0.0 & 0.0 & 0.0 & 0.0 & 0.0 & \\cdots & 0.0 & 0.0 & 0.0 & 0.0 & 0.0\\\\0.0 & 0.0 & 0.0 & 0.0 & 0.0 & \\cdots & 0.0 & 0.0 & 0.0 & 0.0 & 0.0\\\\\\vdots & \\vdots & \\vdots & \\vdots & \\vdots & \\ddots & \\vdots & \\vdots & \\vdots & \\vdots & \\vdots\\\\0.0 & 0.0 & 0.0 & 0.0 & 0.0 & \\cdots & 0.0 & 0.0 & 0.0 & 0.0 & 0.0\\\\0.0 & 0.0 & 0.0 & 0.0 & 0.0 & \\cdots & 0.0 & 0.0 & 0.0 & 0.0 & 0.0\\\\0.0 & 0.0 & 0.0 & 0.0 & 0.0 & \\cdots & 0.0 & 0.0 & 0.0 & 0.0 & 0.0\\\\0.0 & 0.0 & 0.0 & 0.0 & 0.0 & \\cdots & 0.0 & 0.0 & 0.0 & 0.0 & 0.0\\\\0.0 & 0.0 & 0.0 & 0.0 & 0.0 & \\cdots & 0.0 & 0.0 & 0.0 & 0.0 & 0.0\\\\\\end{array}\\right)\\end{equation*}"
      ],
      "text/plain": [
       "Quantum object: dims = [[2, 2, 2, 2, 2, 2], [2, 2, 2, 2, 2, 2]], shape = (64, 64), type = oper, isherm = True\n",
       "Qobj data =\n",
       "[[0. 0. 0. ... 0. 0. 0.]\n",
       " [0. 0. 0. ... 0. 0. 0.]\n",
       " [0. 0. 0. ... 0. 0. 0.]\n",
       " ...\n",
       " [0. 0. 0. ... 0. 0. 0.]\n",
       " [0. 0. 0. ... 0. 0. 0.]\n",
       " [0. 0. 0. ... 0. 0. 0.]]"
      ]
     },
     "execution_count": 65,
     "metadata": {},
     "output_type": "execute_result"
    }
   ],
   "source": [
    "oper"
   ]
  },
  {
   "cell_type": "code",
   "execution_count": 66,
   "id": "6f341f69",
   "metadata": {},
   "outputs": [],
   "source": [
    "c2=1/32\n",
    "oper2=c2*(tensor(sig_x,sig_x,sig_z,sig_x,sig_x,I)+tensor(sig_x,sig_x,sig_z,sig_y,sig_y,I)+tensor(sig_x,sig_y,sig_z,sig_x,sig_y,I)-tensor(sig_x,sig_y,sig_z,sig_y,sig_x,I)-tensor(sig_y,sig_x,sig_z,sig_x,sig_y,I)+tensor(sig_y,sig_x,sig_z,sig_y,sig_x,I)+tensor(sig_y,sig_y,sig_z,sig_x,sig_x,I)+tensor(sig_y,sig_y,sig_z,sig_y,sig_y,I))"
   ]
  },
  {
   "cell_type": "code",
   "execution_count": 67,
   "id": "d45bf75d",
   "metadata": {},
   "outputs": [
    {
     "data": {
      "text/latex": [
       "Quantum object: dims = [[2, 2, 2, 2, 2, 2], [2, 2, 2, 2, 2, 2]], shape = (64, 64), type = oper, isherm = True\\begin{equation*}\\left(\\begin{array}{*{11}c}0.0 & 0.0 & 0.0 & 0.0 & 0.0 & \\cdots & 0.0 & 0.0 & 0.0 & 0.0 & 0.0\\\\0.0 & 0.0 & 0.0 & 0.0 & 0.0 & \\cdots & 0.0 & 0.0 & 0.0 & 0.0 & 0.0\\\\0.0 & 0.0 & 0.0 & 0.0 & 0.0 & \\cdots & 0.0 & 0.0 & 0.0 & 0.0 & 0.0\\\\0.0 & 0.0 & 0.0 & 0.0 & 0.0 & \\cdots & 0.0 & 0.0 & 0.0 & 0.0 & 0.0\\\\0.0 & 0.0 & 0.0 & 0.0 & 0.0 & \\cdots & 0.0 & 0.0 & 0.0 & 0.0 & 0.0\\\\\\vdots & \\vdots & \\vdots & \\vdots & \\vdots & \\ddots & \\vdots & \\vdots & \\vdots & \\vdots & \\vdots\\\\0.0 & 0.0 & 0.0 & 0.0 & 0.0 & \\cdots & 0.0 & 0.0 & 0.0 & 0.0 & 0.0\\\\0.0 & 0.0 & 0.0 & 0.0 & 0.0 & \\cdots & 0.0 & 0.0 & 0.0 & 0.0 & 0.0\\\\0.0 & 0.0 & 0.0 & 0.0 & 0.0 & \\cdots & 0.0 & 0.0 & 0.0 & 0.0 & 0.0\\\\0.0 & 0.0 & 0.0 & 0.0 & 0.0 & \\cdots & 0.0 & 0.0 & 0.0 & 0.0 & 0.0\\\\0.0 & 0.0 & 0.0 & 0.0 & 0.0 & \\cdots & 0.0 & 0.0 & 0.0 & 0.0 & 0.0\\\\\\end{array}\\right)\\end{equation*}"
      ],
      "text/plain": [
       "Quantum object: dims = [[2, 2, 2, 2, 2, 2], [2, 2, 2, 2, 2, 2]], shape = (64, 64), type = oper, isherm = True\n",
       "Qobj data =\n",
       "[[0. 0. 0. ... 0. 0. 0.]\n",
       " [0. 0. 0. ... 0. 0. 0.]\n",
       " [0. 0. 0. ... 0. 0. 0.]\n",
       " ...\n",
       " [0. 0. 0. ... 0. 0. 0.]\n",
       " [0. 0. 0. ... 0. 0. 0.]\n",
       " [0. 0. 0. ... 0. 0. 0.]]"
      ]
     },
     "execution_count": 67,
     "metadata": {},
     "output_type": "execute_result"
    }
   ],
   "source": [
    "oper2"
   ]
  },
  {
   "cell_type": "code",
   "execution_count": 68,
   "id": "b11f9332",
   "metadata": {},
   "outputs": [
    {
     "data": {
      "text/plain": [
       "True"
      ]
     },
     "execution_count": 68,
     "metadata": {},
     "output_type": "execute_result"
    }
   ],
   "source": [
    "oper==oper2"
   ]
  },
  {
   "cell_type": "markdown",
   "id": "32f0a6a2",
   "metadata": {},
   "source": [
    "## $ 4^{th} term$"
   ]
  },
  {
   "cell_type": "code",
   "execution_count": 69,
   "id": "b18466a9",
   "metadata": {},
   "outputs": [],
   "source": [
    "c=1/4\n",
    "oper=c*(tensor(sig_p,sig_m,sig_z,sig_m,sig_p,sig_z)+tensor(sig_m,sig_p,sig_z,sig_p,sig_m,sig_z))"
   ]
  },
  {
   "cell_type": "code",
   "execution_count": 70,
   "id": "fc1d6a80",
   "metadata": {},
   "outputs": [],
   "source": [
    "c2=1/32\n",
    "oper2=c2*(tensor(sig_x,sig_x,sig_z,sig_x,sig_x,sig_z)+tensor(sig_x,sig_x,sig_z,sig_y,sig_y,sig_z)+tensor(sig_x,sig_y,sig_z,sig_x,sig_y,sig_z)-tensor(sig_x,sig_y,sig_z,sig_y,sig_x,sig_z)-tensor(sig_y,sig_x,sig_z,sig_x,sig_y,sig_z)+tensor(sig_y,sig_x,sig_z,sig_y,sig_x,sig_z)+tensor(sig_y,sig_y,sig_z,sig_x,sig_x,sig_z)+tensor(sig_y,sig_y,sig_z,sig_y,sig_y,sig_z))"
   ]
  },
  {
   "cell_type": "code",
   "execution_count": 71,
   "id": "c85bbd8e",
   "metadata": {},
   "outputs": [
    {
     "data": {
      "text/plain": [
       "True"
      ]
     },
     "execution_count": 71,
     "metadata": {},
     "output_type": "execute_result"
    }
   ],
   "source": [
    "oper==oper2"
   ]
  },
  {
   "cell_type": "markdown",
   "id": "39ddf02f",
   "metadata": {},
   "source": [
    "## $U_{0145}$ Term"
   ]
  },
  {
   "cell_type": "markdown",
   "id": "b8a30c11",
   "metadata": {},
   "source": [
    "## First term"
   ]
  },
  {
   "cell_type": "code",
   "execution_count": 72,
   "id": "274e48f9",
   "metadata": {},
   "outputs": [],
   "source": [
    "c=1/(2*np.sqrt(2))\n",
    "oper=c*(tensor(sig_p,sig_m,I,I,sig_m,sig_p)+tensor(sig_m,sig_p,I,I,sig_p,sig_m))"
   ]
  },
  {
   "cell_type": "code",
   "execution_count": 73,
   "id": "b27b0cde",
   "metadata": {},
   "outputs": [],
   "source": [
    "c2=1/(16*np.sqrt(2))\n",
    "oper2=c2*(tensor(sig_x,sig_x,I,I,sig_x,sig_x)+tensor(sig_x,sig_x,I,I,sig_y,sig_y)+tensor(sig_x,sig_y,I,I,sig_x,sig_y)-tensor(sig_x,sig_y,I,I,sig_y,sig_x)-tensor(sig_y,sig_x,I,I,sig_x,sig_y)+tensor(sig_y,sig_x,I,I,sig_y,sig_x)+tensor(sig_y,sig_y,I,I,sig_x,sig_x)+tensor(sig_y,sig_y,I,I,sig_y,sig_y))"
   ]
  },
  {
   "cell_type": "code",
   "execution_count": 74,
   "id": "d0d39121",
   "metadata": {},
   "outputs": [
    {
     "data": {
      "text/plain": [
       "True"
      ]
     },
     "execution_count": 74,
     "metadata": {},
     "output_type": "execute_result"
    }
   ],
   "source": [
    "oper==oper2"
   ]
  },
  {
   "cell_type": "markdown",
   "id": "cdf0f62d",
   "metadata": {},
   "source": [
    "## Second Term"
   ]
  },
  {
   "cell_type": "code",
   "execution_count": 75,
   "id": "34c82e87",
   "metadata": {},
   "outputs": [
    {
     "data": {
      "text/latex": [
       "Quantum object: dims = [[2, 2, 2, 2, 2, 2], [2, 2, 2, 2, 2, 2]], shape = (64, 64), type = oper, isherm = True\\begin{equation*}\\left(\\begin{array}{*{11}c}0.0 & 0.0 & 0.0 & 0.0 & 0.0 & \\cdots & 0.0 & 0.0 & 0.0 & 0.0 & 0.0\\\\0.0 & 0.0 & 0.0 & 0.0 & 0.0 & \\cdots & 0.0 & 0.0 & 0.0 & 0.0 & 0.0\\\\0.0 & 0.0 & 0.0 & 0.0 & 0.0 & \\cdots & 0.0 & 0.0 & 0.0 & 0.0 & 0.0\\\\0.0 & 0.0 & 0.0 & 0.0 & 0.0 & \\cdots & 0.0 & 0.0 & 0.0 & 0.0 & 0.0\\\\0.0 & 0.0 & 0.0 & 0.0 & 0.0 & \\cdots & 0.0 & 0.0 & 0.0 & 0.0 & 0.0\\\\\\vdots & \\vdots & \\vdots & \\vdots & \\vdots & \\ddots & \\vdots & \\vdots & \\vdots & \\vdots & \\vdots\\\\0.0 & 0.0 & 0.0 & 0.0 & 0.0 & \\cdots & 0.0 & 0.0 & 0.0 & 0.0 & 0.0\\\\0.0 & 0.0 & 0.0 & 0.0 & 0.0 & \\cdots & 0.0 & 0.0 & 0.0 & 0.0 & 0.0\\\\0.0 & 0.0 & 0.0 & 0.0 & 0.0 & \\cdots & 0.0 & 0.0 & 0.0 & 0.0 & 0.0\\\\0.0 & 0.0 & 0.0 & 0.0 & 0.0 & \\cdots & 0.0 & 0.0 & 0.0 & 0.0 & 0.0\\\\0.0 & 0.0 & 0.0 & 0.0 & 0.0 & \\cdots & 0.0 & 0.0 & 0.0 & 0.0 & 0.0\\\\\\end{array}\\right)\\end{equation*}"
      ],
      "text/plain": [
       "Quantum object: dims = [[2, 2, 2, 2, 2, 2], [2, 2, 2, 2, 2, 2]], shape = (64, 64), type = oper, isherm = True\n",
       "Qobj data =\n",
       "[[0. 0. 0. ... 0. 0. 0.]\n",
       " [0. 0. 0. ... 0. 0. 0.]\n",
       " [0. 0. 0. ... 0. 0. 0.]\n",
       " ...\n",
       " [0. 0. 0. ... 0. 0. 0.]\n",
       " [0. 0. 0. ... 0. 0. 0.]\n",
       " [0. 0. 0. ... 0. 0. 0.]]"
      ]
     },
     "execution_count": 75,
     "metadata": {},
     "output_type": "execute_result"
    }
   ],
   "source": [
    "c=1/(2*np.sqrt(2))\n",
    "oper=c*(tensor(sig_p,sig_m,I,sig_z,sig_m,sig_p)+tensor(sig_m,sig_p,I,sig_z,sig_p,sig_m))\n",
    "oper"
   ]
  },
  {
   "cell_type": "code",
   "execution_count": 76,
   "id": "b2e8b5f3",
   "metadata": {},
   "outputs": [],
   "source": [
    "c2=1/(16*np.sqrt(2))\n",
    "oper2=c2*(tensor(sig_x,sig_x,I,sig_z,sig_x,sig_x)+tensor(sig_x,sig_x,I,sig_z,sig_y,sig_y)+tensor(sig_x,sig_y,I,sig_z,sig_x,sig_y)-tensor(sig_x,sig_y,I,sig_z,sig_y,sig_x)-tensor(sig_y,sig_x,I,sig_z,sig_x,sig_y)+tensor(sig_y,sig_x,I,sig_z,sig_y,sig_x)+tensor(sig_y,sig_y,I,sig_z,sig_x,sig_x)+tensor(sig_y,sig_y,I,sig_z,sig_y,sig_y))"
   ]
  },
  {
   "cell_type": "code",
   "execution_count": 77,
   "id": "bf318fc7",
   "metadata": {},
   "outputs": [
    {
     "data": {
      "text/plain": [
       "True"
      ]
     },
     "execution_count": 77,
     "metadata": {},
     "output_type": "execute_result"
    }
   ],
   "source": [
    "oper==oper2"
   ]
  },
  {
   "cell_type": "markdown",
   "id": "aab8b370",
   "metadata": {},
   "source": [
    "## Checking the Circuit"
   ]
  },
  {
   "cell_type": "markdown",
   "id": "cfc8970e",
   "metadata": {},
   "source": [
    "## $ U_{0145}$"
   ]
  },
  {
   "cell_type": "raw",
   "id": "1174f3ef",
   "metadata": {},
   "source": [
    "c=1/(2*np.sqrt(2))\n",
    "oper=theta*c*(tensor(sig_p,sig_m,I,I,sig_m,sig_p)+tensor(sig_m,sig_p,I,I,sig_p,sig_m)+\n",
    "              tensor(sig_p,sig_m,sig_z,I,sig_m,sig_p)+tensor(sig_m,sig_p,sig_z,I,sig_p,sig_m)+\n",
    "              tensor(sig_p,sig_m,I,sig_z,sig_m,sig_p)+tensor(sig_m,sig_p,I,sig_z,sig_p,sig_m)+\n",
    "              tensor(sig_p,sig_m,sig_z,sig_z,sig_m,sig_p)+tensor(sig_m,sig_p,sig_z,sig_z,sig_p,sig_m))"
   ]
  },
  {
   "cell_type": "code",
   "execution_count": 104,
   "id": "074cbfa5",
   "metadata": {},
   "outputs": [
    {
     "data": {
      "text/latex": [
       "Quantum object: dims = [[2, 2, 2, 2, 2, 2], [2, 2, 2, 2, 2, 2]], shape = (64, 64), type = oper, isherm = False\\begin{equation*}\\left(\\begin{array}{*{11}c}1.0 & 0.0 & 0.0 & 0.0 & 0.0 & \\cdots & 0.0 & 0.0 & 0.0 & 0.0 & 0.0\\\\0.0 & 1.0 & 0.0 & 0.0 & 0.0 & \\cdots & 0.0 & 0.0 & 0.0 & 0.0 & 0.0\\\\0.0 & 0.0 & 1.0 & 0.0 & 0.0 & \\cdots & 0.0 & 0.0 & 0.0 & 0.0 & 0.0\\\\0.0 & 0.0 & 0.0 & 1.0 & 0.0 & \\cdots & 0.0 & 0.0 & 0.0 & 0.0 & 0.0\\\\0.0 & 0.0 & 0.0 & 0.0 & 1.0 & \\cdots & 0.0 & 0.0 & 0.0 & 0.0 & 0.0\\\\\\vdots & \\vdots & \\vdots & \\vdots & \\vdots & \\ddots & \\vdots & \\vdots & \\vdots & \\vdots & \\vdots\\\\0.0 & 0.0 & 0.0 & 0.0 & 0.0 & \\cdots & 1.0 & 0.0 & 0.0 & 0.0 & 0.0\\\\0.0 & 0.0 & 0.0 & 0.0 & 0.0 & \\cdots & 0.0 & 1.0 & 0.0 & 0.0 & 0.0\\\\0.0 & 0.0 & 0.0 & 0.0 & 0.0 & \\cdots & 0.0 & 0.0 & 1.0 & 0.0 & 0.0\\\\0.0 & 0.0 & 0.0 & 0.0 & 0.0 & \\cdots & 0.0 & 0.0 & 0.0 & 1.0 & 0.0\\\\0.0 & 0.0 & 0.0 & 0.0 & 0.0 & \\cdots & 0.0 & 0.0 & 0.0 & 0.0 & 1.0\\\\\\end{array}\\right)\\end{equation*}"
      ],
      "text/plain": [
       "Quantum object: dims = [[2, 2, 2, 2, 2, 2], [2, 2, 2, 2, 2, 2]], shape = (64, 64), type = oper, isherm = False\n",
       "Qobj data =\n",
       "[[1.+0.j 0.+0.j 0.+0.j ... 0.+0.j 0.+0.j 0.+0.j]\n",
       " [0.+0.j 1.+0.j 0.+0.j ... 0.+0.j 0.+0.j 0.+0.j]\n",
       " [0.+0.j 0.+0.j 1.+0.j ... 0.+0.j 0.+0.j 0.+0.j]\n",
       " ...\n",
       " [0.+0.j 0.+0.j 0.+0.j ... 1.+0.j 0.+0.j 0.+0.j]\n",
       " [0.+0.j 0.+0.j 0.+0.j ... 0.+0.j 1.+0.j 0.+0.j]\n",
       " [0.+0.j 0.+0.j 0.+0.j ... 0.+0.j 0.+0.j 1.+0.j]]"
      ]
     },
     "execution_count": 104,
     "metadata": {},
     "output_type": "execute_result"
    }
   ],
   "source": [
    "c=1/(2*np.sqrt(2))\n",
    "\n",
    "oper=theta*c*(tensor(sig_p,sig_m,sig_z,I,sig_m,sig_p)+tensor(sig_m,sig_p,sig_z,I,sig_p,sig_m))\n",
    "\n",
    "U=oper.expm()\n",
    "U"
   ]
  },
  {
   "cell_type": "markdown",
   "id": "58c1bd94",
   "metadata": {},
   "source": [
    "### Circuit in Qutip"
   ]
  },
  {
   "cell_type": "raw",
   "id": "6fd534fe",
   "metadata": {},
   "source": [
    "def staircase_circ4(a,b,c,d,e,qc):\n",
    "    \n",
    "    arr=np.sort([a,b,c,d])\n",
    "    \n",
    "    for i in range(len(array)-1):\n",
    "        qc.add_gates('CX',targets=arr[i],controls=arr[i+1])\n",
    "        \n",
    "    qc.add_gates('RX',targets=arr[-1],arg_value=e)\n",
    "    \n",
    "    for i in range(len(array)-1):\n",
    "        i=len(array)-i-1\n",
    "        qc.add_gates('CX',targets=arr[i],controls=arr[i-1])\n",
    "    \n",
    "    \"\"\"qc.add_gates('CX',targets=arr[1],controls=arr[0])\n",
    "    qc.add_gates('CX',targets=arr[2],controls=arr[1])\n",
    "    qc.add_gates('CX',targets=arr[3],controls=arr[2])\n",
    "    \n",
    "    qc.add_gates('RX',targets=arr[-1],arg_value=e)\n",
    "    \n",
    "    qc.add_gates('CX',targets=arr[3],controls=arr[2])\n",
    "    qc.add_gates('CX',targets=arr[2],controls=arr[1])\n",
    "    qc.add_gates('CX',targets=arr[1],controls=arr[0])\"\"\"\n",
    "    \n",
    "    return (qc)\n",
    "    \n",
    "def staircase_circ5(a,b,c,d,Z1,e,qc):\n",
    "    \n",
    "    arr=np.sort([a,b,c,d,Z1])\n",
    "    \n",
    "    \n",
    "    for i in range(len(array)-1):\n",
    "        qc.add_gates('CX',targets=arr[i],controls=arr[i+1])\n",
    "        \n",
    "    qc.add_gates('RX',targets=arr[-1],arg_value=e)\n",
    "    \n",
    "    for i in range(len(array)-1):\n",
    "        i=len(array)-i-1\n",
    "        qc.add_gates('CX',targets=arr[i],controls=arr[i-1])\n",
    "    \"\"\"\n",
    "    qc.add_gates('CX',targets=arr[1],controls=arr[0])\n",
    "    qc.add_gates('CX',targets=arr[2],controls=arr[1])\n",
    "    qc.add_gates('CX',targets=arr[3],controls=arr[2])\n",
    "    qc.add_gates('CX',targets=arr[4],controls=arr[3])\n",
    "    \n",
    "    qc.add_gates('RX',targets=arr[-1],arg_value=e)\n",
    "    \n",
    "    qc.add_gates('CX',targets=arr[4],controls=arr[3])\n",
    "    qc.add_gates('CX',targets=arr[3],controls=arr[2])\n",
    "    qc.add_gates('CX',targets=arr[2],controls=arr[1])\n",
    "    qc.add_gates('CX',targets=arr[1],controls=arr[0])\n",
    "    \"\"\"\n",
    "    return (qc)    \n",
    "\n",
    "def staircase_circ6(a,b,c,d,Z1,Z2,e,qc):\n",
    "    \n",
    "    if Z1,\n",
    "    \n",
    "    arr=np.sort([a,b,c,d,Z1,Z2])\n",
    "    \n",
    "    for i in range(len(array)-1):\n",
    "        qc.add_gates('CX',targets=arr[i],controls=arr[i+1])\n",
    "        \n",
    "    qc.add_gates('RX',targets=arr[-1],arg_value=e)\n",
    "    \n",
    "    for i in range(len(array)-1):\n",
    "        i=len(array)-i-1\n",
    "        qc.add_gates('CX',targets=arr[i],controls=arr[i-1])\n",
    "        \n",
    "    \"\"\"qc.add_gates('CX',targets=arr[1],controls=arr[0])\n",
    "    qc.add_gates('CX',targets=arr[2],controls=arr[1])\n",
    "    qc.add_gates('CX',targets=arr[3],controls=arr[2])\n",
    "    qc.add_gates('CX',targets=arr[4],controls=arr[3])\n",
    "    qc.add_gates('CX',targets=arr[5],controls=arr[4])\n",
    "    \n",
    "    qc.add_gates('RX',targets=arr[-1],arg_value=e)\n",
    "    \n",
    "    qc.add_gates('CX',targets=arr[5],controls=arr[4])\n",
    "    qc.add_gates('CX',targets=arr[4],controls=arr[3])\n",
    "    qc.add_gates('CX',targets=arr[3],controls=arr[2])\n",
    "    qc.add_gates('CX',targets=arr[2],controls=arr[1])\n",
    "    qc.add_gates('CX',targets=arr[1],controls=arr[0])\"\"\"\n",
    "    \n",
    "    return (qc)  \n"
   ]
  },
  {
   "cell_type": "code",
   "execution_count": 105,
   "id": "00a027f5",
   "metadata": {},
   "outputs": [],
   "source": [
    "def staircase_circ(a,b,c,d,Z1,Z2,e,qc):\n",
    "    \n",
    "    arr=[a,b,c,d]\n",
    "    \n",
    "    if Z1&Z2==0:\n",
    "        if Z1 != 0:\n",
    "            arr.append(Z1)\n",
    "        if Z2 != 0:\n",
    "            arr.append(Z2)\n",
    "    else:\n",
    "        arr.append(Z1)\n",
    "        arr.append(Z2)\n",
    "    \n",
    "    arr=np.sort(arr)\n",
    "     \n",
    "    for i in range(len(arr)-1):\n",
    "        qc.add_gate('CNOT',targets=arr[i+1],controls=arr[i])\n",
    "        \n",
    "    qc.add_gate('RZ',targets=arr[-1],arg_value=e)\n",
    "    \n",
    "    for i in range(len(arr)-1):\n",
    "        i=len(arr)-i-1\n",
    "        qc.add_gate('CNOT',targets=arr[i],controls=arr[i-1])\n",
    "        \n",
    "    return(qc)\n",
    "\n",
    "def quantum_circ(a,b,c,d,z1,z2,e,n):\n",
    "    \n",
    "    qc=QubitCircuit(n)\n",
    "    \n",
    "    qc.add_gate(\"SNOT\",targets=a)\n",
    "    qc.add_gate(\"SNOT\",targets=b)\n",
    "    qc.add_gate(\"SNOT\",targets=c)\n",
    "    qc.add_gate(\"SNOT\",targets=d)\n",
    "    \n",
    "    staircase_circ(a,b,c,d,z1,z2,e,qc)\n",
    "    \n",
    "    qc.add_gate(\"SNOT\",targets=a)\n",
    "    qc.add_gate(\"SNOT\",targets=b)\n",
    "    qc.add_gate(\"SNOT\",targets=c)\n",
    "    qc.add_gate(\"SNOT\",targets=d)\n",
    "    #______________________________________\n",
    "\n",
    "    qc.add_gate(\"SNOT\",targets=a)\n",
    "    qc.add_gate(\"SNOT\",targets=b)\n",
    "    qc.add_gate(\"RX\",targets=c,arg_value=np.pi/2)\n",
    "    qc.add_gate(\"RX\",targets=d,arg_value=np.pi/2)\n",
    "    \n",
    "    staircase_circ(a,b,c,d,z1,z2,e,qc)\n",
    "    \n",
    "    qc.add_gate(\"SNOT\",targets=a)\n",
    "    qc.add_gate(\"SNOT\",targets=b)\n",
    "    qc.add_gate(\"RX\",targets=c,arg_value=-1*np.pi/2)\n",
    "    qc.add_gate(\"RX\",targets=d,arg_value=-1*np.pi/2)\n",
    "    \n",
    "    #______________________________________\n",
    "    \n",
    "    qc.add_gate(\"SNOT\",targets=a)\n",
    "    qc.add_gate(\"SNOT\",targets=c)\n",
    "    qc.add_gate(\"RX\",targets=b,arg_value=np.pi/2)\n",
    "    qc.add_gate(\"RX\",targets=d,arg_value=np.pi/2)\n",
    "    \n",
    "    staircase_circ(a,b,c,d,z1,z2,e,qc)\n",
    "    \n",
    "    qc.add_gate(\"SNOT\",targets=a)\n",
    "    qc.add_gate(\"SNOT\",targets=c)\n",
    "    qc.add_gate(\"RX\",targets=b,arg_value=-1*np.pi/2)\n",
    "    qc.add_gate(\"RX\",targets=d,arg_value=-1*np.pi/2)\n",
    "    \n",
    "    #______________________________________\n",
    "    \n",
    "    qc.add_gate(\"SNOT\",targets=a)\n",
    "    qc.add_gate(\"SNOT\",targets=d)\n",
    "    qc.add_gate(\"RX\",targets=b,arg_value=np.pi/2)\n",
    "    qc.add_gate(\"RX\",targets=c,arg_value=np.pi/2)\n",
    "    \n",
    "    staircase_circ(a,b,c,d,z1,z2,-1*e,qc)\n",
    "    \n",
    "    qc.add_gate(\"RX\",targets=b,arg_value=-1*np.pi/2)\n",
    "    qc.add_gate(\"RX\",targets=c,arg_value=-1*np.pi/2)\n",
    "    qc.add_gate(\"SNOT\",targets=d)\n",
    "    qc.add_gate(\"SNOT\",targets=a)\n",
    "    \n",
    "    #_________________________________________\n",
    "    \n",
    "    qc.add_gate(\"SNOT\",targets=b)\n",
    "    qc.add_gate(\"SNOT\",targets=c)\n",
    "    qc.add_gate(\"RX\",targets=a,arg_value=np.pi/2)\n",
    "    qc.add_gate(\"RX\",targets=d,arg_value=np.pi/2)\n",
    "    \n",
    "    staircase_circ(a,b,c,d,z1,z2,-1*e,qc)\n",
    "    \n",
    "    qc.add_gate(\"SNOT\",targets=b)\n",
    "    qc.add_gate(\"SNOT\",targets=c)\n",
    "    qc.add_gate(\"RX\",targets=a,arg_value=-1*np.pi/2)\n",
    "    qc.add_gate(\"RX\",targets=d,arg_value=-1*np.pi/2)\n",
    "    #____________________________________________\n",
    "    \n",
    "    qc.add_gate(\"SNOT\",targets=b)\n",
    "    qc.add_gate(\"SNOT\",targets=d)\n",
    "    qc.add_gate(\"RX\",targets=a,arg_value=np.pi/2)\n",
    "    qc.add_gate(\"RX\",targets=c,arg_value=np.pi/2)\n",
    "    \n",
    "    staircase_circ(a,b,c,d,z1,z2,e,qc)\n",
    "    \n",
    "    qc.add_gate(\"RX\",targets=a,arg_value=-1*np.pi/2)\n",
    "    qc.add_gate(\"RX\",targets=c,arg_value=-1*np.pi/2)\n",
    "    qc.add_gate(\"SNOT\",targets=b)\n",
    "    qc.add_gate(\"SNOT\",targets=d)\n",
    "    \n",
    "    #_____________________________________________\n",
    "    \n",
    "    qc.add_gate(\"SNOT\",targets=c)\n",
    "    qc.add_gate(\"SNOT\",targets=d)\n",
    "    qc.add_gate(\"RX\",targets=a,arg_value=np.pi/2)\n",
    "    qc.add_gate(\"RX\",targets=b,arg_value=np.pi/2)\n",
    "    \n",
    "    staircase_circ(a,b,c,d,z1,z2,e,qc)\n",
    "    \n",
    "    qc.add_gate(\"RX\",targets=a,arg_value=-1*np.pi/2)\n",
    "    qc.add_gate(\"RX\",targets=b,arg_value=-1*np.pi/2)\n",
    "    qc.add_gate(\"SNOT\",targets=c)\n",
    "    qc.add_gate(\"SNOT\",targets=d)\n",
    "    \n",
    "    #_______________________________________________\n",
    "    \n",
    "    qc.add_gate(\"RX\",targets=a,arg_value=np.pi/2)\n",
    "    qc.add_gate(\"RX\",targets=b,arg_value=np.pi/2)\n",
    "    qc.add_gate(\"RX\",targets=c,arg_value=np.pi/2)\n",
    "    qc.add_gate(\"RX\",targets=d,arg_value=np.pi/2)\n",
    "    \n",
    "    \n",
    "    staircase_circ(a,b,c,d,z1,z2,e,qc)\n",
    "    \n",
    "    qc.add_gate(\"RX\",targets=a,arg_value=-1*np.pi/2)\n",
    "    qc.add_gate(\"RX\",targets=b,arg_value=-1*np.pi/2)\n",
    "    qc.add_gate(\"RX\",targets=c,arg_value=-1*np.pi/2)\n",
    "    qc.add_gate(\"RX\",targets=d,arg_value=-1*np.pi/2)\n",
    "    \n",
    "    \n",
    "    return(qc)\n",
    "    "
   ]
  },
  {
   "cell_type": "code",
   "execution_count": 106,
   "id": "db886ce8",
   "metadata": {},
   "outputs": [
    {
     "data": {
      "image/png": "[encoded data removed]",
      "text/plain": [
       "<IPython.core.display.Image object>"
      ]
     },
     "execution_count": 106,
     "metadata": {},
     "output_type": "execute_result"
    }
   ],
   "source": [
    "circ=quantum_circ(0,1,3,4,2,0,-1*np.pi/(32*np.sqrt(2)),6)\n",
    "circ.png"
   ]
  },
  {
   "cell_type": "code",
   "execution_count": 107,
   "id": "a079ead1",
   "metadata": {},
   "outputs": [
    {
     "data": {
      "text/plain": [
       "136"
      ]
     },
     "execution_count": 107,
     "metadata": {},
     "output_type": "execute_result"
    }
   ],
   "source": [
    "U_list = circ.propagators()\n",
    "#print(U_list)\n",
    "len(U_list)"
   ]
  },
  {
   "cell_type": "code",
   "execution_count": 108,
   "id": "9b692eef",
   "metadata": {
    "scrolled": true
   },
   "outputs": [
    {
     "data": {
      "text/plain": [
       "array([[ 1.00000000e+00-1.30104261e-18j,  0.00000000e+00+0.00000000e+00j,\n",
       "         4.33680869e-19+5.55111512e-17j, ...,\n",
       "         0.00000000e+00+0.00000000e+00j,  0.00000000e+00+0.00000000e+00j,\n",
       "         0.00000000e+00+0.00000000e+00j],\n",
       "       [ 0.00000000e+00+0.00000000e+00j,  1.00000000e+00-1.30104261e-18j,\n",
       "         0.00000000e+00+0.00000000e+00j, ...,\n",
       "         0.00000000e+00+0.00000000e+00j,  0.00000000e+00+0.00000000e+00j,\n",
       "         0.00000000e+00+0.00000000e+00j],\n",
       "       [ 8.67361738e-19-5.55111512e-17j,  0.00000000e+00+0.00000000e+00j,\n",
       "         1.00000000e+00+1.73472348e-18j, ...,\n",
       "         0.00000000e+00+0.00000000e+00j,  0.00000000e+00+0.00000000e+00j,\n",
       "         0.00000000e+00+0.00000000e+00j],\n",
       "       ...,\n",
       "       [ 0.00000000e+00+0.00000000e+00j,  0.00000000e+00+0.00000000e+00j,\n",
       "         0.00000000e+00+0.00000000e+00j, ...,\n",
       "         1.00000000e+00-1.73472348e-18j,  0.00000000e+00+0.00000000e+00j,\n",
       "        -8.67361738e-19-5.55111512e-17j],\n",
       "       [ 0.00000000e+00+0.00000000e+00j,  0.00000000e+00+0.00000000e+00j,\n",
       "         0.00000000e+00+0.00000000e+00j, ...,\n",
       "         0.00000000e+00+0.00000000e+00j,  1.00000000e+00+1.30104261e-18j,\n",
       "         0.00000000e+00+0.00000000e+00j],\n",
       "       [ 0.00000000e+00+0.00000000e+00j,  0.00000000e+00+0.00000000e+00j,\n",
       "         0.00000000e+00+0.00000000e+00j, ...,\n",
       "        -4.33680869e-19+5.55111512e-17j,  0.00000000e+00+0.00000000e+00j,\n",
       "         1.00000000e+00+1.30104261e-18j]])"
      ]
     },
     "execution_count": 108,
     "metadata": {},
     "output_type": "execute_result"
    }
   ],
   "source": [
    "dim=np.shape(U_list[0])[0]\n",
    "Usim=np.eye(dim)\n",
    "i=0\n",
    "while i<(len(U_list)):\n",
    "    Usim=Usim*U_list[i]\n",
    "    #print(i)\n",
    "    i=i+1\n",
    "    \n",
    "Usim"
   ]
  },
  {
   "cell_type": "code",
   "execution_count": 109,
   "id": "a69a4014",
   "metadata": {},
   "outputs": [
    {
     "data": {
      "text/plain": [
       "False"
      ]
     },
     "execution_count": 109,
     "metadata": {},
     "output_type": "execute_result"
    }
   ],
   "source": [
    "Usim==U"
   ]
  },
  {
   "cell_type": "code",
   "execution_count": null,
   "id": "33ba5776",
   "metadata": {},
   "outputs": [],
   "source": []
  }
 ],
 "metadata": {
  "kernelspec": {
   "display_name": "Python 3 (ipykernel)",
   "language": "python",
   "name": "python3"
  },
  "language_info": {
   "codemirror_mode": {
    "name": "ipython",
    "version": 3
   },
   "file_extension": ".py",
   "mimetype": "text/x-python",
   "name": "python",
   "nbconvert_exporter": "python",
   "pygments_lexer": "ipython3",
   "version": "3.9.12"
  }
 },
 "nbformat": 4,
 "nbformat_minor": 5
}
