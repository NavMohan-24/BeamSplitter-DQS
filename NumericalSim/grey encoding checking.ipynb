{
 "cells": [
  {
   "cell_type": "code",
   "execution_count": 1,
   "id": "37f93dc5",
   "metadata": {},
   "outputs": [],
   "source": [
    "import qutip as qt\n",
    "import numpy as np\n",
    "from qutip import tensor\n",
    "from scipy.linalg import expm\n",
    "from qutip.qip.circuit import QubitCircuit, Gate\n",
    "\n",
    "theta=complex(0,np.pi/4)"
   ]
  },
  {
   "cell_type": "code",
   "execution_count": 2,
   "id": "74d4c6f7",
   "metadata": {},
   "outputs": [],
   "source": [
    "sig_p=qt.destroy(2)\n",
    "sig_m=qt.create(2)\n",
    "I=qt.identity(2)\n",
    "sig_z=qt.sigmaz()\n",
    "sig_x=qt.sigmax()\n",
    "sig_y=qt.sigmay()\n",
    "ket_0=qt.fock(2,0)\n",
    "ket_1=qt.fock(2,1)"
   ]
  },
  {
   "cell_type": "code",
   "execution_count": 3,
   "id": "441b4c3e",
   "metadata": {},
   "outputs": [],
   "source": [
    "oper=tensor(sig_x,I,I,sig_x)+tensor(I,sig_x,sig_x,I)"
   ]
  },
  {
   "cell_type": "code",
   "execution_count": 4,
   "id": "2cf4623e",
   "metadata": {},
   "outputs": [],
   "source": [
    "U=(theta*oper).expm()"
   ]
  },
  {
   "cell_type": "code",
   "execution_count": 5,
   "id": "afefbe41",
   "metadata": {},
   "outputs": [],
   "source": [
    "inp_state=tensor(ket_0,ket_1,ket_0,ket_1)"
   ]
  },
  {
   "cell_type": "code",
   "execution_count": 6,
   "id": "72d9e11e",
   "metadata": {},
   "outputs": [],
   "source": [
    "out_state=U*inp_state"
   ]
  },
  {
   "cell_type": "code",
   "execution_count": 7,
   "id": "4682511c",
   "metadata": {},
   "outputs": [
    {
     "data": {
      "text/latex": [
       "Quantum object: dims = [[2, 2, 2, 2], [1, 1, 1, 1]], shape = (16, 1), type = ket\\begin{equation*}\\left(\\begin{array}{*{11}c}0.0\\\\0.0\\\\0.0\\\\0.500j\\\\0.0\\\\\\vdots\\\\0.0\\\\0.500j\\\\0.0\\\\0.0\\\\0.0\\\\\\end{array}\\right)\\end{equation*}"
      ],
      "text/plain": [
       "Quantum object: dims = [[2, 2, 2, 2], [1, 1, 1, 1]], shape = (16, 1), type = ket\n",
       "Qobj data =\n",
       "[[ 0. +0.j ]\n",
       " [ 0. +0.j ]\n",
       " [ 0. +0.j ]\n",
       " [ 0. +0.5j]\n",
       " [ 0. +0.j ]\n",
       " [ 0.5+0.j ]\n",
       " [ 0. +0.j ]\n",
       " [ 0. +0.j ]\n",
       " [ 0. +0.j ]\n",
       " [ 0. +0.j ]\n",
       " [-0.5+0.j ]\n",
       " [ 0. +0.j ]\n",
       " [ 0. +0.5j]\n",
       " [ 0. +0.j ]\n",
       " [ 0. +0.j ]\n",
       " [ 0. +0.j ]]"
      ]
     },
     "execution_count": 7,
     "metadata": {},
     "output_type": "execute_result"
    }
   ],
   "source": [
    "out_state"
   ]
  },
  {
   "cell_type": "code",
   "execution_count": 8,
   "id": "a2576ee6",
   "metadata": {},
   "outputs": [],
   "source": [
    "expect_state=(1/np.sqrt(2))*(tensor(ket_1,ket_1,ket_0,ket_0)+tensor(ket_0,ket_0,ket_1,ket_1))"
   ]
  },
  {
   "cell_type": "code",
   "execution_count": 9,
   "id": "a94c276a",
   "metadata": {},
   "outputs": [
    {
     "data": {
      "text/plain": [
       "False"
      ]
     },
     "execution_count": 9,
     "metadata": {},
     "output_type": "execute_result"
    }
   ],
   "source": [
    "expect_state==out_state"
   ]
  },
  {
   "cell_type": "code",
   "execution_count": 10,
   "id": "ff0d07c8",
   "metadata": {},
   "outputs": [],
   "source": [
    "bdag=adag=tensor(sig_p,sig_m)+np.sqrt(2)*tensor(sig_m,sig_p)\n",
    "b=a=tensor(sig_m,sig_p)+np.sqrt(2)*tensor(sig_p,sig_m) "
   ]
  },
  {
   "cell_type": "code",
   "execution_count": 11,
   "id": "4ffe166b",
   "metadata": {},
   "outputs": [],
   "source": [
    "oper2=tensor(bdag,a)+tensor(b,adag)\n",
    "U2=(theta*oper2).expm()"
   ]
  },
  {
   "cell_type": "code",
   "execution_count": 12,
   "id": "67288138",
   "metadata": {},
   "outputs": [],
   "source": [
    "out_state_2=U2*inp_state"
   ]
  },
  {
   "cell_type": "code",
   "execution_count": 13,
   "id": "a3737abe",
   "metadata": {
    "scrolled": true,
    "tags": []
   },
   "outputs": [
    {
     "data": {
      "text/plain": [
       "array([[ 0.        +0.j       ],\n",
       "       [ 0.        +0.j       ],\n",
       "       [ 0.        +0.j       ],\n",
       "       [ 0.        +0.j       ],\n",
       "       [ 0.        +0.j       ],\n",
       "       [-0.60569987+0.j       ],\n",
       "       [ 0.        +0.j       ],\n",
       "       [ 0.        +0.j       ],\n",
       "       [ 0.        +0.j       ],\n",
       "       [ 0.        +0.j       ],\n",
       "       [ 0.        +0.7956932j],\n",
       "       [ 0.        +0.j       ],\n",
       "       [ 0.        +0.j       ],\n",
       "       [ 0.        +0.j       ],\n",
       "       [ 0.        +0.j       ],\n",
       "       [ 0.        +0.j       ]])"
      ]
     },
     "execution_count": 13,
     "metadata": {},
     "output_type": "execute_result"
    }
   ],
   "source": [
    "np.array(out_state_2)"
   ]
  },
  {
   "cell_type": "code",
   "execution_count": 14,
   "id": "dd959702",
   "metadata": {},
   "outputs": [
    {
     "data": {
      "text/plain": [
       "array([[0.        +0.j],\n",
       "       [0.        +0.j],\n",
       "       [0.        +0.j],\n",
       "       [0.70710678+0.j],\n",
       "       [0.        +0.j],\n",
       "       [0.        +0.j],\n",
       "       [0.        +0.j],\n",
       "       [0.        +0.j],\n",
       "       [0.        +0.j],\n",
       "       [0.        +0.j],\n",
       "       [0.        +0.j],\n",
       "       [0.        +0.j],\n",
       "       [0.70710678+0.j],\n",
       "       [0.        +0.j],\n",
       "       [0.        +0.j],\n",
       "       [0.        +0.j]])"
      ]
     },
     "execution_count": 14,
     "metadata": {},
     "output_type": "execute_result"
    }
   ],
   "source": [
    "np.array(expect_state)"
   ]
  },
  {
   "cell_type": "code",
   "execution_count": 15,
   "id": "d5b0f47f",
   "metadata": {},
   "outputs": [],
   "source": [
    "bdag=adag=tensor(sig_m,I)+np.sqrt(2)*tensor(I,sig_m)\n",
    "b=a=tensor(sig_p,I)+np.sqrt(2)*tensor(I,sig_p)"
   ]
  },
  {
   "cell_type": "code",
   "execution_count": 16,
   "id": "5758a2a0",
   "metadata": {},
   "outputs": [],
   "source": [
    "oper3=tensor(bdag,a)+tensor(b,adag)\n",
    "U3=(theta*oper3).expm()"
   ]
  },
  {
   "cell_type": "code",
   "execution_count": 17,
   "id": "fa0577d7",
   "metadata": {},
   "outputs": [],
   "source": [
    "inp_state=tensor(ket_1,ket_0,ket_1,ket_0)"
   ]
  },
  {
   "cell_type": "code",
   "execution_count": 18,
   "id": "82051377",
   "metadata": {},
   "outputs": [],
   "source": [
    "out_state=U3*inp_state"
   ]
  },
  {
   "cell_type": "code",
   "execution_count": 19,
   "id": "fc381246",
   "metadata": {},
   "outputs": [
    {
     "data": {
      "text/plain": [
       "array([[ 0.        +0.j       ],\n",
       "       [ 0.        +0.j       ],\n",
       "       [ 0.        +0.j       ],\n",
       "       [ 0.        -0.0331117j],\n",
       "       [ 0.        +0.j       ],\n",
       "       [-0.46948928+0.j       ],\n",
       "       [-0.49796859+0.j       ],\n",
       "       [ 0.        +0.j       ],\n",
       "       [ 0.        +0.j       ],\n",
       "       [-0.49796859+0.j       ],\n",
       "       [ 0.53051072+0.j       ],\n",
       "       [ 0.        +0.j       ],\n",
       "       [ 0.        -0.0331117j],\n",
       "       [ 0.        +0.j       ],\n",
       "       [ 0.        +0.j       ],\n",
       "       [ 0.        +0.j       ]])"
      ]
     },
     "execution_count": 19,
     "metadata": {},
     "output_type": "execute_result"
    }
   ],
   "source": [
    "np.array(out_state)"
   ]
  },
  {
   "cell_type": "code",
   "execution_count": 20,
   "id": "489f5bec",
   "metadata": {},
   "outputs": [],
   "source": [
    "expect_state=(1/np.sqrt(2))*(tensor(ket_1,ket_1,ket_0,ket_0)+tensor(ket_0,ket_0,ket_1,ket_1))"
   ]
  },
  {
   "cell_type": "code",
   "execution_count": 21,
   "id": "cf1d2f6d",
   "metadata": {},
   "outputs": [],
   "source": [
    "ket00=tensor(ket_0,ket_0)\n",
    "ket01=tensor(ket_0,ket_1)\n",
    "ket10=tensor(ket_1,ket_0)\n",
    "ket11=tensor(ket_1,ket_1)"
   ]
  },
  {
   "cell_type": "code",
   "execution_count": 22,
   "id": "791ddd10",
   "metadata": {},
   "outputs": [],
   "source": [
    "u1=ket00*ket01.dag()"
   ]
  },
  {
   "cell_type": "code",
   "execution_count": 23,
   "id": "2d94fb1f",
   "metadata": {},
   "outputs": [],
   "source": [
    "u2=ket01*ket11.dag()"
   ]
  },
  {
   "cell_type": "markdown",
   "id": "65fefa7a",
   "metadata": {},
   "source": [
    "### Projector Method"
   ]
  },
  {
   "cell_type": "markdown",
   "id": "d64be5e9",
   "metadata": {},
   "source": [
    "#### Grey encoding"
   ]
  },
  {
   "cell_type": "markdown",
   "id": "31f3cd86",
   "metadata": {},
   "source": [
    "0 ==> 00      or   00 $\\newline$\n",
    "1 ==> 01      or   10 $\\newline$\n",
    "2 ==> 11      or   11 $\\newline$\n",
    "3 ==> 10      or   01 $\\newline$"
   ]
  },
  {
   "cell_type": "markdown",
   "id": "608461af",
   "metadata": {},
   "source": [
    "#### Projector Operator\n",
    "\n",
    "P0 = $\\frac{I+\\sigma_{z}}{2}=$\\begin{bmatrix} 1 & 0 \\\\ 0 & 0 \\end{bmatrix} \n",
    "\n",
    "P1 = $\\frac{I-\\sigma_{z}}{2}=$\\begin{bmatrix} 0 & 0 \\\\ 0 & 1 \\end{bmatrix} \n"
   ]
  },
  {
   "cell_type": "markdown",
   "id": "a85c30cc",
   "metadata": {},
   "source": [
    "P0 |0> = |0> and P0|1> = 0\n",
    "\n",
    "P1 |0> = 0 and P0|1> = |1>"
   ]
  },
  {
   "cell_type": "markdown",
   "id": "2494ca4c",
   "metadata": {},
   "source": [
    "#### Creation and Annihilation operator for Gray encoding\n",
    "\n",
    "$b^{\\dagger}= P_{0} \\sigma_{-} + \\sqrt{2} \\sigma_{-} P_{1} + \\sqrt{3} P_{1} \\sigma_{+} \\newline$\n",
    "$b= P_{0} \\sigma_{+} + \\sqrt{2} \\sigma_{+} P_{1} + \\sqrt{3} P_{1} \\sigma_{-}$"
   ]
  },
  {
   "cell_type": "code",
   "execution_count": 24,
   "id": "0b086ad4",
   "metadata": {},
   "outputs": [],
   "source": [
    "P0=(1/2)*(I+sig_z)\n",
    "P1=(1/2)*(I-sig_z)"
   ]
  },
  {
   "cell_type": "code",
   "execution_count": 25,
   "id": "69676142",
   "metadata": {},
   "outputs": [],
   "source": [
    "bdag=adag=tensor(P0,sig_m)+np.sqrt(2)*tensor(sig_m,P1)+np.sqrt(3)*tensor(P1,sig_p)\n",
    "b=a=tensor(P0,sig_p)+np.sqrt(2)*tensor(sig_p,P1)+np.sqrt(3)*tensor(P1,sig_m) "
   ]
  },
  {
   "cell_type": "code",
   "execution_count": 26,
   "id": "b0370c1f",
   "metadata": {},
   "outputs": [],
   "source": [
    "oper4=tensor(bdag,a)+tensor(b,adag)\n",
    "U4=(theta*oper4).expm()"
   ]
  },
  {
   "cell_type": "code",
   "execution_count": 28,
   "id": "e7876e56",
   "metadata": {},
   "outputs": [],
   "source": [
    "inp_state=tensor(ket_0,ket_1,ket_0,ket_1)"
   ]
  },
  {
   "cell_type": "code",
   "execution_count": 29,
   "id": "6879749d",
   "metadata": {},
   "outputs": [
    {
     "data": {
      "text/plain": [
       "array([[0.+0.j        ],\n",
       "       [0.+0.j        ],\n",
       "       [0.+0.j        ],\n",
       "       [0.+0.70710678j],\n",
       "       [0.+0.j        ],\n",
       "       [0.+0.j        ],\n",
       "       [0.+0.j        ],\n",
       "       [0.+0.j        ],\n",
       "       [0.+0.j        ],\n",
       "       [0.+0.j        ],\n",
       "       [0.+0.j        ],\n",
       "       [0.+0.j        ],\n",
       "       [0.+0.70710678j],\n",
       "       [0.+0.j        ],\n",
       "       [0.+0.j        ],\n",
       "       [0.+0.j        ]])"
      ]
     },
     "execution_count": 29,
     "metadata": {},
     "output_type": "execute_result"
    }
   ],
   "source": [
    "out_state=U4*inp_state\n",
    "np.array(out_state)"
   ]
  },
  {
   "cell_type": "code",
   "execution_count": 11,
   "id": "fb4a5cf5",
   "metadata": {},
   "outputs": [
    {
     "data": {
      "text/plain": [
       "array([[0.        +0.j],\n",
       "       [0.        +0.j],\n",
       "       [0.        +0.j],\n",
       "       [0.70710678+0.j],\n",
       "       [0.        +0.j],\n",
       "       [0.        +0.j],\n",
       "       [0.        +0.j],\n",
       "       [0.        +0.j],\n",
       "       [0.        +0.j],\n",
       "       [0.        +0.j],\n",
       "       [0.        +0.j],\n",
       "       [0.        +0.j],\n",
       "       [0.70710678+0.j],\n",
       "       [0.        +0.j],\n",
       "       [0.        +0.j],\n",
       "       [0.        +0.j]])"
      ]
     },
     "execution_count": 11,
     "metadata": {},
     "output_type": "execute_result"
    }
   ],
   "source": [
    "expect_state=(1/np.sqrt(2))*(tensor(ket_1,ket_1,ket_0,ket_0)+tensor(ket_0,ket_0,ket_1,ket_1))\n",
    "np.array(expect_state)"
   ]
  },
  {
   "cell_type": "code",
   "execution_count": 12,
   "id": "7fbb682a",
   "metadata": {},
   "outputs": [
    {
     "data": {
      "text/latex": [
       "Quantum object: dims = [[2, 2], [2, 2]], shape = (4, 4), type = oper, isherm = False\\begin{equation*}\\left(\\begin{array}{*{11}c}0.0 & 1.0 & 0.0 & 0.0\\\\0.0 & 0.0 & 0.0 & 0.0\\\\0.0 & 0.0 & 0.0 & 0.0\\\\0.0 & 0.0 & 0.0 & 0.0\\\\\\end{array}\\right)\\end{equation*}"
      ],
      "text/plain": [
       "Quantum object: dims = [[2, 2], [2, 2]], shape = (4, 4), type = oper, isherm = False\n",
       "Qobj data =\n",
       "[[0. 1. 0. 0.]\n",
       " [0. 0. 0. 0.]\n",
       " [0. 0. 0. 0.]\n",
       " [0. 0. 0. 0.]]"
      ]
     },
     "execution_count": 12,
     "metadata": {},
     "output_type": "execute_result"
    }
   ],
   "source": [
    "tensor(P0,sig_p)"
   ]
  },
  {
   "cell_type": "code",
   "execution_count": 13,
   "id": "6ffefa31",
   "metadata": {},
   "outputs": [
    {
     "data": {
      "text/latex": [
       "Quantum object: dims = [[2, 2], [2, 2]], shape = (4, 4), type = oper, isherm = False\\begin{equation*}\\left(\\begin{array}{*{11}c}0.0 & 0.0 & 1.0 & 0.0\\\\0.0 & 0.0 & 0.0 & 0.0\\\\0.0 & 0.0 & 0.0 & 0.0\\\\0.0 & 0.0 & 0.0 & 0.0\\\\\\end{array}\\right)\\end{equation*}"
      ],
      "text/plain": [
       "Quantum object: dims = [[2, 2], [2, 2]], shape = (4, 4), type = oper, isherm = False\n",
       "Qobj data =\n",
       "[[0. 0. 1. 0.]\n",
       " [0. 0. 0. 0.]\n",
       " [0. 0. 0. 0.]\n",
       " [0. 0. 0. 0.]]"
      ]
     },
     "execution_count": 13,
     "metadata": {},
     "output_type": "execute_result"
    }
   ],
   "source": [
    "tensor(sig_p,P0)"
   ]
  },
  {
   "cell_type": "code",
   "execution_count": 14,
   "id": "225bf621",
   "metadata": {},
   "outputs": [],
   "source": [
    "op1=tensor(bdag,a)\n",
    "op2=tensor(b,adag)\n",
    "com=op1*op2-op2*op1"
   ]
  },
  {
   "cell_type": "code",
   "execution_count": 15,
   "id": "289ddee9",
   "metadata": {},
   "outputs": [
    {
     "data": {
      "text/plain": [
       "True"
      ]
     },
     "execution_count": 15,
     "metadata": {},
     "output_type": "execute_result"
    }
   ],
   "source": [
    "np.any(np.array(com))"
   ]
  },
  {
   "cell_type": "code",
   "execution_count": 16,
   "id": "a28976ff",
   "metadata": {},
   "outputs": [
    {
     "data": {
      "text/latex": [
       "Quantum object: dims = [[2, 2, 2, 2], [2, 2, 2, 2]], shape = (16, 16), type = oper, isherm = True\\begin{equation*}\\left(\\begin{array}{*{11}c}0.0 & 0.0 & 0.0 & 0.0 & 0.0 & \\cdots & 0.0 & 0.0 & 0.0 & 0.0 & 0.0\\\\0.0 & -1.0 & 0.0 & 0.0 & 0.0 & \\cdots & 0.0 & 0.0 & 0.0 & 0.0 & 0.0\\\\0.0 & 0.0 & -3.000 & 0.0 & 0.0 & \\cdots & 0.0 & 0.0 & 0.0 & 0.0 & 0.0\\\\0.0 & 0.0 & 0.0 & -2.0 & 0.0 & \\cdots & 0.0 & 0.0 & 0.0 & 0.0 & 0.0\\\\0.0 & 0.0 & 0.0 & 0.0 & 1.0 & \\cdots & 0.0 & 0.0 & 0.0 & 0.0 & 0.0\\\\\\vdots & \\vdots & \\vdots & \\vdots & \\vdots & \\ddots & \\vdots & \\vdots & \\vdots & \\vdots & \\vdots\\\\0.0 & 0.0 & 0.0 & 0.0 & 0.0 & \\cdots & 9.000 & 0.0 & 0.0 & 0.0 & 0.0\\\\0.0 & 0.0 & 0.0 & 0.0 & 0.0 & \\cdots & 0.0 & 2.0 & 0.0 & 0.0 & 0.0\\\\0.0 & 0.0 & 0.0 & 0.0 & 0.0 & \\cdots & 0.0 & 0.0 & 1.0 & 0.0 & 0.0\\\\0.0 & 0.0 & 0.0 & 0.0 & 0.0 & \\cdots & 0.0 & 0.0 & 0.0 & -9.000 & 0.0\\\\0.0 & 0.0 & 0.0 & 0.0 & 0.0 & \\cdots & 0.0 & 0.0 & 0.0 & 0.0 & 0.0\\\\\\end{array}\\right)\\end{equation*}"
      ],
      "text/plain": [
       "Quantum object: dims = [[2, 2, 2, 2], [2, 2, 2, 2]], shape = (16, 16), type = oper, isherm = True\n",
       "Qobj data =\n",
       "[[ 0.  0.  0.  0.  0.  0.  0.  0.  0.  0.  0.  0.  0.  0.  0.  0.]\n",
       " [ 0. -1.  0.  0.  0.  0.  0.  0.  0.  0.  0.  0.  0.  0.  0.  0.]\n",
       " [ 0.  0. -3.  0.  0.  0.  0.  0.  0.  0.  0.  0.  0.  0.  0.  0.]\n",
       " [ 0.  0.  0. -2.  0.  0.  0.  0.  0.  0.  0.  0.  0.  0.  0.  0.]\n",
       " [ 0.  0.  0.  0.  1.  0.  0.  0.  0.  0.  0.  0.  0.  0.  0.  0.]\n",
       " [ 0.  0.  0.  0.  0.  0.  0.  0.  0.  0.  0.  0.  0.  0.  0.  0.]\n",
       " [ 0.  0.  0.  0.  0.  0. -6.  0.  0.  0.  0.  0.  0.  0.  0.  0.]\n",
       " [ 0.  0.  0.  0.  0.  0.  0. -1.  0.  0.  0.  0.  0.  0.  0.  0.]\n",
       " [ 0.  0.  0.  0.  0.  0.  0.  0.  3.  0.  0.  0.  0.  0.  0.  0.]\n",
       " [ 0.  0.  0.  0.  0.  0.  0.  0.  0.  6.  0.  0.  0.  0.  0.  0.]\n",
       " [ 0.  0.  0.  0.  0.  0.  0.  0.  0.  0.  0.  0.  0.  0.  0.  0.]\n",
       " [ 0.  0.  0.  0.  0.  0.  0.  0.  0.  0.  0.  9.  0.  0.  0.  0.]\n",
       " [ 0.  0.  0.  0.  0.  0.  0.  0.  0.  0.  0.  0.  2.  0.  0.  0.]\n",
       " [ 0.  0.  0.  0.  0.  0.  0.  0.  0.  0.  0.  0.  0.  1.  0.  0.]\n",
       " [ 0.  0.  0.  0.  0.  0.  0.  0.  0.  0.  0.  0.  0.  0. -9.  0.]\n",
       " [ 0.  0.  0.  0.  0.  0.  0.  0.  0.  0.  0.  0.  0.  0.  0.  0.]]"
      ]
     },
     "execution_count": 16,
     "metadata": {},
     "output_type": "execute_result"
    }
   ],
   "source": [
    "com"
   ]
  },
  {
   "cell_type": "code",
   "execution_count": null,
   "id": "fcff4154",
   "metadata": {},
   "outputs": [],
   "source": []
  }
 ],
 "metadata": {
  "kernelspec": {
   "display_name": "Python 3 (ipykernel)",
   "language": "python",
   "name": "python3"
  },
  "language_info": {
   "codemirror_mode": {
    "name": "ipython",
    "version": 3
   },
   "file_extension": ".py",
   "mimetype": "text/x-python",
   "name": "python",
   "nbconvert_exporter": "python",
   "pygments_lexer": "ipython3",
   "version": "3.9.12"
  }
 },
 "nbformat": 4,
 "nbformat_minor": 5
}
