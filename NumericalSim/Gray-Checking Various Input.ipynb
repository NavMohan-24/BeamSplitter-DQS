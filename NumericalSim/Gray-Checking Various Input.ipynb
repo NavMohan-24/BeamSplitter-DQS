{
 "cells": [
  {
   "cell_type": "code",
   "execution_count": 1,
   "id": "6cb47290-2495-42d2-9b26-ae95ccfc5207",
   "metadata": {},
   "outputs": [],
   "source": [
    "import qutip as qt\n",
    "import numpy as np\n",
    "from qutip import tensor\n",
    "from scipy.linalg import expm\n",
    "from qutip.qip.circuit import QubitCircuit, Gate"
   ]
  },
  {
   "cell_type": "code",
   "execution_count": 2,
   "id": "69a5fc5f-a78a-47c6-a38d-0f69d43c6972",
   "metadata": {},
   "outputs": [],
   "source": [
    "bdag_th=adag_th=qt.create(4)\n",
    "a_th=b_th=qt.destroy(4) \n",
    "\n",
    "theta=complex(0,np.pi/4) #50-50 Beam splitter\n",
    "\n",
    "#spin raising and lowering operator\n",
    "sig_p=qt.destroy(2)\n",
    "sig_m=qt.create(2)\n",
    "\n",
    "#Pauli operators\n",
    "I=qt.identity(2)\n",
    "sig_z=qt.sigmaz()\n",
    "sig_x=qt.sigmax()\n",
    "sig_y=qt.sigmay()\n",
    "\n",
    "#Qubit states\n",
    "ket_0=qt.fock(2,0)\n",
    "ket_1=qt.fock(2,1)\n",
    "\n",
    "#projection operator\n",
    "P0=(I+sig_z)/2\n",
    "P1=(I-sig_z)/2"
   ]
  },
  {
   "cell_type": "markdown",
   "id": "0f3a8368",
   "metadata": {},
   "source": [
    "# Checking the error of 1BS circuit"
   ]
  },
  {
   "cell_type": "code",
   "execution_count": 3,
   "id": "e510aad0",
   "metadata": {},
   "outputs": [],
   "source": [
    "oper1=tensor(sig_m,sig_p)+tensor(sig_p,sig_m)\n",
    "U1=(theta*oper1).expm()"
   ]
  },
  {
   "cell_type": "code",
   "execution_count": 4,
   "id": "cd3aab09",
   "metadata": {},
   "outputs": [],
   "source": [
    "oper2=0.5*(tensor(sig_x,sig_x)+tensor(sig_y,sig_y))\n",
    "U2=(theta*oper2).expm()"
   ]
  },
  {
   "cell_type": "code",
   "execution_count": 5,
   "id": "8daf3e7d",
   "metadata": {},
   "outputs": [],
   "source": [
    "oper3a=tensor(sig_x,sig_x)\n",
    "oper3b=tensor(sig_y,sig_y)\n",
    "\n",
    "U3=((0.5*theta*oper3a).expm())*((0.5*theta*oper3b).expm())"
   ]
  },
  {
   "cell_type": "code",
   "execution_count": 6,
   "id": "1c186df7",
   "metadata": {},
   "outputs": [],
   "source": [
    "inp = tensor(ket_0,ket_1)"
   ]
  },
  {
   "cell_type": "code",
   "execution_count": 7,
   "id": "8cc50d67",
   "metadata": {},
   "outputs": [],
   "source": [
    "f1=U1*inp\n",
    "f2=U2*inp\n",
    "f3=U3*inp"
   ]
  },
  {
   "cell_type": "code",
   "execution_count": 8,
   "id": "a73176db",
   "metadata": {},
   "outputs": [
    {
     "data": {
      "text/latex": [
       "Quantum object: dims = [[2, 2], [1, 1]], shape = (4, 1), type = ket\\begin{equation*}\\left(\\begin{array}{*{11}c}0.0\\\\0.707\\\\0.707j\\\\0.0\\\\\\end{array}\\right)\\end{equation*}"
      ],
      "text/plain": [
       "Quantum object: dims = [[2, 2], [1, 1]], shape = (4, 1), type = ket\n",
       "Qobj data =\n",
       "[[0.        +0.j        ]\n",
       " [0.70710678+0.j        ]\n",
       " [0.        +0.70710678j]\n",
       " [0.        +0.j        ]]"
      ]
     },
     "execution_count": 8,
     "metadata": {},
     "output_type": "execute_result"
    }
   ],
   "source": [
    "f2"
   ]
  },
  {
   "cell_type": "code",
   "execution_count": 25,
   "id": "e2c2abae",
   "metadata": {},
   "outputs": [
    {
     "data": {
      "text/latex": [
       "Quantum object: dims = [[2, 2], [1, 1]], shape = (4, 1), type = ket\\begin{equation*}\\left(\\begin{array}{*{11}c}0.0\\\\0.707\\\\0.707j\\\\0.0\\\\\\end{array}\\right)\\end{equation*}"
      ],
      "text/plain": [
       "Quantum object: dims = [[2, 2], [1, 1]], shape = (4, 1), type = ket\n",
       "Qobj data =\n",
       "[[0.        +0.j        ]\n",
       " [0.70710678+0.j        ]\n",
       " [0.        +0.70710678j]\n",
       " [0.        +0.j        ]]"
      ]
     },
     "execution_count": 25,
     "metadata": {},
     "output_type": "execute_result"
    }
   ],
   "source": [
    "f3"
   ]
  },
  {
   "cell_type": "code",
   "execution_count": 13,
   "id": "5921aaa5",
   "metadata": {},
   "outputs": [
    {
     "data": {
      "text/latex": [
       "Quantum object: dims = [[2, 2], [1, 1]], shape = (4, 1), type = ket\\begin{equation*}\\left(\\begin{array}{*{11}c}0.0\\\\0.707\\\\0.707j\\\\0.0\\\\\\end{array}\\right)\\end{equation*}"
      ],
      "text/plain": [
       "Quantum object: dims = [[2, 2], [1, 1]], shape = (4, 1), type = ket\n",
       "Qobj data =\n",
       "[[0.        +0.j        ]\n",
       " [0.70710678+0.j        ]\n",
       " [0.        +0.70710678j]\n",
       " [0.        +0.j        ]]"
      ]
     },
     "execution_count": 13,
     "metadata": {},
     "output_type": "execute_result"
    }
   ],
   "source": [
    "f1"
   ]
  },
  {
   "cell_type": "code",
   "execution_count": 10,
   "id": "87e83307",
   "metadata": {},
   "outputs": [
    {
     "data": {
      "text/latex": [
       "Quantum object: dims = [[2, 2], [2, 2]], shape = (4, 4), type = oper, isherm = True\\begin{equation*}\\left(\\begin{array}{*{11}c}0.0 & 0.0 & 0.0 & 0.0\\\\0.0 & 0.0 & 0.0 & 0.0\\\\0.0 & 0.0 & 0.0 & 0.0\\\\0.0 & 0.0 & 0.0 & 0.0\\\\\\end{array}\\right)\\end{equation*}"
      ],
      "text/plain": [
       "Quantum object: dims = [[2, 2], [2, 2]], shape = (4, 4), type = oper, isherm = True\n",
       "Qobj data =\n",
       "[[0. 0. 0. 0.]\n",
       " [0. 0. 0. 0.]\n",
       " [0. 0. 0. 0.]\n",
       " [0. 0. 0. 0.]]"
      ]
     },
     "execution_count": 10,
     "metadata": {},
     "output_type": "execute_result"
    }
   ],
   "source": [
    "A=(0.5*theta*oper3a).expm()\n",
    "B=(0.5*theta*oper3b).expm()\n",
    "\n",
    "C=A*B-B*A\n",
    "\n",
    "C"
   ]
  },
  {
   "cell_type": "markdown",
   "id": "c7d55cbb-2f70-41b0-8c86-e5ce7154d213",
   "metadata": {},
   "source": [
    "# Theoretical"
   ]
  },
  {
   "cell_type": "code",
   "execution_count": 3,
   "id": "e091cc7b-3080-46c3-9dea-6aea023fdb23",
   "metadata": {},
   "outputs": [],
   "source": [
    "oper=tensor(bdag_th,a_th)+tensor(b_th,adag_th)"
   ]
  },
  {
   "cell_type": "code",
   "execution_count": 4,
   "id": "ec6804af-99b3-4626-8834-09c46efdc90f",
   "metadata": {},
   "outputs": [],
   "source": [
    "U=(theta*oper).expm()"
   ]
  },
  {
   "cell_type": "code",
   "execution_count": 5,
   "id": "869c9a80-ad40-432e-ae38-6969afae284d",
   "metadata": {},
   "outputs": [],
   "source": [
    "ket_0=qt.fock(4,0)\n",
    "ket_1=qt.fock(4,1)\n",
    "ket_2=qt.fock(4,2)\n",
    "ket_3=qt.fock(4,3)"
   ]
  },
  {
   "cell_type": "markdown",
   "id": "4a2b26ab-74b1-45ce-ac5e-7cb07b71d892",
   "metadata": {
    "tags": []
   },
   "source": [
    "#### 10"
   ]
  },
  {
   "cell_type": "code",
   "execution_count": 6,
   "id": "a2d3e7a9-b6fb-4df1-a77f-ddc6b18a6fca",
   "metadata": {},
   "outputs": [],
   "source": [
    "inp_state= tensor(ket_1,ket_0)"
   ]
  },
  {
   "cell_type": "code",
   "execution_count": 7,
   "id": "6b0b690f-04ec-4b64-b470-51fe052be3ac",
   "metadata": {},
   "outputs": [
    {
     "data": {
      "text/plain": [
       "array([[0.        +0.j        ],\n",
       "       [0.        +0.70710678j],\n",
       "       [0.        +0.j        ],\n",
       "       [0.        +0.j        ],\n",
       "       [0.70710678+0.j        ],\n",
       "       [0.        +0.j        ],\n",
       "       [0.        +0.j        ],\n",
       "       [0.        +0.j        ],\n",
       "       [0.        +0.j        ],\n",
       "       [0.        +0.j        ],\n",
       "       [0.        +0.j        ],\n",
       "       [0.        +0.j        ],\n",
       "       [0.        +0.j        ],\n",
       "       [0.        +0.j        ],\n",
       "       [0.        +0.j        ],\n",
       "       [0.        +0.j        ]])"
      ]
     },
     "execution_count": 7,
     "metadata": {},
     "output_type": "execute_result"
    }
   ],
   "source": [
    "np.array(U*inp_state)"
   ]
  },
  {
   "cell_type": "code",
   "execution_count": 8,
   "id": "3060ec74-5e4c-4ec8-ab28-5cd978f1cc92",
   "metadata": {},
   "outputs": [
    {
     "data": {
      "text/latex": [
       "Quantum object: dims = [[4, 4], [1, 1]], shape = (16, 1), type = ket\\begin{equation*}\\left(\\begin{array}{*{11}c}0.0\\\\0.0\\\\0.0\\\\0.0\\\\1.0\\\\\\vdots\\\\0.0\\\\0.0\\\\0.0\\\\0.0\\\\0.0\\\\\\end{array}\\right)\\end{equation*}"
      ],
      "text/plain": [
       "Quantum object: dims = [[4, 4], [1, 1]], shape = (16, 1), type = ket\n",
       "Qobj data =\n",
       "[[0.]\n",
       " [0.]\n",
       " [0.]\n",
       " [0.]\n",
       " [1.]\n",
       " [0.]\n",
       " [0.]\n",
       " [0.]\n",
       " [0.]\n",
       " [0.]\n",
       " [0.]\n",
       " [0.]\n",
       " [0.]\n",
       " [0.]\n",
       " [0.]\n",
       " [0.]]"
      ]
     },
     "execution_count": 8,
     "metadata": {},
     "output_type": "execute_result"
    }
   ],
   "source": [
    "tensor(ket_1,ket_0)"
   ]
  },
  {
   "cell_type": "code",
   "execution_count": 9,
   "id": "88f76ed4-0123-4314-b892-c7074d009574",
   "metadata": {},
   "outputs": [
    {
     "data": {
      "text/latex": [
       "Quantum object: dims = [[4, 4], [1, 1]], shape = (16, 1), type = ket\\begin{equation*}\\left(\\begin{array}{*{11}c}0.0\\\\1.0\\\\0.0\\\\0.0\\\\0.0\\\\\\vdots\\\\0.0\\\\0.0\\\\0.0\\\\0.0\\\\0.0\\\\\\end{array}\\right)\\end{equation*}"
      ],
      "text/plain": [
       "Quantum object: dims = [[4, 4], [1, 1]], shape = (16, 1), type = ket\n",
       "Qobj data =\n",
       "[[0.]\n",
       " [1.]\n",
       " [0.]\n",
       " [0.]\n",
       " [0.]\n",
       " [0.]\n",
       " [0.]\n",
       " [0.]\n",
       " [0.]\n",
       " [0.]\n",
       " [0.]\n",
       " [0.]\n",
       " [0.]\n",
       " [0.]\n",
       " [0.]\n",
       " [0.]]"
      ]
     },
     "execution_count": 9,
     "metadata": {},
     "output_type": "execute_result"
    }
   ],
   "source": [
    "tensor(ket_0,ket_1)"
   ]
  },
  {
   "cell_type": "markdown",
   "id": "b4d3d437-e9b8-4649-8888-6e398aceee5f",
   "metadata": {},
   "source": [
    "### 11"
   ]
  },
  {
   "cell_type": "code",
   "execution_count": 10,
   "id": "7f45b516-cf00-49f4-a77d-d408cdb482e6",
   "metadata": {},
   "outputs": [],
   "source": [
    "inp_state=tensor(ket_1,ket_1)"
   ]
  },
  {
   "cell_type": "code",
   "execution_count": 11,
   "id": "58850c4b-a272-458f-b536-fe2cf66e2f84",
   "metadata": {},
   "outputs": [
    {
     "data": {
      "text/plain": [
       "array([[0.+0.j        ],\n",
       "       [0.+0.j        ],\n",
       "       [0.+0.70710678j],\n",
       "       [0.+0.j        ],\n",
       "       [0.+0.j        ],\n",
       "       [0.+0.j        ],\n",
       "       [0.+0.j        ],\n",
       "       [0.+0.j        ],\n",
       "       [0.+0.70710678j],\n",
       "       [0.+0.j        ],\n",
       "       [0.+0.j        ],\n",
       "       [0.+0.j        ],\n",
       "       [0.+0.j        ],\n",
       "       [0.+0.j        ],\n",
       "       [0.+0.j        ],\n",
       "       [0.+0.j        ]])"
      ]
     },
     "execution_count": 11,
     "metadata": {},
     "output_type": "execute_result"
    }
   ],
   "source": [
    "np.array(U*inp_state)"
   ]
  },
  {
   "cell_type": "code",
   "execution_count": 12,
   "id": "667e6c5d-f2cc-4880-8022-336662af461c",
   "metadata": {},
   "outputs": [
    {
     "data": {
      "text/plain": [
       "array([[0.+0.j],\n",
       "       [0.+0.j],\n",
       "       [1.+0.j],\n",
       "       [0.+0.j],\n",
       "       [0.+0.j],\n",
       "       [0.+0.j],\n",
       "       [0.+0.j],\n",
       "       [0.+0.j],\n",
       "       [1.+0.j],\n",
       "       [0.+0.j],\n",
       "       [0.+0.j],\n",
       "       [0.+0.j],\n",
       "       [0.+0.j],\n",
       "       [0.+0.j],\n",
       "       [0.+0.j],\n",
       "       [0.+0.j]])"
      ]
     },
     "execution_count": 12,
     "metadata": {},
     "output_type": "execute_result"
    }
   ],
   "source": [
    "np.array(tensor(ket_2,ket_0)+tensor(ket_0,ket_2))"
   ]
  },
  {
   "cell_type": "markdown",
   "id": "d99a5f7a-1019-4037-baba-0919d9dcecc3",
   "metadata": {
    "tags": []
   },
   "source": [
    "### 20"
   ]
  },
  {
   "cell_type": "code",
   "execution_count": 13,
   "id": "c1e3c39a-1fe9-49aa-b045-7ff9865074d1",
   "metadata": {},
   "outputs": [],
   "source": [
    "inp_state=tensor(ket_2,ket_0)"
   ]
  },
  {
   "cell_type": "code",
   "execution_count": 14,
   "id": "3622ecd9-b160-40cf-b343-72369b14b696",
   "metadata": {},
   "outputs": [
    {
     "data": {
      "text/plain": [
       "array([[ 0. +0.j        ],\n",
       "       [ 0. +0.j        ],\n",
       "       [-0.5+0.j        ],\n",
       "       [ 0. +0.j        ],\n",
       "       [ 0. +0.j        ],\n",
       "       [ 0. +0.70710678j],\n",
       "       [ 0. +0.j        ],\n",
       "       [ 0. +0.j        ],\n",
       "       [ 0.5+0.j        ],\n",
       "       [ 0. +0.j        ],\n",
       "       [ 0. +0.j        ],\n",
       "       [ 0. +0.j        ],\n",
       "       [ 0. +0.j        ],\n",
       "       [ 0. +0.j        ],\n",
       "       [ 0. +0.j        ],\n",
       "       [ 0. +0.j        ]])"
      ]
     },
     "execution_count": 14,
     "metadata": {},
     "output_type": "execute_result"
    }
   ],
   "source": [
    "np.array(U*inp_state)"
   ]
  },
  {
   "cell_type": "code",
   "execution_count": 15,
   "id": "5fb2ee40-d21a-4297-942c-43ee7df6479c",
   "metadata": {},
   "outputs": [
    {
     "data": {
      "text/plain": [
       "array([[0.+0.j],\n",
       "       [0.+0.j],\n",
       "       [1.+0.j],\n",
       "       [0.+0.j],\n",
       "       [0.+0.j],\n",
       "       [1.+0.j],\n",
       "       [0.+0.j],\n",
       "       [0.+0.j],\n",
       "       [1.+0.j],\n",
       "       [0.+0.j],\n",
       "       [0.+0.j],\n",
       "       [0.+0.j],\n",
       "       [0.+0.j],\n",
       "       [0.+0.j],\n",
       "       [0.+0.j],\n",
       "       [0.+0.j]])"
      ]
     },
     "execution_count": 15,
     "metadata": {},
     "output_type": "execute_result"
    }
   ],
   "source": [
    "np.array(tensor(ket_2,ket_0)+tensor(ket_0,ket_2)+tensor(ket_1,ket_1))"
   ]
  },
  {
   "cell_type": "markdown",
   "id": "e4e8c0e1-d0c9-46c2-8e7b-f7d306024ccb",
   "metadata": {},
   "source": [
    "## 21"
   ]
  },
  {
   "cell_type": "code",
   "execution_count": 16,
   "id": "97cf75ea-4039-42ea-b52c-d1d776e90d06",
   "metadata": {},
   "outputs": [],
   "source": [
    "inp_state=tensor(ket_2,ket_1)"
   ]
  },
  {
   "cell_type": "code",
   "execution_count": 17,
   "id": "30d52e6b-993f-492a-9931-76540284f065",
   "metadata": {},
   "outputs": [
    {
     "data": {
      "text/plain": [
       "array([[ 0.        +0.j        ],\n",
       "       [ 0.        +0.j        ],\n",
       "       [ 0.        +0.j        ],\n",
       "       [-0.61237244+0.j        ],\n",
       "       [ 0.        +0.j        ],\n",
       "       [ 0.        +0.j        ],\n",
       "       [ 0.        +0.35355339j],\n",
       "       [ 0.        +0.j        ],\n",
       "       [ 0.        +0.j        ],\n",
       "       [-0.35355339+0.j        ],\n",
       "       [ 0.        +0.j        ],\n",
       "       [ 0.        +0.j        ],\n",
       "       [ 0.        +0.61237244j],\n",
       "       [ 0.        +0.j        ],\n",
       "       [ 0.        +0.j        ],\n",
       "       [ 0.        +0.j        ]])"
      ]
     },
     "execution_count": 17,
     "metadata": {},
     "output_type": "execute_result"
    }
   ],
   "source": [
    "np.array(U*inp_state)"
   ]
  },
  {
   "cell_type": "code",
   "execution_count": 23,
   "id": "ff4a4033-da07-42b1-9d1f-b91c142c3957",
   "metadata": {},
   "outputs": [
    {
     "data": {
      "text/plain": [
       "array([[0.+0.j],\n",
       "       [0.+0.j],\n",
       "       [0.+0.j],\n",
       "       [0.+0.j],\n",
       "       [0.+0.j],\n",
       "       [0.+0.j],\n",
       "       [0.+0.j],\n",
       "       [0.+0.j],\n",
       "       [0.+0.j],\n",
       "       [0.+0.j],\n",
       "       [0.+0.j],\n",
       "       [0.+0.j],\n",
       "       [1.+0.j],\n",
       "       [0.+0.j],\n",
       "       [0.+0.j],\n",
       "       [0.+0.j]])"
      ]
     },
     "execution_count": 23,
     "metadata": {},
     "output_type": "execute_result"
    }
   ],
   "source": [
    "np.array(tensor(ket_3,ket_0))"
   ]
  },
  {
   "cell_type": "code",
   "execution_count": 152,
   "id": "ff84a73c-3f0e-4796-af89-0208b3533853",
   "metadata": {},
   "outputs": [
    {
     "data": {
      "text/plain": [
       "array([[0.+0.j],\n",
       "       [0.+0.j],\n",
       "       [0.+0.j],\n",
       "       [1.+0.j],\n",
       "       [0.+0.j],\n",
       "       [0.+0.j],\n",
       "       [1.+0.j],\n",
       "       [0.+0.j],\n",
       "       [0.+0.j],\n",
       "       [1.+0.j],\n",
       "       [0.+0.j],\n",
       "       [0.+0.j],\n",
       "       [1.+0.j],\n",
       "       [0.+0.j],\n",
       "       [0.+0.j],\n",
       "       [0.+0.j]])"
      ]
     },
     "execution_count": 152,
     "metadata": {},
     "output_type": "execute_result"
    }
   ],
   "source": [
    "np.array(tensor(ket_2,ket_1)+tensor(ket_1,ket_2)+tensor(ket_3,ket_0)+tensor(ket_0,ket_3))"
   ]
  },
  {
   "cell_type": "markdown",
   "id": "71d7eb29-3810-4db3-a6e4-623c4d4037ac",
   "metadata": {},
   "source": [
    "## 30"
   ]
  },
  {
   "cell_type": "code",
   "execution_count": 154,
   "id": "acbfb0ab-4a7c-4413-b882-8c0edb66edc7",
   "metadata": {},
   "outputs": [],
   "source": [
    "inp_state=tensor(ket_3,ket_0)"
   ]
  },
  {
   "cell_type": "code",
   "execution_count": 155,
   "id": "c821d3ef-c08f-438f-80ba-a22abb9a4c85",
   "metadata": {},
   "outputs": [
    {
     "data": {
      "text/plain": [
       "array([[ 0.        +0.j        ],\n",
       "       [ 0.        +0.j        ],\n",
       "       [ 0.        +0.j        ],\n",
       "       [ 0.        -0.35355339j],\n",
       "       [ 0.        +0.j        ],\n",
       "       [ 0.        +0.j        ],\n",
       "       [-0.61237244+0.j        ],\n",
       "       [ 0.        +0.j        ],\n",
       "       [ 0.        +0.j        ],\n",
       "       [ 0.        +0.61237244j],\n",
       "       [ 0.        +0.j        ],\n",
       "       [ 0.        +0.j        ],\n",
       "       [ 0.35355339+0.j        ],\n",
       "       [ 0.        +0.j        ],\n",
       "       [ 0.        +0.j        ],\n",
       "       [ 0.        +0.j        ]])"
      ]
     },
     "execution_count": 155,
     "metadata": {},
     "output_type": "execute_result"
    }
   ],
   "source": [
    "np.array(U*inp_state)"
   ]
  },
  {
   "cell_type": "code",
   "execution_count": 164,
   "id": "551933de-fd7d-4058-b9e0-8be54eea61d9",
   "metadata": {},
   "outputs": [
    {
     "data": {
      "text/plain": [
       "array([[0.+0.j],\n",
       "       [0.+0.j],\n",
       "       [0.+0.j],\n",
       "       [0.+0.j],\n",
       "       [0.+0.j],\n",
       "       [0.+0.j],\n",
       "       [1.+0.j],\n",
       "       [0.+0.j],\n",
       "       [0.+0.j],\n",
       "       [0.+0.j],\n",
       "       [0.+0.j],\n",
       "       [0.+0.j],\n",
       "       [0.+0.j],\n",
       "       [0.+0.j],\n",
       "       [0.+0.j],\n",
       "       [0.+0.j]])"
      ]
     },
     "execution_count": 164,
     "metadata": {},
     "output_type": "execute_result"
    }
   ],
   "source": [
    "np.array(tensor(ket_1,ket_2))"
   ]
  },
  {
   "cell_type": "code",
   "execution_count": 162,
   "id": "2d3ea4ba-a96d-44e0-8951-d3d43d382e2d",
   "metadata": {},
   "outputs": [
    {
     "data": {
      "text/plain": [
       "array([[0.+0.j],\n",
       "       [0.+0.j],\n",
       "       [0.+0.j],\n",
       "       [1.+0.j],\n",
       "       [0.+0.j],\n",
       "       [0.+0.j],\n",
       "       [0.+0.j],\n",
       "       [0.+0.j],\n",
       "       [0.+0.j],\n",
       "       [0.+0.j],\n",
       "       [0.+0.j],\n",
       "       [0.+0.j],\n",
       "       [0.+0.j],\n",
       "       [0.+0.j],\n",
       "       [0.+0.j],\n",
       "       [0.+0.j]])"
      ]
     },
     "execution_count": 162,
     "metadata": {},
     "output_type": "execute_result"
    }
   ],
   "source": [
    "np.array(tensor(ket_0,ket_3))"
   ]
  },
  {
   "cell_type": "code",
   "execution_count": 55,
   "id": "51ea8045-7b95-4950-a70f-113e7ff40f4d",
   "metadata": {},
   "outputs": [],
   "source": [
    "op1=tensor(P0,sig_m,P0,sig_p)+tensor(P0,sig_p,P0,sig_m)\n",
    "op2=np.sqrt(2)*(tensor(P0,sig_m,sig_p,P1)+tensor(P0,sig_p,sig_m,P1))\n",
    "op3=np.sqrt(3)*(tensor(P0,sig_m,P1,sig_m)+tensor(P0,sig_p,P1,sig_p))\n",
    "op4=np.sqrt(2)*(tensor(sig_m,P1,P0,sig_p)+tensor(sig_p,P1,P0,sig_m))\n",
    "op5=2*(tensor(sig_m,P1,sig_p,P1)+tensor(sig_p,P1,sig_m,P1))\n",
    "op6=np.sqrt(6)*(tensor(sig_m,P1,P1,sig_m)+tensor(sig_p,P1,P1,sig_p))\n",
    "op7=np.sqrt(3)*(tensor(P1,sig_p,P0,sig_p)+tensor(P1,sig_m,P0,sig_m))\n",
    "op8=np.sqrt(6)*(tensor(P1,sig_p,sig_p,P1)+tensor(P1,sig_m,sig_m,P1))\n",
    "op9=3*(tensor(P1,sig_p,P1,sig_m)+tensor(P1,sig_m,P1,sig_p))"
   ]
  },
  {
   "cell_type": "code",
   "execution_count": 56,
   "id": "fb0352c9-8e89-46d0-8f2e-690eb3a4cf29",
   "metadata": {},
   "outputs": [],
   "source": [
    "op=op1+op2+op3+op4+op5+op6+op7+op8+op9\n",
    "U1=(theta*op).expm()"
   ]
  },
  {
   "cell_type": "code",
   "execution_count": 78,
   "id": "774d7080-7c29-4149-b7f9-dc4dbf4a9994",
   "metadata": {},
   "outputs": [],
   "source": [
    "bdag=adag=tensor(P0,sig_m)+np.sqrt(2)*tensor(sig_m,P1)+np.sqrt(3)*tensor(P1,sig_p)\n",
    "b=a=tensor(P0,sig_p)+np.sqrt(2)*tensor(sig_p,P1)+np.sqrt(3)*tensor(P1,sig_m) "
   ]
  },
  {
   "cell_type": "code",
   "execution_count": 79,
   "id": "2d24ad36-b523-44cd-bcd1-de88d861d85b",
   "metadata": {},
   "outputs": [],
   "source": [
    "op2=tensor(bdag,a)+tensor(adag,b)\n",
    "U2=(theta*(op2)).expm()"
   ]
  },
  {
   "cell_type": "code",
   "execution_count": 80,
   "id": "8af02025-ddbb-48c0-ad44-c2579ca3fdb0",
   "metadata": {},
   "outputs": [
    {
     "data": {
      "text/latex": [
       "Quantum object: dims = [[2, 2, 2, 2], [2, 2, 2, 2]], shape = (16, 16), type = oper, isherm = False\\begin{equation*}\\left(\\begin{array}{*{11}c}1.0 & 0.0 & 0.0 & 0.0 & 0.0 & \\cdots & 0.0 & 0.0 & 0.0 & 0.0 & 0.0\\\\0.0 & 1.0 & 0.0 & 0.0 & 0.0 & \\cdots & 0.0 & 0.0 & 0.0 & 0.0 & 0.0\\\\0.0 & 0.0 & 1.0 & 0.0 & 0.0 & \\cdots & 0.0 & 0.0 & 0.0 & 0.0 & 0.0\\\\0.0 & 0.0 & 0.0 & 1.0 & 0.0 & \\cdots & 0.0 & 0.0 & 0.0 & 0.0 & 0.0\\\\0.0 & 1.571j & 0.0 & 0.0 & 1.0 & \\cdots & 0.0 & 0.0 & 0.0 & 0.0 & 0.0\\\\\\vdots & \\vdots & \\vdots & \\vdots & \\vdots & \\ddots & \\vdots & \\vdots & \\vdots & \\vdots & \\vdots\\\\0.0 & 0.0 & 0.0 & 0.0 & 0.0 & \\cdots & 1.0 & 0.0 & 0.0 & 4.712j & 0.0\\\\0.0 & 0.0 & 0.0 & -2.467 & 0.0 & \\cdots & 0.0 & 1.0 & 0.0 & 0.0 & 0.0\\\\0.0 & 0.0 & -4.274 & 0.0 & 0.0 & \\cdots & 0.0 & 0.0 & 1.0 & 0.0 & 0.0\\\\0.0 & 0.0 & 0.0 & 0.0 & 0.0 & \\cdots & 0.0 & 0.0 & 0.0 & 1.0 & 0.0\\\\0.0 & 0.0 & 0.0 & 0.0 & 0.0 & \\cdots & 0.0 & 0.0 & 0.0 & 0.0 & 1.0\\\\\\end{array}\\right)\\end{equation*}"
      ],
      "text/plain": [
       "Quantum object: dims = [[2, 2, 2, 2], [2, 2, 2, 2]], shape = (16, 16), type = oper, isherm = False\n",
       "Qobj data =\n",
       "[[ 1.        +0.j          0.        +0.j          0.        +0.j\n",
       "   0.        +0.j          0.        +0.j          0.        +0.j\n",
       "   0.        +0.j          0.        +0.j          0.        +0.j\n",
       "   0.        +0.j          0.        +0.j          0.        +0.j\n",
       "   0.        +0.j          0.        +0.j          0.        +0.j\n",
       "   0.        +0.j        ]\n",
       " [ 0.        +0.j          1.        +0.j          0.        +0.j\n",
       "   0.        +0.j          0.        +0.j          0.        +0.j\n",
       "   0.        +0.j          0.        +0.j          0.        +0.j\n",
       "   0.        +0.j          0.        +0.j          0.        +0.j\n",
       "   0.        +0.j          0.        +0.j          0.        +0.j\n",
       "   0.        +0.j        ]\n",
       " [ 0.        +0.j          0.        +0.j          1.        +0.j\n",
       "   0.        +0.j          0.        +0.j          0.        +0.j\n",
       "   0.        +0.j          0.        +0.j          0.        +0.j\n",
       "   0.        +0.j          0.        +0.j          0.        +0.j\n",
       "   0.        +0.j          0.        +0.j          0.        +0.j\n",
       "   0.        +0.j        ]\n",
       " [ 0.        +0.j          0.        +0.j          0.        +0.j\n",
       "   1.        +0.j          0.        +0.j          0.        +0.j\n",
       "   0.        +0.j          0.        +0.j          0.        +0.j\n",
       "   0.        +0.j          0.        +0.j          0.        +0.j\n",
       "   0.        +0.j          0.        +0.j          0.        +0.j\n",
       "   0.        +0.j        ]\n",
       " [ 0.        +0.j          0.        +1.57079633j  0.        +0.j\n",
       "   0.        +0.j          1.        +0.j          0.        +0.j\n",
       "   0.        +0.j          0.        +0.j          0.        +0.j\n",
       "   0.        +0.j          0.        +0.j          0.        +0.j\n",
       "   0.        +0.j          0.        +0.j          0.        +0.j\n",
       "   0.        +0.j        ]\n",
       " [ 0.        +0.j          0.        +0.j          0.        +0.j\n",
       "   0.        +2.22144147j  0.        +0.j          1.        +0.j\n",
       "   0.        +0.j          0.        +0.j          0.        +0.j\n",
       "   0.        +0.j          0.        +0.j          0.        +0.j\n",
       "   0.        +0.j          0.        +0.j          0.        +0.j\n",
       "   0.        +0.j        ]\n",
       " [ 0.        +0.j          0.        +0.j          0.        +0.j\n",
       "   0.        +0.j          0.        +0.j          0.        +0.j\n",
       "   1.        +0.j          0.        +0.j          0.        +0.j\n",
       "   0.        +0.j          0.        +0.j          0.        +0.j\n",
       "   0.        +0.j          0.        +0.j          0.        +0.j\n",
       "   0.        +0.j        ]\n",
       " [ 0.        +0.j          0.        +0.j          0.        +2.72069905j\n",
       "   0.        +0.j          0.        +0.j          0.        +0.j\n",
       "   0.        +0.j          1.        +0.j          0.        +0.j\n",
       "   0.        +0.j          0.        +0.j          0.        +0.j\n",
       "   0.        +0.j          0.        +0.j          0.        +0.j\n",
       "   0.        +0.j        ]\n",
       " [ 0.        +0.j          0.        +0.j          0.        -3.87578459j\n",
       "   0.        +0.j          0.        +0.j          0.        +0.j\n",
       "   0.        +0.j         -4.27366407+0.j          1.        +0.j\n",
       "   0.        +0.j          0.        +0.j          0.        +0.j\n",
       "   0.        +0.j          0.        +2.72069905j  0.        +0.j\n",
       "   0.        +0.j        ]\n",
       " [ 0.        +0.j          0.        +0.j          0.        +0.j\n",
       "   0.        +0.j          0.        +0.j          0.        +0.j\n",
       "  -7.4022033 +0.j          0.        +0.j          0.        +0.j\n",
       "   1.        +0.j          0.        +0.j          0.        +0.j\n",
       "   0.        +0.j          0.        +0.j          0.        +0.j\n",
       "   0.        +3.84764949j]\n",
       " [ 0.        +0.j          0.        +0.j          0.        +0.j\n",
       "   0.        +0.j          0.        +0.j          0.        +0.j\n",
       "   0.        +0.j          0.        +0.j          0.        +0.j\n",
       "   0.        +0.j          1.        +0.j          0.        +0.j\n",
       "   0.        +0.j          0.        +0.j          0.        +0.j\n",
       "   0.        +0.j        ]\n",
       " [ 0.        +0.j          0.        +0.j          0.        +0.j\n",
       "   0.        +0.j          0.        +0.j          0.        +0.j\n",
       "   0.        +0.j          0.        +0.j          0.        +0.j\n",
       "   0.        +0.j          0.        +0.j          1.        +0.j\n",
       "   0.        +0.j          0.        +0.j          0.        +4.71238898j\n",
       "   0.        +0.j        ]\n",
       " [ 0.        +0.j          0.        +0.j          0.        +0.j\n",
       "  -2.4674011 +0.j          0.        +0.j          0.        +2.22144147j\n",
       "   0.        +0.j          0.        +0.j          0.        +0.j\n",
       "   0.        +0.j          0.        +0.j          0.        +0.j\n",
       "   1.        +0.j          0.        +0.j          0.        +0.j\n",
       "   0.        +0.j        ]\n",
       " [ 0.        +0.j          0.        +0.j         -4.27366407+0.j\n",
       "   0.        +0.j          0.        +0.j          0.        +0.j\n",
       "   0.        +0.j          0.        +3.14159265j  0.        +0.j\n",
       "   0.        +0.j          0.        +0.j          0.        +0.j\n",
       "   0.        +0.j          1.        +0.j          0.        +0.j\n",
       "   0.        +0.j        ]\n",
       " [ 0.        +0.j          0.        +0.j          0.        +0.j\n",
       "   0.        +0.j          0.        +0.j          0.        +0.j\n",
       "   0.        +0.j          0.        +0.j          0.        +0.j\n",
       "   0.        +0.j          0.        +0.j          0.        +0.j\n",
       "   0.        +0.j          0.        +0.j          1.        +0.j\n",
       "   0.        +0.j        ]\n",
       " [ 0.        +0.j          0.        +0.j          0.        +0.j\n",
       "   0.        +0.j          0.        +0.j          0.        +0.j\n",
       "   0.        +3.84764949j  0.        +0.j          0.        +0.j\n",
       "   0.        +0.j          0.        +0.j          0.        +0.j\n",
       "   0.        +0.j          0.        +0.j          0.        +0.j\n",
       "   1.        +0.j        ]]"
      ]
     },
     "execution_count": 80,
     "metadata": {},
     "output_type": "execute_result"
    }
   ],
   "source": [
    "U2"
   ]
  },
  {
   "cell_type": "code",
   "execution_count": 74,
   "id": "080ee0ce-c186-4c0b-a63c-d5e9ce9f78a1",
   "metadata": {},
   "outputs": [
    {
     "data": {
      "text/latex": [
       "Quantum object: dims = [[2, 2, 2, 2], [1, 1, 1, 1]], shape = (16, 1), type = ket\\begin{equation*}\\left(\\begin{array}{*{11}c}0.0\\\\0.0\\\\0.0\\\\0.0\\\\0.0\\\\\\vdots\\\\0.0\\\\1.0\\\\0.0\\\\0.0\\\\0.0\\\\\\end{array}\\right)\\end{equation*}"
      ],
      "text/plain": [
       "Quantum object: dims = [[2, 2, 2, 2], [1, 1, 1, 1]], shape = (16, 1), type = ket\n",
       "Qobj data =\n",
       "[[0.]\n",
       " [0.]\n",
       " [0.]\n",
       " [0.]\n",
       " [0.]\n",
       " [0.]\n",
       " [0.]\n",
       " [0.]\n",
       " [0.]\n",
       " [0.]\n",
       " [0.]\n",
       " [0.]\n",
       " [1.]\n",
       " [0.]\n",
       " [0.]\n",
       " [0.]]"
      ]
     },
     "execution_count": 74,
     "metadata": {},
     "output_type": "execute_result"
    }
   ],
   "source": []
  },
  {
   "cell_type": "code",
   "execution_count": 62,
   "id": "bfcdec67-d984-4a9a-b578-960a46280c95",
   "metadata": {},
   "outputs": [
    {
     "data": {
      "text/plain": [
       "False"
      ]
     },
     "execution_count": 62,
     "metadata": {},
     "output_type": "execute_result"
    }
   ],
   "source": [
    "U==U1"
   ]
  },
  {
   "cell_type": "code",
   "execution_count": 65,
   "id": "ba288b29-d995-4739-9ce1-0333ca6aa51a",
   "metadata": {
    "tags": []
   },
   "outputs": [
    {
     "data": {
      "text/latex": [
       "Quantum object: dims = [[4, 4], [4, 4]], shape = (16, 16), type = oper, isherm = False\\begin{equation*}\\left(\\begin{array}{*{11}c}1.000 & 0.0 & 0.0 & 0.0 & 0.0 & \\cdots & 0.0 & 0.0 & 0.0 & 0.0 & 0.0\\\\0.0 & 0.707 & 0.0 & 0.0 & 0.707j & \\cdots & 0.0 & 0.0 & 0.0 & 0.0 & 0.0\\\\0.0 & 0.0 & 0.500 & 0.0 & 0.0 & \\cdots & 0.0 & 0.0 & 0.0 & 0.0 & 0.0\\\\0.0 & 0.0 & 0.0 & 0.354 & 0.0 & \\cdots & 0.0 & -0.354j & 0.0 & 0.0 & 0.0\\\\0.0 & 0.707j & 0.0 & 0.0 & 0.707 & \\cdots & 0.0 & 0.0 & 0.0 & 0.0 & 0.0\\\\\\vdots & \\vdots & \\vdots & \\vdots & \\vdots & \\ddots & \\vdots & \\vdots & \\vdots & \\vdots & \\vdots\\\\0.0 & 0.0 & 0.0 & 0.0 & 0.0 & \\cdots & -0.707 & 0.0 & 0.0 & 0.707j & 0.0\\\\0.0 & 0.0 & 0.0 & -0.354j & 0.0 & \\cdots & 0.0 & 0.354 & 0.0 & 0.0 & 0.0\\\\0.0 & 0.0 & 0.0 & 0.0 & 0.0 & \\cdots & 0.0 & 0.0 & 0.044 & 0.0 & 0.0\\\\0.0 & 0.0 & 0.0 & 0.0 & 0.0 & \\cdots & 0.707j & 0.0 & 0.0 & -0.707 & 0.0\\\\0.0 & 0.0 & 0.0 & 0.0 & 0.0 & \\cdots & 0.0 & 0.0 & 0.0 & 0.0 & 1.000\\\\\\end{array}\\right)\\end{equation*}"
      ],
      "text/plain": [
       "Quantum object: dims = [[4, 4], [4, 4]], shape = (16, 16), type = oper, isherm = False\n",
       "Qobj data =\n",
       "[[ 1.        +0.j          0.        +0.j          0.        +0.j\n",
       "   0.        +0.j          0.        +0.j          0.        +0.j\n",
       "   0.        +0.j          0.        +0.j          0.        +0.j\n",
       "   0.        +0.j          0.        +0.j          0.        +0.j\n",
       "   0.        +0.j          0.        +0.j          0.        +0.j\n",
       "   0.        +0.j        ]\n",
       " [ 0.        +0.j          0.70710678+0.j          0.        +0.j\n",
       "   0.        +0.j          0.        +0.70710678j  0.        +0.j\n",
       "   0.        +0.j          0.        +0.j          0.        +0.j\n",
       "   0.        +0.j          0.        +0.j          0.        +0.j\n",
       "   0.        +0.j          0.        +0.j          0.        +0.j\n",
       "   0.        +0.j        ]\n",
       " [ 0.        +0.j          0.        +0.j          0.5       +0.j\n",
       "   0.        +0.j          0.        +0.j          0.        +0.70710678j\n",
       "   0.        +0.j          0.        +0.j         -0.5       +0.j\n",
       "   0.        +0.j          0.        +0.j          0.        +0.j\n",
       "   0.        +0.j          0.        +0.j          0.        +0.j\n",
       "   0.        +0.j        ]\n",
       " [ 0.        +0.j          0.        +0.j          0.        +0.j\n",
       "   0.35355339+0.j          0.        +0.j          0.        +0.j\n",
       "   0.        +0.61237244j  0.        +0.j          0.        +0.j\n",
       "  -0.61237244+0.j          0.        +0.j          0.        +0.j\n",
       "   0.        -0.35355339j  0.        +0.j          0.        +0.j\n",
       "   0.        +0.j        ]\n",
       " [ 0.        +0.j          0.        +0.70710678j  0.        +0.j\n",
       "   0.        +0.j          0.70710678+0.j          0.        +0.j\n",
       "   0.        +0.j          0.        +0.j          0.        +0.j\n",
       "   0.        +0.j          0.        +0.j          0.        +0.j\n",
       "   0.        +0.j          0.        +0.j          0.        +0.j\n",
       "   0.        +0.j        ]\n",
       " [ 0.        +0.j          0.        +0.j          0.        +0.70710678j\n",
       "   0.        +0.j          0.        +0.j          0.        +0.j\n",
       "   0.        +0.j          0.        +0.j          0.        +0.70710678j\n",
       "   0.        +0.j          0.        +0.j          0.        +0.j\n",
       "   0.        +0.j          0.        +0.j          0.        +0.j\n",
       "   0.        +0.j        ]\n",
       " [ 0.        +0.j          0.        +0.j          0.        +0.j\n",
       "   0.        +0.61237244j  0.        +0.j          0.        +0.j\n",
       "  -0.35355339+0.j          0.        +0.j          0.        +0.j\n",
       "   0.        +0.35355339j  0.        +0.j          0.        +0.j\n",
       "  -0.61237244+0.j          0.        +0.j          0.        +0.j\n",
       "   0.        +0.j        ]\n",
       " [ 0.        +0.j          0.        +0.j          0.        +0.j\n",
       "   0.        +0.j          0.        +0.j          0.        +0.j\n",
       "   0.        +0.j          0.0436379 +0.j          0.        +0.j\n",
       "   0.        +0.j          0.        +0.28890703j  0.        +0.j\n",
       "   0.        +0.j         -0.9563621 +0.j          0.        +0.j\n",
       "   0.        +0.j        ]\n",
       " [ 0.        +0.j          0.        +0.j         -0.5       +0.j\n",
       "   0.        +0.j          0.        +0.j          0.        +0.70710678j\n",
       "   0.        +0.j          0.        +0.j          0.5       +0.j\n",
       "   0.        +0.j          0.        +0.j          0.        +0.j\n",
       "   0.        +0.j          0.        +0.j          0.        +0.j\n",
       "   0.        +0.j        ]\n",
       " [ 0.        +0.j          0.        +0.j          0.        +0.j\n",
       "  -0.61237244+0.j          0.        +0.j          0.        +0.j\n",
       "   0.        +0.35355339j  0.        +0.j          0.        +0.j\n",
       "  -0.35355339+0.j          0.        +0.j          0.        +0.j\n",
       "   0.        +0.61237244j  0.        +0.j          0.        +0.j\n",
       "   0.        +0.j        ]\n",
       " [ 0.        +0.j          0.        +0.j          0.        +0.j\n",
       "   0.        +0.j          0.        +0.j          0.        +0.j\n",
       "   0.        +0.j          0.        +0.28890703j  0.        +0.j\n",
       "   0.        +0.j         -0.9127242 +0.j          0.        +0.j\n",
       "   0.        +0.j          0.        +0.28890703j  0.        +0.j\n",
       "   0.        +0.j        ]\n",
       " [ 0.        +0.j          0.        +0.j          0.        +0.j\n",
       "   0.        +0.j          0.        +0.j          0.        +0.j\n",
       "   0.        +0.j          0.        +0.j          0.        +0.j\n",
       "   0.        +0.j          0.        +0.j         -0.70710678+0.j\n",
       "   0.        +0.j          0.        +0.j          0.        +0.70710678j\n",
       "   0.        +0.j        ]\n",
       " [ 0.        +0.j          0.        +0.j          0.        +0.j\n",
       "   0.        -0.35355339j  0.        +0.j          0.        +0.j\n",
       "  -0.61237244+0.j          0.        +0.j          0.        +0.j\n",
       "   0.        +0.61237244j  0.        +0.j          0.        +0.j\n",
       "   0.35355339+0.j          0.        +0.j          0.        +0.j\n",
       "   0.        +0.j        ]\n",
       " [ 0.        +0.j          0.        +0.j          0.        +0.j\n",
       "   0.        +0.j          0.        +0.j          0.        +0.j\n",
       "   0.        +0.j         -0.9563621 +0.j          0.        +0.j\n",
       "   0.        +0.j          0.        +0.28890703j  0.        +0.j\n",
       "   0.        +0.j          0.0436379 +0.j          0.        +0.j\n",
       "   0.        +0.j        ]\n",
       " [ 0.        +0.j          0.        +0.j          0.        +0.j\n",
       "   0.        +0.j          0.        +0.j          0.        +0.j\n",
       "   0.        +0.j          0.        +0.j          0.        +0.j\n",
       "   0.        +0.j          0.        +0.j          0.        +0.70710678j\n",
       "   0.        +0.j          0.        +0.j         -0.70710678+0.j\n",
       "   0.        +0.j        ]\n",
       " [ 0.        +0.j          0.        +0.j          0.        +0.j\n",
       "   0.        +0.j          0.        +0.j          0.        +0.j\n",
       "   0.        +0.j          0.        +0.j          0.        +0.j\n",
       "   0.        +0.j          0.        +0.j          0.        +0.j\n",
       "   0.        +0.j          0.        +0.j          0.        +0.j\n",
       "   1.        +0.j        ]]"
      ]
     },
     "execution_count": 65,
     "metadata": {},
     "output_type": "execute_result"
    }
   ],
   "source": [
    "U"
   ]
  },
  {
   "cell_type": "code",
   "execution_count": 51,
   "id": "27feb990-1df0-496a-a83f-4d36168b130c",
   "metadata": {},
   "outputs": [
    {
     "data": {
      "text/latex": [
       "Quantum object: dims = [[2, 2, 2, 2], [2, 2, 2, 2]], shape = (16, 16), type = oper, isherm = False\\begin{equation*}\\left(\\begin{array}{*{11}c}1.000 & 0.0 & 0.0 & 0.0 & 0.0 & \\cdots & 0.0 & 0.0 & 0.0 & 0.0 & 0.0\\\\0.0 & 0.707 & 0.0 & 0.0 & 0.707j & \\cdots & 0.0 & 0.0 & 0.0 & 0.0 & 0.0\\\\0.0 & 0.0 & 0.354 & 0.0 & 0.0 & \\cdots & 0.0 & 0.0 & -0.612 & 0.0 & 0.0\\\\0.0 & 0.0 & 0.0 & 0.500 & 0.0 & \\cdots & 0.0 & -0.500 & 0.0 & 0.0 & 0.0\\\\0.0 & 0.707j & 0.0 & 0.0 & 0.707 & \\cdots & 0.0 & 0.0 & 0.0 & 0.0 & 0.0\\\\\\vdots & \\vdots & \\vdots & \\vdots & \\vdots & \\ddots & \\vdots & \\vdots & \\vdots & \\vdots & \\vdots\\\\0.0 & 0.0 & 0.0 & 0.0 & 0.0 & \\cdots & -0.707 & 0.0 & 0.0 & 0.707j & 0.0\\\\0.0 & 0.0 & 0.0 & -0.500 & 0.0 & \\cdots & 0.0 & 0.500 & 0.0 & 0.0 & 0.0\\\\0.0 & 0.0 & -0.612 & 0.0 & 0.0 & \\cdots & 0.0 & 0.0 & -0.354 & 0.0 & 0.0\\\\0.0 & 0.0 & 0.0 & 0.0 & 0.0 & \\cdots & 0.707j & 0.0 & 0.0 & -0.707 & 0.0\\\\0.0 & 0.0 & 0.0 & 0.0 & 0.0 & \\cdots & 0.0 & 0.0 & 0.0 & 0.0 & -0.913\\\\\\end{array}\\right)\\end{equation*}"
      ],
      "text/plain": [
       "Quantum object: dims = [[2, 2, 2, 2], [2, 2, 2, 2]], shape = (16, 16), type = oper, isherm = False\n",
       "Qobj data =\n",
       "[[ 1.        +0.j          0.        +0.j          0.        +0.j\n",
       "   0.        +0.j          0.        +0.j          0.        +0.j\n",
       "   0.        +0.j          0.        +0.j          0.        +0.j\n",
       "   0.        +0.j          0.        +0.j          0.        +0.j\n",
       "   0.        +0.j          0.        +0.j          0.        +0.j\n",
       "   0.        +0.j        ]\n",
       " [ 0.        +0.j          0.70710678+0.j          0.        +0.j\n",
       "   0.        +0.j          0.        +0.70710678j  0.        +0.j\n",
       "   0.        +0.j          0.        +0.j          0.        +0.j\n",
       "   0.        +0.j          0.        +0.j          0.        +0.j\n",
       "   0.        +0.j          0.        +0.j          0.        +0.j\n",
       "   0.        +0.j        ]\n",
       " [ 0.        +0.j          0.        +0.j          0.35355339+0.j\n",
       "   0.        +0.j          0.        +0.j          0.        +0.j\n",
       "   0.        +0.j          0.        +0.61237244j  0.        -0.35355339j\n",
       "   0.        +0.j          0.        +0.j          0.        +0.j\n",
       "   0.        +0.j         -0.61237244+0.j          0.        +0.j\n",
       "   0.        +0.j        ]\n",
       " [ 0.        +0.j          0.        +0.j          0.        +0.j\n",
       "   0.5       +0.j          0.        +0.j          0.        +0.70710678j\n",
       "   0.        +0.j          0.        +0.j          0.        +0.j\n",
       "   0.        +0.j          0.        +0.j          0.        +0.j\n",
       "  -0.5       +0.j          0.        +0.j          0.        +0.j\n",
       "   0.        +0.j        ]\n",
       " [ 0.        +0.j          0.        +0.70710678j  0.        +0.j\n",
       "   0.        +0.j          0.70710678+0.j          0.        +0.j\n",
       "   0.        +0.j          0.        +0.j          0.        +0.j\n",
       "   0.        +0.j          0.        +0.j          0.        +0.j\n",
       "   0.        +0.j          0.        +0.j          0.        +0.j\n",
       "   0.        +0.j        ]\n",
       " [ 0.        +0.j          0.        +0.j          0.        +0.j\n",
       "   0.        +0.70710678j  0.        +0.j          0.        +0.j\n",
       "   0.        +0.j          0.        +0.j          0.        +0.j\n",
       "   0.        +0.j          0.        +0.j          0.        +0.j\n",
       "   0.        +0.70710678j  0.        +0.j          0.        +0.j\n",
       "   0.        +0.j        ]\n",
       " [ 0.        +0.j          0.        +0.j          0.        +0.j\n",
       "   0.        +0.j          0.        +0.j          0.        +0.j\n",
       "   0.0436379 +0.j          0.        +0.j          0.        +0.j\n",
       "  -0.9563621 +0.j          0.        +0.j          0.        +0.j\n",
       "   0.        +0.j          0.        +0.j          0.        +0.j\n",
       "   0.        +0.28890703j]\n",
       " [ 0.        +0.j          0.        +0.j          0.        +0.61237244j\n",
       "   0.        +0.j          0.        +0.j          0.        +0.j\n",
       "   0.        +0.j         -0.35355339+0.j         -0.61237244+0.j\n",
       "   0.        +0.j          0.        +0.j          0.        +0.j\n",
       "   0.        +0.j          0.        +0.35355339j  0.        +0.j\n",
       "   0.        +0.j        ]\n",
       " [ 0.        +0.j          0.        +0.j          0.        -0.35355339j\n",
       "   0.        +0.j          0.        +0.j          0.        +0.j\n",
       "   0.        +0.j         -0.61237244+0.j          0.35355339+0.j\n",
       "   0.        +0.j          0.        +0.j          0.        +0.j\n",
       "   0.        +0.j          0.        +0.61237244j  0.        +0.j\n",
       "   0.        +0.j        ]\n",
       " [ 0.        +0.j          0.        +0.j          0.        +0.j\n",
       "   0.        +0.j          0.        +0.j          0.        +0.j\n",
       "  -0.9563621 +0.j          0.        +0.j          0.        +0.j\n",
       "   0.0436379 +0.j          0.        +0.j          0.        +0.j\n",
       "   0.        +0.j          0.        +0.j          0.        +0.j\n",
       "   0.        +0.28890703j]\n",
       " [ 0.        +0.j          0.        +0.j          0.        +0.j\n",
       "   0.        +0.j          0.        +0.j          0.        +0.j\n",
       "   0.        +0.j          0.        +0.j          0.        +0.j\n",
       "   0.        +0.j          1.        +0.j          0.        +0.j\n",
       "   0.        +0.j          0.        +0.j          0.        +0.j\n",
       "   0.        +0.j        ]\n",
       " [ 0.        +0.j          0.        +0.j          0.        +0.j\n",
       "   0.        +0.j          0.        +0.j          0.        +0.j\n",
       "   0.        +0.j          0.        +0.j          0.        +0.j\n",
       "   0.        +0.j          0.        +0.j         -0.70710678+0.j\n",
       "   0.        +0.j          0.        +0.j          0.        +0.70710678j\n",
       "   0.        +0.j        ]\n",
       " [ 0.        +0.j          0.        +0.j          0.        +0.j\n",
       "  -0.5       +0.j          0.        +0.j          0.        +0.70710678j\n",
       "   0.        +0.j          0.        +0.j          0.        +0.j\n",
       "   0.        +0.j          0.        +0.j          0.        +0.j\n",
       "   0.5       +0.j          0.        +0.j          0.        +0.j\n",
       "   0.        +0.j        ]\n",
       " [ 0.        +0.j          0.        +0.j         -0.61237244+0.j\n",
       "   0.        +0.j          0.        +0.j          0.        +0.j\n",
       "   0.        +0.j          0.        +0.35355339j  0.        +0.61237244j\n",
       "   0.        +0.j          0.        +0.j          0.        +0.j\n",
       "   0.        +0.j         -0.35355339+0.j          0.        +0.j\n",
       "   0.        +0.j        ]\n",
       " [ 0.        +0.j          0.        +0.j          0.        +0.j\n",
       "   0.        +0.j          0.        +0.j          0.        +0.j\n",
       "   0.        +0.j          0.        +0.j          0.        +0.j\n",
       "   0.        +0.j          0.        +0.j          0.        +0.70710678j\n",
       "   0.        +0.j          0.        +0.j         -0.70710678+0.j\n",
       "   0.        +0.j        ]\n",
       " [ 0.        +0.j          0.        +0.j          0.        +0.j\n",
       "   0.        +0.j          0.        +0.j          0.        +0.j\n",
       "   0.        +0.28890703j  0.        +0.j          0.        +0.j\n",
       "   0.        +0.28890703j  0.        +0.j          0.        +0.j\n",
       "   0.        +0.j          0.        +0.j          0.        +0.j\n",
       "  -0.9127242 +0.j        ]]"
      ]
     },
     "execution_count": 51,
     "metadata": {},
     "output_type": "execute_result"
    }
   ],
   "source": [
    "U1"
   ]
  },
  {
   "cell_type": "code",
   "execution_count": 44,
   "id": "92744a65-5c9e-4f4b-905b-677c9ce8e202",
   "metadata": {},
   "outputs": [],
   "source": [
    "inp_state=tensor(ket_1,ket_1,ket_0,ket_0)"
   ]
  },
  {
   "cell_type": "code",
   "execution_count": 46,
   "id": "30d11d4a-fcbf-488f-a86f-f2e294f42cbe",
   "metadata": {},
   "outputs": [
    {
     "data": {
      "text/plain": [
       "array([[ 0. +0.j        ],\n",
       "       [ 0. +0.j        ],\n",
       "       [ 0. +0.j        ],\n",
       "       [-0.5+0.j        ],\n",
       "       [ 0. +0.j        ],\n",
       "       [ 0. +0.70710678j],\n",
       "       [ 0. +0.j        ],\n",
       "       [ 0. +0.j        ],\n",
       "       [ 0. +0.j        ],\n",
       "       [ 0. +0.j        ],\n",
       "       [ 0. +0.j        ],\n",
       "       [ 0. +0.j        ],\n",
       "       [ 0.5+0.j        ],\n",
       "       [ 0. +0.j        ],\n",
       "       [ 0. +0.j        ],\n",
       "       [ 0. +0.j        ]])"
      ]
     },
     "execution_count": 46,
     "metadata": {},
     "output_type": "execute_result"
    }
   ],
   "source": [
    "np.array(U1*inp_state)"
   ]
  },
  {
   "cell_type": "code",
   "execution_count": 43,
   "id": "d663b500-be7c-473a-91d4-ed61e7c25f82",
   "metadata": {},
   "outputs": [
    {
     "data": {
      "text/latex": [
       "Quantum object: dims = [[2, 2, 2, 2], [1, 1, 1, 1]], shape = (16, 1), type = ket\\begin{equation*}\\left(\\begin{array}{*{11}c}0.0\\\\1.0\\\\0.0\\\\0.0\\\\0.0\\\\\\vdots\\\\0.0\\\\0.0\\\\0.0\\\\0.0\\\\0.0\\\\\\end{array}\\right)\\end{equation*}"
      ],
      "text/plain": [
       "Quantum object: dims = [[2, 2, 2, 2], [1, 1, 1, 1]], shape = (16, 1), type = ket\n",
       "Qobj data =\n",
       "[[0.]\n",
       " [1.]\n",
       " [0.]\n",
       " [0.]\n",
       " [0.]\n",
       " [0.]\n",
       " [0.]\n",
       " [0.]\n",
       " [0.]\n",
       " [0.]\n",
       " [0.]\n",
       " [0.]\n",
       " [0.]\n",
       " [0.]\n",
       " [0.]\n",
       " [0.]]"
      ]
     },
     "execution_count": 43,
     "metadata": {},
     "output_type": "execute_result"
    }
   ],
   "source": [
    "tensor(ket_0,ket_0,ket_0,ket_1)"
   ]
  },
  {
   "cell_type": "code",
   "execution_count": 81,
   "id": "07884029-57fd-4b7a-af2f-e3613fdf068a",
   "metadata": {},
   "outputs": [],
   "source": [
    "P0=(1/2)*(I+sig_z)\n",
    "P1=(1/2)*(I-sig_z)"
   ]
  },
  {
   "cell_type": "code",
   "execution_count": 82,
   "id": "7c2fd80d-e742-4bdc-978b-08f09ed0c6fd",
   "metadata": {},
   "outputs": [],
   "source": [
    "bdag=adag=tensor(P0,sig_m)+np.sqrt(2)*tensor(sig_m,P1)+np.sqrt(3)*tensor(P1,sig_p)\n",
    "b=a=tensor(P0,sig_p)+np.sqrt(2)*tensor(sig_p,P1)+np.sqrt(3)*tensor(P1,sig_m) "
   ]
  },
  {
   "cell_type": "code",
   "execution_count": 83,
   "id": "80929ab2-48a7-4961-9021-bc909e97c001",
   "metadata": {},
   "outputs": [
    {
     "data": {
      "text/latex": [
       "Quantum object: dims = [[2, 2, 2, 2], [2, 2, 2, 2]], shape = (16, 16), type = oper, isherm = False\\begin{equation*}\\left(\\begin{array}{*{11}c}1.000 & 0.0 & 0.0 & 0.0 & 0.0 & \\cdots & 0.0 & 0.0 & 0.0 & 0.0 & 0.0\\\\0.0 & 0.707 & 0.0 & 0.0 & 0.707j & \\cdots & 0.0 & 0.0 & 0.0 & 0.0 & 0.0\\\\0.0 & 0.0 & 0.354 & 0.0 & 0.0 & \\cdots & 0.0 & 0.0 & -0.612 & 0.0 & 0.0\\\\0.0 & 0.0 & 0.0 & 0.500 & 0.0 & \\cdots & 0.0 & -0.500 & 0.0 & 0.0 & 0.0\\\\0.0 & 0.707j & 0.0 & 0.0 & 0.707 & \\cdots & 0.0 & 0.0 & 0.0 & 0.0 & 0.0\\\\\\vdots & \\vdots & \\vdots & \\vdots & \\vdots & \\ddots & \\vdots & \\vdots & \\vdots & \\vdots & \\vdots\\\\0.0 & 0.0 & 0.0 & 0.0 & 0.0 & \\cdots & -0.707 & 0.0 & 0.0 & 0.707j & 0.0\\\\0.0 & 0.0 & 0.0 & -0.500 & 0.0 & \\cdots & 0.0 & 0.500 & 0.0 & 0.0 & 0.0\\\\0.0 & 0.0 & -0.612 & 0.0 & 0.0 & \\cdots & 0.0 & 0.0 & -0.354 & 0.0 & 0.0\\\\0.0 & 0.0 & 0.0 & 0.0 & 0.0 & \\cdots & 0.707j & 0.0 & 0.0 & -0.707 & 0.0\\\\0.0 & 0.0 & 0.0 & 0.0 & 0.0 & \\cdots & 0.0 & 0.0 & 0.0 & 0.0 & -0.913\\\\\\end{array}\\right)\\end{equation*}"
      ],
      "text/plain": [
       "Quantum object: dims = [[2, 2, 2, 2], [2, 2, 2, 2]], shape = (16, 16), type = oper, isherm = False\n",
       "Qobj data =\n",
       "[[ 1.        +0.j          0.        +0.j          0.        +0.j\n",
       "   0.        +0.j          0.        +0.j          0.        +0.j\n",
       "   0.        +0.j          0.        +0.j          0.        +0.j\n",
       "   0.        +0.j          0.        +0.j          0.        +0.j\n",
       "   0.        +0.j          0.        +0.j          0.        +0.j\n",
       "   0.        +0.j        ]\n",
       " [ 0.        +0.j          0.70710678+0.j          0.        +0.j\n",
       "   0.        +0.j          0.        +0.70710678j  0.        +0.j\n",
       "   0.        +0.j          0.        +0.j          0.        +0.j\n",
       "   0.        +0.j          0.        +0.j          0.        +0.j\n",
       "   0.        +0.j          0.        +0.j          0.        +0.j\n",
       "   0.        +0.j        ]\n",
       " [ 0.        +0.j          0.        +0.j          0.35355339+0.j\n",
       "   0.        +0.j          0.        +0.j          0.        +0.j\n",
       "   0.        +0.j          0.        +0.61237244j  0.        -0.35355339j\n",
       "   0.        +0.j          0.        +0.j          0.        +0.j\n",
       "   0.        +0.j         -0.61237244+0.j          0.        +0.j\n",
       "   0.        +0.j        ]\n",
       " [ 0.        +0.j          0.        +0.j          0.        +0.j\n",
       "   0.5       +0.j          0.        +0.j          0.        +0.70710678j\n",
       "   0.        +0.j          0.        +0.j          0.        +0.j\n",
       "   0.        +0.j          0.        +0.j          0.        +0.j\n",
       "  -0.5       +0.j          0.        +0.j          0.        +0.j\n",
       "   0.        +0.j        ]\n",
       " [ 0.        +0.j          0.        +0.70710678j  0.        +0.j\n",
       "   0.        +0.j          0.70710678+0.j          0.        +0.j\n",
       "   0.        +0.j          0.        +0.j          0.        +0.j\n",
       "   0.        +0.j          0.        +0.j          0.        +0.j\n",
       "   0.        +0.j          0.        +0.j          0.        +0.j\n",
       "   0.        +0.j        ]\n",
       " [ 0.        +0.j          0.        +0.j          0.        +0.j\n",
       "   0.        +0.70710678j  0.        +0.j          0.        +0.j\n",
       "   0.        +0.j          0.        +0.j          0.        +0.j\n",
       "   0.        +0.j          0.        +0.j          0.        +0.j\n",
       "   0.        +0.70710678j  0.        +0.j          0.        +0.j\n",
       "   0.        +0.j        ]\n",
       " [ 0.        +0.j          0.        +0.j          0.        +0.j\n",
       "   0.        +0.j          0.        +0.j          0.        +0.j\n",
       "   0.0436379 +0.j          0.        +0.j          0.        +0.j\n",
       "  -0.9563621 +0.j          0.        +0.j          0.        +0.j\n",
       "   0.        +0.j          0.        +0.j          0.        +0.j\n",
       "   0.        +0.28890703j]\n",
       " [ 0.        +0.j          0.        +0.j          0.        +0.61237244j\n",
       "   0.        +0.j          0.        +0.j          0.        +0.j\n",
       "   0.        +0.j         -0.35355339+0.j         -0.61237244+0.j\n",
       "   0.        +0.j          0.        +0.j          0.        +0.j\n",
       "   0.        +0.j          0.        +0.35355339j  0.        +0.j\n",
       "   0.        +0.j        ]\n",
       " [ 0.        +0.j          0.        +0.j          0.        -0.35355339j\n",
       "   0.        +0.j          0.        +0.j          0.        +0.j\n",
       "   0.        +0.j         -0.61237244+0.j          0.35355339+0.j\n",
       "   0.        +0.j          0.        +0.j          0.        +0.j\n",
       "   0.        +0.j          0.        +0.61237244j  0.        +0.j\n",
       "   0.        +0.j        ]\n",
       " [ 0.        +0.j          0.        +0.j          0.        +0.j\n",
       "   0.        +0.j          0.        +0.j          0.        +0.j\n",
       "  -0.9563621 +0.j          0.        +0.j          0.        +0.j\n",
       "   0.0436379 +0.j          0.        +0.j          0.        +0.j\n",
       "   0.        +0.j          0.        +0.j          0.        +0.j\n",
       "   0.        +0.28890703j]\n",
       " [ 0.        +0.j          0.        +0.j          0.        +0.j\n",
       "   0.        +0.j          0.        +0.j          0.        +0.j\n",
       "   0.        +0.j          0.        +0.j          0.        +0.j\n",
       "   0.        +0.j          1.        +0.j          0.        +0.j\n",
       "   0.        +0.j          0.        +0.j          0.        +0.j\n",
       "   0.        +0.j        ]\n",
       " [ 0.        +0.j          0.        +0.j          0.        +0.j\n",
       "   0.        +0.j          0.        +0.j          0.        +0.j\n",
       "   0.        +0.j          0.        +0.j          0.        +0.j\n",
       "   0.        +0.j          0.        +0.j         -0.70710678+0.j\n",
       "   0.        +0.j          0.        +0.j          0.        +0.70710678j\n",
       "   0.        +0.j        ]\n",
       " [ 0.        +0.j          0.        +0.j          0.        +0.j\n",
       "  -0.5       +0.j          0.        +0.j          0.        +0.70710678j\n",
       "   0.        +0.j          0.        +0.j          0.        +0.j\n",
       "   0.        +0.j          0.        +0.j          0.        +0.j\n",
       "   0.5       +0.j          0.        +0.j          0.        +0.j\n",
       "   0.        +0.j        ]\n",
       " [ 0.        +0.j          0.        +0.j         -0.61237244+0.j\n",
       "   0.        +0.j          0.        +0.j          0.        +0.j\n",
       "   0.        +0.j          0.        +0.35355339j  0.        +0.61237244j\n",
       "   0.        +0.j          0.        +0.j          0.        +0.j\n",
       "   0.        +0.j         -0.35355339+0.j          0.        +0.j\n",
       "   0.        +0.j        ]\n",
       " [ 0.        +0.j          0.        +0.j          0.        +0.j\n",
       "   0.        +0.j          0.        +0.j          0.        +0.j\n",
       "   0.        +0.j          0.        +0.j          0.        +0.j\n",
       "   0.        +0.j          0.        +0.j          0.        +0.70710678j\n",
       "   0.        +0.j          0.        +0.j         -0.70710678+0.j\n",
       "   0.        +0.j        ]\n",
       " [ 0.        +0.j          0.        +0.j          0.        +0.j\n",
       "   0.        +0.j          0.        +0.j          0.        +0.j\n",
       "   0.        +0.28890703j  0.        +0.j          0.        +0.j\n",
       "   0.        +0.28890703j  0.        +0.j          0.        +0.j\n",
       "   0.        +0.j          0.        +0.j          0.        +0.j\n",
       "  -0.9127242 +0.j        ]]"
      ]
     },
     "execution_count": 83,
     "metadata": {},
     "output_type": "execute_result"
    }
   ],
   "source": [
    "oper4=tensor(bdag,a)+tensor(b,adag)\n",
    "U4=(theta*oper4).expm()\n",
    "U4"
   ]
  },
  {
   "cell_type": "code",
   "execution_count": 88,
   "id": "ce3e1002-da73-4733-9959-cd8d19394a0d",
   "metadata": {},
   "outputs": [
    {
     "data": {
      "text/latex": [
       "Quantum object: dims = [[2, 2], [2, 2]], shape = (4, 4), type = oper, isherm = False\\begin{equation*}\\left(\\begin{array}{*{11}c}0.0 & 1.0 & 0.0 & 0.0\\\\0.0 & 0.0 & 0.0 & 1.414\\\\0.0 & 0.0 & 0.0 & 0.0\\\\0.0 & 0.0 & 1.732 & 0.0\\\\\\end{array}\\right)\\end{equation*}"
      ],
      "text/plain": [
       "Quantum object: dims = [[2, 2], [2, 2]], shape = (4, 4), type = oper, isherm = False\n",
       "Qobj data =\n",
       "[[0.         1.         0.         0.        ]\n",
       " [0.         0.         0.         1.41421356]\n",
       " [0.         0.         0.         0.        ]\n",
       " [0.         0.         1.73205081 0.        ]]"
      ]
     },
     "execution_count": 88,
     "metadata": {},
     "output_type": "execute_result"
    }
   ],
   "source": [
    "b_dag*b"
   ]
  },
  {
   "cell_type": "code",
   "execution_count": 89,
   "id": "4f2068a8-e4af-4535-9671-a8ebd938abee",
   "metadata": {},
   "outputs": [],
   "source": [
    "ket_0=qt.fock(16,0)\n",
    "ket_1=qt.fock(16,1)"
   ]
  },
  {
   "cell_type": "code",
   "execution_count": 90,
   "id": "4d03afd8-0a9b-4ab1-9e15-af5b0cd791cd",
   "metadata": {},
   "outputs": [
    {
     "ename": "TypeError",
     "evalue": "Incompatible Qobj shapes",
     "output_type": "error",
     "traceback": [
      "\u001b[1;31m---------------------------------------------------------------------------\u001b[0m",
      "\u001b[1;31mTypeError\u001b[0m                                 Traceback (most recent call last)",
      "Input \u001b[1;32mIn [90]\u001b[0m, in \u001b[0;36m<cell line: 1>\u001b[1;34m()\u001b[0m\n\u001b[1;32m----> 1\u001b[0m \u001b[43mU\u001b[49m\u001b[38;5;241;43m*\u001b[39;49m\u001b[43mket_1\u001b[49m\n",
      "File \u001b[1;32m~\\anaconda3\\lib\\site-packages\\qutip\\qobj.py:555\u001b[0m, in \u001b[0;36mQobj.__mul__\u001b[1;34m(self, other)\u001b[0m\n\u001b[0;32m    552\u001b[0m         \u001b[38;5;28;01mreturn\u001b[39;00m out\u001b[38;5;241m.\u001b[39mtidyup() \u001b[38;5;28;01mif\u001b[39;00m settings\u001b[38;5;241m.\u001b[39mauto_tidyup \u001b[38;5;28;01melse\u001b[39;00m out\n\u001b[0;32m    554\u001b[0m     \u001b[38;5;28;01melse\u001b[39;00m:\n\u001b[1;32m--> 555\u001b[0m         \u001b[38;5;28;01mraise\u001b[39;00m \u001b[38;5;167;01mTypeError\u001b[39;00m(\u001b[38;5;124m\"\u001b[39m\u001b[38;5;124mIncompatible Qobj shapes\u001b[39m\u001b[38;5;124m\"\u001b[39m)\n\u001b[0;32m    557\u001b[0m \u001b[38;5;28;01melif\u001b[39;00m \u001b[38;5;28misinstance\u001b[39m(other, np\u001b[38;5;241m.\u001b[39mndarray):\n\u001b[0;32m    558\u001b[0m     \u001b[38;5;28;01mif\u001b[39;00m other\u001b[38;5;241m.\u001b[39mdtype \u001b[38;5;241m==\u001b[39m \u001b[38;5;124m'\u001b[39m\u001b[38;5;124mobject\u001b[39m\u001b[38;5;124m'\u001b[39m:\n",
      "\u001b[1;31mTypeError\u001b[0m: Incompatible Qobj shapes"
     ]
    }
   ],
   "source": [
    "U*ket_1"
   ]
  },
  {
   "cell_type": "code",
   "execution_count": 95,
   "id": "57f78cf5-2852-43d1-ada1-d228e353ff7f",
   "metadata": {},
   "outputs": [],
   "source": [
    "bdag=adag=tensor(sig_p,sig_m,I)+np.sqrt(2)*tensor(I,sig_p,sig_m)\n",
    "b=a=tensor(sig_m,sig_p,I)+np.sqrt(2)*tensor(I,sig_m,sig_p)"
   ]
  },
  {
   "cell_type": "code",
   "execution_count": 97,
   "id": "f109ce8d-f267-4d16-9a10-ac676c3928bd",
   "metadata": {},
   "outputs": [
    {
     "data": {
      "text/latex": [
       "Quantum object: dims = [[2, 2, 2], [2, 2, 2]], shape = (8, 8), type = oper, isherm = False\\begin{equation*}\\left(\\begin{array}{*{11}c}0.0 & 0.0 & 0.0 & 0.0 & 0.0 & 0.0 & 0.0 & 0.0\\\\0.0 & 0.0 & 0.0 & 0.0 & 0.0 & 0.0 & 0.0 & 0.0\\\\0.0 & 1.414 & 0.0 & 0.0 & 0.0 & 0.0 & 0.0 & 0.0\\\\0.0 & 0.0 & 0.0 & 0.0 & 0.0 & 0.0 & 0.0 & 0.0\\\\0.0 & 0.0 & 1.0 & 0.0 & 0.0 & 0.0 & 0.0 & 0.0\\\\0.0 & 0.0 & 0.0 & 1.0 & 0.0 & 0.0 & 0.0 & 0.0\\\\0.0 & 0.0 & 0.0 & 0.0 & 0.0 & 1.414 & 0.0 & 0.0\\\\0.0 & 0.0 & 0.0 & 0.0 & 0.0 & 0.0 & 0.0 & 0.0\\\\\\end{array}\\right)\\end{equation*}"
      ],
      "text/plain": [
       "Quantum object: dims = [[2, 2, 2], [2, 2, 2]], shape = (8, 8), type = oper, isherm = False\n",
       "Qobj data =\n",
       "[[0.         0.         0.         0.         0.         0.\n",
       "  0.         0.        ]\n",
       " [0.         0.         0.         0.         0.         0.\n",
       "  0.         0.        ]\n",
       " [0.         1.41421356 0.         0.         0.         0.\n",
       "  0.         0.        ]\n",
       " [0.         0.         0.         0.         0.         0.\n",
       "  0.         0.        ]\n",
       " [0.         0.         1.         0.         0.         0.\n",
       "  0.         0.        ]\n",
       " [0.         0.         0.         1.         0.         0.\n",
       "  0.         0.        ]\n",
       " [0.         0.         0.         0.         0.         1.41421356\n",
       "  0.         0.        ]\n",
       " [0.         0.         0.         0.         0.         0.\n",
       "  0.         0.        ]]"
      ]
     },
     "execution_count": 97,
     "metadata": {},
     "output_type": "execute_result"
    }
   ],
   "source": [
    "b"
   ]
  },
  {
   "cell_type": "code",
   "execution_count": 101,
   "id": "cef0378f-bde4-466a-a9b2-ad61786f72ed",
   "metadata": {},
   "outputs": [],
   "source": [
    "ket_1=qt.fock(4,1)"
   ]
  },
  {
   "cell_type": "code",
   "execution_count": 102,
   "id": "f4ebf096-2312-4a0e-8bcd-cb940c4f3439",
   "metadata": {},
   "outputs": [
    {
     "data": {
      "text/latex": [
       "Quantum object: dims = [[4], [1]], shape = (4, 1), type = ket\\begin{equation*}\\left(\\begin{array}{*{11}c}0.0\\\\1.0\\\\0.0\\\\0.0\\\\\\end{array}\\right)\\end{equation*}"
      ],
      "text/plain": [
       "Quantum object: dims = [[4], [1]], shape = (4, 1), type = ket\n",
       "Qobj data =\n",
       "[[0.]\n",
       " [1.]\n",
       " [0.]\n",
       " [0.]]"
      ]
     },
     "execution_count": 102,
     "metadata": {},
     "output_type": "execute_result"
    }
   ],
   "source": [
    "ket_1"
   ]
  },
  {
   "cell_type": "code",
   "execution_count": 103,
   "id": "5ff555a6-7510-4722-a5a2-b6a258a8ac7b",
   "metadata": {},
   "outputs": [
    {
     "data": {
      "text/latex": [
       "Quantum object: dims = [[4, 4], [1, 1]], shape = (16, 1), type = ket\\begin{equation*}\\left(\\begin{array}{*{11}c}0.0\\\\1.0\\\\0.0\\\\0.0\\\\0.0\\\\\\vdots\\\\0.0\\\\0.0\\\\0.0\\\\0.0\\\\0.0\\\\\\end{array}\\right)\\end{equation*}"
      ],
      "text/plain": [
       "Quantum object: dims = [[4, 4], [1, 1]], shape = (16, 1), type = ket\n",
       "Qobj data =\n",
       "[[0.]\n",
       " [1.]\n",
       " [0.]\n",
       " [0.]\n",
       " [0.]\n",
       " [0.]\n",
       " [0.]\n",
       " [0.]\n",
       " [0.]\n",
       " [0.]\n",
       " [0.]\n",
       " [0.]\n",
       " [0.]\n",
       " [0.]\n",
       " [0.]\n",
       " [0.]]"
      ]
     },
     "execution_count": 103,
     "metadata": {},
     "output_type": "execute_result"
    }
   ],
   "source": [
    "tensor(ket_0,ket_1)"
   ]
  },
  {
   "cell_type": "code",
   "execution_count": null,
   "id": "8558a436-7c0e-4360-920c-7eae94243b05",
   "metadata": {},
   "outputs": [],
   "source": []
  }
 ],
 "metadata": {
  "kernelspec": {
   "display_name": "qiskit",
   "language": "python",
   "name": "python3"
  },
  "language_info": {
   "codemirror_mode": {
    "name": "ipython",
    "version": 3
   },
   "file_extension": ".py",
   "mimetype": "text/x-python",
   "name": "python",
   "nbconvert_exporter": "python",
   "pygments_lexer": "ipython3",
   "version": "3.9.13"
  },
  "vscode": {
   "interpreter": {
    "hash": "7f81f8c28344312158fb5de90b78b8926cef01099076b7e8be82b87d737bc98e"
   }
  }
 },
 "nbformat": 4,
 "nbformat_minor": 5
}
