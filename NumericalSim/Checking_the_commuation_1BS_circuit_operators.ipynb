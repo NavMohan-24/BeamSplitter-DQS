{
  "nbformat": 4,
  "nbformat_minor": 0,
  "metadata": {
    "colab": {
      "provenance": []
    },
    "kernelspec": {
      "name": "python3",
      "display_name": "Python 3"
    },
    "language_info": {
      "name": "python"
    }
  },
  "cells": [
    {
      "cell_type": "code",
      "source": [
        "!pip install qutip --silent"
      ],
      "metadata": {
        "colab": {
          "base_uri": "https://localhost:8080/"
        },
        "id": "wlyBBd9xdk7Q",
        "outputId": "12872072-b96c-4745-8c33-7d5d595f1b04"
      },
      "execution_count": 2,
      "outputs": [
        {
          "output_type": "stream",
          "name": "stdout",
          "text": [
            "Looking in indexes: https://pypi.org/simple, https://us-python.pkg.dev/colab-wheels/public/simple/\n",
            "Collecting qutip\n",
            "  Downloading qutip-4.7.1-cp38-cp38-manylinux_2_17_x86_64.manylinux2014_x86_64.whl (16.7 MB)\n",
            "\u001b[2K     \u001b[90m━━━━━━━━━━━━━━━━━━━━━━━━━━━━━━━━━━━━━━━━\u001b[0m \u001b[32m16.7/16.7 MB\u001b[0m \u001b[31m60.0 MB/s\u001b[0m eta \u001b[36m0:00:00\u001b[0m\n",
            "\u001b[?25hRequirement already satisfied: scipy>=1.0 in /usr/local/lib/python3.8/dist-packages (from qutip) (1.7.3)\n",
            "Requirement already satisfied: packaging in /usr/local/lib/python3.8/dist-packages (from qutip) (21.3)\n",
            "Requirement already satisfied: numpy>=1.16.6 in /usr/local/lib/python3.8/dist-packages (from qutip) (1.21.6)\n",
            "Requirement already satisfied: pyparsing!=3.0.5,>=2.0.2 in /usr/local/lib/python3.8/dist-packages (from packaging->qutip) (3.0.9)\n",
            "Installing collected packages: qutip\n",
            "Successfully installed qutip-4.7.1\n"
          ]
        }
      ]
    },
    {
      "cell_type": "code",
      "execution_count": 3,
      "metadata": {
        "id": "ZVtfCJYndYDt"
      },
      "outputs": [],
      "source": [
        "import qutip as qt\n",
        "import numpy as np\n",
        "from qutip import tensor"
      ]
    },
    {
      "cell_type": "code",
      "source": [
        "I=qt.identity(2)\n",
        "sig_z=qt.sigmaz()\n",
        "sig_x=qt.sigmax()\n",
        "sig_y=qt.sigmay()"
      ],
      "metadata": {
        "id": "yjSliSPqdY9t"
      },
      "execution_count": 4,
      "outputs": []
    },
    {
      "cell_type": "code",
      "source": [
        "op1=tensor(sig_x,sig_x)\n",
        "op2=tensor(sig_y,sig_y)\n",
        "op3=tensor(sig_z,sig_z)\n"
      ],
      "metadata": {
        "id": "P9v-Vuh5eGl2"
      },
      "execution_count": 8,
      "outputs": []
    },
    {
      "cell_type": "code",
      "source": [
        "op1*op2-op2*op1"
      ],
      "metadata": {
        "colab": {
          "base_uri": "https://localhost:8080/",
          "height": 54
        },
        "id": "spVBg_-ujInp",
        "outputId": "c52c4901-6506-4117-e2aa-7b5fa9fd2178"
      },
      "execution_count": 9,
      "outputs": [
        {
          "output_type": "execute_result",
          "data": {
            "text/plain": [
              "Quantum object: dims = [[2, 2], [2, 2]], shape = (4, 4), type = oper, isherm = True\n",
              "Qobj data =\n",
              "[[0. 0. 0. 0.]\n",
              " [0. 0. 0. 0.]\n",
              " [0. 0. 0. 0.]\n",
              " [0. 0. 0. 0.]]"
            ],
            "text/latex": "Quantum object: dims = [[2, 2], [2, 2]], shape = (4, 4), type = oper, isherm = True $ \\\\ \\left(\\begin{matrix}0.0 & 0.0 & 0.0 & 0.0\\\\0.0 & 0.0 & 0.0 & 0.0\\\\0.0 & 0.0 & 0.0 & 0.0\\\\0.0 & 0.0 & 0.0 & 0.0\\\\\\end{matrix}\\right)$"
          },
          "metadata": {},
          "execution_count": 9
        }
      ]
    },
    {
      "cell_type": "code",
      "source": [
        "op1*op3-op3*op1"
      ],
      "metadata": {
        "colab": {
          "base_uri": "https://localhost:8080/",
          "height": 54
        },
        "id": "MPI6GHcfeQcN",
        "outputId": "eca03c7f-54ff-4729-e655-abf30d0790d0"
      },
      "execution_count": 10,
      "outputs": [
        {
          "output_type": "execute_result",
          "data": {
            "text/plain": [
              "Quantum object: dims = [[2, 2], [2, 2]], shape = (4, 4), type = oper, isherm = True\n",
              "Qobj data =\n",
              "[[0. 0. 0. 0.]\n",
              " [0. 0. 0. 0.]\n",
              " [0. 0. 0. 0.]\n",
              " [0. 0. 0. 0.]]"
            ],
            "text/latex": "Quantum object: dims = [[2, 2], [2, 2]], shape = (4, 4), type = oper, isherm = True $ \\\\ \\left(\\begin{matrix}0.0 & 0.0 & 0.0 & 0.0\\\\0.0 & 0.0 & 0.0 & 0.0\\\\0.0 & 0.0 & 0.0 & 0.0\\\\0.0 & 0.0 & 0.0 & 0.0\\\\\\end{matrix}\\right)$"
          },
          "metadata": {},
          "execution_count": 10
        }
      ]
    },
    {
      "cell_type": "code",
      "source": [
        "op2*op3-op3*op2"
      ],
      "metadata": {
        "colab": {
          "base_uri": "https://localhost:8080/",
          "height": 54
        },
        "id": "lXrE9zkzjU8b",
        "outputId": "a5754472-992a-4cab-cd6e-d73351bf3a10"
      },
      "execution_count": 11,
      "outputs": [
        {
          "output_type": "execute_result",
          "data": {
            "text/plain": [
              "Quantum object: dims = [[2, 2], [2, 2]], shape = (4, 4), type = oper, isherm = True\n",
              "Qobj data =\n",
              "[[0. 0. 0. 0.]\n",
              " [0. 0. 0. 0.]\n",
              " [0. 0. 0. 0.]\n",
              " [0. 0. 0. 0.]]"
            ],
            "text/latex": "Quantum object: dims = [[2, 2], [2, 2]], shape = (4, 4), type = oper, isherm = True $ \\\\ \\left(\\begin{matrix}0.0 & 0.0 & 0.0 & 0.0\\\\0.0 & 0.0 & 0.0 & 0.0\\\\0.0 & 0.0 & 0.0 & 0.0\\\\0.0 & 0.0 & 0.0 & 0.0\\\\\\end{matrix}\\right)$"
          },
          "metadata": {},
          "execution_count": 11
        }
      ]
    },
    {
      "cell_type": "code",
      "source": [],
      "metadata": {
        "id": "OkYwgIf4jft5"
      },
      "execution_count": null,
      "outputs": []
    }
  ]
}