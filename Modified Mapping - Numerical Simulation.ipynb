{
 "cells": [
  {
   "cell_type": "code",
   "execution_count": 1,
   "id": "0b9da016",
   "metadata": {},
   "outputs": [],
   "source": [
    "#Importing Necessary Libraries\n",
    "\n",
    "import numpy as np\n",
    "import qutip as qt\n",
    "from qutip import tensor\n",
    "from qiskit.visualization import array_to_latex\n",
    "from scipy.linalg import expm"
   ]
  },
  {
   "cell_type": "code",
   "execution_count": 2,
   "id": "71b0540e",
   "metadata": {},
   "outputs": [],
   "source": [
    "theta=np.complex(0,np.pi/4) #50-50 Beam splitter\n",
    "\n",
    "#truncated bosonic operators\n",
    "\n",
    "bdag_theory=adag_theory=qt.create(3)\n",
    "a_theory=b_theory=qt.destroy(3)  \n",
    "\n",
    "#spin raising and lowering operator\n",
    "sig_p=qt.destroy(2)\n",
    "sig_m=qt.create(2)\n",
    "\n",
    "#Pauli operators\n",
    "I=qt.identity(2)\n",
    "sig_z=qt.sigmaz()\n",
    "sig_x=qt.sigmax()\n",
    "sig_y=qt.sigmay()\n",
    "\n",
    "#Qubit states\n",
    "ket_0=qt.fock(2,0)\n",
    "ket_1=qt.fock(2,1)"
   ]
  },
  {
   "cell_type": "code",
   "execution_count": 3,
   "id": "58eba445",
   "metadata": {},
   "outputs": [],
   "source": [
    "#formulating b and b dagger in terms of spin operators\n",
    "bdag=adag=tensor(sig_p,sig_m,I)+np.sqrt(2)*tensor(I,sig_p,sig_m)\n",
    "b=a=tensor(sig_m,sig_p,I)+np.sqrt(2)*tensor(I,sig_m,sig_p)"
   ]
  },
  {
   "cell_type": "markdown",
   "id": "ad4b55ee",
   "metadata": {},
   "source": [
    "### Problem of $\\hat{b}$ and $\\hat{b}^{\\dagger}$"
   ]
  },
  {
   "cell_type": "code",
   "execution_count": 4,
   "id": "6a3a7562",
   "metadata": {},
   "outputs": [
    {
     "data": {
      "text/latex": [
       "Quantum object: dims = [[2, 2, 2], [2, 2, 2]], shape = (8, 8), type = oper, isherm = False\\begin{equation*}\\left(\\begin{array}{*{11}c}0.0 & 0.0 & 0.0 & 0.0 & 0.0 & 0.0 & 0.0 & 0.0\\\\0.0 & 0.0 & 1.414 & 0.0 & 0.0 & 0.0 & 0.0 & 0.0\\\\0.0 & 0.0 & 0.0 & 0.0 & 1.0 & 0.0 & 0.0 & 0.0\\\\0.0 & 0.0 & 0.0 & 0.0 & 0.0 & 1.0 & 0.0 & 0.0\\\\0.0 & 0.0 & 0.0 & 0.0 & 0.0 & 0.0 & 0.0 & 0.0\\\\0.0 & 0.0 & 0.0 & 0.0 & 0.0 & 0.0 & 1.414 & 0.0\\\\0.0 & 0.0 & 0.0 & 0.0 & 0.0 & 0.0 & 0.0 & 0.0\\\\0.0 & 0.0 & 0.0 & 0.0 & 0.0 & 0.0 & 0.0 & 0.0\\\\\\end{array}\\right)\\end{equation*}"
      ],
      "text/plain": [
       "Quantum object: dims = [[2, 2, 2], [2, 2, 2]], shape = (8, 8), type = oper, isherm = False\n",
       "Qobj data =\n",
       "[[0.         0.         0.         0.         0.         0.\n",
       "  0.         0.        ]\n",
       " [0.         0.         1.41421356 0.         0.         0.\n",
       "  0.         0.        ]\n",
       " [0.         0.         0.         0.         1.         0.\n",
       "  0.         0.        ]\n",
       " [0.         0.         0.         0.         0.         1.\n",
       "  0.         0.        ]\n",
       " [0.         0.         0.         0.         0.         0.\n",
       "  0.         0.        ]\n",
       " [0.         0.         0.         0.         0.         0.\n",
       "  1.41421356 0.        ]\n",
       " [0.         0.         0.         0.         0.         0.\n",
       "  0.         0.        ]\n",
       " [0.         0.         0.         0.         0.         0.\n",
       "  0.         0.        ]]"
      ]
     },
     "execution_count": 4,
     "metadata": {},
     "output_type": "execute_result"
    }
   ],
   "source": [
    "bdag"
   ]
  },
  {
   "cell_type": "markdown",
   "id": "5f76278c",
   "metadata": {},
   "source": [
    "### |100> $\\rightarrow$ |010>"
   ]
  },
  {
   "cell_type": "code",
   "execution_count": 5,
   "id": "9874cae1",
   "metadata": {},
   "outputs": [
    {
     "data": {
      "text/latex": [
       "Quantum object: dims = [[2, 2, 2], [1, 1, 1]], shape = (8, 1), type = ket\\begin{equation*}\\left(\\begin{array}{*{11}c}0.0\\\\0.0\\\\1.0\\\\0.0\\\\0.0\\\\0.0\\\\0.0\\\\0.0\\\\\\end{array}\\right)\\end{equation*}"
      ],
      "text/plain": [
       "Quantum object: dims = [[2, 2, 2], [1, 1, 1]], shape = (8, 1), type = ket\n",
       "Qobj data =\n",
       "[[0.]\n",
       " [0.]\n",
       " [1.]\n",
       " [0.]\n",
       " [0.]\n",
       " [0.]\n",
       " [0.]\n",
       " [0.]]"
      ]
     },
     "execution_count": 5,
     "metadata": {},
     "output_type": "execute_result"
    }
   ],
   "source": [
    "bdag*tensor(ket_1,ket_0,ket_0) #|0>\n",
    "#tensor(ket_0,ket_1,ket_0) #|1>"
   ]
  },
  {
   "cell_type": "markdown",
   "id": "e64a0180",
   "metadata": {},
   "source": [
    "### |010> $\\rightarrow$ |001>"
   ]
  },
  {
   "cell_type": "code",
   "execution_count": 6,
   "id": "1cd6cfe4",
   "metadata": {},
   "outputs": [
    {
     "data": {
      "text/latex": [
       "Quantum object: dims = [[2, 2, 2], [1, 1, 1]], shape = (8, 1), type = ket\\begin{equation*}\\left(\\begin{array}{*{11}c}0.0\\\\1.414\\\\0.0\\\\0.0\\\\0.0\\\\0.0\\\\0.0\\\\0.0\\\\\\end{array}\\right)\\end{equation*}"
      ],
      "text/plain": [
       "Quantum object: dims = [[2, 2, 2], [1, 1, 1]], shape = (8, 1), type = ket\n",
       "Qobj data =\n",
       "[[0.        ]\n",
       " [1.41421356]\n",
       " [0.        ]\n",
       " [0.        ]\n",
       " [0.        ]\n",
       " [0.        ]\n",
       " [0.        ]\n",
       " [0.        ]]"
      ]
     },
     "execution_count": 6,
     "metadata": {},
     "output_type": "execute_result"
    }
   ],
   "source": [
    "bdag*tensor(ket_0,ket_1,ket_0) #|1>"
   ]
  },
  {
   "cell_type": "markdown",
   "id": "f5610e6e",
   "metadata": {},
   "source": [
    "Not only the above mentioned states, it also acts on other states also. And result in following transformations."
   ]
  },
  {
   "cell_type": "markdown",
   "id": "67e54d4b",
   "metadata": {},
   "source": [
    "### |110> $\\rightarrow$ |101>"
   ]
  },
  {
   "cell_type": "code",
   "execution_count": 7,
   "id": "692a9186",
   "metadata": {},
   "outputs": [
    {
     "data": {
      "text/latex": [
       "Quantum object: dims = [[2, 2, 2], [1, 1, 1]], shape = (8, 1), type = ket\\begin{equation*}\\left(\\begin{array}{*{11}c}0.0\\\\0.0\\\\0.0\\\\0.0\\\\0.0\\\\1.414\\\\0.0\\\\0.0\\\\\\end{array}\\right)\\end{equation*}"
      ],
      "text/plain": [
       "Quantum object: dims = [[2, 2, 2], [1, 1, 1]], shape = (8, 1), type = ket\n",
       "Qobj data =\n",
       "[[0.        ]\n",
       " [0.        ]\n",
       " [0.        ]\n",
       " [0.        ]\n",
       " [0.        ]\n",
       " [1.41421356]\n",
       " [0.        ]\n",
       " [0.        ]]"
      ]
     },
     "execution_count": 7,
     "metadata": {},
     "output_type": "execute_result"
    }
   ],
   "source": [
    "bdag*tensor(ket_1,ket_1,ket_0)"
   ]
  },
  {
   "cell_type": "markdown",
   "id": "80e8c207",
   "metadata": {},
   "source": [
    "### |101> $\\rightarrow$ |011>"
   ]
  },
  {
   "cell_type": "code",
   "execution_count": 8,
   "id": "f2a03cfb",
   "metadata": {},
   "outputs": [
    {
     "data": {
      "text/latex": [
       "Quantum object: dims = [[2, 2, 2], [1, 1, 1]], shape = (8, 1), type = ket\\begin{equation*}\\left(\\begin{array}{*{11}c}0.0\\\\0.0\\\\0.0\\\\1.0\\\\0.0\\\\0.0\\\\0.0\\\\0.0\\\\\\end{array}\\right)\\end{equation*}"
      ],
      "text/plain": [
       "Quantum object: dims = [[2, 2, 2], [1, 1, 1]], shape = (8, 1), type = ket\n",
       "Qobj data =\n",
       "[[0.]\n",
       " [0.]\n",
       " [0.]\n",
       " [1.]\n",
       " [0.]\n",
       " [0.]\n",
       " [0.]\n",
       " [0.]]"
      ]
     },
     "execution_count": 8,
     "metadata": {},
     "output_type": "execute_result"
    }
   ],
   "source": [
    "bdag*tensor(ket_1,ket_0,ket_1)"
   ]
  },
  {
   "cell_type": "markdown",
   "id": "bdbc9e68",
   "metadata": {},
   "source": [
    "#### It happens due to the presence of redundant element in the operator $\\hat{b}$ and $\\hat{b}^{\\dagger}$. We need to have $\\hat{b}$ and $\\hat{b}^{\\dagger}$ in the following form."
   ]
  },
  {
   "cell_type": "code",
   "execution_count": 9,
   "id": "cecf37eb",
   "metadata": {},
   "outputs": [
    {
     "name": "stdout",
     "output_type": "stream",
     "text": [
      "bdagger\n"
     ]
    },
    {
     "data": {
      "text/latex": [
       "$$\n",
       "\n",
       "\\begin{bmatrix}\n",
       "0 & 0 & 0 & 0 & 0 & 0 & 0 & 0  \\\\\n",
       " 0 & 0 & 1.41421 & 0 & 0 & 0 & 0 & 0  \\\\\n",
       " 0 & 0 & 0 & 0 & 1 & 0 & 0 & 0  \\\\\n",
       " 0 & 0 & 0 & 0 & 0 & 0 & 0 & 0  \\\\\n",
       " 0 & 0 & 0 & 0 & 0 & 0 & 0 & 0  \\\\\n",
       " 0 & 0 & 0 & 0 & 0 & 0 & 0 & 0  \\\\\n",
       " 0 & 0 & 0 & 0 & 0 & 0 & 0 & 0  \\\\\n",
       " 0 & 0 & 0 & 0 & 0 & 0 & 0 & 0  \\\\\n",
       " \\end{bmatrix}\n",
       "$$"
      ],
      "text/plain": [
       "<IPython.core.display.Latex object>"
      ]
     },
     "execution_count": 9,
     "metadata": {},
     "output_type": "execute_result"
    }
   ],
   "source": [
    "bdag=np.array(bdag)\n",
    "bdag[3,5]=0\n",
    "bdag[5,6]=0\n",
    "\n",
    "b=np.array(b)\n",
    "b[5,3]=0\n",
    "b[6,5]=0\n",
    "\n",
    "adag=bdag \n",
    "a=b\n",
    "\n",
    "\n",
    "print(r'bdagger')\n",
    "\n",
    "array_to_latex(bdag)"
   ]
  },
  {
   "cell_type": "code",
   "execution_count": 10,
   "id": "27bcbfe4",
   "metadata": {},
   "outputs": [
    {
     "name": "stdout",
     "output_type": "stream",
     "text": [
      "b=\n"
     ]
    },
    {
     "data": {
      "text/latex": [
       "$$\n",
       "\n",
       "\\begin{bmatrix}\n",
       "0 & 0 & 0 & 0 & 0 & 0 & 0 & 0  \\\\\n",
       " 0 & 0 & 0 & 0 & 0 & 0 & 0 & 0  \\\\\n",
       " 0 & 1.41421 & 0 & 0 & 0 & 0 & 0 & 0  \\\\\n",
       " 0 & 0 & 0 & 0 & 0 & 0 & 0 & 0  \\\\\n",
       " 0 & 0 & 1 & 0 & 0 & 0 & 0 & 0  \\\\\n",
       " 0 & 0 & 0 & 0 & 0 & 0 & 0 & 0  \\\\\n",
       " 0 & 0 & 0 & 0 & 0 & 0 & 0 & 0  \\\\\n",
       " 0 & 0 & 0 & 0 & 0 & 0 & 0 & 0  \\\\\n",
       " \\end{bmatrix}\n",
       "$$"
      ],
      "text/plain": [
       "<IPython.core.display.Latex object>"
      ]
     },
     "execution_count": 10,
     "metadata": {},
     "output_type": "execute_result"
    }
   ],
   "source": [
    "print('b=')\n",
    "\n",
    "array_to_latex(b)"
   ]
  },
  {
   "cell_type": "markdown",
   "id": "82272a8d",
   "metadata": {},
   "source": [
    "## Modification of mapping needed"
   ]
  },
  {
   "cell_type": "markdown",
   "id": "c8b2b60e",
   "metadata": {},
   "source": [
    "Creation operator"
   ]
  },
  {
   "cell_type": "markdown",
   "id": "2a0d0015",
   "metadata": {},
   "source": [
    "$b^{\\dagger} = \\frac{1}{2}(\\sigma_{+}^{0} \\otimes \\sigma_{-}^{1} \\otimes I)+ \\frac{\\sqrt2}{2}(I\\otimes \\sigma_{+}^{1}\\otimes \\sigma_{-}^{2})+\\frac{1}{2}(\\sigma_{+}^{0} \\otimes \\sigma_{-}^{1} \\otimes \\sigma_{z}^{2})+ \\frac{\\sqrt2}{2}(\\sigma_{z}^{1} \\otimes \\sigma_{+}^{1}\\otimes \\sigma_{-}^{2})$\n",
    "\n",
    "or\n",
    "\n",
    "$b^{\\dagger} = \\frac{1}{2}(\\sigma_{+}^{0} \\otimes \\sigma_{-}^{1} \\otimes I^{(2)}+\\sigma_{+}^{0} \\otimes \\sigma_{-}^{1} \\otimes \\sigma_{z}^{2})+ \\frac{1}{\\sqrt2}(I^{(0)}\\otimes \\sigma_{+}^{1}\\otimes \\sigma_{-}^{2}+\\sigma_{z}^{0} \\otimes \\sigma_{+}^{1}\\otimes \\sigma_{-}^{2})$\n",
    "\n",
    "Annihilation Operator\n",
    "\n",
    "$b = \\frac{1}{2}(\\sigma_{-}^{0} \\otimes \\sigma_{+}^{1} \\otimes I^{(2)}+\\sigma_{-}^{0} \\otimes \\sigma_{+}^{1} \\otimes \\sigma_{z}^{2})+ \\frac{1}{\\sqrt2}(I^{(0)}\\otimes \\sigma_{-}^{1}\\otimes \\sigma_{+}^{2}+\\sigma_{z}^{0} \\otimes \\sigma_{-}^{1}\\otimes \\sigma_{+}^{2})$"
   ]
  },
  {
   "cell_type": "markdown",
   "id": "40570ba5",
   "metadata": {},
   "source": [
    "### Verifying HOM effect using New Mapping Scheme"
   ]
  },
  {
   "cell_type": "code",
   "execution_count": 11,
   "id": "ae40f25e",
   "metadata": {},
   "outputs": [],
   "source": [
    "b=a=(1/2)*(tensor(sig_m,sig_p,I)+tensor(sig_m,sig_p,sig_z))+(1/np.sqrt(2))*(tensor(I,sig_m,sig_p)+tensor(sig_z,sig_m,sig_p))"
   ]
  },
  {
   "cell_type": "code",
   "execution_count": 12,
   "id": "bb9c6ebd",
   "metadata": {},
   "outputs": [],
   "source": [
    "bdag=adag=(1/2)*(tensor(sig_p,sig_m,I)+tensor(sig_p,sig_m,sig_z))+(1/np.sqrt(2))*(tensor(I,sig_p,sig_m)+tensor(sig_z,sig_p,sig_m))"
   ]
  },
  {
   "cell_type": "code",
   "execution_count": 13,
   "id": "c8e89a9c",
   "metadata": {},
   "outputs": [
    {
     "data": {
      "text/latex": [
       "Quantum object: dims = [[2, 2, 2, 2, 2, 2], [2, 2, 2, 2, 2, 2]], shape = (64, 64), type = oper, isherm = False\\begin{equation*}\\left(\\begin{array}{*{11}c}1.0 & 0.0 & 0.0 & 0.0 & 0.0 & \\cdots & 0.0 & 0.0 & 0.0 & 0.0 & 0.0\\\\0.0 & 1.0 & 0.0 & 0.0 & 0.0 & \\cdots & 0.0 & 0.0 & 0.0 & 0.0 & 0.0\\\\0.0 & 0.0 & 1.0 & 0.0 & 0.0 & \\cdots & 0.0 & 0.0 & 0.0 & 0.0 & 0.0\\\\0.0 & 0.0 & 0.0 & 1.0 & 0.0 & \\cdots & 0.0 & 0.0 & 0.0 & 0.0 & 0.0\\\\0.0 & 0.0 & 0.0 & 0.0 & 1.0 & \\cdots & 0.0 & 0.0 & 0.0 & 0.0 & 0.0\\\\\\vdots & \\vdots & \\vdots & \\vdots & \\vdots & \\ddots & \\vdots & \\vdots & \\vdots & \\vdots & \\vdots\\\\0.0 & 0.0 & 0.0 & 0.0 & 0.0 & \\cdots & 1.0 & 0.0 & 0.0 & 0.0 & 0.0\\\\0.0 & 0.0 & 0.0 & 0.0 & 0.0 & \\cdots & 0.0 & 1.0 & 0.0 & 0.0 & 0.0\\\\0.0 & 0.0 & 0.0 & 0.0 & 0.0 & \\cdots & 0.0 & 0.0 & 1.0 & 0.0 & 0.0\\\\0.0 & 0.0 & 0.0 & 0.0 & 0.0 & \\cdots & 0.0 & 0.0 & 0.0 & 1.0 & 0.0\\\\0.0 & 0.0 & 0.0 & 0.0 & 0.0 & \\cdots & 0.0 & 0.0 & 0.0 & 0.0 & 1.0\\\\\\end{array}\\right)\\end{equation*}"
      ],
      "text/plain": [
       "Quantum object: dims = [[2, 2, 2, 2, 2, 2], [2, 2, 2, 2, 2, 2]], shape = (64, 64), type = oper, isherm = False\n",
       "Qobj data =\n",
       "[[1.+0.j 0.+0.j 0.+0.j ... 0.+0.j 0.+0.j 0.+0.j]\n",
       " [0.+0.j 1.+0.j 0.+0.j ... 0.+0.j 0.+0.j 0.+0.j]\n",
       " [0.+0.j 0.+0.j 1.+0.j ... 0.+0.j 0.+0.j 0.+0.j]\n",
       " ...\n",
       " [0.+0.j 0.+0.j 0.+0.j ... 1.+0.j 0.+0.j 0.+0.j]\n",
       " [0.+0.j 0.+0.j 0.+0.j ... 0.+0.j 1.+0.j 0.+0.j]\n",
       " [0.+0.j 0.+0.j 0.+0.j ... 0.+0.j 0.+0.j 1.+0.j]]"
      ]
     },
     "execution_count": 13,
     "metadata": {},
     "output_type": "execute_result"
    }
   ],
   "source": [
    "B=theta*(tensor(bdag,a)+tensor(b,adag))\n",
    "U=B.expm()\n",
    "U"
   ]
  },
  {
   "cell_type": "code",
   "execution_count": 14,
   "id": "f205e201",
   "metadata": {
    "scrolled": false
   },
   "outputs": [
    {
     "data": {
      "text/plain": [
       "array([[0.        ],\n",
       "       [0.        ],\n",
       "       [0.        ],\n",
       "       [0.        ],\n",
       "       [0.        ],\n",
       "       [0.        ],\n",
       "       [0.        ],\n",
       "       [0.        ],\n",
       "       [0.        ],\n",
       "       [0.        ],\n",
       "       [0.        ],\n",
       "       [0.        ],\n",
       "       [0.70710678],\n",
       "       [0.        ],\n",
       "       [0.        ],\n",
       "       [0.        ],\n",
       "       [0.        ],\n",
       "       [0.        ],\n",
       "       [0.        ],\n",
       "       [0.        ],\n",
       "       [0.        ],\n",
       "       [0.        ],\n",
       "       [0.        ],\n",
       "       [0.        ],\n",
       "       [0.        ],\n",
       "       [0.        ],\n",
       "       [0.        ],\n",
       "       [0.        ],\n",
       "       [0.        ],\n",
       "       [0.        ],\n",
       "       [0.        ],\n",
       "       [0.        ],\n",
       "       [0.        ],\n",
       "       [0.70710678],\n",
       "       [0.        ],\n",
       "       [0.        ],\n",
       "       [0.        ],\n",
       "       [0.        ],\n",
       "       [0.        ],\n",
       "       [0.        ],\n",
       "       [0.        ],\n",
       "       [0.        ],\n",
       "       [0.        ],\n",
       "       [0.        ],\n",
       "       [0.        ],\n",
       "       [0.        ],\n",
       "       [0.        ],\n",
       "       [0.        ],\n",
       "       [0.        ],\n",
       "       [0.        ],\n",
       "       [0.        ],\n",
       "       [0.        ],\n",
       "       [0.        ],\n",
       "       [0.        ],\n",
       "       [0.        ],\n",
       "       [0.        ],\n",
       "       [0.        ],\n",
       "       [0.        ],\n",
       "       [0.        ],\n",
       "       [0.        ],\n",
       "       [0.        ],\n",
       "       [0.        ],\n",
       "       [0.        ],\n",
       "       [0.        ]])"
      ]
     },
     "execution_count": 14,
     "metadata": {},
     "output_type": "execute_result"
    }
   ],
   "source": [
    "input_state=tensor(ket_0,ket_1,ket_0,ket_0,ket_1,ket_0) #|1>|1>\n",
    "#input_state\n",
    "output_state=U*input_state\n",
    "\n",
    "np.abs(np.array(output_state))"
   ]
  },
  {
   "cell_type": "markdown",
   "id": "8fa0a56d",
   "metadata": {},
   "source": [
    "## Verifying HOM effect by expanding terms in the exponent of Unitary"
   ]
  },
  {
   "cell_type": "code",
   "execution_count": 15,
   "id": "0bea6150",
   "metadata": {},
   "outputs": [],
   "source": [
    "Op0134_a=tensor(sig_p,sig_m,I,sig_m,sig_p,I)+tensor(sig_m,sig_p,I,sig_p,sig_m,I)\n",
    "Op0134_b=tensor(sig_p,sig_m,sig_z,sig_m,sig_p,I)+tensor(sig_m,sig_p,sig_z,sig_p,sig_m,I)\n",
    "Op0134_c=tensor(sig_p,sig_m,I,sig_m,sig_p,sig_z)+tensor(sig_m,sig_p,I,sig_p,sig_m,sig_z)\n",
    "Op0134_d=tensor(sig_p,sig_m,sig_z,sig_m,sig_p,sig_z)+tensor(sig_m,sig_p,sig_z,sig_p,sig_m,sig_z,)\n",
    "Op0134=Op0134_a+Op0134_b+Op0134_c+Op0134_d"
   ]
  },
  {
   "cell_type": "code",
   "execution_count": 16,
   "id": "f2dee378",
   "metadata": {},
   "outputs": [],
   "source": [
    "Op0145_a=tensor(sig_p,sig_m,I,I,sig_m,sig_p)+tensor(sig_m,sig_p,I,I,sig_p,sig_m)\n",
    "Op0145_b=tensor(sig_p,sig_m,sig_z,I,sig_m,sig_p)+tensor(sig_m,sig_p,sig_z,I,sig_p,sig_m)\n",
    "Op0145_c=tensor(sig_p,sig_m,I,sig_z,sig_m,sig_p)+tensor(sig_m,sig_p,I,sig_z,sig_p,sig_m)\n",
    "Op0145_d=tensor(sig_p,sig_m,sig_z,sig_z,sig_m,sig_p)+tensor(sig_m,sig_p,sig_z,sig_z,sig_p,sig_m)\n",
    "Op0145=Op0145_a+Op0145_b+Op0145_c+Op0145_d"
   ]
  },
  {
   "cell_type": "code",
   "execution_count": 17,
   "id": "4e2467ae",
   "metadata": {},
   "outputs": [],
   "source": [
    "Op1234_a=tensor(I,sig_p,sig_m,sig_m,sig_p,I)+tensor(I,sig_m,sig_p,sig_p,sig_m,I)\n",
    "Op1234_b=tensor(sig_z,sig_p,sig_m,sig_m,sig_p,I)+tensor(sig_z,sig_m,sig_p,sig_p,sig_m,I)\n",
    "Op1234_c=tensor(I,sig_p,sig_m,sig_m,sig_p,sig_z)+tensor(I,sig_m,sig_p,sig_p,sig_m,sig_z)\n",
    "Op1234_d=tensor(sig_z,sig_p,sig_m,sig_m,sig_p,sig_z)+tensor(sig_z,sig_m,sig_p,sig_p,sig_m,sig_z,)\n",
    "Op1234=Op1234_a+Op1234_b+Op1234_c+Op1234_d\n"
   ]
  },
  {
   "cell_type": "code",
   "execution_count": 18,
   "id": "9dbf63ee",
   "metadata": {},
   "outputs": [],
   "source": [
    "Op1245_a=tensor(I,sig_p,sig_m,I,sig_m,sig_p)+tensor(I,sig_m,sig_p,I,sig_p,sig_m)\n",
    "Op1245_b=tensor(sig_z,sig_p,sig_m,I,sig_m,sig_p)+tensor(sig_z,sig_m,sig_p,I,sig_p,sig_m)\n",
    "Op1245_c=tensor(I,sig_p,sig_m,sig_z,sig_m,sig_p)+tensor(I,sig_m,sig_p,sig_z,sig_p,sig_m)\n",
    "Op1245_d=tensor(sig_z,sig_p,sig_m,sig_z,sig_m,sig_p)+tensor(sig_z,sig_m,sig_p,sig_z,sig_p,sig_m)\n",
    "Op1245=Op1245_a+Op1245_b+Op1245_c+Op1245_d"
   ]
  },
  {
   "cell_type": "code",
   "execution_count": 19,
   "id": "2229ea1e",
   "metadata": {},
   "outputs": [],
   "source": [
    "c1=1/2\n",
    "c2=1/(2*np.sqrt(2))\n",
    "\n",
    "U=(theta*((c1**2)*(Op0134)+c2*(Op0145+Op1234)+c1*(Op1245))).expm()"
   ]
  },
  {
   "cell_type": "code",
   "execution_count": 20,
   "id": "e3cf8f0e",
   "metadata": {},
   "outputs": [
    {
     "data": {
      "text/plain": [
       "array([[0.        ],\n",
       "       [0.        ],\n",
       "       [0.        ],\n",
       "       [0.        ],\n",
       "       [0.        ],\n",
       "       [0.        ],\n",
       "       [0.        ],\n",
       "       [0.        ],\n",
       "       [0.        ],\n",
       "       [0.        ],\n",
       "       [0.        ],\n",
       "       [0.        ],\n",
       "       [0.70710678],\n",
       "       [0.        ],\n",
       "       [0.        ],\n",
       "       [0.        ],\n",
       "       [0.        ],\n",
       "       [0.        ],\n",
       "       [0.        ],\n",
       "       [0.        ],\n",
       "       [0.        ],\n",
       "       [0.        ],\n",
       "       [0.        ],\n",
       "       [0.        ],\n",
       "       [0.        ],\n",
       "       [0.        ],\n",
       "       [0.        ],\n",
       "       [0.        ],\n",
       "       [0.        ],\n",
       "       [0.        ],\n",
       "       [0.        ],\n",
       "       [0.        ],\n",
       "       [0.        ],\n",
       "       [0.70710678],\n",
       "       [0.        ],\n",
       "       [0.        ],\n",
       "       [0.        ],\n",
       "       [0.        ],\n",
       "       [0.        ],\n",
       "       [0.        ],\n",
       "       [0.        ],\n",
       "       [0.        ],\n",
       "       [0.        ],\n",
       "       [0.        ],\n",
       "       [0.        ],\n",
       "       [0.        ],\n",
       "       [0.        ],\n",
       "       [0.        ],\n",
       "       [0.        ],\n",
       "       [0.        ],\n",
       "       [0.        ],\n",
       "       [0.        ],\n",
       "       [0.        ],\n",
       "       [0.        ],\n",
       "       [0.        ],\n",
       "       [0.        ],\n",
       "       [0.        ],\n",
       "       [0.        ],\n",
       "       [0.        ],\n",
       "       [0.        ],\n",
       "       [0.        ],\n",
       "       [0.        ],\n",
       "       [0.        ],\n",
       "       [0.        ]])"
      ]
     },
     "execution_count": 20,
     "metadata": {},
     "output_type": "execute_result"
    }
   ],
   "source": [
    "input_state=tensor(ket_0,ket_1,ket_0,ket_0,ket_1,ket_0)\n",
    "\n",
    "output_state=U*input_state\n",
    "np.abs(np.array(output_state)) #shows HOM effect"
   ]
  },
  {
   "cell_type": "markdown",
   "id": "03ce0fc2",
   "metadata": {},
   "source": [
    "## Checking the Commutation Relations"
   ]
  },
  {
   "cell_type": "markdown",
   "id": "c041b822",
   "metadata": {},
   "source": [
    "#### Checking commutation of 0134 term"
   ]
  },
  {
   "cell_type": "code",
   "execution_count": 21,
   "id": "4c4d2b5c",
   "metadata": {},
   "outputs": [
    {
     "data": {
      "text/plain": [
       "False"
      ]
     },
     "execution_count": 21,
     "metadata": {},
     "output_type": "execute_result"
    }
   ],
   "source": [
    "commutator_1=Op0134*Op0145-Op0145*Op0134\n",
    "np.any(np.array(commutator_1))"
   ]
  },
  {
   "cell_type": "code",
   "execution_count": 22,
   "id": "b844110e",
   "metadata": {},
   "outputs": [
    {
     "data": {
      "text/plain": [
       "False"
      ]
     },
     "execution_count": 22,
     "metadata": {},
     "output_type": "execute_result"
    }
   ],
   "source": [
    "commutator_2=Op0134*Op1234-Op1234*Op0134\n",
    "np.any(np.array(commutator_2))"
   ]
  },
  {
   "cell_type": "code",
   "execution_count": 23,
   "id": "6e9ed49b",
   "metadata": {},
   "outputs": [
    {
     "data": {
      "text/plain": [
       "False"
      ]
     },
     "execution_count": 23,
     "metadata": {},
     "output_type": "execute_result"
    }
   ],
   "source": [
    "commutator_3=Op0134*Op1245-Op1245*Op0134\n",
    "np.any(np.array(commutator_3))"
   ]
  },
  {
   "cell_type": "markdown",
   "id": "bdc71aeb",
   "metadata": {},
   "source": [
    "#### Checking commutation of 0145 term"
   ]
  },
  {
   "cell_type": "code",
   "execution_count": 24,
   "id": "9b357bdf",
   "metadata": {},
   "outputs": [
    {
     "data": {
      "text/plain": [
       "True"
      ]
     },
     "execution_count": 24,
     "metadata": {},
     "output_type": "execute_result"
    }
   ],
   "source": [
    "commutator_4=Op0145*Op1234-Op1234*Op0145\n",
    "np.any(np.array(commutator_4))"
   ]
  },
  {
   "cell_type": "code",
   "execution_count": 25,
   "id": "de616b62",
   "metadata": {},
   "outputs": [
    {
     "data": {
      "text/plain": [
       "False"
      ]
     },
     "execution_count": 25,
     "metadata": {},
     "output_type": "execute_result"
    }
   ],
   "source": [
    "commutator_5=Op0145*Op1245-Op1245*Op0145\n",
    "np.any(np.array(commutator_5))"
   ]
  },
  {
   "cell_type": "markdown",
   "id": "132cb1f7",
   "metadata": {},
   "source": [
    "#### Checking commutation of 1234 term"
   ]
  },
  {
   "cell_type": "code",
   "execution_count": 26,
   "id": "bcaf4d20",
   "metadata": {},
   "outputs": [
    {
     "data": {
      "text/plain": [
       "False"
      ]
     },
     "execution_count": 26,
     "metadata": {},
     "output_type": "execute_result"
    }
   ],
   "source": [
    "commutator_6=Op1234*Op1245-Op1245*Op1234\n",
    "np.any(np.array(commutator_6))"
   ]
  },
  {
   "cell_type": "code",
   "execution_count": 27,
   "id": "2006ea8d",
   "metadata": {},
   "outputs": [],
   "source": [
    "### Combining non-commuting operators\n",
    "\n",
    "U0134=(theta*((c1**2)*(Op0134))).expm()\n",
    "U1245=(theta*c1*(Op1245)).expm()\n",
    "\n",
    "#U0145+U1234\n",
    "U0145_1234=(theta*c2*(Op0145+Op1234)).expm()"
   ]
  },
  {
   "cell_type": "code",
   "execution_count": 28,
   "id": "7299d97e",
   "metadata": {},
   "outputs": [],
   "source": [
    "U=U0134*U1245*U0145_1234"
   ]
  },
  {
   "cell_type": "code",
   "execution_count": 29,
   "id": "d2a4a6ec",
   "metadata": {},
   "outputs": [
    {
     "data": {
      "text/plain": [
       "array([[0.        ],\n",
       "       [0.        ],\n",
       "       [0.        ],\n",
       "       [0.        ],\n",
       "       [0.        ],\n",
       "       [0.        ],\n",
       "       [0.        ],\n",
       "       [0.        ],\n",
       "       [0.        ],\n",
       "       [0.        ],\n",
       "       [0.        ],\n",
       "       [0.        ],\n",
       "       [0.70710678],\n",
       "       [0.        ],\n",
       "       [0.        ],\n",
       "       [0.        ],\n",
       "       [0.        ],\n",
       "       [0.        ],\n",
       "       [0.        ],\n",
       "       [0.        ],\n",
       "       [0.        ],\n",
       "       [0.        ],\n",
       "       [0.        ],\n",
       "       [0.        ],\n",
       "       [0.        ],\n",
       "       [0.        ],\n",
       "       [0.        ],\n",
       "       [0.        ],\n",
       "       [0.        ],\n",
       "       [0.        ],\n",
       "       [0.        ],\n",
       "       [0.        ],\n",
       "       [0.        ],\n",
       "       [0.70710678],\n",
       "       [0.        ],\n",
       "       [0.        ],\n",
       "       [0.        ],\n",
       "       [0.        ],\n",
       "       [0.        ],\n",
       "       [0.        ],\n",
       "       [0.        ],\n",
       "       [0.        ],\n",
       "       [0.        ],\n",
       "       [0.        ],\n",
       "       [0.        ],\n",
       "       [0.        ],\n",
       "       [0.        ],\n",
       "       [0.        ],\n",
       "       [0.        ],\n",
       "       [0.        ],\n",
       "       [0.        ],\n",
       "       [0.        ],\n",
       "       [0.        ],\n",
       "       [0.        ],\n",
       "       [0.        ],\n",
       "       [0.        ],\n",
       "       [0.        ],\n",
       "       [0.        ],\n",
       "       [0.        ],\n",
       "       [0.        ],\n",
       "       [0.        ],\n",
       "       [0.        ],\n",
       "       [0.        ],\n",
       "       [0.        ]])"
      ]
     },
     "execution_count": 29,
     "metadata": {},
     "output_type": "execute_result"
    }
   ],
   "source": [
    "input_state=tensor(ket_0,ket_1,ket_0,ket_0,ket_1,ket_0)\n",
    "\n",
    "output_state=U*input_state\n",
    "np.abs(np.array(output_state)) #shows HOM effect"
   ]
  },
  {
   "cell_type": "markdown",
   "id": "35ae7ca5",
   "metadata": {},
   "source": [
    "### Checking the commuatation of terms in 0145"
   ]
  },
  {
   "cell_type": "code",
   "execution_count": 30,
   "id": "410b9655",
   "metadata": {},
   "outputs": [
    {
     "data": {
      "text/plain": [
       "False"
      ]
     },
     "execution_count": 30,
     "metadata": {},
     "output_type": "execute_result"
    }
   ],
   "source": [
    "com_1=Op0145_a*Op0145_b-Op0145_b*Op0145_a\n",
    "np.any(np.array(com_1))"
   ]
  },
  {
   "cell_type": "code",
   "execution_count": 31,
   "id": "325e6d2c",
   "metadata": {},
   "outputs": [
    {
     "data": {
      "text/plain": [
       "False"
      ]
     },
     "execution_count": 31,
     "metadata": {},
     "output_type": "execute_result"
    }
   ],
   "source": [
    "com_2=Op0145_a*Op0145_c-Op0145_c*Op0145_a\n",
    "np.any(np.array(com_2))"
   ]
  },
  {
   "cell_type": "code",
   "execution_count": 34,
   "id": "2cfe922e",
   "metadata": {},
   "outputs": [
    {
     "data": {
      "text/plain": [
       "False"
      ]
     },
     "execution_count": 34,
     "metadata": {},
     "output_type": "execute_result"
    }
   ],
   "source": [
    "com_3=Op0145_a*Op0145_d-Op0145_d*Op0145_a\n",
    "np.any(np.array(com_3))"
   ]
  },
  {
   "cell_type": "code",
   "execution_count": 35,
   "id": "39d0257b",
   "metadata": {},
   "outputs": [
    {
     "data": {
      "text/plain": [
       "False"
      ]
     },
     "execution_count": 35,
     "metadata": {},
     "output_type": "execute_result"
    }
   ],
   "source": [
    "com_4=Op0145_b*Op0145_c-Op0145_c*Op0145_b\n",
    "np.any(np.array(com_4))"
   ]
  },
  {
   "cell_type": "code",
   "execution_count": 37,
   "id": "8ad3cd92",
   "metadata": {},
   "outputs": [
    {
     "data": {
      "text/plain": [
       "False"
      ]
     },
     "execution_count": 37,
     "metadata": {},
     "output_type": "execute_result"
    }
   ],
   "source": [
    "com_5=Op0145_b*Op0145_d-Op0145_d*Op0145_b\n",
    "np.any(np.array(com_5))"
   ]
  },
  {
   "cell_type": "code",
   "execution_count": 38,
   "id": "1c9c7295",
   "metadata": {},
   "outputs": [
    {
     "data": {
      "text/plain": [
       "False"
      ]
     },
     "execution_count": 38,
     "metadata": {},
     "output_type": "execute_result"
    }
   ],
   "source": [
    "com_6=Op0145_c*Op0145_d-Op0145_d*Op0145_c\n",
    "np.any(np.array(com_6))"
   ]
  },
  {
   "cell_type": "markdown",
   "id": "ee6feeb7",
   "metadata": {},
   "source": [
    "### Checking the commuatation of terms in 1234"
   ]
  },
  {
   "cell_type": "code",
   "execution_count": 40,
   "id": "2b23d98f",
   "metadata": {},
   "outputs": [
    {
     "data": {
      "text/plain": [
       "False"
      ]
     },
     "execution_count": 40,
     "metadata": {},
     "output_type": "execute_result"
    }
   ],
   "source": [
    "com_1=Op1234_a*Op1234_b-Op1234_b*Op1234_a\n",
    "np.any(np.array(com_1))"
   ]
  },
  {
   "cell_type": "code",
   "execution_count": 42,
   "id": "5226852b",
   "metadata": {},
   "outputs": [
    {
     "data": {
      "text/plain": [
       "False"
      ]
     },
     "execution_count": 42,
     "metadata": {},
     "output_type": "execute_result"
    }
   ],
   "source": [
    "com_2=Op1234_a*Op1234_c-Op1234_c*Op1234_a\n",
    "np.any(np.array(com_2))"
   ]
  },
  {
   "cell_type": "code",
   "execution_count": 43,
   "id": "cf60953b",
   "metadata": {},
   "outputs": [
    {
     "data": {
      "text/plain": [
       "False"
      ]
     },
     "execution_count": 43,
     "metadata": {},
     "output_type": "execute_result"
    }
   ],
   "source": [
    "com_3=Op1234_a*Op1234_d-Op1234_d*Op1234_a\n",
    "np.any(np.array(com_3))"
   ]
  },
  {
   "cell_type": "code",
   "execution_count": 44,
   "id": "bbd29ecf",
   "metadata": {},
   "outputs": [
    {
     "data": {
      "text/plain": [
       "False"
      ]
     },
     "execution_count": 44,
     "metadata": {},
     "output_type": "execute_result"
    }
   ],
   "source": [
    "com_4=Op1234_b*Op1234_c-Op1234_c*Op1234_b\n",
    "np.any(np.array(com_4))"
   ]
  },
  {
   "cell_type": "code",
   "execution_count": 45,
   "id": "b09066d9",
   "metadata": {},
   "outputs": [
    {
     "data": {
      "text/plain": [
       "False"
      ]
     },
     "execution_count": 45,
     "metadata": {},
     "output_type": "execute_result"
    }
   ],
   "source": [
    "com_5=Op1234_b*Op1234_d-Op1234_d*Op1234_b\n",
    "np.any(np.array(com_5))"
   ]
  },
  {
   "cell_type": "code",
   "execution_count": 46,
   "id": "2436ea37",
   "metadata": {},
   "outputs": [
    {
     "data": {
      "text/plain": [
       "False"
      ]
     },
     "execution_count": 46,
     "metadata": {},
     "output_type": "execute_result"
    }
   ],
   "source": [
    "com_6=Op1234_c*Op1234_d-Op1234_d*Op1234_c\n",
    "np.any(np.array(com_6))"
   ]
  },
  {
   "cell_type": "code",
   "execution_count": null,
   "id": "876a5c0b",
   "metadata": {},
   "outputs": [],
   "source": []
  }
 ],
 "metadata": {
  "kernelspec": {
   "display_name": "Python 3 (ipykernel)",
   "language": "python",
   "name": "python3"
  },
  "language_info": {
   "codemirror_mode": {
    "name": "ipython",
    "version": 3
   },
   "file_extension": ".py",
   "mimetype": "text/x-python",
   "name": "python",
   "nbconvert_exporter": "python",
   "pygments_lexer": "ipython3",
   "version": "3.7.7"
  }
 },
 "nbformat": 4,
 "nbformat_minor": 5
}
